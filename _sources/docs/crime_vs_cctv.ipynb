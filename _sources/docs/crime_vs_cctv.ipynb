{
 "cells": [
  {
   "cell_type": "code",
   "execution_count": 2,
   "id": "1b3332ca-327c-417f-8482-a6ca94d35068",
   "metadata": {},
   "outputs": [
    {
     "data": {
      "text/html": [
       "        <script type=\"text/javascript\">\n",
       "        window.PlotlyConfig = {MathJaxConfig: 'local'};\n",
       "        if (window.MathJax && window.MathJax.Hub && window.MathJax.Hub.Config) {window.MathJax.Hub.Config({SVG: {font: \"STIX-Web\"}});}\n",
       "        if (typeof require !== 'undefined') {\n",
       "        require.undef(\"plotly\");\n",
       "        requirejs.config({\n",
       "            paths: {\n",
       "                'plotly': ['https://cdn.plot.ly/plotly-2.32.0.min']\n",
       "            }\n",
       "        });\n",
       "        require(['plotly'], function(Plotly) {\n",
       "            window._Plotly = Plotly;\n",
       "        });\n",
       "        }\n",
       "        </script>\n",
       "        "
      ]
     },
     "metadata": {},
     "output_type": "display_data"
    }
   ],
   "source": [
    "import numpy as np\n",
    "import pandas as pd\n",
    "pd.options.mode.chained_assignment = None  \n",
    "import plotly.graph_objs as go\n",
    "import plotly.express as px\n",
    "from plotly.offline import init_notebook_mode\n",
    "init_notebook_mode(connected=True)"
   ]
  },
  {
   "cell_type": "code",
   "execution_count": 4,
   "id": "d69542e3-ffff-499a-bc02-2e0cb67457e0",
   "metadata": {},
   "outputs": [
    {
     "data": {
      "application/vnd.plotly.v1+json": {
       "config": {
        "plotlyServerURL": "https://plot.ly"
       },
       "data": [
        {
         "customdata": [
          [
           "Côte d'Ivoire"
          ],
          [
           "Nigeria"
          ],
          [
           "Ethiopia"
          ],
          [
           "Egypt"
          ],
          [
           "Turkey"
          ],
          [
           "Madagascar"
          ],
          [
           "Paraguay"
          ],
          [
           "Iraq"
          ],
          [
           "Thailand"
          ],
          [
           "Spain"
          ],
          [
           "Indonesia"
          ],
          [
           "Brazil"
          ],
          [
           "Germany"
          ],
          [
           "Colombia"
          ],
          [
           "Brazil"
          ],
          [
           "Argentina"
          ],
          [
           "South Korea"
          ],
          [
           "Egypt"
          ],
          [
           "Brazil"
          ],
          [
           "South Africa"
          ],
          [
           "Morocco"
          ],
          [
           "Bangladesh"
          ],
          [
           "Brazil"
          ],
          [
           "Senegal"
          ],
          [
           "Tanzania"
          ],
          [
           "Bangladesh"
          ],
          [
           "Cameroon"
          ],
          [
           "South Africa"
          ],
          [
           "South Africa"
          ],
          [
           "Pakistan"
          ],
          [
           "Brazil"
          ],
          [
           "Japan"
          ],
          [
           "Mexico"
          ],
          [
           "Vietnam"
          ],
          [
           "Vietnam"
          ],
          [
           "Hong Kong"
          ],
          [
           "Nigeria"
          ],
          [
           "Turkey"
          ],
          [
           "Indonesia"
          ],
          [
           "South Africa"
          ],
          [
           "Afghanistan"
          ],
          [
           "Uganda"
          ],
          [
           "Nigeria"
          ],
          [
           "Pakistan"
          ],
          [
           "Sudan"
          ],
          [
           "Malaysia"
          ],
          [
           "Nigeria"
          ],
          [
           "Pakistan"
          ],
          [
           "Peru"
          ],
          [
           "United Kingdom"
          ],
          [
           "United States"
          ],
          [
           "Angola"
          ],
          [
           "Spain"
          ],
          [
           "Philippines"
          ],
          [
           "Iran"
          ],
          [
           "Colombia"
          ],
          [
           "Australia"
          ],
          [
           "Mexico"
          ],
          [
           "Mexico"
          ],
          [
           "Canada"
          ],
          [
           "Russia"
          ],
          [
           "Kenya"
          ],
          [
           "United States"
          ],
          [
           "Japan"
          ],
          [
           "Burkina Faso"
          ],
          [
           "France "
          ],
          [
           "Nigeria"
          ],
          [
           "Brazil"
          ],
          [
           "Mexico"
          ],
          [
           "Brazil"
          ],
          [
           "Brazil"
          ],
          [
           "Saudi Arabia"
          ],
          [
           "Italy"
          ],
          [
           "Brazil"
          ],
          [
           "Yemen"
          ],
          [
           "Chile"
          ],
          [
           "Dominican Republic"
          ],
          [
           "Brazil"
          ],
          [
           "South Korea"
          ],
          [
           "Singapore "
          ],
          [
           "Russia"
          ],
          [
           "Australia"
          ],
          [
           "Iran"
          ],
          [
           "Israel"
          ],
          [
           "Japan"
          ],
          [
           "Canada"
          ],
          [
           "Taiwan"
          ],
          [
           "Myanmar"
          ]
         ],
         "hovertemplate": "City: %{hovertext}<br>Country: %{customdata[0]}<br>Crime Index: %{x}<br># of CCTV Cameras per 1,000 People: %{y}",
         "hovertext": [
          "Abidjan",
          "Abuja",
          "Addis Ababa",
          "Alexandria",
          "Ankara",
          "Antananarivo",
          "Asuncion",
          "Baghdad",
          "Bangkok",
          "Barcelona",
          "Bekasi",
          "Belo Horizonte",
          "Berlin",
          "Bogotá",
          "Brasilia",
          "Buenos Aires",
          "Busan",
          "Cairo",
          "Campinas",
          "Cape Town",
          "Casablanca",
          "Chittagong",
          "Curitiba",
          "Dakar",
          "Dar Es Salaam",
          "Dhaka",
          "Douala",
          "Durban",
          "Ekurhuleni",
          "Faisalabad",
          "Fortaleza",
          "Fukuoka",
          "Guadalajara",
          "Hanoi",
          "Ho Chi Minh City",
          "Hong Kong",
          "Ibadan",
          "Istanbul",
          "Jakarta",
          "Johannesburg",
          "Kabul",
          "Kampala",
          "Kano",
          "Karachi",
          "Khartoum",
          "Kuala Lumpur",
          "Lagos",
          "Lahore",
          "Lima",
          "London",
          "Los Angeles",
          "Luanda",
          "Madrid",
          "Manila",
          "Mashhad",
          "Medellín",
          "Melbourne",
          "Mexico City",
          "Monterrey",
          "Montréal",
          "Moscow",
          "Nairobi",
          "New York",
          "Osaka",
          "Ouagadougou",
          "Paris",
          "Port Harcourt",
          "Porto Alegre",
          "Puebla",
          "Recife",
          "Rio de Janeiro",
          "Riyadh",
          "Rome",
          "Salvador",
          "Sanaa",
          "Santiago",
          "Santo Domingo",
          "São Paulo",
          "Seoul",
          "Singapore",
          "St. Petersburg",
          "Sydney",
          "Tehran",
          "Tel Aviv",
          "Tokyo",
          "Toronto",
          "Xinbei (New Taipei City)",
          "Yangon"
         ],
         "legendgroup": "blue",
         "marker": {
          "color": "#636efa",
          "symbol": "circle"
         },
         "mode": "markers",
         "name": "Others",
         "orientation": "v",
         "showlegend": true,
         "type": "scatter",
         "x": [
          0.18,
          0.01,
          0.59,
          0.02,
          2.12,
          0.39,
          0.23,
          15.56,
          5.89,
          2.41,
          0.07,
          2.91,
          7.72,
          3.85,
          0.82,
          1.1,
          10.03,
          2.1,
          0.53,
          1.61,
          0.98,
          0.24,
          0.64,
          0.18,
          0,
          0.71,
          0.1,
          0.05,
          0.56,
          0.11,
          1.27,
          0.26,
          4.4,
          1.84,
          8.52,
          7.09,
          0,
          6.88,
          0.82,
          1.52,
          0.46,
          0.61,
          1.15,
          0.27,
          0.63,
          0.58,
          0.16,
          0.47,
          1.89,
          13.21,
          10.27,
          0.1,
          4.19,
          0.27,
          0.17,
          1.19,
          2.45,
          3.59,
          1.12,
          1.03,
          16.88,
          0.38,
          7.88,
          1.06,
          0.21,
          4.04,
          0.04,
          1.22,
          4.53,
          0.58,
          2.01,
          0.02,
          3.59,
          1.78,
          0.05,
          1.13,
          0.48,
          0.83,
          14.47,
          17.94,
          13.49,
          5.06,
          0.53,
          1,
          1,
          3.13,
          7.77,
          1.15
         ],
         "xaxis": "x",
         "y": [
          59.66,
          53.54,
          49.17,
          44.2,
          39.01,
          62.92,
          51.77,
          58.93,
          40.32,
          50.84,
          37.47,
          63.83,
          43.48,
          66.06,
          60.15,
          62.95,
          23.33,
          50.07,
          66.5,
          73.56,
          55.07,
          64.43,
          62,
          42.77,
          57.53,
          63.3,
          74.87,
          80.69,
          null,
          39.4,
          76.87,
          18.26,
          62.14,
          37.16,
          52.62,
          21.53,
          53.69,
          47.64,
          52.48,
          80.67,
          80.09,
          54.55,
          54.66,
          55.03,
          39.48,
          62.61,
          67.56,
          36.75,
          70.7,
          53.78,
          52.68,
          66.51,
          27.96,
          65.11,
          49.38,
          55.19,
          44.06,
          67.89,
          48.02,
          31.75,
          36.75,
          59,
          49.26,
          33.55,
          48.53,
          57.18,
          69.95,
          72.01,
          59.07,
          76.52,
          77.62,
          26.42,
          53.45,
          76.88,
          60.51,
          61.74,
          67.22,
          70.68,
          24.87,
          40.02,
          42.01,
          33.95,
          55.96,
          26.85,
          24.22,
          42.45,
          21.89,
          49.64
         ],
         "yaxis": "y"
        },
        {
         "customdata": [
          [
           "India"
          ],
          [
           "India"
          ],
          [
           "India"
          ],
          [
           "India"
          ],
          [
           "India"
          ],
          [
           "India"
          ],
          [
           "India"
          ],
          [
           "India"
          ],
          [
           "India"
          ],
          [
           "India"
          ],
          [
           "India"
          ],
          [
           "India"
          ],
          [
           "India"
          ],
          [
           "India"
          ],
          [
           "India"
          ],
          [
           "India"
          ]
         ],
         "hovertemplate": "City: %{hovertext}<br>Country: %{customdata[0]}<br>Crime Index: %{x}<br># of CCTV Cameras per 1,000 People: %{y}",
         "hovertext": [
          "Ahmedabad",
          "Bangalore",
          "Chennai",
          "Delhi",
          "Hyderabad",
          "Indore",
          "Jaipur",
          "Kanpur",
          "Kochi",
          "Kolkata",
          "Kozhikode",
          "Lucknow",
          "Mumbai",
          "Pune",
          "Surat",
          "Thrissur"
         ],
         "legendgroup": "orange",
         "marker": {
          "color": "#EF553B",
          "symbol": "circle"
         },
         "mode": "markers",
         "name": "India",
         "orientation": "v",
         "showlegend": true,
         "type": "scatter",
         "x": [
          0.75,
          1.58,
          7.73,
          19.96,
          83.32,
          60.57,
          0.24,
          2.24,
          6.82,
          0.86,
          0.05,
          2.3,
          3.65,
          6.92,
          0.58,
          0.09
         ],
         "xaxis": "x",
         "y": [
          32.39,
          53.76,
          39.81,
          59.23,
          42.82,
          48.37,
          35.42,
          47.6,
          40.04,
          46.69,
          43.52,
          46.47,
          45.04,
          41.86,
          33.7,
          23.55
         ],
         "yaxis": "y"
        }
       ],
       "layout": {
        "autosize": true,
        "legend": {
         "title": {
          "text": "Country"
         },
         "tracegroupgap": 0
        },
        "template": {
         "data": {
          "bar": [
           {
            "error_x": {
             "color": "#2a3f5f"
            },
            "error_y": {
             "color": "#2a3f5f"
            },
            "marker": {
             "line": {
              "color": "#E5ECF6",
              "width": 0.5
             },
             "pattern": {
              "fillmode": "overlay",
              "size": 10,
              "solidity": 0.2
             }
            },
            "type": "bar"
           }
          ],
          "barpolar": [
           {
            "marker": {
             "line": {
              "color": "#E5ECF6",
              "width": 0.5
             },
             "pattern": {
              "fillmode": "overlay",
              "size": 10,
              "solidity": 0.2
             }
            },
            "type": "barpolar"
           }
          ],
          "carpet": [
           {
            "aaxis": {
             "endlinecolor": "#2a3f5f",
             "gridcolor": "white",
             "linecolor": "white",
             "minorgridcolor": "white",
             "startlinecolor": "#2a3f5f"
            },
            "baxis": {
             "endlinecolor": "#2a3f5f",
             "gridcolor": "white",
             "linecolor": "white",
             "minorgridcolor": "white",
             "startlinecolor": "#2a3f5f"
            },
            "type": "carpet"
           }
          ],
          "choropleth": [
           {
            "colorbar": {
             "outlinewidth": 0,
             "ticks": ""
            },
            "type": "choropleth"
           }
          ],
          "contour": [
           {
            "colorbar": {
             "outlinewidth": 0,
             "ticks": ""
            },
            "colorscale": [
             [
              0,
              "#0d0887"
             ],
             [
              0.1111111111111111,
              "#46039f"
             ],
             [
              0.2222222222222222,
              "#7201a8"
             ],
             [
              0.3333333333333333,
              "#9c179e"
             ],
             [
              0.4444444444444444,
              "#bd3786"
             ],
             [
              0.5555555555555556,
              "#d8576b"
             ],
             [
              0.6666666666666666,
              "#ed7953"
             ],
             [
              0.7777777777777778,
              "#fb9f3a"
             ],
             [
              0.8888888888888888,
              "#fdca26"
             ],
             [
              1,
              "#f0f921"
             ]
            ],
            "type": "contour"
           }
          ],
          "contourcarpet": [
           {
            "colorbar": {
             "outlinewidth": 0,
             "ticks": ""
            },
            "type": "contourcarpet"
           }
          ],
          "heatmap": [
           {
            "colorbar": {
             "outlinewidth": 0,
             "ticks": ""
            },
            "colorscale": [
             [
              0,
              "#0d0887"
             ],
             [
              0.1111111111111111,
              "#46039f"
             ],
             [
              0.2222222222222222,
              "#7201a8"
             ],
             [
              0.3333333333333333,
              "#9c179e"
             ],
             [
              0.4444444444444444,
              "#bd3786"
             ],
             [
              0.5555555555555556,
              "#d8576b"
             ],
             [
              0.6666666666666666,
              "#ed7953"
             ],
             [
              0.7777777777777778,
              "#fb9f3a"
             ],
             [
              0.8888888888888888,
              "#fdca26"
             ],
             [
              1,
              "#f0f921"
             ]
            ],
            "type": "heatmap"
           }
          ],
          "heatmapgl": [
           {
            "colorbar": {
             "outlinewidth": 0,
             "ticks": ""
            },
            "colorscale": [
             [
              0,
              "#0d0887"
             ],
             [
              0.1111111111111111,
              "#46039f"
             ],
             [
              0.2222222222222222,
              "#7201a8"
             ],
             [
              0.3333333333333333,
              "#9c179e"
             ],
             [
              0.4444444444444444,
              "#bd3786"
             ],
             [
              0.5555555555555556,
              "#d8576b"
             ],
             [
              0.6666666666666666,
              "#ed7953"
             ],
             [
              0.7777777777777778,
              "#fb9f3a"
             ],
             [
              0.8888888888888888,
              "#fdca26"
             ],
             [
              1,
              "#f0f921"
             ]
            ],
            "type": "heatmapgl"
           }
          ],
          "histogram": [
           {
            "marker": {
             "pattern": {
              "fillmode": "overlay",
              "size": 10,
              "solidity": 0.2
             }
            },
            "type": "histogram"
           }
          ],
          "histogram2d": [
           {
            "colorbar": {
             "outlinewidth": 0,
             "ticks": ""
            },
            "colorscale": [
             [
              0,
              "#0d0887"
             ],
             [
              0.1111111111111111,
              "#46039f"
             ],
             [
              0.2222222222222222,
              "#7201a8"
             ],
             [
              0.3333333333333333,
              "#9c179e"
             ],
             [
              0.4444444444444444,
              "#bd3786"
             ],
             [
              0.5555555555555556,
              "#d8576b"
             ],
             [
              0.6666666666666666,
              "#ed7953"
             ],
             [
              0.7777777777777778,
              "#fb9f3a"
             ],
             [
              0.8888888888888888,
              "#fdca26"
             ],
             [
              1,
              "#f0f921"
             ]
            ],
            "type": "histogram2d"
           }
          ],
          "histogram2dcontour": [
           {
            "colorbar": {
             "outlinewidth": 0,
             "ticks": ""
            },
            "colorscale": [
             [
              0,
              "#0d0887"
             ],
             [
              0.1111111111111111,
              "#46039f"
             ],
             [
              0.2222222222222222,
              "#7201a8"
             ],
             [
              0.3333333333333333,
              "#9c179e"
             ],
             [
              0.4444444444444444,
              "#bd3786"
             ],
             [
              0.5555555555555556,
              "#d8576b"
             ],
             [
              0.6666666666666666,
              "#ed7953"
             ],
             [
              0.7777777777777778,
              "#fb9f3a"
             ],
             [
              0.8888888888888888,
              "#fdca26"
             ],
             [
              1,
              "#f0f921"
             ]
            ],
            "type": "histogram2dcontour"
           }
          ],
          "mesh3d": [
           {
            "colorbar": {
             "outlinewidth": 0,
             "ticks": ""
            },
            "type": "mesh3d"
           }
          ],
          "parcoords": [
           {
            "line": {
             "colorbar": {
              "outlinewidth": 0,
              "ticks": ""
             }
            },
            "type": "parcoords"
           }
          ],
          "pie": [
           {
            "automargin": true,
            "type": "pie"
           }
          ],
          "scatter": [
           {
            "fillpattern": {
             "fillmode": "overlay",
             "size": 10,
             "solidity": 0.2
            },
            "type": "scatter"
           }
          ],
          "scatter3d": [
           {
            "line": {
             "colorbar": {
              "outlinewidth": 0,
              "ticks": ""
             }
            },
            "marker": {
             "colorbar": {
              "outlinewidth": 0,
              "ticks": ""
             }
            },
            "type": "scatter3d"
           }
          ],
          "scattercarpet": [
           {
            "marker": {
             "colorbar": {
              "outlinewidth": 0,
              "ticks": ""
             }
            },
            "type": "scattercarpet"
           }
          ],
          "scattergeo": [
           {
            "marker": {
             "colorbar": {
              "outlinewidth": 0,
              "ticks": ""
             }
            },
            "type": "scattergeo"
           }
          ],
          "scattergl": [
           {
            "marker": {
             "colorbar": {
              "outlinewidth": 0,
              "ticks": ""
             }
            },
            "type": "scattergl"
           }
          ],
          "scattermapbox": [
           {
            "marker": {
             "colorbar": {
              "outlinewidth": 0,
              "ticks": ""
             }
            },
            "type": "scattermapbox"
           }
          ],
          "scatterpolar": [
           {
            "marker": {
             "colorbar": {
              "outlinewidth": 0,
              "ticks": ""
             }
            },
            "type": "scatterpolar"
           }
          ],
          "scatterpolargl": [
           {
            "marker": {
             "colorbar": {
              "outlinewidth": 0,
              "ticks": ""
             }
            },
            "type": "scatterpolargl"
           }
          ],
          "scatterternary": [
           {
            "marker": {
             "colorbar": {
              "outlinewidth": 0,
              "ticks": ""
             }
            },
            "type": "scatterternary"
           }
          ],
          "surface": [
           {
            "colorbar": {
             "outlinewidth": 0,
             "ticks": ""
            },
            "colorscale": [
             [
              0,
              "#0d0887"
             ],
             [
              0.1111111111111111,
              "#46039f"
             ],
             [
              0.2222222222222222,
              "#7201a8"
             ],
             [
              0.3333333333333333,
              "#9c179e"
             ],
             [
              0.4444444444444444,
              "#bd3786"
             ],
             [
              0.5555555555555556,
              "#d8576b"
             ],
             [
              0.6666666666666666,
              "#ed7953"
             ],
             [
              0.7777777777777778,
              "#fb9f3a"
             ],
             [
              0.8888888888888888,
              "#fdca26"
             ],
             [
              1,
              "#f0f921"
             ]
            ],
            "type": "surface"
           }
          ],
          "table": [
           {
            "cells": {
             "fill": {
              "color": "#EBF0F8"
             },
             "line": {
              "color": "white"
             }
            },
            "header": {
             "fill": {
              "color": "#C8D4E3"
             },
             "line": {
              "color": "white"
             }
            },
            "type": "table"
           }
          ]
         },
         "layout": {
          "annotationdefaults": {
           "arrowcolor": "#2a3f5f",
           "arrowhead": 0,
           "arrowwidth": 1
          },
          "autotypenumbers": "strict",
          "coloraxis": {
           "colorbar": {
            "outlinewidth": 0,
            "ticks": ""
           }
          },
          "colorscale": {
           "diverging": [
            [
             0,
             "#8e0152"
            ],
            [
             0.1,
             "#c51b7d"
            ],
            [
             0.2,
             "#de77ae"
            ],
            [
             0.3,
             "#f1b6da"
            ],
            [
             0.4,
             "#fde0ef"
            ],
            [
             0.5,
             "#f7f7f7"
            ],
            [
             0.6,
             "#e6f5d0"
            ],
            [
             0.7,
             "#b8e186"
            ],
            [
             0.8,
             "#7fbc41"
            ],
            [
             0.9,
             "#4d9221"
            ],
            [
             1,
             "#276419"
            ]
           ],
           "sequential": [
            [
             0,
             "#0d0887"
            ],
            [
             0.1111111111111111,
             "#46039f"
            ],
            [
             0.2222222222222222,
             "#7201a8"
            ],
            [
             0.3333333333333333,
             "#9c179e"
            ],
            [
             0.4444444444444444,
             "#bd3786"
            ],
            [
             0.5555555555555556,
             "#d8576b"
            ],
            [
             0.6666666666666666,
             "#ed7953"
            ],
            [
             0.7777777777777778,
             "#fb9f3a"
            ],
            [
             0.8888888888888888,
             "#fdca26"
            ],
            [
             1,
             "#f0f921"
            ]
           ],
           "sequentialminus": [
            [
             0,
             "#0d0887"
            ],
            [
             0.1111111111111111,
             "#46039f"
            ],
            [
             0.2222222222222222,
             "#7201a8"
            ],
            [
             0.3333333333333333,
             "#9c179e"
            ],
            [
             0.4444444444444444,
             "#bd3786"
            ],
            [
             0.5555555555555556,
             "#d8576b"
            ],
            [
             0.6666666666666666,
             "#ed7953"
            ],
            [
             0.7777777777777778,
             "#fb9f3a"
            ],
            [
             0.8888888888888888,
             "#fdca26"
            ],
            [
             1,
             "#f0f921"
            ]
           ]
          },
          "colorway": [
           "#636efa",
           "#EF553B",
           "#00cc96",
           "#ab63fa",
           "#FFA15A",
           "#19d3f3",
           "#FF6692",
           "#B6E880",
           "#FF97FF",
           "#FECB52"
          ],
          "font": {
           "color": "#2a3f5f"
          },
          "geo": {
           "bgcolor": "white",
           "lakecolor": "white",
           "landcolor": "#E5ECF6",
           "showlakes": true,
           "showland": true,
           "subunitcolor": "white"
          },
          "hoverlabel": {
           "align": "left"
          },
          "hovermode": "closest",
          "mapbox": {
           "style": "light"
          },
          "paper_bgcolor": "white",
          "plot_bgcolor": "#E5ECF6",
          "polar": {
           "angularaxis": {
            "gridcolor": "white",
            "linecolor": "white",
            "ticks": ""
           },
           "bgcolor": "#E5ECF6",
           "radialaxis": {
            "gridcolor": "white",
            "linecolor": "white",
            "ticks": ""
           }
          },
          "scene": {
           "xaxis": {
            "backgroundcolor": "#E5ECF6",
            "gridcolor": "white",
            "gridwidth": 2,
            "linecolor": "white",
            "showbackground": true,
            "ticks": "",
            "zerolinecolor": "white"
           },
           "yaxis": {
            "backgroundcolor": "#E5ECF6",
            "gridcolor": "white",
            "gridwidth": 2,
            "linecolor": "white",
            "showbackground": true,
            "ticks": "",
            "zerolinecolor": "white"
           },
           "zaxis": {
            "backgroundcolor": "#E5ECF6",
            "gridcolor": "white",
            "gridwidth": 2,
            "linecolor": "white",
            "showbackground": true,
            "ticks": "",
            "zerolinecolor": "white"
           }
          },
          "shapedefaults": {
           "line": {
            "color": "#2a3f5f"
           }
          },
          "ternary": {
           "aaxis": {
            "gridcolor": "white",
            "linecolor": "white",
            "ticks": ""
           },
           "baxis": {
            "gridcolor": "white",
            "linecolor": "white",
            "ticks": ""
           },
           "bgcolor": "#E5ECF6",
           "caxis": {
            "gridcolor": "white",
            "linecolor": "white",
            "ticks": ""
           }
          },
          "title": {
           "x": 0.05
          },
          "xaxis": {
           "automargin": true,
           "gridcolor": "white",
           "linecolor": "white",
           "ticks": "",
           "title": {
            "standoff": 15
           },
           "zerolinecolor": "white",
           "zerolinewidth": 2
          },
          "yaxis": {
           "automargin": true,
           "gridcolor": "white",
           "linecolor": "white",
           "ticks": "",
           "title": {
            "standoff": 15
           },
           "zerolinecolor": "white",
           "zerolinewidth": 2
          }
         }
        },
        "title": {
         "text": "Crime Index vs # of CCTV Cameras per 1,000 People<br><sup>There is no correlation between the amount of cameras and a lower crime index.</sup>",
         "x": 0.5,
         "xanchor": "center",
         "y": 0.9,
         "yanchor": "top"
        },
        "xaxis": {
         "anchor": "y",
         "autorange": true,
         "domain": [
          0,
          1
         ],
         "range": [
          -5.063934837092732,
          88.38393483709272
         ],
         "title": {
          "text": "# of CCTV Cameras per 1,000 People"
         },
         "type": "linear"
        },
        "yaxis": {
         "anchor": "x",
         "autorange": true,
         "domain": [
          0,
          1
         ],
         "range": [
          13.864304812834227,
          85.08569518716577
         ],
         "title": {
          "text": "Crime Index 2023"
         },
         "type": "linear"
        }
       }
      },
      "image/png": "[encoded data removed]",
      "text/html": [
       "<div>                            <div id=\"d0a66057-a6b1-43d6-9c15-9f8e5c3ffff8\" class=\"plotly-graph-div\" style=\"height:500px; width:100%;\"></div>            <script type=\"text/javascript\">                require([\"plotly\"], function(Plotly) {                    window.PLOTLYENV=window.PLOTLYENV || {};                                    if (document.getElementById(\"d0a66057-a6b1-43d6-9c15-9f8e5c3ffff8\")) {                    Plotly.newPlot(                        \"d0a66057-a6b1-43d6-9c15-9f8e5c3ffff8\",                        [{\"customdata\":[[\"C\\u00f4te d'Ivoire\"],[\"Nigeria\"],[\"Ethiopia\"],[\"Egypt\"],[\"Turkey\"],[\"Madagascar\"],[\"Paraguay\"],[\"Iraq\"],[\"Thailand\"],[\"Spain\"],[\"Indonesia\"],[\"Brazil\"],[\"Germany\"],[\"Colombia\"],[\"Brazil\"],[\"Argentina\"],[\"South Korea\"],[\"Egypt\"],[\"Brazil\"],[\"South Africa\"],[\"Morocco\"],[\"Bangladesh\"],[\"Brazil\"],[\"Senegal\"],[\"Tanzania\"],[\"Bangladesh\"],[\"Cameroon\"],[\"South Africa\"],[\"South Africa\"],[\"Pakistan\"],[\"Brazil\"],[\"Japan\"],[\"Mexico\"],[\"Vietnam\"],[\"Vietnam\"],[\"Hong Kong\"],[\"Nigeria\"],[\"Turkey\"],[\"Indonesia\"],[\"South Africa\"],[\"Afghanistan\"],[\"Uganda\"],[\"Nigeria\"],[\"Pakistan\"],[\"Sudan\"],[\"Malaysia\"],[\"Nigeria\"],[\"Pakistan\"],[\"Peru\"],[\"United Kingdom\"],[\"United States\"],[\"Angola\"],[\"Spain\"],[\"Philippines\"],[\"Iran\"],[\"Colombia\"],[\"Australia\"],[\"Mexico\"],[\"Mexico\"],[\"Canada\"],[\"Russia\"],[\"Kenya\"],[\"United States\"],[\"Japan\"],[\"Burkina Faso\"],[\"France \"],[\"Nigeria\"],[\"Brazil\"],[\"Mexico\"],[\"Brazil\"],[\"Brazil\"],[\"Saudi Arabia\"],[\"Italy\"],[\"Brazil\"],[\"Yemen\"],[\"Chile\"],[\"Dominican Republic\"],[\"Brazil\"],[\"South Korea\"],[\"Singapore \"],[\"Russia\"],[\"Australia\"],[\"Iran\"],[\"Israel\"],[\"Japan\"],[\"Canada\"],[\"Taiwan\"],[\"Myanmar\"]],\"hovertemplate\":\"City: %{hovertext}\\u003cbr\\u003eCountry: %{customdata[0]}\\u003cbr\\u003eCrime Index: %{x}\\u003cbr\\u003e# of CCTV Cameras per 1,000 People: %{y}\",\"hovertext\":[\"Abidjan\",\"Abuja\",\"Addis Ababa\",\"Alexandria\",\"Ankara\",\"Antananarivo\",\"Asuncion\",\"Baghdad\",\"Bangkok\",\"Barcelona\",\"Bekasi\",\"Belo Horizonte\",\"Berlin\",\"Bogot\\u00e1\",\"Brasilia\",\"Buenos Aires\",\"Busan\",\"Cairo\",\"Campinas\",\"Cape Town\",\"Casablanca\",\"Chittagong\",\"Curitiba\",\"Dakar\",\"Dar Es Salaam\",\"Dhaka\",\"Douala\",\"Durban\",\"Ekurhuleni\",\"Faisalabad\",\"Fortaleza\",\"Fukuoka\",\"Guadalajara\",\"Hanoi\",\"Ho Chi Minh City\",\"Hong Kong\",\"Ibadan\",\"Istanbul\",\"Jakarta\",\"Johannesburg\",\"Kabul\",\"Kampala\",\"Kano\",\"Karachi\",\"Khartoum\",\"Kuala Lumpur\",\"Lagos\",\"Lahore\",\"Lima\",\"London\",\"Los Angeles\",\"Luanda\",\"Madrid\",\"Manila\",\"Mashhad\",\"Medell\\u00edn\",\"Melbourne\",\"Mexico City\",\"Monterrey\",\"Montr\\u00e9al\",\"Moscow\",\"Nairobi\",\"New York\",\"Osaka\",\"Ouagadougou\",\"Paris\",\"Port Harcourt\",\"Porto Alegre\",\"Puebla\",\"Recife\",\"Rio de Janeiro\",\"Riyadh\",\"Rome\",\"Salvador\",\"Sanaa\",\"Santiago\",\"Santo Domingo\",\"S\\u00e3o Paulo\",\"Seoul\",\"Singapore\",\"St. Petersburg\",\"Sydney\",\"Tehran\",\"Tel Aviv\",\"Tokyo\",\"Toronto\",\"Xinbei (New Taipei City)\",\"Yangon\"],\"legendgroup\":\"blue\",\"marker\":{\"color\":\"#636efa\",\"symbol\":\"circle\"},\"mode\":\"markers\",\"name\":\"Others\",\"orientation\":\"v\",\"showlegend\":true,\"x\":[0.18,0.01,0.59,0.02,2.12,0.39,0.23,15.56,5.89,2.41,0.07,2.91,7.72,3.85,0.82,1.1,10.03,2.1,0.53,1.61,0.98,0.24,0.64,0.18,0.0,0.71,0.1,0.05,0.56,0.11,1.27,0.26,4.4,1.84,8.52,7.09,0.0,6.88,0.82,1.52,0.46,0.61,1.15,0.27,0.63,0.58,0.16,0.47,1.89,13.21,10.27,0.1,4.19,0.27,0.17,1.19,2.45,3.59,1.12,1.03,16.88,0.38,7.88,1.06,0.21,4.04,0.04,1.22,4.53,0.58,2.01,0.02,3.59,1.78,0.05,1.13,0.48,0.83,14.47,17.94,13.49,5.06,0.53,1.0,1.0,3.13,7.77,1.15],\"xaxis\":\"x\",\"y\":[59.66,53.54,49.17,44.2,39.01,62.92,51.77,58.93,40.32,50.84,37.47,63.83,43.48,66.06,60.15,62.95,23.33,50.07,66.5,73.56,55.07,64.43,62.0,42.77,57.53,63.3,74.87,80.69,null,39.4,76.87,18.26,62.14,37.16,52.62,21.53,53.69,47.64,52.48,80.67,80.09,54.55,54.66,55.03,39.48,62.61,67.56,36.75,70.7,53.78,52.68,66.51,27.96,65.11,49.38,55.19,44.06,67.89,48.02,31.75,36.75,59.0,49.26,33.55,48.53,57.18,69.95,72.01,59.07,76.52,77.62,26.42,53.45,76.88,60.51,61.74,67.22,70.68,24.87,40.02,42.01,33.95,55.96,26.85,24.22,42.45,21.89,49.64],\"yaxis\":\"y\",\"type\":\"scatter\"},{\"customdata\":[[\"India\"],[\"India\"],[\"India\"],[\"India\"],[\"India\"],[\"India\"],[\"India\"],[\"India\"],[\"India\"],[\"India\"],[\"India\"],[\"India\"],[\"India\"],[\"India\"],[\"India\"],[\"India\"]],\"hovertemplate\":\"City: %{hovertext}\\u003cbr\\u003eCountry: %{customdata[0]}\\u003cbr\\u003eCrime Index: %{x}\\u003cbr\\u003e# of CCTV Cameras per 1,000 People: %{y}\",\"hovertext\":[\"Ahmedabad\",\"Bangalore\",\"Chennai\",\"Delhi\",\"Hyderabad\",\"Indore\",\"Jaipur\",\"Kanpur\",\"Kochi\",\"Kolkata\",\"Kozhikode\",\"Lucknow\",\"Mumbai\",\"Pune\",\"Surat\",\"Thrissur\"],\"legendgroup\":\"orange\",\"marker\":{\"color\":\"#EF553B\",\"symbol\":\"circle\"},\"mode\":\"markers\",\"name\":\"India\",\"orientation\":\"v\",\"showlegend\":true,\"x\":[0.75,1.58,7.73,19.96,83.32,60.57,0.24,2.24,6.82,0.86,0.05,2.3,3.65,6.92,0.58,0.09],\"xaxis\":\"x\",\"y\":[32.39,53.76,39.81,59.23,42.82,48.37,35.42,47.6,40.04,46.69,43.52,46.47,45.04,41.86,33.7,23.55],\"yaxis\":\"y\",\"type\":\"scatter\"}],                        {\"template\":{\"data\":{\"histogram2dcontour\":[{\"type\":\"histogram2dcontour\",\"colorbar\":{\"outlinewidth\":0,\"ticks\":\"\"},\"colorscale\":[[0.0,\"#0d0887\"],[0.1111111111111111,\"#46039f\"],[0.2222222222222222,\"#7201a8\"],[0.3333333333333333,\"#9c179e\"],[0.4444444444444444,\"#bd3786\"],[0.5555555555555556,\"#d8576b\"],[0.6666666666666666,\"#ed7953\"],[0.7777777777777778,\"#fb9f3a\"],[0.8888888888888888,\"#fdca26\"],[1.0,\"#f0f921\"]]}],\"choropleth\":[{\"type\":\"choropleth\",\"colorbar\":{\"outlinewidth\":0,\"ticks\":\"\"}}],\"histogram2d\":[{\"type\":\"histogram2d\",\"colorbar\":{\"outlinewidth\":0,\"ticks\":\"\"},\"colorscale\":[[0.0,\"#0d0887\"],[0.1111111111111111,\"#46039f\"],[0.2222222222222222,\"#7201a8\"],[0.3333333333333333,\"#9c179e\"],[0.4444444444444444,\"#bd3786\"],[0.5555555555555556,\"#d8576b\"],[0.6666666666666666,\"#ed7953\"],[0.7777777777777778,\"#fb9f3a\"],[0.8888888888888888,\"#fdca26\"],[1.0,\"#f0f921\"]]}],\"heatmap\":[{\"type\":\"heatmap\",\"colorbar\":{\"outlinewidth\":0,\"ticks\":\"\"},\"colorscale\":[[0.0,\"#0d0887\"],[0.1111111111111111,\"#46039f\"],[0.2222222222222222,\"#7201a8\"],[0.3333333333333333,\"#9c179e\"],[0.4444444444444444,\"#bd3786\"],[0.5555555555555556,\"#d8576b\"],[0.6666666666666666,\"#ed7953\"],[0.7777777777777778,\"#fb9f3a\"],[0.8888888888888888,\"#fdca26\"],[1.0,\"#f0f921\"]]}],\"heatmapgl\":[{\"type\":\"heatmapgl\",\"colorbar\":{\"outlinewidth\":0,\"ticks\":\"\"},\"colorscale\":[[0.0,\"#0d0887\"],[0.1111111111111111,\"#46039f\"],[0.2222222222222222,\"#7201a8\"],[0.3333333333333333,\"#9c179e\"],[0.4444444444444444,\"#bd3786\"],[0.5555555555555556,\"#d8576b\"],[0.6666666666666666,\"#ed7953\"],[0.7777777777777778,\"#fb9f3a\"],[0.8888888888888888,\"#fdca26\"],[1.0,\"#f0f921\"]]}],\"contourcarpet\":[{\"type\":\"contourcarpet\",\"colorbar\":{\"outlinewidth\":0,\"ticks\":\"\"}}],\"contour\":[{\"type\":\"contour\",\"colorbar\":{\"outlinewidth\":0,\"ticks\":\"\"},\"colorscale\":[[0.0,\"#0d0887\"],[0.1111111111111111,\"#46039f\"],[0.2222222222222222,\"#7201a8\"],[0.3333333333333333,\"#9c179e\"],[0.4444444444444444,\"#bd3786\"],[0.5555555555555556,\"#d8576b\"],[0.6666666666666666,\"#ed7953\"],[0.7777777777777778,\"#fb9f3a\"],[0.8888888888888888,\"#fdca26\"],[1.0,\"#f0f921\"]]}],\"surface\":[{\"type\":\"surface\",\"colorbar\":{\"outlinewidth\":0,\"ticks\":\"\"},\"colorscale\":[[0.0,\"#0d0887\"],[0.1111111111111111,\"#46039f\"],[0.2222222222222222,\"#7201a8\"],[0.3333333333333333,\"#9c179e\"],[0.4444444444444444,\"#bd3786\"],[0.5555555555555556,\"#d8576b\"],[0.6666666666666666,\"#ed7953\"],[0.7777777777777778,\"#fb9f3a\"],[0.8888888888888888,\"#fdca26\"],[1.0,\"#f0f921\"]]}],\"mesh3d\":[{\"type\":\"mesh3d\",\"colorbar\":{\"outlinewidth\":0,\"ticks\":\"\"}}],\"scatter\":[{\"fillpattern\":{\"fillmode\":\"overlay\",\"size\":10,\"solidity\":0.2},\"type\":\"scatter\"}],\"parcoords\":[{\"type\":\"parcoords\",\"line\":{\"colorbar\":{\"outlinewidth\":0,\"ticks\":\"\"}}}],\"scatterpolargl\":[{\"type\":\"scatterpolargl\",\"marker\":{\"colorbar\":{\"outlinewidth\":0,\"ticks\":\"\"}}}],\"bar\":[{\"error_x\":{\"color\":\"#2a3f5f\"},\"error_y\":{\"color\":\"#2a3f5f\"},\"marker\":{\"line\":{\"color\":\"#E5ECF6\",\"width\":0.5},\"pattern\":{\"fillmode\":\"overlay\",\"size\":10,\"solidity\":0.2}},\"type\":\"bar\"}],\"scattergeo\":[{\"type\":\"scattergeo\",\"marker\":{\"colorbar\":{\"outlinewidth\":0,\"ticks\":\"\"}}}],\"scatterpolar\":[{\"type\":\"scatterpolar\",\"marker\":{\"colorbar\":{\"outlinewidth\":0,\"ticks\":\"\"}}}],\"histogram\":[{\"marker\":{\"pattern\":{\"fillmode\":\"overlay\",\"size\":10,\"solidity\":0.2}},\"type\":\"histogram\"}],\"scattergl\":[{\"type\":\"scattergl\",\"marker\":{\"colorbar\":{\"outlinewidth\":0,\"ticks\":\"\"}}}],\"scatter3d\":[{\"type\":\"scatter3d\",\"line\":{\"colorbar\":{\"outlinewidth\":0,\"ticks\":\"\"}},\"marker\":{\"colorbar\":{\"outlinewidth\":0,\"ticks\":\"\"}}}],\"scattermapbox\":[{\"type\":\"scattermapbox\",\"marker\":{\"colorbar\":{\"outlinewidth\":0,\"ticks\":\"\"}}}],\"scatterternary\":[{\"type\":\"scatterternary\",\"marker\":{\"colorbar\":{\"outlinewidth\":0,\"ticks\":\"\"}}}],\"scattercarpet\":[{\"type\":\"scattercarpet\",\"marker\":{\"colorbar\":{\"outlinewidth\":0,\"ticks\":\"\"}}}],\"carpet\":[{\"aaxis\":{\"endlinecolor\":\"#2a3f5f\",\"gridcolor\":\"white\",\"linecolor\":\"white\",\"minorgridcolor\":\"white\",\"startlinecolor\":\"#2a3f5f\"},\"baxis\":{\"endlinecolor\":\"#2a3f5f\",\"gridcolor\":\"white\",\"linecolor\":\"white\",\"minorgridcolor\":\"white\",\"startlinecolor\":\"#2a3f5f\"},\"type\":\"carpet\"}],\"table\":[{\"cells\":{\"fill\":{\"color\":\"#EBF0F8\"},\"line\":{\"color\":\"white\"}},\"header\":{\"fill\":{\"color\":\"#C8D4E3\"},\"line\":{\"color\":\"white\"}},\"type\":\"table\"}],\"barpolar\":[{\"marker\":{\"line\":{\"color\":\"#E5ECF6\",\"width\":0.5},\"pattern\":{\"fillmode\":\"overlay\",\"size\":10,\"solidity\":0.2}},\"type\":\"barpolar\"}],\"pie\":[{\"automargin\":true,\"type\":\"pie\"}]},\"layout\":{\"autotypenumbers\":\"strict\",\"colorway\":[\"#636efa\",\"#EF553B\",\"#00cc96\",\"#ab63fa\",\"#FFA15A\",\"#19d3f3\",\"#FF6692\",\"#B6E880\",\"#FF97FF\",\"#FECB52\"],\"font\":{\"color\":\"#2a3f5f\"},\"hovermode\":\"closest\",\"hoverlabel\":{\"align\":\"left\"},\"paper_bgcolor\":\"white\",\"plot_bgcolor\":\"#E5ECF6\",\"polar\":{\"bgcolor\":\"#E5ECF6\",\"angularaxis\":{\"gridcolor\":\"white\",\"linecolor\":\"white\",\"ticks\":\"\"},\"radialaxis\":{\"gridcolor\":\"white\",\"linecolor\":\"white\",\"ticks\":\"\"}},\"ternary\":{\"bgcolor\":\"#E5ECF6\",\"aaxis\":{\"gridcolor\":\"white\",\"linecolor\":\"white\",\"ticks\":\"\"},\"baxis\":{\"gridcolor\":\"white\",\"linecolor\":\"white\",\"ticks\":\"\"},\"caxis\":{\"gridcolor\":\"white\",\"linecolor\":\"white\",\"ticks\":\"\"}},\"coloraxis\":{\"colorbar\":{\"outlinewidth\":0,\"ticks\":\"\"}},\"colorscale\":{\"sequential\":[[0.0,\"#0d0887\"],[0.1111111111111111,\"#46039f\"],[0.2222222222222222,\"#7201a8\"],[0.3333333333333333,\"#9c179e\"],[0.4444444444444444,\"#bd3786\"],[0.5555555555555556,\"#d8576b\"],[0.6666666666666666,\"#ed7953\"],[0.7777777777777778,\"#fb9f3a\"],[0.8888888888888888,\"#fdca26\"],[1.0,\"#f0f921\"]],\"sequentialminus\":[[0.0,\"#0d0887\"],[0.1111111111111111,\"#46039f\"],[0.2222222222222222,\"#7201a8\"],[0.3333333333333333,\"#9c179e\"],[0.4444444444444444,\"#bd3786\"],[0.5555555555555556,\"#d8576b\"],[0.6666666666666666,\"#ed7953\"],[0.7777777777777778,\"#fb9f3a\"],[0.8888888888888888,\"#fdca26\"],[1.0,\"#f0f921\"]],\"diverging\":[[0,\"#8e0152\"],[0.1,\"#c51b7d\"],[0.2,\"#de77ae\"],[0.3,\"#f1b6da\"],[0.4,\"#fde0ef\"],[0.5,\"#f7f7f7\"],[0.6,\"#e6f5d0\"],[0.7,\"#b8e186\"],[0.8,\"#7fbc41\"],[0.9,\"#4d9221\"],[1,\"#276419\"]]},\"xaxis\":{\"gridcolor\":\"white\",\"linecolor\":\"white\",\"ticks\":\"\",\"title\":{\"standoff\":15},\"zerolinecolor\":\"white\",\"automargin\":true,\"zerolinewidth\":2},\"yaxis\":{\"gridcolor\":\"white\",\"linecolor\":\"white\",\"ticks\":\"\",\"title\":{\"standoff\":15},\"zerolinecolor\":\"white\",\"automargin\":true,\"zerolinewidth\":2},\"scene\":{\"xaxis\":{\"backgroundcolor\":\"#E5ECF6\",\"gridcolor\":\"white\",\"linecolor\":\"white\",\"showbackground\":true,\"ticks\":\"\",\"zerolinecolor\":\"white\",\"gridwidth\":2},\"yaxis\":{\"backgroundcolor\":\"#E5ECF6\",\"gridcolor\":\"white\",\"linecolor\":\"white\",\"showbackground\":true,\"ticks\":\"\",\"zerolinecolor\":\"white\",\"gridwidth\":2},\"zaxis\":{\"backgroundcolor\":\"#E5ECF6\",\"gridcolor\":\"white\",\"linecolor\":\"white\",\"showbackground\":true,\"ticks\":\"\",\"zerolinecolor\":\"white\",\"gridwidth\":2}},\"shapedefaults\":{\"line\":{\"color\":\"#2a3f5f\"}},\"annotationdefaults\":{\"arrowcolor\":\"#2a3f5f\",\"arrowhead\":0,\"arrowwidth\":1},\"geo\":{\"bgcolor\":\"white\",\"landcolor\":\"#E5ECF6\",\"subunitcolor\":\"white\",\"showland\":true,\"showlakes\":true,\"lakecolor\":\"white\"},\"title\":{\"x\":0.05},\"mapbox\":{\"style\":\"light\"}}},\"xaxis\":{\"anchor\":\"y\",\"domain\":[0.0,1.0],\"title\":{\"text\":\"# of CCTV Cameras per 1,000 People\"}},\"yaxis\":{\"anchor\":\"x\",\"domain\":[0.0,1.0],\"title\":{\"text\":\"Crime Index 2023\"}},\"legend\":{\"title\":{\"text\":\"Country\"},\"tracegroupgap\":0},\"title\":{\"text\":\"Crime Index vs # of CCTV Cameras per 1,000 People\\u003cbr\\u003e\\u003csup\\u003eThere is no correlation between the amount of cameras and a lower crime index.\\u003c\\u002fsup\\u003e\",\"y\":0.9,\"x\":0.5,\"xanchor\":\"center\",\"yanchor\":\"top\"},\"height\":500},                        {\"responsive\": true}                    ).then(function(){\n",
       "                            \n",
       "var gd = document.getElementById('d0a66057-a6b1-43d6-9c15-9f8e5c3ffff8');\n",
       "var x = new MutationObserver(function (mutations, observer) {{\n",
       "        var display = window.getComputedStyle(gd).display;\n",
       "        if (!display || display === 'none') {{\n",
       "            console.log([gd, 'removed!']);\n",
       "            Plotly.purge(gd);\n",
       "            observer.disconnect();\n",
       "        }}\n",
       "}});\n",
       "\n",
       "// Listen for the removal of the full notebook cells\n",
       "var notebookContainer = gd.closest('#notebook-container');\n",
       "if (notebookContainer) {{\n",
       "    x.observe(notebookContainer, {childList: true});\n",
       "}}\n",
       "\n",
       "// Listen for the clearing of the current output cell\n",
       "var outputEl = gd.closest('.output');\n",
       "if (outputEl) {{\n",
       "    x.observe(outputEl, {childList: true});\n",
       "}}\n",
       "\n",
       "                        })                };                });            </script>        </div>"
      ]
     },
     "metadata": {},
     "output_type": "display_data"
    }
   ],
   "source": [
    "cctv = pd.read_csv(\"datasets/cctv.csv\")\n",
    "\n",
    "cctv_west = cctv[cctv[\"Country\"] != \"China\"]\n",
    "\n",
    "# Define a new column for color based on the condition\n",
    "cctv_west['color'] = cctv_west['Country'].apply(lambda x: 'orange' if x == 'India' else 'blue')\n",
    "color_map = {'India': 'orange', 'Other': 'blue'}\n",
    "\n",
    "# Create the scatterplot\n",
    "fig = px.scatter(\n",
    "    cctv_west,\n",
    "    x='# of CCTV Cameras per 1,000 People',\n",
    "    y='Crime Index 2023',\n",
    "    hover_name='City',\n",
    "    hover_data={'Country': True},\n",
    "    color = 'color',\n",
    "    title='Crime Index vs # of CCTV Cameras per 1,000 People<br><sup>There is no correlation between the amount of cameras and a lower crime index.</sup>'\n",
    ")\n",
    "\n",
    "# Customize hover label formatting\n",
    "fig.update_traces(\n",
    "    hovertemplate='City: %{hovertext}<br>Country: %{customdata[0]}<br>Crime Index: %{x}<br># of CCTV Cameras per 1,000 People: %{y}'\n",
    ")\n",
    "\n",
    "fig.update_layout(\n",
    "    height=500,\n",
    "    legend_title='Country',\n",
    ")\n",
    "\n",
    "newnames = {'blue' : 'Others', 'orange' : 'India'}\n",
    "fig.for_each_trace(lambda t: t.update(name = newnames[t.name]))\n",
    "\n",
    "fig.update_layout(\n",
    "    title={\n",
    "        'y':0.9,\n",
    "        'x':0.5,\n",
    "        'xanchor': 'center',\n",
    "        'yanchor': 'top',\n",
    "    },\n",
    "    #margin={'b': 106, 't': 100}\n",
    ")\n",
    "\n",
    "# Show the plot\n",
    "fig.show()"
   ]
  }
 ],
 "metadata": {
  "kernelspec": {
   "display_name": "Python 3 (ipykernel)",
   "language": "python",
   "name": "python3"
  },
  "language_info": {
   "codemirror_mode": {
    "name": "ipython",
    "version": 3
   },
   "file_extension": ".py",
   "mimetype": "text/x-python",
   "name": "python",
   "nbconvert_exporter": "python",
   "pygments_lexer": "ipython3",
   "version": "3.10.14"
  }
 },
 "nbformat": 4,
 "nbformat_minor": 5
}

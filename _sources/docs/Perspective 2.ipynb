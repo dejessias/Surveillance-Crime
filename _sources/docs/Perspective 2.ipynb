{
 "cells": [
  {
   "cell_type": "markdown",
   "id": "db228ea9-fe8b-4c7c-a626-af8d87122e0c",
   "metadata": {
    "editable": true,
    "slideshow": {
     "slide_type": ""
    },
    "tags": []
   },
   "source": [
    "# Crime and the Human Development Index\n",
    "\n",
    "## Correlation Between Number of Cameras and Crime Rate\n",
    "\n",
    "Even though crime prevention is the primary goal of CCTV, its efficacy is highly debatable. As seen in the graph below, an increase in the amount of CCTV per 1000 people does not correlate lower rates."
   ]
  },
  {
   "cell_type": "code",
   "execution_count": 1,
   "id": "e2af309a-78b5-4ec4-961e-41d07d615e04",
   "metadata": {
    "editable": true,
    "slideshow": {
     "slide_type": ""
    },
    "tags": [
     "remove-input"
    ]
   },
   "outputs": [
    {
     "data": {
      "text/html": [
       "        <script type=\"text/javascript\">\n",
       "        window.PlotlyConfig = {MathJaxConfig: 'local'};\n",
       "        if (window.MathJax && window.MathJax.Hub && window.MathJax.Hub.Config) {window.MathJax.Hub.Config({SVG: {font: \"STIX-Web\"}});}\n",
       "        if (typeof require !== 'undefined') {\n",
       "        require.undef(\"plotly\");\n",
       "        requirejs.config({\n",
       "            paths: {\n",
       "                'plotly': ['https://cdn.plot.ly/plotly-2.32.0.min']\n",
       "            }\n",
       "        });\n",
       "        require(['plotly'], function(Plotly) {\n",
       "            window._Plotly = Plotly;\n",
       "        });\n",
       "        }\n",
       "        </script>\n",
       "        "
      ]
     },
     "metadata": {},
     "output_type": "display_data"
    },
    {
     "data": {
      "application/vnd.plotly.v1+json": {
       "config": {
        "plotlyServerURL": "https://plot.ly"
       },
       "data": [
        {
         "customdata": [
          [
           "Côte d'Ivoire"
          ],
          [
           "Nigeria"
          ],
          [
           "Ethiopia"
          ],
          [
           "Egypt"
          ],
          [
           "Turkey"
          ],
          [
           "Madagascar"
          ],
          [
           "Paraguay"
          ],
          [
           "Iraq"
          ],
          [
           "Thailand"
          ],
          [
           "Spain"
          ],
          [
           "Indonesia"
          ],
          [
           "Brazil"
          ],
          [
           "Germany"
          ],
          [
           "Colombia"
          ],
          [
           "Brazil"
          ],
          [
           "Argentina"
          ],
          [
           "South Korea"
          ],
          [
           "Egypt"
          ],
          [
           "Brazil"
          ],
          [
           "South Africa"
          ],
          [
           "Morocco"
          ],
          [
           "Bangladesh"
          ],
          [
           "Brazil"
          ],
          [
           "Senegal"
          ],
          [
           "Tanzania"
          ],
          [
           "Bangladesh"
          ],
          [
           "Cameroon"
          ],
          [
           "South Africa"
          ],
          [
           "South Africa"
          ],
          [
           "Pakistan"
          ],
          [
           "Brazil"
          ],
          [
           "Japan"
          ],
          [
           "Mexico"
          ],
          [
           "Vietnam"
          ],
          [
           "Vietnam"
          ],
          [
           "Hong Kong"
          ],
          [
           "Nigeria"
          ],
          [
           "Turkey"
          ],
          [
           "Indonesia"
          ],
          [
           "South Africa"
          ],
          [
           "Afghanistan"
          ],
          [
           "Uganda"
          ],
          [
           "Nigeria"
          ],
          [
           "Pakistan"
          ],
          [
           "Sudan"
          ],
          [
           "Malaysia"
          ],
          [
           "Nigeria"
          ],
          [
           "Pakistan"
          ],
          [
           "Peru"
          ],
          [
           "United Kingdom"
          ],
          [
           "United States"
          ],
          [
           "Angola"
          ],
          [
           "Spain"
          ],
          [
           "Philippines"
          ],
          [
           "Iran"
          ],
          [
           "Colombia"
          ],
          [
           "Australia"
          ],
          [
           "Mexico"
          ],
          [
           "Mexico"
          ],
          [
           "Canada"
          ],
          [
           "Russia"
          ],
          [
           "Kenya"
          ],
          [
           "United States"
          ],
          [
           "Japan"
          ],
          [
           "Burkina Faso"
          ],
          [
           "France "
          ],
          [
           "Nigeria"
          ],
          [
           "Brazil"
          ],
          [
           "Mexico"
          ],
          [
           "Brazil"
          ],
          [
           "Brazil"
          ],
          [
           "Saudi Arabia"
          ],
          [
           "Italy"
          ],
          [
           "Brazil"
          ],
          [
           "Yemen"
          ],
          [
           "Chile"
          ],
          [
           "Dominican Republic"
          ],
          [
           "Brazil"
          ],
          [
           "South Korea"
          ],
          [
           "Singapore "
          ],
          [
           "Russia"
          ],
          [
           "Australia"
          ],
          [
           "Iran"
          ],
          [
           "Israel"
          ],
          [
           "Japan"
          ],
          [
           "Canada"
          ],
          [
           "Taiwan"
          ],
          [
           "Myanmar"
          ]
         ],
         "hovertemplate": "City: %{hovertext}<br>Country: %{customdata[0]}<br>Crime Index 2023: %{x}<br># of CCTV Cameras per 1,000 People: %{y}",
         "hovertext": [
          "Abidjan",
          "Abuja",
          "Addis Ababa",
          "Alexandria",
          "Ankara",
          "Antananarivo",
          "Asuncion",
          "Baghdad",
          "Bangkok",
          "Barcelona",
          "Bekasi",
          "Belo Horizonte",
          "Berlin",
          "Bogotá",
          "Brasilia",
          "Buenos Aires",
          "Busan",
          "Cairo",
          "Campinas",
          "Cape Town",
          "Casablanca",
          "Chittagong",
          "Curitiba",
          "Dakar",
          "Dar Es Salaam",
          "Dhaka",
          "Douala",
          "Durban",
          "Ekurhuleni",
          "Faisalabad",
          "Fortaleza",
          "Fukuoka",
          "Guadalajara",
          "Hanoi",
          "Ho Chi Minh City",
          "Hong Kong",
          "Ibadan",
          "Istanbul",
          "Jakarta",
          "Johannesburg",
          "Kabul",
          "Kampala",
          "Kano",
          "Karachi",
          "Khartoum",
          "Kuala Lumpur",
          "Lagos",
          "Lahore",
          "Lima",
          "London",
          "Los Angeles",
          "Luanda",
          "Madrid",
          "Manila",
          "Mashhad",
          "Medellín",
          "Melbourne",
          "Mexico City",
          "Monterrey",
          "Montréal",
          "Moscow",
          "Nairobi",
          "New York",
          "Osaka",
          "Ouagadougou",
          "Paris",
          "Port Harcourt",
          "Porto Alegre",
          "Puebla",
          "Recife",
          "Rio de Janeiro",
          "Riyadh",
          "Rome",
          "Salvador",
          "Sanaa",
          "Santiago",
          "Santo Domingo",
          "São Paulo",
          "Seoul",
          "Singapore",
          "St. Petersburg",
          "Sydney",
          "Tehran",
          "Tel Aviv",
          "Tokyo",
          "Toronto",
          "Xinbei (New Taipei City)",
          "Yangon"
         ],
         "legendgroup": "blue",
         "marker": {
          "color": "#636efa",
          "symbol": "circle"
         },
         "mode": "markers",
         "name": "Others",
         "orientation": "v",
         "showlegend": true,
         "type": "scatter",
         "x": [
          0.18,
          0.01,
          0.59,
          0.02,
          2.12,
          0.39,
          0.23,
          15.56,
          5.89,
          2.41,
          0.07,
          2.91,
          7.72,
          3.85,
          0.82,
          1.1,
          10.03,
          2.1,
          0.53,
          1.61,
          0.98,
          0.24,
          0.64,
          0.18,
          0,
          0.71,
          0.1,
          0.05,
          0.56,
          0.11,
          1.27,
          0.26,
          4.4,
          1.84,
          8.52,
          7.09,
          0,
          6.88,
          0.82,
          1.52,
          0.46,
          0.61,
          1.15,
          0.27,
          0.63,
          0.58,
          0.16,
          0.47,
          1.89,
          13.21,
          10.27,
          0.1,
          4.19,
          0.27,
          0.17,
          1.19,
          2.45,
          3.59,
          1.12,
          1.03,
          16.88,
          0.38,
          7.88,
          1.06,
          0.21,
          4.04,
          0.04,
          1.22,
          4.53,
          0.58,
          2.01,
          0.02,
          3.59,
          1.78,
          0.05,
          1.13,
          0.48,
          0.83,
          14.47,
          17.94,
          13.49,
          5.06,
          0.53,
          1,
          1,
          3.13,
          7.77,
          1.15
         ],
         "xaxis": "x",
         "y": [
          59.66,
          53.54,
          49.17,
          44.2,
          39.01,
          62.92,
          51.77,
          58.93,
          40.32,
          50.84,
          37.47,
          63.83,
          43.48,
          66.06,
          60.15,
          62.95,
          23.33,
          50.07,
          66.5,
          73.56,
          55.07,
          64.43,
          62,
          42.77,
          57.53,
          63.3,
          74.87,
          80.69,
          null,
          39.4,
          76.87,
          18.26,
          62.14,
          37.16,
          52.62,
          21.53,
          53.69,
          47.64,
          52.48,
          80.67,
          80.09,
          54.55,
          54.66,
          55.03,
          39.48,
          62.61,
          67.56,
          36.75,
          70.7,
          53.78,
          52.68,
          66.51,
          27.96,
          65.11,
          49.38,
          55.19,
          44.06,
          67.89,
          48.02,
          31.75,
          36.75,
          59,
          49.26,
          33.55,
          48.53,
          57.18,
          69.95,
          72.01,
          59.07,
          76.52,
          77.62,
          26.42,
          53.45,
          76.88,
          60.51,
          61.74,
          67.22,
          70.68,
          24.87,
          40.02,
          42.01,
          33.95,
          55.96,
          26.85,
          24.22,
          42.45,
          21.89,
          49.64
         ],
         "yaxis": "y"
        },
        {
         "customdata": [
          [
           "India"
          ],
          [
           "India"
          ],
          [
           "India"
          ],
          [
           "India"
          ],
          [
           "India"
          ],
          [
           "India"
          ],
          [
           "India"
          ],
          [
           "India"
          ],
          [
           "India"
          ],
          [
           "India"
          ],
          [
           "India"
          ],
          [
           "India"
          ],
          [
           "India"
          ],
          [
           "India"
          ],
          [
           "India"
          ],
          [
           "India"
          ]
         ],
         "hovertemplate": "City: %{hovertext}<br>Country: %{customdata[0]}<br>Crime Index 2023: %{x}<br># of CCTV Cameras per 1,000 People: %{y}",
         "hovertext": [
          "Ahmedabad",
          "Bangalore",
          "Chennai",
          "Delhi",
          "Hyderabad",
          "Indore",
          "Jaipur",
          "Kanpur",
          "Kochi",
          "Kolkata",
          "Kozhikode",
          "Lucknow",
          "Mumbai",
          "Pune",
          "Surat",
          "Thrissur"
         ],
         "legendgroup": "orange",
         "marker": {
          "color": "#EF553B",
          "symbol": "circle"
         },
         "mode": "markers",
         "name": "India",
         "orientation": "v",
         "showlegend": true,
         "type": "scatter",
         "x": [
          0.75,
          1.58,
          7.73,
          19.96,
          83.32,
          60.57,
          0.24,
          2.24,
          6.82,
          0.86,
          0.05,
          2.3,
          3.65,
          6.92,
          0.58,
          0.09
         ],
         "xaxis": "x",
         "y": [
          32.39,
          53.76,
          39.81,
          59.23,
          42.82,
          48.37,
          35.42,
          47.6,
          40.04,
          46.69,
          43.52,
          46.47,
          45.04,
          41.86,
          33.7,
          23.55
         ],
         "yaxis": "y"
        }
       ],
       "layout": {
        "autosize": true,
        "legend": {
         "title": {
          "text": "Country"
         },
         "tracegroupgap": 0
        },
        "template": {
         "data": {
          "bar": [
           {
            "error_x": {
             "color": "#2a3f5f"
            },
            "error_y": {
             "color": "#2a3f5f"
            },
            "marker": {
             "line": {
              "color": "#E5ECF6",
              "width": 0.5
             },
             "pattern": {
              "fillmode": "overlay",
              "size": 10,
              "solidity": 0.2
             }
            },
            "type": "bar"
           }
          ],
          "barpolar": [
           {
            "marker": {
             "line": {
              "color": "#E5ECF6",
              "width": 0.5
             },
             "pattern": {
              "fillmode": "overlay",
              "size": 10,
              "solidity": 0.2
             }
            },
            "type": "barpolar"
           }
          ],
          "carpet": [
           {
            "aaxis": {
             "endlinecolor": "#2a3f5f",
             "gridcolor": "white",
             "linecolor": "white",
             "minorgridcolor": "white",
             "startlinecolor": "#2a3f5f"
            },
            "baxis": {
             "endlinecolor": "#2a3f5f",
             "gridcolor": "white",
             "linecolor": "white",
             "minorgridcolor": "white",
             "startlinecolor": "#2a3f5f"
            },
            "type": "carpet"
           }
          ],
          "choropleth": [
           {
            "colorbar": {
             "outlinewidth": 0,
             "ticks": ""
            },
            "type": "choropleth"
           }
          ],
          "contour": [
           {
            "colorbar": {
             "outlinewidth": 0,
             "ticks": ""
            },
            "colorscale": [
             [
              0,
              "#0d0887"
             ],
             [
              0.1111111111111111,
              "#46039f"
             ],
             [
              0.2222222222222222,
              "#7201a8"
             ],
             [
              0.3333333333333333,
              "#9c179e"
             ],
             [
              0.4444444444444444,
              "#bd3786"
             ],
             [
              0.5555555555555556,
              "#d8576b"
             ],
             [
              0.6666666666666666,
              "#ed7953"
             ],
             [
              0.7777777777777778,
              "#fb9f3a"
             ],
             [
              0.8888888888888888,
              "#fdca26"
             ],
             [
              1,
              "#f0f921"
             ]
            ],
            "type": "contour"
           }
          ],
          "contourcarpet": [
           {
            "colorbar": {
             "outlinewidth": 0,
             "ticks": ""
            },
            "type": "contourcarpet"
           }
          ],
          "heatmap": [
           {
            "colorbar": {
             "outlinewidth": 0,
             "ticks": ""
            },
            "colorscale": [
             [
              0,
              "#0d0887"
             ],
             [
              0.1111111111111111,
              "#46039f"
             ],
             [
              0.2222222222222222,
              "#7201a8"
             ],
             [
              0.3333333333333333,
              "#9c179e"
             ],
             [
              0.4444444444444444,
              "#bd3786"
             ],
             [
              0.5555555555555556,
              "#d8576b"
             ],
             [
              0.6666666666666666,
              "#ed7953"
             ],
             [
              0.7777777777777778,
              "#fb9f3a"
             ],
             [
              0.8888888888888888,
              "#fdca26"
             ],
             [
              1,
              "#f0f921"
             ]
            ],
            "type": "heatmap"
           }
          ],
          "heatmapgl": [
           {
            "colorbar": {
             "outlinewidth": 0,
             "ticks": ""
            },
            "colorscale": [
             [
              0,
              "#0d0887"
             ],
             [
              0.1111111111111111,
              "#46039f"
             ],
             [
              0.2222222222222222,
              "#7201a8"
             ],
             [
              0.3333333333333333,
              "#9c179e"
             ],
             [
              0.4444444444444444,
              "#bd3786"
             ],
             [
              0.5555555555555556,
              "#d8576b"
             ],
             [
              0.6666666666666666,
              "#ed7953"
             ],
             [
              0.7777777777777778,
              "#fb9f3a"
             ],
             [
              0.8888888888888888,
              "#fdca26"
             ],
             [
              1,
              "#f0f921"
             ]
            ],
            "type": "heatmapgl"
           }
          ],
          "histogram": [
           {
            "marker": {
             "pattern": {
              "fillmode": "overlay",
              "size": 10,
              "solidity": 0.2
             }
            },
            "type": "histogram"
           }
          ],
          "histogram2d": [
           {
            "colorbar": {
             "outlinewidth": 0,
             "ticks": ""
            },
            "colorscale": [
             [
              0,
              "#0d0887"
             ],
             [
              0.1111111111111111,
              "#46039f"
             ],
             [
              0.2222222222222222,
              "#7201a8"
             ],
             [
              0.3333333333333333,
              "#9c179e"
             ],
             [
              0.4444444444444444,
              "#bd3786"
             ],
             [
              0.5555555555555556,
              "#d8576b"
             ],
             [
              0.6666666666666666,
              "#ed7953"
             ],
             [
              0.7777777777777778,
              "#fb9f3a"
             ],
             [
              0.8888888888888888,
              "#fdca26"
             ],
             [
              1,
              "#f0f921"
             ]
            ],
            "type": "histogram2d"
           }
          ],
          "histogram2dcontour": [
           {
            "colorbar": {
             "outlinewidth": 0,
             "ticks": ""
            },
            "colorscale": [
             [
              0,
              "#0d0887"
             ],
             [
              0.1111111111111111,
              "#46039f"
             ],
             [
              0.2222222222222222,
              "#7201a8"
             ],
             [
              0.3333333333333333,
              "#9c179e"
             ],
             [
              0.4444444444444444,
              "#bd3786"
             ],
             [
              0.5555555555555556,
              "#d8576b"
             ],
             [
              0.6666666666666666,
              "#ed7953"
             ],
             [
              0.7777777777777778,
              "#fb9f3a"
             ],
             [
              0.8888888888888888,
              "#fdca26"
             ],
             [
              1,
              "#f0f921"
             ]
            ],
            "type": "histogram2dcontour"
           }
          ],
          "mesh3d": [
           {
            "colorbar": {
             "outlinewidth": 0,
             "ticks": ""
            },
            "type": "mesh3d"
           }
          ],
          "parcoords": [
           {
            "line": {
             "colorbar": {
              "outlinewidth": 0,
              "ticks": ""
             }
            },
            "type": "parcoords"
           }
          ],
          "pie": [
           {
            "automargin": true,
            "type": "pie"
           }
          ],
          "scatter": [
           {
            "fillpattern": {
             "fillmode": "overlay",
             "size": 10,
             "solidity": 0.2
            },
            "type": "scatter"
           }
          ],
          "scatter3d": [
           {
            "line": {
             "colorbar": {
              "outlinewidth": 0,
              "ticks": ""
             }
            },
            "marker": {
             "colorbar": {
              "outlinewidth": 0,
              "ticks": ""
             }
            },
            "type": "scatter3d"
           }
          ],
          "scattercarpet": [
           {
            "marker": {
             "colorbar": {
              "outlinewidth": 0,
              "ticks": ""
             }
            },
            "type": "scattercarpet"
           }
          ],
          "scattergeo": [
           {
            "marker": {
             "colorbar": {
              "outlinewidth": 0,
              "ticks": ""
             }
            },
            "type": "scattergeo"
           }
          ],
          "scattergl": [
           {
            "marker": {
             "colorbar": {
              "outlinewidth": 0,
              "ticks": ""
             }
            },
            "type": "scattergl"
           }
          ],
          "scattermapbox": [
           {
            "marker": {
             "colorbar": {
              "outlinewidth": 0,
              "ticks": ""
             }
            },
            "type": "scattermapbox"
           }
          ],
          "scatterpolar": [
           {
            "marker": {
             "colorbar": {
              "outlinewidth": 0,
              "ticks": ""
             }
            },
            "type": "scatterpolar"
           }
          ],
          "scatterpolargl": [
           {
            "marker": {
             "colorbar": {
              "outlinewidth": 0,
              "ticks": ""
             }
            },
            "type": "scatterpolargl"
           }
          ],
          "scatterternary": [
           {
            "marker": {
             "colorbar": {
              "outlinewidth": 0,
              "ticks": ""
             }
            },
            "type": "scatterternary"
           }
          ],
          "surface": [
           {
            "colorbar": {
             "outlinewidth": 0,
             "ticks": ""
            },
            "colorscale": [
             [
              0,
              "#0d0887"
             ],
             [
              0.1111111111111111,
              "#46039f"
             ],
             [
              0.2222222222222222,
              "#7201a8"
             ],
             [
              0.3333333333333333,
              "#9c179e"
             ],
             [
              0.4444444444444444,
              "#bd3786"
             ],
             [
              0.5555555555555556,
              "#d8576b"
             ],
             [
              0.6666666666666666,
              "#ed7953"
             ],
             [
              0.7777777777777778,
              "#fb9f3a"
             ],
             [
              0.8888888888888888,
              "#fdca26"
             ],
             [
              1,
              "#f0f921"
             ]
            ],
            "type": "surface"
           }
          ],
          "table": [
           {
            "cells": {
             "fill": {
              "color": "#EBF0F8"
             },
             "line": {
              "color": "white"
             }
            },
            "header": {
             "fill": {
              "color": "#C8D4E3"
             },
             "line": {
              "color": "white"
             }
            },
            "type": "table"
           }
          ]
         },
         "layout": {
          "annotationdefaults": {
           "arrowcolor": "#2a3f5f",
           "arrowhead": 0,
           "arrowwidth": 1
          },
          "autotypenumbers": "strict",
          "coloraxis": {
           "colorbar": {
            "outlinewidth": 0,
            "ticks": ""
           }
          },
          "colorscale": {
           "diverging": [
            [
             0,
             "#8e0152"
            ],
            [
             0.1,
             "#c51b7d"
            ],
            [
             0.2,
             "#de77ae"
            ],
            [
             0.3,
             "#f1b6da"
            ],
            [
             0.4,
             "#fde0ef"
            ],
            [
             0.5,
             "#f7f7f7"
            ],
            [
             0.6,
             "#e6f5d0"
            ],
            [
             0.7,
             "#b8e186"
            ],
            [
             0.8,
             "#7fbc41"
            ],
            [
             0.9,
             "#4d9221"
            ],
            [
             1,
             "#276419"
            ]
           ],
           "sequential": [
            [
             0,
             "#0d0887"
            ],
            [
             0.1111111111111111,
             "#46039f"
            ],
            [
             0.2222222222222222,
             "#7201a8"
            ],
            [
             0.3333333333333333,
             "#9c179e"
            ],
            [
             0.4444444444444444,
             "#bd3786"
            ],
            [
             0.5555555555555556,
             "#d8576b"
            ],
            [
             0.6666666666666666,
             "#ed7953"
            ],
            [
             0.7777777777777778,
             "#fb9f3a"
            ],
            [
             0.8888888888888888,
             "#fdca26"
            ],
            [
             1,
             "#f0f921"
            ]
           ],
           "sequentialminus": [
            [
             0,
             "#0d0887"
            ],
            [
             0.1111111111111111,
             "#46039f"
            ],
            [
             0.2222222222222222,
             "#7201a8"
            ],
            [
             0.3333333333333333,
             "#9c179e"
            ],
            [
             0.4444444444444444,
             "#bd3786"
            ],
            [
             0.5555555555555556,
             "#d8576b"
            ],
            [
             0.6666666666666666,
             "#ed7953"
            ],
            [
             0.7777777777777778,
             "#fb9f3a"
            ],
            [
             0.8888888888888888,
             "#fdca26"
            ],
            [
             1,
             "#f0f921"
            ]
           ]
          },
          "colorway": [
           "#636efa",
           "#EF553B",
           "#00cc96",
           "#ab63fa",
           "#FFA15A",
           "#19d3f3",
           "#FF6692",
           "#B6E880",
           "#FF97FF",
           "#FECB52"
          ],
          "font": {
           "color": "#2a3f5f"
          },
          "geo": {
           "bgcolor": "white",
           "lakecolor": "white",
           "landcolor": "#E5ECF6",
           "showlakes": true,
           "showland": true,
           "subunitcolor": "white"
          },
          "hoverlabel": {
           "align": "left"
          },
          "hovermode": "closest",
          "mapbox": {
           "style": "light"
          },
          "paper_bgcolor": "white",
          "plot_bgcolor": "#E5ECF6",
          "polar": {
           "angularaxis": {
            "gridcolor": "white",
            "linecolor": "white",
            "ticks": ""
           },
           "bgcolor": "#E5ECF6",
           "radialaxis": {
            "gridcolor": "white",
            "linecolor": "white",
            "ticks": ""
           }
          },
          "scene": {
           "xaxis": {
            "backgroundcolor": "#E5ECF6",
            "gridcolor": "white",
            "gridwidth": 2,
            "linecolor": "white",
            "showbackground": true,
            "ticks": "",
            "zerolinecolor": "white"
           },
           "yaxis": {
            "backgroundcolor": "#E5ECF6",
            "gridcolor": "white",
            "gridwidth": 2,
            "linecolor": "white",
            "showbackground": true,
            "ticks": "",
            "zerolinecolor": "white"
           },
           "zaxis": {
            "backgroundcolor": "#E5ECF6",
            "gridcolor": "white",
            "gridwidth": 2,
            "linecolor": "white",
            "showbackground": true,
            "ticks": "",
            "zerolinecolor": "white"
           }
          },
          "shapedefaults": {
           "line": {
            "color": "#2a3f5f"
           }
          },
          "ternary": {
           "aaxis": {
            "gridcolor": "white",
            "linecolor": "white",
            "ticks": ""
           },
           "baxis": {
            "gridcolor": "white",
            "linecolor": "white",
            "ticks": ""
           },
           "bgcolor": "#E5ECF6",
           "caxis": {
            "gridcolor": "white",
            "linecolor": "white",
            "ticks": ""
           }
          },
          "title": {
           "x": 0.05
          },
          "xaxis": {
           "automargin": true,
           "gridcolor": "white",
           "linecolor": "white",
           "ticks": "",
           "title": {
            "standoff": 15
           },
           "zerolinecolor": "white",
           "zerolinewidth": 2
          },
          "yaxis": {
           "automargin": true,
           "gridcolor": "white",
           "linecolor": "white",
           "ticks": "",
           "title": {
            "standoff": 15
           },
           "zerolinecolor": "white",
           "zerolinewidth": 2
          }
         }
        },
        "title": {
         "text": "Crime Index 2023 vs # of CCTV Cameras per 1,000 People"
        },
        "xaxis": {
         "anchor": "y",
         "autorange": true,
         "domain": [
          0,
          1
         ],
         "range": [
          -5.063934837092732,
          88.38393483709272
         ],
         "title": {
          "text": "# of CCTV Cameras per 1,000 People"
         },
         "type": "linear"
        },
        "yaxis": {
         "anchor": "x",
         "autorange": true,
         "domain": [
          0,
          1
         ],
         "range": [
          13.864304812834227,
          85.08569518716577
         ],
         "title": {
          "text": "Crime Index 2023"
         },
         "type": "linear"
        }
       }
      },
      "image/png": "[encoded data removed]",
      "text/html": [
       "<div>                            <div id=\"5629478d-d0c1-4486-b947-66088721f261\" class=\"plotly-graph-div\" style=\"height:500px; width:100%;\"></div>            <script type=\"text/javascript\">                require([\"plotly\"], function(Plotly) {                    window.PLOTLYENV=window.PLOTLYENV || {};                                    if (document.getElementById(\"5629478d-d0c1-4486-b947-66088721f261\")) {                    Plotly.newPlot(                        \"5629478d-d0c1-4486-b947-66088721f261\",                        [{\"customdata\":[[\"C\\u00f4te d'Ivoire\"],[\"Nigeria\"],[\"Ethiopia\"],[\"Egypt\"],[\"Turkey\"],[\"Madagascar\"],[\"Paraguay\"],[\"Iraq\"],[\"Thailand\"],[\"Spain\"],[\"Indonesia\"],[\"Brazil\"],[\"Germany\"],[\"Colombia\"],[\"Brazil\"],[\"Argentina\"],[\"South Korea\"],[\"Egypt\"],[\"Brazil\"],[\"South Africa\"],[\"Morocco\"],[\"Bangladesh\"],[\"Brazil\"],[\"Senegal\"],[\"Tanzania\"],[\"Bangladesh\"],[\"Cameroon\"],[\"South Africa\"],[\"South Africa\"],[\"Pakistan\"],[\"Brazil\"],[\"Japan\"],[\"Mexico\"],[\"Vietnam\"],[\"Vietnam\"],[\"Hong Kong\"],[\"Nigeria\"],[\"Turkey\"],[\"Indonesia\"],[\"South Africa\"],[\"Afghanistan\"],[\"Uganda\"],[\"Nigeria\"],[\"Pakistan\"],[\"Sudan\"],[\"Malaysia\"],[\"Nigeria\"],[\"Pakistan\"],[\"Peru\"],[\"United Kingdom\"],[\"United States\"],[\"Angola\"],[\"Spain\"],[\"Philippines\"],[\"Iran\"],[\"Colombia\"],[\"Australia\"],[\"Mexico\"],[\"Mexico\"],[\"Canada\"],[\"Russia\"],[\"Kenya\"],[\"United States\"],[\"Japan\"],[\"Burkina Faso\"],[\"France \"],[\"Nigeria\"],[\"Brazil\"],[\"Mexico\"],[\"Brazil\"],[\"Brazil\"],[\"Saudi Arabia\"],[\"Italy\"],[\"Brazil\"],[\"Yemen\"],[\"Chile\"],[\"Dominican Republic\"],[\"Brazil\"],[\"South Korea\"],[\"Singapore \"],[\"Russia\"],[\"Australia\"],[\"Iran\"],[\"Israel\"],[\"Japan\"],[\"Canada\"],[\"Taiwan\"],[\"Myanmar\"]],\"hovertemplate\":\"City: %{hovertext}\\u003cbr\\u003eCountry: %{customdata[0]}\\u003cbr\\u003eCrime Index 2023: %{x}\\u003cbr\\u003e# of CCTV Cameras per 1,000 People: %{y}\",\"hovertext\":[\"Abidjan\",\"Abuja\",\"Addis Ababa\",\"Alexandria\",\"Ankara\",\"Antananarivo\",\"Asuncion\",\"Baghdad\",\"Bangkok\",\"Barcelona\",\"Bekasi\",\"Belo Horizonte\",\"Berlin\",\"Bogot\\u00e1\",\"Brasilia\",\"Buenos Aires\",\"Busan\",\"Cairo\",\"Campinas\",\"Cape Town\",\"Casablanca\",\"Chittagong\",\"Curitiba\",\"Dakar\",\"Dar Es Salaam\",\"Dhaka\",\"Douala\",\"Durban\",\"Ekurhuleni\",\"Faisalabad\",\"Fortaleza\",\"Fukuoka\",\"Guadalajara\",\"Hanoi\",\"Ho Chi Minh City\",\"Hong Kong\",\"Ibadan\",\"Istanbul\",\"Jakarta\",\"Johannesburg\",\"Kabul\",\"Kampala\",\"Kano\",\"Karachi\",\"Khartoum\",\"Kuala Lumpur\",\"Lagos\",\"Lahore\",\"Lima\",\"London\",\"Los Angeles\",\"Luanda\",\"Madrid\",\"Manila\",\"Mashhad\",\"Medell\\u00edn\",\"Melbourne\",\"Mexico City\",\"Monterrey\",\"Montr\\u00e9al\",\"Moscow\",\"Nairobi\",\"New York\",\"Osaka\",\"Ouagadougou\",\"Paris\",\"Port Harcourt\",\"Porto Alegre\",\"Puebla\",\"Recife\",\"Rio de Janeiro\",\"Riyadh\",\"Rome\",\"Salvador\",\"Sanaa\",\"Santiago\",\"Santo Domingo\",\"S\\u00e3o Paulo\",\"Seoul\",\"Singapore\",\"St. Petersburg\",\"Sydney\",\"Tehran\",\"Tel Aviv\",\"Tokyo\",\"Toronto\",\"Xinbei (New Taipei City)\",\"Yangon\"],\"legendgroup\":\"blue\",\"marker\":{\"color\":\"#636efa\",\"symbol\":\"circle\"},\"mode\":\"markers\",\"name\":\"Others\",\"orientation\":\"v\",\"showlegend\":true,\"x\":[0.18,0.01,0.59,0.02,2.12,0.39,0.23,15.56,5.89,2.41,0.07,2.91,7.72,3.85,0.82,1.1,10.03,2.1,0.53,1.61,0.98,0.24,0.64,0.18,0.0,0.71,0.1,0.05,0.56,0.11,1.27,0.26,4.4,1.84,8.52,7.09,0.0,6.88,0.82,1.52,0.46,0.61,1.15,0.27,0.63,0.58,0.16,0.47,1.89,13.21,10.27,0.1,4.19,0.27,0.17,1.19,2.45,3.59,1.12,1.03,16.88,0.38,7.88,1.06,0.21,4.04,0.04,1.22,4.53,0.58,2.01,0.02,3.59,1.78,0.05,1.13,0.48,0.83,14.47,17.94,13.49,5.06,0.53,1.0,1.0,3.13,7.77,1.15],\"xaxis\":\"x\",\"y\":[59.66,53.54,49.17,44.2,39.01,62.92,51.77,58.93,40.32,50.84,37.47,63.83,43.48,66.06,60.15,62.95,23.33,50.07,66.5,73.56,55.07,64.43,62.0,42.77,57.53,63.3,74.87,80.69,null,39.4,76.87,18.26,62.14,37.16,52.62,21.53,53.69,47.64,52.48,80.67,80.09,54.55,54.66,55.03,39.48,62.61,67.56,36.75,70.7,53.78,52.68,66.51,27.96,65.11,49.38,55.19,44.06,67.89,48.02,31.75,36.75,59.0,49.26,33.55,48.53,57.18,69.95,72.01,59.07,76.52,77.62,26.42,53.45,76.88,60.51,61.74,67.22,70.68,24.87,40.02,42.01,33.95,55.96,26.85,24.22,42.45,21.89,49.64],\"yaxis\":\"y\",\"type\":\"scatter\"},{\"customdata\":[[\"India\"],[\"India\"],[\"India\"],[\"India\"],[\"India\"],[\"India\"],[\"India\"],[\"India\"],[\"India\"],[\"India\"],[\"India\"],[\"India\"],[\"India\"],[\"India\"],[\"India\"],[\"India\"]],\"hovertemplate\":\"City: %{hovertext}\\u003cbr\\u003eCountry: %{customdata[0]}\\u003cbr\\u003eCrime Index 2023: %{x}\\u003cbr\\u003e# of CCTV Cameras per 1,000 People: %{y}\",\"hovertext\":[\"Ahmedabad\",\"Bangalore\",\"Chennai\",\"Delhi\",\"Hyderabad\",\"Indore\",\"Jaipur\",\"Kanpur\",\"Kochi\",\"Kolkata\",\"Kozhikode\",\"Lucknow\",\"Mumbai\",\"Pune\",\"Surat\",\"Thrissur\"],\"legendgroup\":\"orange\",\"marker\":{\"color\":\"#EF553B\",\"symbol\":\"circle\"},\"mode\":\"markers\",\"name\":\"India\",\"orientation\":\"v\",\"showlegend\":true,\"x\":[0.75,1.58,7.73,19.96,83.32,60.57,0.24,2.24,6.82,0.86,0.05,2.3,3.65,6.92,0.58,0.09],\"xaxis\":\"x\",\"y\":[32.39,53.76,39.81,59.23,42.82,48.37,35.42,47.6,40.04,46.69,43.52,46.47,45.04,41.86,33.7,23.55],\"yaxis\":\"y\",\"type\":\"scatter\"}],                        {\"template\":{\"data\":{\"histogram2dcontour\":[{\"type\":\"histogram2dcontour\",\"colorbar\":{\"outlinewidth\":0,\"ticks\":\"\"},\"colorscale\":[[0.0,\"#0d0887\"],[0.1111111111111111,\"#46039f\"],[0.2222222222222222,\"#7201a8\"],[0.3333333333333333,\"#9c179e\"],[0.4444444444444444,\"#bd3786\"],[0.5555555555555556,\"#d8576b\"],[0.6666666666666666,\"#ed7953\"],[0.7777777777777778,\"#fb9f3a\"],[0.8888888888888888,\"#fdca26\"],[1.0,\"#f0f921\"]]}],\"choropleth\":[{\"type\":\"choropleth\",\"colorbar\":{\"outlinewidth\":0,\"ticks\":\"\"}}],\"histogram2d\":[{\"type\":\"histogram2d\",\"colorbar\":{\"outlinewidth\":0,\"ticks\":\"\"},\"colorscale\":[[0.0,\"#0d0887\"],[0.1111111111111111,\"#46039f\"],[0.2222222222222222,\"#7201a8\"],[0.3333333333333333,\"#9c179e\"],[0.4444444444444444,\"#bd3786\"],[0.5555555555555556,\"#d8576b\"],[0.6666666666666666,\"#ed7953\"],[0.7777777777777778,\"#fb9f3a\"],[0.8888888888888888,\"#fdca26\"],[1.0,\"#f0f921\"]]}],\"heatmap\":[{\"type\":\"heatmap\",\"colorbar\":{\"outlinewidth\":0,\"ticks\":\"\"},\"colorscale\":[[0.0,\"#0d0887\"],[0.1111111111111111,\"#46039f\"],[0.2222222222222222,\"#7201a8\"],[0.3333333333333333,\"#9c179e\"],[0.4444444444444444,\"#bd3786\"],[0.5555555555555556,\"#d8576b\"],[0.6666666666666666,\"#ed7953\"],[0.7777777777777778,\"#fb9f3a\"],[0.8888888888888888,\"#fdca26\"],[1.0,\"#f0f921\"]]}],\"heatmapgl\":[{\"type\":\"heatmapgl\",\"colorbar\":{\"outlinewidth\":0,\"ticks\":\"\"},\"colorscale\":[[0.0,\"#0d0887\"],[0.1111111111111111,\"#46039f\"],[0.2222222222222222,\"#7201a8\"],[0.3333333333333333,\"#9c179e\"],[0.4444444444444444,\"#bd3786\"],[0.5555555555555556,\"#d8576b\"],[0.6666666666666666,\"#ed7953\"],[0.7777777777777778,\"#fb9f3a\"],[0.8888888888888888,\"#fdca26\"],[1.0,\"#f0f921\"]]}],\"contourcarpet\":[{\"type\":\"contourcarpet\",\"colorbar\":{\"outlinewidth\":0,\"ticks\":\"\"}}],\"contour\":[{\"type\":\"contour\",\"colorbar\":{\"outlinewidth\":0,\"ticks\":\"\"},\"colorscale\":[[0.0,\"#0d0887\"],[0.1111111111111111,\"#46039f\"],[0.2222222222222222,\"#7201a8\"],[0.3333333333333333,\"#9c179e\"],[0.4444444444444444,\"#bd3786\"],[0.5555555555555556,\"#d8576b\"],[0.6666666666666666,\"#ed7953\"],[0.7777777777777778,\"#fb9f3a\"],[0.8888888888888888,\"#fdca26\"],[1.0,\"#f0f921\"]]}],\"surface\":[{\"type\":\"surface\",\"colorbar\":{\"outlinewidth\":0,\"ticks\":\"\"},\"colorscale\":[[0.0,\"#0d0887\"],[0.1111111111111111,\"#46039f\"],[0.2222222222222222,\"#7201a8\"],[0.3333333333333333,\"#9c179e\"],[0.4444444444444444,\"#bd3786\"],[0.5555555555555556,\"#d8576b\"],[0.6666666666666666,\"#ed7953\"],[0.7777777777777778,\"#fb9f3a\"],[0.8888888888888888,\"#fdca26\"],[1.0,\"#f0f921\"]]}],\"mesh3d\":[{\"type\":\"mesh3d\",\"colorbar\":{\"outlinewidth\":0,\"ticks\":\"\"}}],\"scatter\":[{\"fillpattern\":{\"fillmode\":\"overlay\",\"size\":10,\"solidity\":0.2},\"type\":\"scatter\"}],\"parcoords\":[{\"type\":\"parcoords\",\"line\":{\"colorbar\":{\"outlinewidth\":0,\"ticks\":\"\"}}}],\"scatterpolargl\":[{\"type\":\"scatterpolargl\",\"marker\":{\"colorbar\":{\"outlinewidth\":0,\"ticks\":\"\"}}}],\"bar\":[{\"error_x\":{\"color\":\"#2a3f5f\"},\"error_y\":{\"color\":\"#2a3f5f\"},\"marker\":{\"line\":{\"color\":\"#E5ECF6\",\"width\":0.5},\"pattern\":{\"fillmode\":\"overlay\",\"size\":10,\"solidity\":0.2}},\"type\":\"bar\"}],\"scattergeo\":[{\"type\":\"scattergeo\",\"marker\":{\"colorbar\":{\"outlinewidth\":0,\"ticks\":\"\"}}}],\"scatterpolar\":[{\"type\":\"scatterpolar\",\"marker\":{\"colorbar\":{\"outlinewidth\":0,\"ticks\":\"\"}}}],\"histogram\":[{\"marker\":{\"pattern\":{\"fillmode\":\"overlay\",\"size\":10,\"solidity\":0.2}},\"type\":\"histogram\"}],\"scattergl\":[{\"type\":\"scattergl\",\"marker\":{\"colorbar\":{\"outlinewidth\":0,\"ticks\":\"\"}}}],\"scatter3d\":[{\"type\":\"scatter3d\",\"line\":{\"colorbar\":{\"outlinewidth\":0,\"ticks\":\"\"}},\"marker\":{\"colorbar\":{\"outlinewidth\":0,\"ticks\":\"\"}}}],\"scattermapbox\":[{\"type\":\"scattermapbox\",\"marker\":{\"colorbar\":{\"outlinewidth\":0,\"ticks\":\"\"}}}],\"scatterternary\":[{\"type\":\"scatterternary\",\"marker\":{\"colorbar\":{\"outlinewidth\":0,\"ticks\":\"\"}}}],\"scattercarpet\":[{\"type\":\"scattercarpet\",\"marker\":{\"colorbar\":{\"outlinewidth\":0,\"ticks\":\"\"}}}],\"carpet\":[{\"aaxis\":{\"endlinecolor\":\"#2a3f5f\",\"gridcolor\":\"white\",\"linecolor\":\"white\",\"minorgridcolor\":\"white\",\"startlinecolor\":\"#2a3f5f\"},\"baxis\":{\"endlinecolor\":\"#2a3f5f\",\"gridcolor\":\"white\",\"linecolor\":\"white\",\"minorgridcolor\":\"white\",\"startlinecolor\":\"#2a3f5f\"},\"type\":\"carpet\"}],\"table\":[{\"cells\":{\"fill\":{\"color\":\"#EBF0F8\"},\"line\":{\"color\":\"white\"}},\"header\":{\"fill\":{\"color\":\"#C8D4E3\"},\"line\":{\"color\":\"white\"}},\"type\":\"table\"}],\"barpolar\":[{\"marker\":{\"line\":{\"color\":\"#E5ECF6\",\"width\":0.5},\"pattern\":{\"fillmode\":\"overlay\",\"size\":10,\"solidity\":0.2}},\"type\":\"barpolar\"}],\"pie\":[{\"automargin\":true,\"type\":\"pie\"}]},\"layout\":{\"autotypenumbers\":\"strict\",\"colorway\":[\"#636efa\",\"#EF553B\",\"#00cc96\",\"#ab63fa\",\"#FFA15A\",\"#19d3f3\",\"#FF6692\",\"#B6E880\",\"#FF97FF\",\"#FECB52\"],\"font\":{\"color\":\"#2a3f5f\"},\"hovermode\":\"closest\",\"hoverlabel\":{\"align\":\"left\"},\"paper_bgcolor\":\"white\",\"plot_bgcolor\":\"#E5ECF6\",\"polar\":{\"bgcolor\":\"#E5ECF6\",\"angularaxis\":{\"gridcolor\":\"white\",\"linecolor\":\"white\",\"ticks\":\"\"},\"radialaxis\":{\"gridcolor\":\"white\",\"linecolor\":\"white\",\"ticks\":\"\"}},\"ternary\":{\"bgcolor\":\"#E5ECF6\",\"aaxis\":{\"gridcolor\":\"white\",\"linecolor\":\"white\",\"ticks\":\"\"},\"baxis\":{\"gridcolor\":\"white\",\"linecolor\":\"white\",\"ticks\":\"\"},\"caxis\":{\"gridcolor\":\"white\",\"linecolor\":\"white\",\"ticks\":\"\"}},\"coloraxis\":{\"colorbar\":{\"outlinewidth\":0,\"ticks\":\"\"}},\"colorscale\":{\"sequential\":[[0.0,\"#0d0887\"],[0.1111111111111111,\"#46039f\"],[0.2222222222222222,\"#7201a8\"],[0.3333333333333333,\"#9c179e\"],[0.4444444444444444,\"#bd3786\"],[0.5555555555555556,\"#d8576b\"],[0.6666666666666666,\"#ed7953\"],[0.7777777777777778,\"#fb9f3a\"],[0.8888888888888888,\"#fdca26\"],[1.0,\"#f0f921\"]],\"sequentialminus\":[[0.0,\"#0d0887\"],[0.1111111111111111,\"#46039f\"],[0.2222222222222222,\"#7201a8\"],[0.3333333333333333,\"#9c179e\"],[0.4444444444444444,\"#bd3786\"],[0.5555555555555556,\"#d8576b\"],[0.6666666666666666,\"#ed7953\"],[0.7777777777777778,\"#fb9f3a\"],[0.8888888888888888,\"#fdca26\"],[1.0,\"#f0f921\"]],\"diverging\":[[0,\"#8e0152\"],[0.1,\"#c51b7d\"],[0.2,\"#de77ae\"],[0.3,\"#f1b6da\"],[0.4,\"#fde0ef\"],[0.5,\"#f7f7f7\"],[0.6,\"#e6f5d0\"],[0.7,\"#b8e186\"],[0.8,\"#7fbc41\"],[0.9,\"#4d9221\"],[1,\"#276419\"]]},\"xaxis\":{\"gridcolor\":\"white\",\"linecolor\":\"white\",\"ticks\":\"\",\"title\":{\"standoff\":15},\"zerolinecolor\":\"white\",\"automargin\":true,\"zerolinewidth\":2},\"yaxis\":{\"gridcolor\":\"white\",\"linecolor\":\"white\",\"ticks\":\"\",\"title\":{\"standoff\":15},\"zerolinecolor\":\"white\",\"automargin\":true,\"zerolinewidth\":2},\"scene\":{\"xaxis\":{\"backgroundcolor\":\"#E5ECF6\",\"gridcolor\":\"white\",\"linecolor\":\"white\",\"showbackground\":true,\"ticks\":\"\",\"zerolinecolor\":\"white\",\"gridwidth\":2},\"yaxis\":{\"backgroundcolor\":\"#E5ECF6\",\"gridcolor\":\"white\",\"linecolor\":\"white\",\"showbackground\":true,\"ticks\":\"\",\"zerolinecolor\":\"white\",\"gridwidth\":2},\"zaxis\":{\"backgroundcolor\":\"#E5ECF6\",\"gridcolor\":\"white\",\"linecolor\":\"white\",\"showbackground\":true,\"ticks\":\"\",\"zerolinecolor\":\"white\",\"gridwidth\":2}},\"shapedefaults\":{\"line\":{\"color\":\"#2a3f5f\"}},\"annotationdefaults\":{\"arrowcolor\":\"#2a3f5f\",\"arrowhead\":0,\"arrowwidth\":1},\"geo\":{\"bgcolor\":\"white\",\"landcolor\":\"#E5ECF6\",\"subunitcolor\":\"white\",\"showland\":true,\"showlakes\":true,\"lakecolor\":\"white\"},\"title\":{\"x\":0.05},\"mapbox\":{\"style\":\"light\"}}},\"xaxis\":{\"anchor\":\"y\",\"domain\":[0.0,1.0],\"title\":{\"text\":\"# of CCTV Cameras per 1,000 People\"}},\"yaxis\":{\"anchor\":\"x\",\"domain\":[0.0,1.0],\"title\":{\"text\":\"Crime Index 2023\"}},\"legend\":{\"title\":{\"text\":\"Country\"},\"tracegroupgap\":0},\"title\":{\"text\":\"Crime Index 2023 vs # of CCTV Cameras per 1,000 People\"},\"height\":500},                        {\"responsive\": true}                    ).then(function(){\n",
       "                            \n",
       "var gd = document.getElementById('5629478d-d0c1-4486-b947-66088721f261');\n",
       "var x = new MutationObserver(function (mutations, observer) {{\n",
       "        var display = window.getComputedStyle(gd).display;\n",
       "        if (!display || display === 'none') {{\n",
       "            console.log([gd, 'removed!']);\n",
       "            Plotly.purge(gd);\n",
       "            observer.disconnect();\n",
       "        }}\n",
       "}});\n",
       "\n",
       "// Listen for the removal of the full notebook cells\n",
       "var notebookContainer = gd.closest('#notebook-container');\n",
       "if (notebookContainer) {{\n",
       "    x.observe(notebookContainer, {childList: true});\n",
       "}}\n",
       "\n",
       "// Listen for the clearing of the current output cell\n",
       "var outputEl = gd.closest('.output');\n",
       "if (outputEl) {{\n",
       "    x.observe(outputEl, {childList: true});\n",
       "}}\n",
       "\n",
       "                        })                };                });            </script>        </div>"
      ]
     },
     "metadata": {},
     "output_type": "display_data"
    }
   ],
   "source": [
    "import numpy as np\n",
    "import pandas as pd\n",
    "pd.options.mode.chained_assignment = None  \n",
    "import plotly.graph_objs as go\n",
    "import plotly.express as px\n",
    "from plotly.offline import init_notebook_mode\n",
    "init_notebook_mode(connected=True)\n",
    "\n",
    "import matplotlib.pyplot as plt\n",
    "import numpy as np\n",
    "\n",
    "cctv = pd.read_csv(\"datasets/cctv.csv\")\n",
    "\n",
    "cctv_west = cctv[cctv[\"Country\"] != \"China\"]\n",
    "\n",
    "# Define a new column for color based on the condition\n",
    "cctv_west['color'] = cctv_west['Country'].apply(lambda x: 'orange' if x == 'India' else 'blue')\n",
    "color_map = {'India': 'orange', 'Other': 'blue'}\n",
    "\n",
    "# Create the scatterplot\n",
    "fig = px.scatter(\n",
    "    cctv_west,\n",
    "    x='# of CCTV Cameras per 1,000 People',\n",
    "    y='Crime Index 2023',\n",
    "    hover_name='City',\n",
    "    hover_data={'Country': True},\n",
    "    color = 'color',\n",
    "    title='Crime Index 2023 vs # of CCTV Cameras per 1,000 People'\n",
    ")\n",
    "\n",
    "# Customize hover label formatting\n",
    "fig.update_traces(\n",
    "    hovertemplate='City: %{hovertext}<br>Country: %{customdata[0]}<br>Crime Index 2023: %{x}<br># of CCTV Cameras per 1,000 People: %{y}'\n",
    ")\n",
    "\n",
    "fig.update_layout(\n",
    "    height=500,\n",
    "    legend_title='Country',\n",
    ")\n",
    "\n",
    "newnames = {'blue' : 'Others', 'orange' : 'India'}\n",
    "fig.for_each_trace(lambda t: t.update(name = newnames[t.name]))\n",
    "\n",
    "# Show the plot\n",
    "fig.show()"
   ]
  },
  {
   "cell_type": "markdown",
   "id": "e1efaf94-49e2-4c91-a152-a6b7ff5ef797",
   "metadata": {
    "editable": true,
    "slideshow": {
     "slide_type": ""
    },
    "tags": []
   },
   "source": [
    "To receive a clearer visualization, the global outlier China has been left out of the analysis in order to better capture the relation between the increase in cameras and safety. Even with China left out, two cities stick out above the rest in terms of number of CCTV cameras per 1000 people: Indore and Hyderablad, both located in India. However, other cities in India, colored in orange, have around the same or a lower crime rate with fewer cameras per 1000 people, indicating that even within the same country, more cameras don’t necessarily make a difference. \n",
    "\n",
    "A recently discovered explanation for this is that most video surveillance systems are still human-controlled, meaning that human operators watch and assess the video recordings (Ratcliffe, 2006). Meanwhile, surveillance monitoring has become more labor-intensive over the years, with the number of cameras outnumbering the monitoring screens (Elharrouss et al., 2021; Zabłocki et al., 2014). In addition, most CCTV cameras operate daily for 24 hours, making it difficult for security personnel to keep up with crime through this new technology (Zabłocki et al., 2014).\n",
    "\n",
    "Whether CCTV works remains imprecise: it might be a way to only combat crimes of a certain type, but definitely not enough to reduce overall crime rates. A question emerging from this is whether governments should frame these surveillance technologies as a means to enhance safety as citizens might be unaware of the ineffectiveness of the technology. \n"
   ]
  },
  {
   "cell_type": "markdown",
   "id": "eb78e5ce-8cdc-443b-a116-763d7a46917b",
   "metadata": {
    "editable": true,
    "slideshow": {
     "slide_type": ""
    },
    "tags": []
   },
   "source": [
    "## Introducing the Human Development Index\n",
    "As aforementioned, crime prevention cannot be fulfilled by the presence and/or \n",
    "increase of only surveillance cameras. In order to prevent crime, there is a sociological \n",
    "demand to dismantle the multitude of indicators predicting crime. Therefore, the following section will dive deeper into diverse demographic and socio-economic factors that predict crime rates. To achieve this, the Human Development Index (HDI) will be inspected\n"
   ]
  },
  {
   "cell_type": "markdown",
   "id": "b8a98462-2c67-4b70-8f79-5cebea03a86a",
   "metadata": {
    "editable": true,
    "slideshow": {
     "slide_type": ""
    },
    "tags": []
   },
   "source": [
    "## Global Annual Reports of the Human Development Index\n",
    "\n",
    "The HDI measures average achievement of three key dimensions: a long and healthy life, knowledge reproduction, and living standards. Indicators of these dimensions evolve around aspects, like life expectancy, years of schooling, and gross national income. To be clear, the higher the HDI index value, the ‘better’ you could say a country is.\n",
    "\n",
    "As seen in the graph, there is an overall global increase over time of overall HDI-levels per country. However, human development is unequally distributed over the nations, representing global inequalities. We will delve more into what this metric means for the crime index for a country.\n"
   ]
  },
  {
   "cell_type": "code",
   "execution_count": 2,
   "id": "c981b4f7-93a5-44f9-a159-b3bc0e7c49bb",
   "metadata": {
    "editable": true,
    "slideshow": {
     "slide_type": ""
    },
    "tags": [
     "remove-input",
     "full-width"
    ]
   },
   "outputs": [
    {
     "data": {
      "application/vnd.plotly.v1+json": {
       "config": {
        "plotlyServerURL": "https://plot.ly"
       },
       "data": [
        {
         "hovertemplate": "Year: %{x}<br>HDI: %{y}",
         "line": {
          "color": "rgb(174,71,3)",
          "width": 0.5
         },
         "mode": "lines",
         "name": "Afghanistan",
         "showlegend": true,
         "type": "scatter",
         "x": [
          "1990",
          "1991",
          "1992",
          "1993",
          "1994",
          "1995",
          "1996",
          "1997",
          "1998",
          "1999",
          "2000",
          "2001",
          "2002",
          "2003",
          "2004",
          "2005",
          "2006",
          "2007",
          "2008",
          "2009",
          "2010",
          "2011",
          "2012",
          "2013",
          "2014",
          "2015",
          "2016",
          "2017",
          "2018",
          "2019",
          "2020",
          "2021"
         ],
         "y": [
          0.273,
          0.279,
          0.287,
          0.297,
          0.292,
          0.31,
          0.319,
          0.323,
          0.324,
          0.332,
          0.335,
          0.337,
          0.362,
          0.376,
          0.392,
          0.4,
          0.409,
          0.424,
          0.43,
          0.44,
          0.448,
          0.456,
          0.466,
          0.474,
          0.479,
          0.478,
          0.481,
          0.482,
          0.483,
          0.488,
          0.483,
          0.478
         ]
        },
        {
         "hovertemplate": "Year: %{x}<br>HDI: %{y}",
         "line": {
          "color": "rgb(63,234,115)",
          "width": 0.5
         },
         "mode": "lines",
         "name": "Albania",
         "showlegend": true,
         "type": "scatter",
         "x": [
          "1990",
          "1991",
          "1992",
          "1993",
          "1994",
          "1995",
          "1996",
          "1997",
          "1998",
          "1999",
          "2000",
          "2001",
          "2002",
          "2003",
          "2004",
          "2005",
          "2006",
          "2007",
          "2008",
          "2009",
          "2010",
          "2011",
          "2012",
          "2013",
          "2014",
          "2015",
          "2016",
          "2017",
          "2018",
          "2019",
          "2020",
          "2021"
         ],
         "y": [
          0.647,
          0.629,
          0.614,
          0.617,
          0.624,
          0.634,
          0.645,
          0.642,
          0.657,
          0.669,
          0.677,
          0.684,
          0.689,
          0.696,
          0.7,
          0.711,
          0.718,
          0.73,
          0.736,
          0.741,
          0.754,
          0.766,
          0.778,
          0.785,
          0.792,
          0.795,
          0.798,
          0.802,
          0.806,
          0.81,
          0.794,
          0.796
         ]
        },
        {
         "hovertemplate": "Year: %{x}<br>HDI: %{y}",
         "line": {
          "color": "rgb(91,248,97)",
          "width": 0.5
         },
         "mode": "lines",
         "name": "Algeria",
         "showlegend": true,
         "type": "scatter",
         "x": [
          "1990",
          "1991",
          "1992",
          "1993",
          "1994",
          "1995",
          "1996",
          "1997",
          "1998",
          "1999",
          "2000",
          "2001",
          "2002",
          "2003",
          "2004",
          "2005",
          "2006",
          "2007",
          "2008",
          "2009",
          "2010",
          "2011",
          "2012",
          "2013",
          "2014",
          "2015",
          "2016",
          "2017",
          "2018",
          "2019",
          "2020",
          "2021"
         ],
         "y": [
          0.591,
          0.594,
          0.599,
          0.601,
          0.602,
          0.606,
          0.617,
          0.624,
          0.633,
          0.641,
          0.649,
          0.655,
          0.664,
          0.67,
          0.678,
          0.685,
          0.69,
          0.697,
          0.705,
          0.714,
          0.721,
          0.727,
          0.729,
          0.731,
          0.735,
          0.74,
          0.743,
          0.744,
          0.745,
          0.748,
          0.736,
          0.745
         ]
        },
        {
         "hovertemplate": "Year: %{x}<br>HDI: %{y}",
         "line": {
          "color": "rgb(1,159,171)",
          "width": 0.5
         },
         "mode": "lines",
         "name": "Argentina",
         "showlegend": true,
         "type": "scatter",
         "x": [
          "1990",
          "1991",
          "1992",
          "1993",
          "1994",
          "1995",
          "1996",
          "1997",
          "1998",
          "1999",
          "2000",
          "2001",
          "2002",
          "2003",
          "2004",
          "2005",
          "2006",
          "2007",
          "2008",
          "2009",
          "2010",
          "2011",
          "2012",
          "2013",
          "2014",
          "2015",
          "2016",
          "2017",
          "2018",
          "2019",
          "2020",
          "2021"
         ],
         "y": [
          0.723,
          0.73,
          0.735,
          0.739,
          0.744,
          0.745,
          0.751,
          0.756,
          0.762,
          0.773,
          0.779,
          0.784,
          0.785,
          0.793,
          0.798,
          0.802,
          0.814,
          0.817,
          0.825,
          0.827,
          0.834,
          0.841,
          0.843,
          0.845,
          0.846,
          0.848,
          0.847,
          0.851,
          0.85,
          0.852,
          0.84,
          0.842
         ]
        },
        {
         "hovertemplate": "Year: %{x}<br>HDI: %{y}",
         "line": {
          "color": "rgb(47,223,125)",
          "width": 0.5
         },
         "mode": "lines",
         "name": "Armenia",
         "showlegend": true,
         "type": "scatter",
         "x": [
          "1990",
          "1991",
          "1992",
          "1993",
          "1994",
          "1995",
          "1996",
          "1997",
          "1998",
          "1999",
          "2000",
          "2001",
          "2002",
          "2003",
          "2004",
          "2005",
          "2006",
          "2007",
          "2008",
          "2009",
          "2010",
          "2011",
          "2012",
          "2013",
          "2014",
          "2015",
          "2016",
          "2017",
          "2018",
          "2019",
          "2020",
          "2021"
         ],
         "y": [
          0.656,
          0.649,
          0.618,
          0.616,
          0.62,
          0.627,
          0.632,
          0.641,
          0.654,
          0.657,
          0.662,
          0.666,
          0.676,
          0.686,
          0.694,
          0.707,
          0.721,
          0.738,
          0.742,
          0.741,
          0.746,
          0.75,
          0.755,
          0.76,
          0.764,
          0.766,
          0.765,
          0.768,
          0.771,
          0.778,
          0.757,
          0.759
         ]
        },
        {
         "hovertemplate": "Year: %{x}<br>HDI: %{y}",
         "line": {
          "color": "rgb(1,6,252)",
          "width": 0.5
         },
         "mode": "lines",
         "name": "Australia",
         "showlegend": true,
         "type": "scatter",
         "x": [
          "1990",
          "1991",
          "1992",
          "1993",
          "1994",
          "1995",
          "1996",
          "1997",
          "1998",
          "1999",
          "2000",
          "2001",
          "2002",
          "2003",
          "2004",
          "2005",
          "2006",
          "2007",
          "2008",
          "2009",
          "2010",
          "2011",
          "2012",
          "2013",
          "2014",
          "2015",
          "2016",
          "2017",
          "2018",
          "2019",
          "2020",
          "2021"
         ],
         "y": [
          0.865,
          0.867,
          0.869,
          0.873,
          0.873,
          0.882,
          0.884,
          0.887,
          0.891,
          0.894,
          0.896,
          0.9,
          0.902,
          0.906,
          0.908,
          0.911,
          0.914,
          0.915,
          0.919,
          0.921,
          0.923,
          0.926,
          0.93,
          0.929,
          0.931,
          0.933,
          0.935,
          0.937,
          0.941,
          0.941,
          0.947,
          0.951
         ]
        },
        {
         "hovertemplate": "Year: %{x}<br>HDI: %{y}",
         "line": {
          "color": "rgb(1,53,229)",
          "width": 0.5
         },
         "mode": "lines",
         "name": "Austria",
         "showlegend": true,
         "type": "scatter",
         "x": [
          "1990",
          "1991",
          "1992",
          "1993",
          "1994",
          "1995",
          "1996",
          "1997",
          "1998",
          "1999",
          "2000",
          "2001",
          "2002",
          "2003",
          "2004",
          "2005",
          "2006",
          "2007",
          "2008",
          "2009",
          "2010",
          "2011",
          "2012",
          "2013",
          "2014",
          "2015",
          "2016",
          "2017",
          "2018",
          "2019",
          "2020",
          "2021"
         ],
         "y": [
          0.825,
          0.829,
          0.835,
          0.84,
          0.845,
          0.849,
          0.853,
          0.857,
          0.863,
          0.866,
          0.871,
          0.876,
          0.879,
          0.881,
          0.886,
          0.889,
          0.893,
          0.896,
          0.898,
          0.898,
          0.902,
          0.905,
          0.906,
          0.905,
          0.909,
          0.91,
          0.915,
          0.916,
          0.917,
          0.919,
          0.913,
          0.916
         ]
        },
        {
         "hovertemplate": "Year: %{x}<br>HDI: %{y}",
         "line": {
          "color": "rgb(1,147,178)",
          "width": 0.5
         },
         "mode": "lines",
         "name": "Bahrain",
         "showlegend": true,
         "type": "scatter",
         "x": [
          "1990",
          "1991",
          "1992",
          "1993",
          "1994",
          "1995",
          "1996",
          "1997",
          "1998",
          "1999",
          "2000",
          "2001",
          "2002",
          "2003",
          "2004",
          "2005",
          "2006",
          "2007",
          "2008",
          "2009",
          "2010",
          "2011",
          "2012",
          "2013",
          "2014",
          "2015",
          "2016",
          "2017",
          "2018",
          "2019",
          "2020",
          "2021"
         ],
         "y": [
          0.742,
          0.743,
          0.749,
          0.761,
          0.764,
          0.772,
          0.778,
          0.78,
          0.785,
          0.789,
          0.798,
          0.804,
          0.804,
          0.806,
          0.804,
          0.803,
          0.804,
          0.807,
          0.808,
          0.806,
          0.808,
          0.809,
          0.817,
          0.824,
          0.83,
          0.858,
          0.865,
          0.869,
          0.879,
          0.882,
          0.877,
          0.875
         ]
        },
        {
         "hovertemplate": "Year: %{x}<br>HDI: %{y}",
         "line": {
          "color": "rgb(247,189,23)",
          "width": 0.5
         },
         "mode": "lines",
         "name": "Bangladesh",
         "showlegend": true,
         "type": "scatter",
         "x": [
          "1990",
          "1991",
          "1992",
          "1993",
          "1994",
          "1995",
          "1996",
          "1997",
          "1998",
          "1999",
          "2000",
          "2001",
          "2002",
          "2003",
          "2004",
          "2005",
          "2006",
          "2007",
          "2008",
          "2009",
          "2010",
          "2011",
          "2012",
          "2013",
          "2014",
          "2015",
          "2016",
          "2017",
          "2018",
          "2019",
          "2020",
          "2021"
         ],
         "y": [
          0.397,
          0.394,
          0.413,
          0.42,
          0.427,
          0.436,
          0.441,
          0.453,
          0.467,
          0.481,
          0.485,
          0.492,
          0.499,
          0.505,
          0.511,
          0.518,
          0.524,
          0.527,
          0.53,
          0.541,
          0.553,
          0.561,
          0.572,
          0.574,
          0.583,
          0.602,
          0.612,
          0.622,
          0.635,
          0.644,
          0.655,
          0.661
         ]
        },
        {
         "hovertemplate": "Year: %{x}<br>HDI: %{y}",
         "line": {
          "color": "rgb(1,164,168)",
          "width": 0.5
         },
         "mode": "lines",
         "name": "Barbados",
         "showlegend": true,
         "type": "scatter",
         "x": [
          "1990",
          "1991",
          "1992",
          "1993",
          "1994",
          "1995",
          "1996",
          "1997",
          "1998",
          "1999",
          "2000",
          "2001",
          "2002",
          "2003",
          "2004",
          "2005",
          "2006",
          "2007",
          "2008",
          "2009",
          "2010",
          "2011",
          "2012",
          "2013",
          "2014",
          "2015",
          "2016",
          "2017",
          "2018",
          "2019",
          "2020",
          "2021"
         ],
         "y": [
          0.725,
          0.727,
          0.727,
          0.731,
          0.736,
          0.739,
          0.744,
          0.747,
          0.748,
          0.75,
          0.756,
          0.756,
          0.76,
          0.765,
          0.77,
          0.776,
          0.781,
          0.786,
          0.789,
          0.791,
          0.788,
          0.784,
          0.787,
          0.787,
          0.789,
          0.791,
          0.794,
          0.796,
          0.797,
          0.799,
          0.788,
          0.79
         ]
        },
        {
         "hovertemplate": "Year: %{x}<br>HDI: %{y}",
         "line": {
          "color": "rgb(1,65,223)",
          "width": 0.5
         },
         "mode": "lines",
         "name": "Belgium",
         "showlegend": true,
         "type": "scatter",
         "x": [
          "1990",
          "1991",
          "1992",
          "1993",
          "1994",
          "1995",
          "1996",
          "1997",
          "1998",
          "1999",
          "2000",
          "2001",
          "2002",
          "2003",
          "2004",
          "2005",
          "2006",
          "2007",
          "2008",
          "2009",
          "2010",
          "2011",
          "2012",
          "2013",
          "2014",
          "2015",
          "2016",
          "2017",
          "2018",
          "2019",
          "2020",
          "2021"
         ],
         "y": [
          0.816,
          0.819,
          0.835,
          0.85,
          0.858,
          0.865,
          0.871,
          0.876,
          0.878,
          0.882,
          0.887,
          0.89,
          0.892,
          0.895,
          0.9,
          0.902,
          0.905,
          0.908,
          0.908,
          0.91,
          0.912,
          0.914,
          0.915,
          0.916,
          0.921,
          0.924,
          0.927,
          0.931,
          0.933,
          0.936,
          0.928,
          0.937
         ]
        },
        {
         "hovertemplate": "Year: %{x}<br>HDI: %{y}",
         "line": {
          "color": "rgb(85,246,101)",
          "width": 0.5
         },
         "mode": "lines",
         "name": "Belize",
         "showlegend": true,
         "type": "scatter",
         "x": [
          "1990",
          "1991",
          "1992",
          "1993",
          "1994",
          "1995",
          "1996",
          "1997",
          "1998",
          "1999",
          "2000",
          "2001",
          "2002",
          "2003",
          "2004",
          "2005",
          "2006",
          "2007",
          "2008",
          "2009",
          "2010",
          "2011",
          "2012",
          "2013",
          "2014",
          "2015",
          "2016",
          "2017",
          "2018",
          "2019",
          "2020",
          "2021"
         ],
         "y": [
          0.593,
          0.6,
          0.608,
          0.614,
          0.618,
          0.62,
          0.623,
          0.625,
          0.626,
          0.633,
          0.64,
          0.643,
          0.652,
          0.66,
          0.667,
          0.664,
          0.68,
          0.685,
          0.693,
          0.701,
          0.707,
          0.709,
          0.713,
          0.712,
          0.709,
          0.708,
          0.712,
          0.707,
          0.706,
          0.705,
          0.69,
          0.683
         ]
        },
        {
         "hovertemplate": "Year: %{x}<br>HDI: %{y}",
         "line": {
          "color": "rgb(242,164,16)",
          "width": 0.5
         },
         "mode": "lines",
         "name": "Benin",
         "showlegend": true,
         "type": "scatter",
         "x": [
          "1990",
          "1991",
          "1992",
          "1993",
          "1994",
          "1995",
          "1996",
          "1997",
          "1998",
          "1999",
          "2000",
          "2001",
          "2002",
          "2003",
          "2004",
          "2005",
          "2006",
          "2007",
          "2008",
          "2009",
          "2010",
          "2011",
          "2012",
          "2013",
          "2014",
          "2015",
          "2016",
          "2017",
          "2018",
          "2019",
          "2020",
          "2021"
         ],
         "y": [
          0.359,
          0.364,
          0.369,
          0.375,
          0.38,
          0.386,
          0.391,
          0.397,
          0.402,
          0.409,
          0.416,
          0.428,
          0.436,
          0.443,
          0.45,
          0.457,
          0.464,
          0.472,
          0.48,
          0.486,
          0.492,
          0.499,
          0.509,
          0.52,
          0.524,
          0.529,
          0.53,
          0.53,
          0.53,
          0.53,
          0.524,
          0.525
         ]
        },
        {
         "hovertemplate": "Year: %{x}<br>HDI: %{y}",
         "line": {
          "color": "rgb(117,254,81)",
          "width": 0.5
         },
         "mode": "lines",
         "name": "Bolivia",
         "showlegend": true,
         "type": "scatter",
         "x": [
          "1990",
          "1991",
          "1992",
          "1993",
          "1994",
          "1995",
          "1996",
          "1997",
          "1998",
          "1999",
          "2000",
          "2001",
          "2002",
          "2003",
          "2004",
          "2005",
          "2006",
          "2007",
          "2008",
          "2009",
          "2010",
          "2011",
          "2012",
          "2013",
          "2014",
          "2015",
          "2016",
          "2017",
          "2018",
          "2019",
          "2020",
          "2021"
         ],
         "y": [
          0.55,
          0.56,
          0.568,
          0.578,
          0.587,
          0.598,
          0.609,
          0.62,
          0.632,
          0.631,
          0.632,
          0.632,
          0.63,
          0.627,
          0.626,
          0.635,
          0.638,
          0.645,
          0.652,
          0.658,
          0.662,
          0.668,
          0.674,
          0.682,
          0.684,
          0.69,
          0.701,
          0.708,
          0.714,
          0.717,
          0.694,
          0.692
         ]
        },
        {
         "hovertemplate": "Year: %{x}<br>HDI: %{y}",
         "line": {
          "color": "rgb(95,249,94)",
          "width": 0.5
         },
         "mode": "lines",
         "name": "Botswana",
         "showlegend": true,
         "type": "scatter",
         "x": [
          "1990",
          "1991",
          "1992",
          "1993",
          "1994",
          "1995",
          "1996",
          "1997",
          "1998",
          "1999",
          "2000",
          "2001",
          "2002",
          "2003",
          "2004",
          "2005",
          "2006",
          "2007",
          "2008",
          "2009",
          "2010",
          "2011",
          "2012",
          "2013",
          "2014",
          "2015",
          "2016",
          "2017",
          "2018",
          "2019",
          "2020",
          "2021"
         ],
         "y": [
          0.586,
          0.588,
          0.586,
          0.588,
          0.578,
          0.583,
          0.583,
          0.586,
          0.586,
          0.587,
          0.585,
          0.586,
          0.583,
          0.59,
          0.595,
          0.604,
          0.618,
          0.632,
          0.642,
          0.647,
          0.66,
          0.669,
          0.674,
          0.687,
          0.696,
          0.702,
          0.713,
          0.722,
          0.716,
          0.717,
          0.713,
          0.693
         ]
        },
        {
         "hovertemplate": "Year: %{x}<br>HDI: %{y}",
         "line": {
          "color": "rgb(73,240,108)",
          "width": 0.5
         },
         "mode": "lines",
         "name": "Brazil",
         "showlegend": true,
         "type": "scatter",
         "x": [
          "1990",
          "1991",
          "1992",
          "1993",
          "1994",
          "1995",
          "1996",
          "1997",
          "1998",
          "1999",
          "2000",
          "2001",
          "2002",
          "2003",
          "2004",
          "2005",
          "2006",
          "2007",
          "2008",
          "2009",
          "2010",
          "2011",
          "2012",
          "2013",
          "2014",
          "2015",
          "2016",
          "2017",
          "2018",
          "2019",
          "2020",
          "2021"
         ],
         "y": [
          0.61,
          0.616,
          0.622,
          0.63,
          0.638,
          0.646,
          0.653,
          0.66,
          0.666,
          0.671,
          0.679,
          0.686,
          0.692,
          0.688,
          0.692,
          0.698,
          0.7,
          0.704,
          0.715,
          0.717,
          0.723,
          0.728,
          0.732,
          0.75,
          0.754,
          0.753,
          0.755,
          0.759,
          0.764,
          0.766,
          0.758,
          0.754
         ]
        },
        {
         "hovertemplate": "Year: %{x}<br>HDI: %{y}",
         "line": {
          "color": "rgb(1,115,196)",
          "width": 0.5
         },
         "mode": "lines",
         "name": "Brunei",
         "showlegend": true,
         "type": "scatter",
         "x": [
          "1990",
          "1991",
          "1992",
          "1993",
          "1994",
          "1995",
          "1996",
          "1997",
          "1998",
          "1999",
          "2000",
          "2001",
          "2002",
          "2003",
          "2004",
          "2005",
          "2006",
          "2007",
          "2008",
          "2009",
          "2010",
          "2011",
          "2012",
          "2013",
          "2014",
          "2015",
          "2016",
          "2017",
          "2018",
          "2019",
          "2020",
          "2021"
         ],
         "y": [
          0.77,
          0.775,
          0.781,
          0.786,
          0.79,
          0.795,
          0.798,
          0.799,
          0.801,
          0.807,
          0.808,
          0.809,
          0.813,
          0.818,
          0.822,
          0.825,
          0.828,
          0.827,
          0.826,
          0.828,
          0.828,
          0.832,
          0.838,
          0.838,
          0.837,
          0.836,
          0.835,
          0.834,
          0.83,
          0.83,
          0.83,
          0.829
         ]
        },
        {
         "hovertemplate": "Year: %{x}<br>HDI: %{y}",
         "line": {
          "color": "rgb(19,199,145)",
          "width": 0.5
         },
         "mode": "lines",
         "name": "Bulgaria",
         "showlegend": true,
         "type": "scatter",
         "x": [
          "1990",
          "1991",
          "1992",
          "1993",
          "1994",
          "1995",
          "1996",
          "1997",
          "1998",
          "1999",
          "2000",
          "2001",
          "2002",
          "2003",
          "2004",
          "2005",
          "2006",
          "2007",
          "2008",
          "2009",
          "2010",
          "2011",
          "2012",
          "2013",
          "2014",
          "2015",
          "2016",
          "2017",
          "2018",
          "2019",
          "2020",
          "2021"
         ],
         "y": [
          0.684,
          0.684,
          0.686,
          0.689,
          0.691,
          0.7,
          0.711,
          0.706,
          0.716,
          0.72,
          0.725,
          0.734,
          0.74,
          0.749,
          0.756,
          0.762,
          0.767,
          0.774,
          0.782,
          0.785,
          0.79,
          0.794,
          0.798,
          0.805,
          0.807,
          0.809,
          0.809,
          0.808,
          0.809,
          0.81,
          0.802,
          0.795
         ]
        },
        {
         "hovertemplate": "Year: %{x}<br>HDI: %{y}",
         "line": {
          "color": "rgb(184,86,4)",
          "width": 0.5
         },
         "mode": "lines",
         "name": "Burundi",
         "showlegend": true,
         "type": "scatter",
         "x": [
          "1990",
          "1991",
          "1992",
          "1993",
          "1994",
          "1995",
          "1996",
          "1997",
          "1998",
          "1999",
          "2000",
          "2001",
          "2002",
          "2003",
          "2004",
          "2005",
          "2006",
          "2007",
          "2008",
          "2009",
          "2010",
          "2011",
          "2012",
          "2013",
          "2014",
          "2015",
          "2016",
          "2017",
          "2018",
          "2019",
          "2020",
          "2021"
         ],
         "y": [
          0.29,
          0.292,
          0.289,
          0.26,
          0.29,
          0.286,
          0.283,
          0.287,
          0.294,
          0.296,
          0.297,
          0.299,
          0.311,
          0.319,
          0.33,
          0.338,
          0.36,
          0.372,
          0.386,
          0.395,
          0.405,
          0.41,
          0.416,
          0.421,
          0.426,
          0.428,
          0.43,
          0.428,
          0.428,
          0.431,
          0.426,
          0.426
         ]
        },
        {
         "hovertemplate": "Year: %{x}<br>HDI: %{y}",
         "line": {
          "color": "rgb(255,180,20)",
          "width": 0.5
         },
         "mode": "lines",
         "name": "Cambodia",
         "showlegend": true,
         "type": "scatter",
         "x": [
          "1990",
          "1991",
          "1992",
          "1993",
          "1994",
          "1995",
          "1996",
          "1997",
          "1998",
          "1999",
          "2000",
          "2001",
          "2002",
          "2003",
          "2004",
          "2005",
          "2006",
          "2007",
          "2008",
          "2009",
          "2010",
          "2011",
          "2012",
          "2013",
          "2014",
          "2015",
          "2016",
          "2017",
          "2018",
          "2019",
          "2020",
          "2021"
         ],
         "y": [
          0.378,
          0.383,
          0.387,
          0.39,
          0.392,
          0.397,
          0.4,
          0.404,
          0.407,
          0.416,
          0.425,
          0.441,
          0.461,
          0.475,
          0.488,
          0.499,
          0.51,
          0.521,
          0.528,
          0.534,
          0.54,
          0.548,
          0.555,
          0.562,
          0.569,
          0.574,
          0.581,
          0.586,
          0.591,
          0.598,
          0.596,
          0.593
         ]
        },
        {
         "hovertemplate": "Year: %{x}<br>HDI: %{y}",
         "line": {
          "color": "rgb(203,228,39)",
          "width": 0.5
         },
         "mode": "lines",
         "name": "Cameroon",
         "showlegend": true,
         "type": "scatter",
         "x": [
          "1990",
          "1991",
          "1992",
          "1993",
          "1994",
          "1995",
          "1996",
          "1997",
          "1998",
          "1999",
          "2000",
          "2001",
          "2002",
          "2003",
          "2004",
          "2005",
          "2006",
          "2007",
          "2008",
          "2009",
          "2010",
          "2011",
          "2012",
          "2013",
          "2014",
          "2015",
          "2016",
          "2017",
          "2018",
          "2019",
          "2020",
          "2021"
         ],
         "y": [
          0.452,
          0.449,
          0.446,
          0.439,
          0.436,
          0.435,
          0.434,
          0.435,
          0.436,
          0.437,
          0.442,
          0.46,
          0.461,
          0.468,
          0.474,
          0.475,
          0.477,
          0.489,
          0.497,
          0.506,
          0.513,
          0.521,
          0.533,
          0.542,
          0.551,
          0.56,
          0.564,
          0.571,
          0.577,
          0.583,
          0.578,
          0.576
         ]
        },
        {
         "hovertemplate": "Year: %{x}<br>HDI: %{y}",
         "line": {
          "color": "rgb(1,9,251)",
          "width": 0.5
         },
         "mode": "lines",
         "name": "Canada",
         "showlegend": true,
         "type": "scatter",
         "x": [
          "1990",
          "1991",
          "1992",
          "1993",
          "1994",
          "1995",
          "1996",
          "1997",
          "1998",
          "1999",
          "2000",
          "2001",
          "2002",
          "2003",
          "2004",
          "2005",
          "2006",
          "2007",
          "2008",
          "2009",
          "2010",
          "2011",
          "2012",
          "2013",
          "2014",
          "2015",
          "2016",
          "2017",
          "2018",
          "2019",
          "2020",
          "2021"
         ],
         "y": [
          0.86,
          0.864,
          0.868,
          0.866,
          0.872,
          0.876,
          0.879,
          0.88,
          0.879,
          0.884,
          0.89,
          0.892,
          0.894,
          0.897,
          0.901,
          0.903,
          0.907,
          0.908,
          0.91,
          0.909,
          0.911,
          0.915,
          0.921,
          0.923,
          0.925,
          0.926,
          0.928,
          0.931,
          0.933,
          0.937,
          0.931,
          0.936
         ]
        },
        {
         "hovertemplate": "Year: %{x}<br>HDI: %{y}",
         "line": {
          "color": "rgb(216,131,10)",
          "width": 0.5
         },
         "mode": "lines",
         "name": "Central African Republic",
         "showlegend": true,
         "type": "scatter",
         "x": [
          "1990",
          "1991",
          "1992",
          "1993",
          "1994",
          "1995",
          "1996",
          "1997",
          "1998",
          "1999",
          "2000",
          "2001",
          "2002",
          "2003",
          "2004",
          "2005",
          "2006",
          "2007",
          "2008",
          "2009",
          "2010",
          "2011",
          "2012",
          "2013",
          "2014",
          "2015",
          "2016",
          "2017",
          "2018",
          "2019",
          "2020",
          "2021"
         ],
         "y": [
          0.338,
          0.333,
          0.319,
          0.319,
          0.321,
          0.323,
          0.319,
          0.322,
          0.325,
          0.329,
          0.329,
          0.332,
          0.333,
          0.333,
          0.337,
          0.342,
          0.345,
          0.351,
          0.358,
          0.364,
          0.372,
          0.381,
          0.388,
          0.368,
          0.37,
          0.384,
          0.391,
          0.398,
          0.405,
          0.411,
          0.407,
          0.404
         ]
        },
        {
         "hovertemplate": "Year: %{x}<br>HDI: %{y}",
         "line": {
          "color": "rgb(1,174,162)",
          "width": 0.5
         },
         "mode": "lines",
         "name": "Chile",
         "showlegend": true,
         "type": "scatter",
         "x": [
          "1990",
          "1991",
          "1992",
          "1993",
          "1994",
          "1995",
          "1996",
          "1997",
          "1998",
          "1999",
          "2000",
          "2001",
          "2002",
          "2003",
          "2004",
          "2005",
          "2006",
          "2007",
          "2008",
          "2009",
          "2010",
          "2011",
          "2012",
          "2013",
          "2014",
          "2015",
          "2016",
          "2017",
          "2018",
          "2019",
          "2020",
          "2021"
         ],
         "y": [
          0.706,
          0.715,
          0.723,
          0.716,
          0.722,
          0.728,
          0.735,
          0.744,
          0.749,
          0.755,
          0.763,
          0.768,
          0.775,
          0.779,
          0.787,
          0.795,
          0.796,
          0.801,
          0.813,
          0.811,
          0.813,
          0.817,
          0.824,
          0.836,
          0.841,
          0.846,
          0.85,
          0.853,
          0.856,
          0.861,
          0.852,
          0.855
         ]
        },
        {
         "hovertemplate": "Year: %{x}<br>HDI: %{y}",
         "line": {
          "color": "rgb(169,246,54)",
          "width": 0.5
         },
         "mode": "lines",
         "name": "China",
         "showlegend": true,
         "type": "scatter",
         "x": [
          "1990",
          "1991",
          "1992",
          "1993",
          "1994",
          "1995",
          "1996",
          "1997",
          "1998",
          "1999",
          "2000",
          "2001",
          "2002",
          "2003",
          "2004",
          "2005",
          "2006",
          "2007",
          "2008",
          "2009",
          "2010",
          "2011",
          "2012",
          "2013",
          "2014",
          "2015",
          "2016",
          "2017",
          "2018",
          "2019",
          "2020",
          "2021"
         ],
         "y": [
          0.484,
          0.492,
          0.504,
          0.515,
          0.525,
          0.535,
          0.545,
          0.554,
          0.564,
          0.573,
          0.584,
          0.593,
          0.604,
          0.615,
          0.626,
          0.638,
          0.65,
          0.663,
          0.672,
          0.682,
          0.691,
          0.7,
          0.709,
          0.717,
          0.725,
          0.733,
          0.74,
          0.747,
          0.755,
          0.762,
          0.764,
          0.768
         ]
        },
        {
         "hovertemplate": "Year: %{x}<br>HDI: %{y}",
         "line": {
          "color": "rgb(71,239,109)",
          "width": 0.5
         },
         "mode": "lines",
         "name": "Colombia",
         "showlegend": true,
         "type": "scatter",
         "x": [
          "1990",
          "1991",
          "1992",
          "1993",
          "1994",
          "1995",
          "1996",
          "1997",
          "1998",
          "1999",
          "2000",
          "2001",
          "2002",
          "2003",
          "2004",
          "2005",
          "2006",
          "2007",
          "2008",
          "2009",
          "2010",
          "2011",
          "2012",
          "2013",
          "2014",
          "2015",
          "2016",
          "2017",
          "2018",
          "2019",
          "2020",
          "2021"
         ],
         "y": [
          0.61,
          0.619,
          0.628,
          0.635,
          0.64,
          0.645,
          0.653,
          0.66,
          0.665,
          0.663,
          0.666,
          0.667,
          0.67,
          0.677,
          0.683,
          0.696,
          0.698,
          0.71,
          0.716,
          0.722,
          0.726,
          0.733,
          0.734,
          0.746,
          0.75,
          0.754,
          0.759,
          0.761,
          0.763,
          0.768,
          0.756,
          0.752
         ]
        },
        {
         "hovertemplate": "Year: %{x}<br>HDI: %{y}",
         "line": {
          "color": "rgb(149,252,64)",
          "width": 0.5
         },
         "mode": "lines",
         "name": "Congo",
         "showlegend": true,
         "type": "scatter",
         "x": [
          "1990",
          "1991",
          "1992",
          "1993",
          "1994",
          "1995",
          "1996",
          "1997",
          "1998",
          "1999",
          "2000",
          "2001",
          "2002",
          "2003",
          "2004",
          "2005",
          "2006",
          "2007",
          "2008",
          "2009",
          "2010",
          "2011",
          "2012",
          "2013",
          "2014",
          "2015",
          "2016",
          "2017",
          "2018",
          "2019",
          "2020",
          "2021"
         ],
         "y": [
          0.522,
          0.519,
          0.518,
          0.512,
          0.507,
          0.497,
          0.496,
          0.466,
          0.489,
          0.49,
          0.491,
          0.497,
          0.5,
          0.5,
          0.505,
          0.519,
          0.532,
          0.533,
          0.541,
          0.554,
          0.561,
          0.564,
          0.575,
          0.58,
          0.589,
          0.59,
          0.586,
          0.58,
          0.578,
          0.57,
          0.574,
          0.571
         ]
        },
        {
         "hovertemplate": "Year: %{x}<br>HDI: %{y}",
         "line": {
          "color": "rgb(37,215,132)",
          "width": 0.5
         },
         "mode": "lines",
         "name": "Costa Rica",
         "showlegend": true,
         "type": "scatter",
         "x": [
          "1990",
          "1991",
          "1992",
          "1993",
          "1994",
          "1995",
          "1996",
          "1997",
          "1998",
          "1999",
          "2000",
          "2001",
          "2002",
          "2003",
          "2004",
          "2005",
          "2006",
          "2007",
          "2008",
          "2009",
          "2010",
          "2011",
          "2012",
          "2013",
          "2014",
          "2015",
          "2016",
          "2017",
          "2018",
          "2019",
          "2020",
          "2021"
         ],
         "y": [
          0.66,
          0.663,
          0.674,
          0.682,
          0.685,
          0.691,
          0.693,
          0.7,
          0.705,
          0.708,
          0.71,
          0.715,
          0.722,
          0.727,
          0.732,
          0.74,
          0.747,
          0.756,
          0.765,
          0.769,
          0.772,
          0.782,
          0.786,
          0.792,
          0.796,
          0.798,
          0.803,
          0.807,
          0.811,
          0.819,
          0.816,
          0.809
         ]
        },
        {
         "hovertemplate": "Year: %{x}<br>HDI: %{y}",
         "line": {
          "color": "rgb(27,207,139)",
          "width": 0.5
         },
         "mode": "lines",
         "name": "Cuba",
         "showlegend": true,
         "type": "scatter",
         "x": [
          "1990",
          "1991",
          "1992",
          "1993",
          "1994",
          "1995",
          "1996",
          "1997",
          "1998",
          "1999",
          "2000",
          "2001",
          "2002",
          "2003",
          "2004",
          "2005",
          "2006",
          "2007",
          "2008",
          "2009",
          "2010",
          "2011",
          "2012",
          "2013",
          "2014",
          "2015",
          "2016",
          "2017",
          "2018",
          "2019",
          "2020",
          "2021"
         ],
         "y": [
          0.68,
          0.674,
          0.668,
          0.659,
          0.656,
          0.659,
          0.67,
          0.674,
          0.678,
          0.685,
          0.693,
          0.7,
          0.706,
          0.714,
          0.728,
          0.741,
          0.761,
          0.775,
          0.784,
          0.784,
          0.78,
          0.777,
          0.773,
          0.769,
          0.771,
          0.773,
          0.774,
          0.779,
          0.783,
          0.788,
          0.781,
          0.764
         ]
        },
        {
         "hovertemplate": "Year: %{x}<br>HDI: %{y}",
         "line": {
          "color": "rgb(1,171,163)",
          "width": 0.5
         },
         "mode": "lines",
         "name": "Cyprus",
         "showlegend": true,
         "type": "scatter",
         "x": [
          "1990",
          "1991",
          "1992",
          "1993",
          "1994",
          "1995",
          "1996",
          "1997",
          "1998",
          "1999",
          "2000",
          "2001",
          "2002",
          "2003",
          "2004",
          "2005",
          "2006",
          "2007",
          "2008",
          "2009",
          "2010",
          "2011",
          "2012",
          "2013",
          "2014",
          "2015",
          "2016",
          "2017",
          "2018",
          "2019",
          "2020",
          "2021"
         ],
         "y": [
          0.716,
          0.719,
          0.726,
          0.765,
          0.77,
          0.776,
          0.781,
          0.785,
          0.794,
          0.794,
          0.797,
          0.804,
          0.816,
          0.825,
          0.83,
          0.834,
          0.841,
          0.848,
          0.857,
          0.862,
          0.857,
          0.861,
          0.86,
          0.861,
          0.865,
          0.871,
          0.877,
          0.887,
          0.892,
          0.897,
          0.894,
          0.896
         ]
        },
        {
         "hovertemplate": "Year: %{x}<br>HDI: %{y}",
         "line": {
          "color": "rgb(1,149,177)",
          "width": 0.5
         },
         "mode": "lines",
         "name": "Czechia",
         "showlegend": true,
         "type": "scatter",
         "x": [
          "1990",
          "1991",
          "1992",
          "1993",
          "1994",
          "1995",
          "1996",
          "1997",
          "1998",
          "1999",
          "2000",
          "2001",
          "2002",
          "2003",
          "2004",
          "2005",
          "2006",
          "2007",
          "2008",
          "2009",
          "2010",
          "2011",
          "2012",
          "2013",
          "2014",
          "2015",
          "2016",
          "2017",
          "2018",
          "2019",
          "2020",
          "2021"
         ],
         "y": [
          0.742,
          0.742,
          0.743,
          0.751,
          0.762,
          0.77,
          0.782,
          0.787,
          0.792,
          0.796,
          0.808,
          0.818,
          0.825,
          0.831,
          0.836,
          0.844,
          0.852,
          0.859,
          0.863,
          0.865,
          0.87,
          0.872,
          0.874,
          0.881,
          0.887,
          0.891,
          0.895,
          0.897,
          0.894,
          0.897,
          0.892,
          0.889
         ]
        },
        {
         "hovertemplate": "Year: %{x}<br>HDI: %{y}",
         "line": {
          "color": "rgb(1,40,235)",
          "width": 0.5
         },
         "mode": "lines",
         "name": "Denmark",
         "showlegend": true,
         "type": "scatter",
         "x": [
          "1990",
          "1991",
          "1992",
          "1993",
          "1994",
          "1995",
          "1996",
          "1997",
          "1998",
          "1999",
          "2000",
          "2001",
          "2002",
          "2003",
          "2004",
          "2005",
          "2006",
          "2007",
          "2008",
          "2009",
          "2010",
          "2011",
          "2012",
          "2013",
          "2014",
          "2015",
          "2016",
          "2017",
          "2018",
          "2019",
          "2020",
          "2021"
         ],
         "y": [
          0.834,
          0.838,
          0.841,
          0.844,
          0.851,
          0.854,
          0.862,
          0.869,
          0.876,
          0.886,
          0.889,
          0.895,
          0.896,
          0.901,
          0.906,
          0.911,
          0.91,
          0.911,
          0.915,
          0.909,
          0.913,
          0.926,
          0.931,
          0.933,
          0.932,
          0.936,
          0.943,
          0.944,
          0.942,
          0.946,
          0.947,
          0.948
         ]
        },
        {
         "hovertemplate": "Year: %{x}<br>HDI: %{y}",
         "line": {
          "color": "rgb(99,250,92)",
          "width": 0.5
         },
         "mode": "lines",
         "name": "Dominican Republic",
         "showlegend": true,
         "type": "scatter",
         "x": [
          "1990",
          "1991",
          "1992",
          "1993",
          "1994",
          "1995",
          "1996",
          "1997",
          "1998",
          "1999",
          "2000",
          "2001",
          "2002",
          "2003",
          "2004",
          "2005",
          "2006",
          "2007",
          "2008",
          "2009",
          "2010",
          "2011",
          "2012",
          "2013",
          "2014",
          "2015",
          "2016",
          "2017",
          "2018",
          "2019",
          "2020",
          "2021"
         ],
         "y": [
          0.577,
          0.583,
          0.593,
          0.6,
          0.607,
          0.613,
          0.62,
          0.627,
          0.633,
          0.64,
          0.646,
          0.651,
          0.657,
          0.659,
          0.663,
          0.674,
          0.683,
          0.692,
          0.697,
          0.701,
          0.708,
          0.713,
          0.718,
          0.722,
          0.728,
          0.736,
          0.755,
          0.757,
          0.764,
          0.771,
          0.764,
          0.767
         ]
        },
        {
         "hovertemplate": "Year: %{x}<br>HDI: %{y}",
         "line": {
          "color": "rgb(45,222,127)",
          "width": 0.5
         },
         "mode": "lines",
         "name": "Ecuador",
         "showlegend": true,
         "type": "scatter",
         "x": [
          "1990",
          "1991",
          "1992",
          "1993",
          "1994",
          "1995",
          "1996",
          "1997",
          "1998",
          "1999",
          "2000",
          "2001",
          "2002",
          "2003",
          "2004",
          "2005",
          "2006",
          "2007",
          "2008",
          "2009",
          "2010",
          "2011",
          "2012",
          "2013",
          "2014",
          "2015",
          "2016",
          "2017",
          "2018",
          "2019",
          "2020",
          "2021"
         ],
         "y": [
          0.651,
          0.652,
          0.658,
          0.662,
          0.667,
          0.671,
          0.674,
          0.679,
          0.684,
          0.683,
          0.687,
          0.693,
          0.698,
          0.703,
          0.71,
          0.715,
          0.72,
          0.723,
          0.729,
          0.731,
          0.736,
          0.743,
          0.751,
          0.755,
          0.76,
          0.765,
          0.762,
          0.762,
          0.762,
          0.76,
          0.731,
          0.74
         ]
        },
        {
         "hovertemplate": "Year: %{x}<br>HDI: %{y}",
         "line": {
          "color": "rgb(103,251,90)",
          "width": 0.5
         },
         "mode": "lines",
         "name": "Egypt",
         "showlegend": true,
         "type": "scatter",
         "x": [
          "1990",
          "1991",
          "1992",
          "1993",
          "1994",
          "1995",
          "1996",
          "1997",
          "1998",
          "1999",
          "2000",
          "2001",
          "2002",
          "2003",
          "2004",
          "2005",
          "2006",
          "2007",
          "2008",
          "2009",
          "2010",
          "2011",
          "2012",
          "2013",
          "2014",
          "2015",
          "2016",
          "2017",
          "2018",
          "2019",
          "2020",
          "2021"
         ],
         "y": [
          0.572,
          0.578,
          0.585,
          0.591,
          0.598,
          0.605,
          0.613,
          0.619,
          0.624,
          0.629,
          0.633,
          0.637,
          0.639,
          0.637,
          0.64,
          0.643,
          0.647,
          0.655,
          0.663,
          0.668,
          0.675,
          0.679,
          0.688,
          0.694,
          0.699,
          0.706,
          0.713,
          0.721,
          0.729,
          0.735,
          0.734,
          0.731
         ]
        },
        {
         "hovertemplate": "Year: %{x}<br>HDI: %{y}",
         "line": {
          "color": "rgb(135,254,71)",
          "width": 0.5
         },
         "mode": "lines",
         "name": "El Salvador",
         "showlegend": true,
         "type": "scatter",
         "x": [
          "1990",
          "1991",
          "1992",
          "1993",
          "1994",
          "1995",
          "1996",
          "1997",
          "1998",
          "1999",
          "2000",
          "2001",
          "2002",
          "2003",
          "2004",
          "2005",
          "2006",
          "2007",
          "2008",
          "2009",
          "2010",
          "2011",
          "2012",
          "2013",
          "2014",
          "2015",
          "2016",
          "2017",
          "2018",
          "2019",
          "2020",
          "2021"
         ],
         "y": [
          0.525,
          0.536,
          0.548,
          0.558,
          0.568,
          0.578,
          0.587,
          0.597,
          0.605,
          0.609,
          0.617,
          0.619,
          0.626,
          0.631,
          0.636,
          0.641,
          0.646,
          0.651,
          0.653,
          0.653,
          0.659,
          0.661,
          0.664,
          0.667,
          0.666,
          0.668,
          0.671,
          0.674,
          0.68,
          0.683,
          0.672,
          0.675
         ]
        },
        {
         "hovertemplate": "Year: %{x}<br>HDI: %{y}",
         "line": {
          "color": "rgb(1,162,169)",
          "width": 0.5
         },
         "mode": "lines",
         "name": "Estonia",
         "showlegend": true,
         "type": "scatter",
         "x": [
          "1990",
          "1991",
          "1992",
          "1993",
          "1994",
          "1995",
          "1996",
          "1997",
          "1998",
          "1999",
          "2000",
          "2001",
          "2002",
          "2003",
          "2004",
          "2005",
          "2006",
          "2007",
          "2008",
          "2009",
          "2010",
          "2011",
          "2012",
          "2013",
          "2014",
          "2015",
          "2016",
          "2017",
          "2018",
          "2019",
          "2020",
          "2021"
         ],
         "y": [
          0.732,
          0.729,
          0.719,
          0.71,
          0.712,
          0.725,
          0.742,
          0.757,
          0.764,
          0.773,
          0.787,
          0.797,
          0.807,
          0.816,
          0.826,
          0.839,
          0.847,
          0.853,
          0.856,
          0.856,
          0.861,
          0.871,
          0.874,
          0.88,
          0.879,
          0.882,
          0.885,
          0.887,
          0.891,
          0.896,
          0.892,
          0.89
         ]
        },
        {
         "hovertemplate": "Year: %{x}<br>HDI: %{y}",
         "line": {
          "color": "rgb(129,254,75)",
          "width": 0.5
         },
         "mode": "lines",
         "name": "Eswatini",
         "showlegend": true,
         "type": "scatter",
         "x": [
          "1990",
          "1991",
          "1992",
          "1993",
          "1994",
          "1995",
          "1996",
          "1997",
          "1998",
          "1999",
          "2000",
          "2001",
          "2002",
          "2003",
          "2004",
          "2005",
          "2006",
          "2007",
          "2008",
          "2009",
          "2010",
          "2011",
          "2012",
          "2013",
          "2014",
          "2015",
          "2016",
          "2017",
          "2018",
          "2019",
          "2020",
          "2021"
         ],
         "y": [
          0.545,
          0.543,
          0.54,
          0.532,
          0.523,
          0.518,
          0.509,
          0.5,
          0.49,
          0.482,
          0.471,
          0.463,
          0.451,
          0.446,
          0.444,
          0.446,
          0.462,
          0.471,
          0.479,
          0.486,
          0.503,
          0.517,
          0.531,
          0.546,
          0.559,
          0.575,
          0.586,
          0.596,
          0.607,
          0.615,
          0.61,
          0.597
         ]
        },
        {
         "hovertemplate": "Year: %{x}<br>HDI: %{y}",
         "line": {
          "color": "rgb(49,225,124)",
          "width": 0.5
         },
         "mode": "lines",
         "name": "Fiji",
         "showlegend": true,
         "type": "scatter",
         "x": [
          "1990",
          "1991",
          "1992",
          "1993",
          "1994",
          "1995",
          "1996",
          "1997",
          "1998",
          "1999",
          "2000",
          "2001",
          "2002",
          "2003",
          "2004",
          "2005",
          "2006",
          "2007",
          "2008",
          "2009",
          "2010",
          "2011",
          "2012",
          "2013",
          "2014",
          "2015",
          "2016",
          "2017",
          "2018",
          "2019",
          "2020",
          "2021"
         ],
         "y": [
          0.642,
          0.647,
          0.651,
          0.654,
          0.66,
          0.666,
          0.669,
          0.67,
          0.672,
          0.679,
          0.681,
          0.686,
          0.687,
          0.692,
          0.704,
          0.702,
          0.705,
          0.706,
          0.709,
          0.711,
          0.714,
          0.719,
          0.721,
          0.726,
          0.729,
          0.729,
          0.735,
          0.741,
          0.745,
          0.746,
          0.737,
          0.73
         ]
        },
        {
         "hovertemplate": "Year: %{x}<br>HDI: %{y}",
         "line": {
          "color": "rgb(1,65,223)",
          "width": 0.5
         },
         "mode": "lines",
         "name": "Finland",
         "showlegend": true,
         "type": "scatter",
         "x": [
          "1990",
          "1991",
          "1992",
          "1993",
          "1994",
          "1995",
          "1996",
          "1997",
          "1998",
          "1999",
          "2000",
          "2001",
          "2002",
          "2003",
          "2004",
          "2005",
          "2006",
          "2007",
          "2008",
          "2009",
          "2010",
          "2011",
          "2012",
          "2013",
          "2014",
          "2015",
          "2016",
          "2017",
          "2018",
          "2019",
          "2020",
          "2021"
         ],
         "y": [
          0.814,
          0.818,
          0.825,
          0.829,
          0.841,
          0.847,
          0.854,
          0.863,
          0.873,
          0.881,
          0.891,
          0.9,
          0.904,
          0.907,
          0.902,
          0.905,
          0.909,
          0.911,
          0.912,
          0.907,
          0.911,
          0.915,
          0.915,
          0.926,
          0.927,
          0.93,
          0.931,
          0.934,
          0.936,
          0.939,
          0.938,
          0.94
         ]
        },
        {
         "hovertemplate": "Year: %{x}<br>HDI: %{y}",
         "line": {
          "color": "rgb(1,86,212)",
          "width": 0.5
         },
         "mode": "lines",
         "name": "France",
         "showlegend": true,
         "type": "scatter",
         "x": [
          "1990",
          "1991",
          "1992",
          "1993",
          "1994",
          "1995",
          "1996",
          "1997",
          "1998",
          "1999",
          "2000",
          "2001",
          "2002",
          "2003",
          "2004",
          "2005",
          "2006",
          "2007",
          "2008",
          "2009",
          "2010",
          "2011",
          "2012",
          "2013",
          "2014",
          "2015",
          "2016",
          "2017",
          "2018",
          "2019",
          "2020",
          "2021"
         ],
         "y": [
          0.791,
          0.799,
          0.806,
          0.809,
          0.823,
          0.828,
          0.833,
          0.838,
          0.842,
          0.84,
          0.844,
          0.847,
          0.848,
          0.851,
          0.858,
          0.866,
          0.87,
          0.873,
          0.873,
          0.872,
          0.877,
          0.881,
          0.882,
          0.887,
          0.892,
          0.892,
          0.895,
          0.898,
          0.901,
          0.905,
          0.898,
          0.903
         ]
        },
        {
         "hovertemplate": "Year: %{x}<br>HDI: %{y}",
         "line": {
          "color": "rgb(73,240,108)",
          "width": 0.5
         },
         "mode": "lines",
         "name": "Gabon",
         "showlegend": true,
         "type": "scatter",
         "x": [
          "1990",
          "1991",
          "1992",
          "1993",
          "1994",
          "1995",
          "1996",
          "1997",
          "1998",
          "1999",
          "2000",
          "2001",
          "2002",
          "2003",
          "2004",
          "2005",
          "2006",
          "2007",
          "2008",
          "2009",
          "2010",
          "2011",
          "2012",
          "2013",
          "2014",
          "2015",
          "2016",
          "2017",
          "2018",
          "2019",
          "2020",
          "2021"
         ],
         "y": [
          0.61,
          0.615,
          0.615,
          0.619,
          0.623,
          0.627,
          0.63,
          0.634,
          0.64,
          0.636,
          0.635,
          0.641,
          0.644,
          0.648,
          0.647,
          0.652,
          0.651,
          0.655,
          0.655,
          0.66,
          0.664,
          0.668,
          0.679,
          0.685,
          0.694,
          0.699,
          0.702,
          0.706,
          0.706,
          0.709,
          0.71,
          0.706
         ]
        },
        {
         "hovertemplate": "Year: %{x}<br>HDI: %{y}",
         "line": {
          "color": "rgb(230,149,13)",
          "width": 0.5
         },
         "mode": "lines",
         "name": "Gambia",
         "showlegend": true,
         "type": "scatter",
         "x": [
          "1990",
          "1991",
          "1992",
          "1993",
          "1994",
          "1995",
          "1996",
          "1997",
          "1998",
          "1999",
          "2000",
          "2001",
          "2002",
          "2003",
          "2004",
          "2005",
          "2006",
          "2007",
          "2008",
          "2009",
          "2010",
          "2011",
          "2012",
          "2013",
          "2014",
          "2015",
          "2016",
          "2017",
          "2018",
          "2019",
          "2020",
          "2021"
         ],
         "y": [
          0.343,
          0.35,
          0.357,
          0.363,
          0.369,
          0.376,
          0.382,
          0.385,
          0.392,
          0.398,
          0.404,
          0.41,
          0.412,
          0.419,
          0.428,
          0.431,
          0.436,
          0.442,
          0.45,
          0.455,
          0.46,
          0.46,
          0.467,
          0.471,
          0.473,
          0.478,
          0.484,
          0.489,
          0.495,
          0.503,
          0.501,
          0.5
         ]
        },
        {
         "hovertemplate": "Year: %{x}<br>HDI: %{y}",
         "line": {
          "color": "rgb(1,43,234)",
          "width": 0.5
         },
         "mode": "lines",
         "name": "Germany",
         "showlegend": true,
         "type": "scatter",
         "x": [
          "1990",
          "1991",
          "1992",
          "1993",
          "1994",
          "1995",
          "1996",
          "1997",
          "1998",
          "1999",
          "2000",
          "2001",
          "2002",
          "2003",
          "2004",
          "2005",
          "2006",
          "2007",
          "2008",
          "2009",
          "2010",
          "2011",
          "2012",
          "2013",
          "2014",
          "2015",
          "2016",
          "2017",
          "2018",
          "2019",
          "2020",
          "2021"
         ],
         "y": [
          0.829,
          0.835,
          0.842,
          0.852,
          0.858,
          0.863,
          0.868,
          0.874,
          0.879,
          0.884,
          0.889,
          0.896,
          0.901,
          0.905,
          0.914,
          0.914,
          0.917,
          0.921,
          0.923,
          0.923,
          0.926,
          0.931,
          0.933,
          0.934,
          0.937,
          0.938,
          0.941,
          0.944,
          0.945,
          0.948,
          0.944,
          0.942
         ]
        },
        {
         "hovertemplate": "Year: %{x}<br>HDI: %{y}",
         "line": {
          "color": "rgb(191,236,44)",
          "width": 0.5
         },
         "mode": "lines",
         "name": "Ghana",
         "showlegend": true,
         "type": "scatter",
         "x": [
          "1990",
          "1991",
          "1992",
          "1993",
          "1994",
          "1995",
          "1996",
          "1997",
          "1998",
          "1999",
          "2000",
          "2001",
          "2002",
          "2003",
          "2004",
          "2005",
          "2006",
          "2007",
          "2008",
          "2009",
          "2010",
          "2011",
          "2012",
          "2013",
          "2014",
          "2015",
          "2016",
          "2017",
          "2018",
          "2019",
          "2020",
          "2021"
         ],
         "y": [
          0.46,
          0.466,
          0.47,
          0.475,
          0.477,
          0.483,
          0.487,
          0.492,
          0.497,
          0.502,
          0.507,
          0.505,
          0.512,
          0.515,
          0.521,
          0.533,
          0.54,
          0.55,
          0.561,
          0.566,
          0.574,
          0.585,
          0.592,
          0.6,
          0.6,
          0.607,
          0.611,
          0.616,
          0.62,
          0.631,
          0.632,
          0.632
         ]
        },
        {
         "hovertemplate": "Year: %{x}<br>HDI: %{y}",
         "line": {
          "color": "rgb(1,120,193)",
          "width": 0.5
         },
         "mode": "lines",
         "name": "Greece",
         "showlegend": true,
         "type": "scatter",
         "x": [
          "1990",
          "1991",
          "1992",
          "1993",
          "1994",
          "1995",
          "1996",
          "1997",
          "1998",
          "1999",
          "2000",
          "2001",
          "2002",
          "2003",
          "2004",
          "2005",
          "2006",
          "2007",
          "2008",
          "2009",
          "2010",
          "2011",
          "2012",
          "2013",
          "2014",
          "2015",
          "2016",
          "2017",
          "2018",
          "2019",
          "2020",
          "2021"
         ],
         "y": [
          0.759,
          0.769,
          0.769,
          0.769,
          0.774,
          0.777,
          0.782,
          0.789,
          0.799,
          0.801,
          0.81,
          0.82,
          0.83,
          0.835,
          0.843,
          0.855,
          0.863,
          0.858,
          0.863,
          0.866,
          0.869,
          0.865,
          0.866,
          0.871,
          0.879,
          0.88,
          0.877,
          0.88,
          0.886,
          0.889,
          0.886,
          0.887
         ]
        },
        {
         "hovertemplate": "Year: %{x}<br>HDI: %{y}",
         "line": {
          "color": "rgb(173,245,52)",
          "width": 0.5
         },
         "mode": "lines",
         "name": "Guatemala",
         "showlegend": true,
         "type": "scatter",
         "x": [
          "1990",
          "1991",
          "1992",
          "1993",
          "1994",
          "1995",
          "1996",
          "1997",
          "1998",
          "1999",
          "2000",
          "2001",
          "2002",
          "2003",
          "2004",
          "2005",
          "2006",
          "2007",
          "2008",
          "2009",
          "2010",
          "2011",
          "2012",
          "2013",
          "2014",
          "2015",
          "2016",
          "2017",
          "2018",
          "2019",
          "2020",
          "2021"
         ],
         "y": [
          0.484,
          0.488,
          0.492,
          0.497,
          0.501,
          0.508,
          0.516,
          0.525,
          0.534,
          0.542,
          0.55,
          0.556,
          0.561,
          0.566,
          0.571,
          0.574,
          0.581,
          0.59,
          0.596,
          0.6,
          0.605,
          0.611,
          0.616,
          0.62,
          0.637,
          0.639,
          0.639,
          0.64,
          0.64,
          0.642,
          0.635,
          0.627
         ]
        },
        {
         "hovertemplate": "Year: %{x}<br>HDI: %{y}",
         "line": {
          "color": "rgb(170,65,3)",
          "width": 0.5
         },
         "mode": "lines",
         "name": "Guinea",
         "showlegend": true,
         "type": "scatter",
         "x": [
          "1990",
          "1991",
          "1992",
          "1993",
          "1994",
          "1995",
          "1996",
          "1997",
          "1998",
          "1999",
          "2000",
          "2001",
          "2002",
          "2003",
          "2004",
          "2005",
          "2006",
          "2007",
          "2008",
          "2009",
          "2010",
          "2011",
          "2012",
          "2013",
          "2014",
          "2015",
          "2016",
          "2017",
          "2018",
          "2019",
          "2020",
          "2021"
         ],
         "y": [
          0.269,
          0.274,
          0.282,
          0.289,
          0.295,
          0.303,
          0.31,
          0.321,
          0.33,
          0.339,
          0.345,
          0.352,
          0.362,
          0.37,
          0.377,
          0.387,
          0.394,
          0.402,
          0.408,
          0.41,
          0.415,
          0.42,
          0.425,
          0.429,
          0.435,
          0.44,
          0.45,
          0.458,
          0.462,
          0.467,
          0.466,
          0.465
         ]
        },
        {
         "hovertemplate": "Year: %{x}<br>HDI: %{y}",
         "line": {
          "color": "rgb(159,250,59)",
          "width": 0.5
         },
         "mode": "lines",
         "name": "Guyana",
         "showlegend": true,
         "type": "scatter",
         "x": [
          "1990",
          "1991",
          "1992",
          "1993",
          "1994",
          "1995",
          "1996",
          "1997",
          "1998",
          "1999",
          "2000",
          "2001",
          "2002",
          "2003",
          "2004",
          "2005",
          "2006",
          "2007",
          "2008",
          "2009",
          "2010",
          "2011",
          "2012",
          "2013",
          "2014",
          "2015",
          "2016",
          "2017",
          "2018",
          "2019",
          "2020",
          "2021"
         ],
         "y": [
          0.509,
          0.505,
          0.52,
          0.534,
          0.544,
          0.549,
          0.559,
          0.564,
          0.569,
          0.573,
          0.577,
          0.584,
          0.59,
          0.598,
          0.612,
          0.622,
          0.631,
          0.638,
          0.644,
          0.649,
          0.656,
          0.665,
          0.669,
          0.673,
          0.681,
          0.684,
          0.691,
          0.695,
          0.701,
          0.708,
          0.721,
          0.714
         ]
        },
        {
         "hovertemplate": "Year: %{x}<br>HDI: %{y}",
         "line": {
          "color": "rgb(215,219,34)",
          "width": 0.5
         },
         "mode": "lines",
         "name": "Haiti",
         "showlegend": true,
         "type": "scatter",
         "x": [
          "1990",
          "1991",
          "1992",
          "1993",
          "1994",
          "1995",
          "1996",
          "1997",
          "1998",
          "1999",
          "2000",
          "2001",
          "2002",
          "2003",
          "2004",
          "2005",
          "2006",
          "2007",
          "2008",
          "2009",
          "2010",
          "2011",
          "2012",
          "2013",
          "2014",
          "2015",
          "2016",
          "2017",
          "2018",
          "2019",
          "2020",
          "2021"
         ],
         "y": [
          0.429,
          0.433,
          0.435,
          0.436,
          0.434,
          0.444,
          0.45,
          0.455,
          0.46,
          0.466,
          0.47,
          0.472,
          0.476,
          0.482,
          0.479,
          0.49,
          0.494,
          0.499,
          0.503,
          0.508,
          0.433,
          0.512,
          0.517,
          0.521,
          0.525,
          0.529,
          0.532,
          0.539,
          0.541,
          0.543,
          0.54,
          0.535
         ]
        },
        {
         "hovertemplate": "Year: %{x}<br>HDI: %{y}",
         "line": {
          "color": "rgb(151,252,63)",
          "width": 0.5
         },
         "mode": "lines",
         "name": "Honduras",
         "showlegend": true,
         "type": "scatter",
         "x": [
          "1990",
          "1991",
          "1992",
          "1993",
          "1994",
          "1995",
          "1996",
          "1997",
          "1998",
          "1999",
          "2000",
          "2001",
          "2002",
          "2003",
          "2004",
          "2005",
          "2006",
          "2007",
          "2008",
          "2009",
          "2010",
          "2011",
          "2012",
          "2013",
          "2014",
          "2015",
          "2016",
          "2017",
          "2018",
          "2019",
          "2020",
          "2021"
         ],
         "y": [
          0.516,
          0.517,
          0.521,
          0.527,
          0.53,
          0.536,
          0.539,
          0.544,
          0.527,
          0.55,
          0.556,
          0.559,
          0.563,
          0.567,
          0.572,
          0.577,
          0.581,
          0.586,
          0.591,
          0.594,
          0.597,
          0.6,
          0.599,
          0.603,
          0.606,
          0.613,
          0.618,
          0.617,
          0.617,
          0.632,
          0.621,
          0.621
         ]
        },
        {
         "hovertemplate": "Year: %{x}<br>HDI: %{y}",
         "line": {
          "color": "rgb(1,92,209)",
          "width": 0.5
         },
         "mode": "lines",
         "name": "Hong Kong",
         "showlegend": true,
         "type": "scatter",
         "x": [
          "1990",
          "1991",
          "1992",
          "1993",
          "1994",
          "1995",
          "1996",
          "1997",
          "1998",
          "1999",
          "2000",
          "2001",
          "2002",
          "2003",
          "2004",
          "2005",
          "2006",
          "2007",
          "2008",
          "2009",
          "2010",
          "2011",
          "2012",
          "2013",
          "2014",
          "2015",
          "2016",
          "2017",
          "2018",
          "2019",
          "2020",
          "2021"
         ],
         "y": [
          0.788,
          0.794,
          0.802,
          0.811,
          0.819,
          0.825,
          0.831,
          0.837,
          0.839,
          0.843,
          0.851,
          0.856,
          0.859,
          0.864,
          0.872,
          0.879,
          0.887,
          0.894,
          0.899,
          0.9,
          0.907,
          0.914,
          0.918,
          0.924,
          0.93,
          0.935,
          0.938,
          0.944,
          0.949,
          0.952,
          0.949,
          0.952
         ]
        },
        {
         "hovertemplate": "Year: %{x}<br>HDI: %{y}",
         "line": {
          "color": "rgb(1,174,162)",
          "width": 0.5
         },
         "mode": "lines",
         "name": "Hungary",
         "showlegend": true,
         "type": "scatter",
         "x": [
          "1990",
          "1991",
          "1992",
          "1993",
          "1994",
          "1995",
          "1996",
          "1997",
          "1998",
          "1999",
          "2000",
          "2001",
          "2002",
          "2003",
          "2004",
          "2005",
          "2006",
          "2007",
          "2008",
          "2009",
          "2010",
          "2011",
          "2012",
          "2013",
          "2014",
          "2015",
          "2016",
          "2017",
          "2018",
          "2019",
          "2020",
          "2021"
         ],
         "y": [
          0.72,
          0.715,
          0.714,
          0.722,
          0.731,
          0.735,
          0.741,
          0.749,
          0.756,
          0.763,
          0.773,
          0.782,
          0.791,
          0.798,
          0.801,
          0.806,
          0.814,
          0.817,
          0.823,
          0.825,
          0.828,
          0.83,
          0.831,
          0.84,
          0.838,
          0.838,
          0.843,
          0.845,
          0.849,
          0.853,
          0.849,
          0.846
         ]
        },
        {
         "hovertemplate": "Year: %{x}<br>HDI: %{y}",
         "line": {
          "color": "rgb(1,59,226)",
          "width": 0.5
         },
         "mode": "lines",
         "name": "Iceland",
         "showlegend": true,
         "type": "scatter",
         "x": [
          "1990",
          "1991",
          "1992",
          "1993",
          "1994",
          "1995",
          "1996",
          "1997",
          "1998",
          "1999",
          "2000",
          "2001",
          "2002",
          "2003",
          "2004",
          "2005",
          "2006",
          "2007",
          "2008",
          "2009",
          "2010",
          "2011",
          "2012",
          "2013",
          "2014",
          "2015",
          "2016",
          "2017",
          "2018",
          "2019",
          "2020",
          "2021"
         ],
         "y": [
          0.811,
          0.822,
          0.828,
          0.829,
          0.835,
          0.833,
          0.838,
          0.849,
          0.86,
          0.862,
          0.871,
          0.879,
          0.886,
          0.891,
          0.895,
          0.901,
          0.903,
          0.909,
          0.902,
          0.9,
          0.902,
          0.912,
          0.921,
          0.929,
          0.938,
          0.945,
          0.948,
          0.954,
          0.959,
          0.96,
          0.957,
          0.959
         ]
        },
        {
         "hovertemplate": "Year: %{x}<br>HDI: %{y}",
         "line": {
          "color": "rgb(213,220,35)",
          "width": 0.5
         },
         "mode": "lines",
         "name": "India",
         "showlegend": true,
         "type": "scatter",
         "x": [
          "1990",
          "1991",
          "1992",
          "1993",
          "1994",
          "1995",
          "1996",
          "1997",
          "1998",
          "1999",
          "2000",
          "2001",
          "2002",
          "2003",
          "2004",
          "2005",
          "2006",
          "2007",
          "2008",
          "2009",
          "2010",
          "2011",
          "2012",
          "2013",
          "2014",
          "2015",
          "2016",
          "2017",
          "2018",
          "2019",
          "2020",
          "2021"
         ],
         "y": [
          0.434,
          0.437,
          0.442,
          0.446,
          0.452,
          0.458,
          0.466,
          0.471,
          0.478,
          0.486,
          0.491,
          0.496,
          0.503,
          0.516,
          0.525,
          0.534,
          0.543,
          0.553,
          0.56,
          0.565,
          0.575,
          0.588,
          0.598,
          0.607,
          0.619,
          0.629,
          0.639,
          0.644,
          0.645,
          0.645,
          0.642,
          0.633
         ]
        },
        {
         "hovertemplate": "Year: %{x}<br>HDI: %{y}",
         "line": {
          "color": "rgb(139,254,69)",
          "width": 0.5
         },
         "mode": "lines",
         "name": "Indonesia",
         "showlegend": true,
         "type": "scatter",
         "x": [
          "1990",
          "1991",
          "1992",
          "1993",
          "1994",
          "1995",
          "1996",
          "1997",
          "1998",
          "1999",
          "2000",
          "2001",
          "2002",
          "2003",
          "2004",
          "2005",
          "2006",
          "2007",
          "2008",
          "2009",
          "2010",
          "2011",
          "2012",
          "2013",
          "2014",
          "2015",
          "2016",
          "2017",
          "2018",
          "2019",
          "2020",
          "2021"
         ],
         "y": [
          0.526,
          0.532,
          0.54,
          0.548,
          0.558,
          0.569,
          0.578,
          0.589,
          0.585,
          0.59,
          0.595,
          0.604,
          0.612,
          0.621,
          0.619,
          0.632,
          0.639,
          0.643,
          0.646,
          0.657,
          0.664,
          0.671,
          0.678,
          0.683,
          0.687,
          0.695,
          0.699,
          0.704,
          0.71,
          0.716,
          0.709,
          0.705
         ]
        },
        {
         "hovertemplate": "Year: %{x}<br>HDI: %{y}",
         "line": {
          "color": "rgb(69,238,111)",
          "width": 0.5
         },
         "mode": "lines",
         "name": "Iran",
         "showlegend": true,
         "type": "scatter",
         "x": [
          "1990",
          "1991",
          "1992",
          "1993",
          "1994",
          "1995",
          "1996",
          "1997",
          "1998",
          "1999",
          "2000",
          "2001",
          "2002",
          "2003",
          "2004",
          "2005",
          "2006",
          "2007",
          "2008",
          "2009",
          "2010",
          "2011",
          "2012",
          "2013",
          "2014",
          "2015",
          "2016",
          "2017",
          "2018",
          "2019",
          "2020",
          "2021"
         ],
         "y": [
          0.601,
          0.62,
          0.627,
          0.634,
          0.64,
          0.647,
          0.655,
          0.662,
          0.669,
          0.677,
          0.685,
          0.693,
          0.701,
          0.704,
          0.712,
          0.717,
          0.727,
          0.733,
          0.735,
          0.738,
          0.745,
          0.754,
          0.768,
          0.769,
          0.773,
          0.776,
          0.786,
          0.789,
          0.787,
          0.783,
          0.777,
          0.774
         ]
        },
        {
         "hovertemplate": "Year: %{x}<br>HDI: %{y}",
         "line": {
          "color": "rgb(167,247,55)",
          "width": 0.5
         },
         "mode": "lines",
         "name": "Iraq",
         "showlegend": true,
         "type": "scatter",
         "x": [
          "1990",
          "1991",
          "1992",
          "1993",
          "1994",
          "1995",
          "1996",
          "1997",
          "1998",
          "1999",
          "2000",
          "2001",
          "2002",
          "2003",
          "2004",
          "2005",
          "2006",
          "2007",
          "2008",
          "2009",
          "2010",
          "2011",
          "2012",
          "2013",
          "2014",
          "2015",
          "2016",
          "2017",
          "2018",
          "2019",
          "2020",
          "2021"
         ],
         "y": [
          0.528,
          0.496,
          0.524,
          0.545,
          0.543,
          0.532,
          0.551,
          0.558,
          0.571,
          0.582,
          0.589,
          0.596,
          0.598,
          0.579,
          0.602,
          0.606,
          0.604,
          0.607,
          0.623,
          0.633,
          0.64,
          0.649,
          0.66,
          0.667,
          0.67,
          0.675,
          0.679,
          0.685,
          0.692,
          0.696,
          0.679,
          0.686
         ]
        },
        {
         "hovertemplate": "Year: %{x}<br>HDI: %{y}",
         "line": {
          "color": "rgb(1,147,178)",
          "width": 0.5
         },
         "mode": "lines",
         "name": "Ireland",
         "showlegend": true,
         "type": "scatter",
         "x": [
          "1990",
          "1991",
          "1992",
          "1993",
          "1994",
          "1995",
          "1996",
          "1997",
          "1998",
          "1999",
          "2000",
          "2001",
          "2002",
          "2003",
          "2004",
          "2005",
          "2006",
          "2007",
          "2008",
          "2009",
          "2010",
          "2011",
          "2012",
          "2013",
          "2014",
          "2015",
          "2016",
          "2017",
          "2018",
          "2019",
          "2020",
          "2021"
         ],
         "y": [
          0.737,
          0.743,
          0.751,
          0.76,
          0.771,
          0.777,
          0.785,
          0.794,
          0.83,
          0.837,
          0.847,
          0.855,
          0.864,
          0.873,
          0.881,
          0.888,
          0.891,
          0.896,
          0.899,
          0.895,
          0.904,
          0.902,
          0.903,
          0.908,
          0.914,
          0.925,
          0.929,
          0.934,
          0.937,
          0.942,
          0.943,
          0.945
         ]
        },
        {
         "hovertemplate": "Year: %{x}<br>HDI: %{y}",
         "line": {
          "color": "rgb(1,95,207)",
          "width": 0.5
         },
         "mode": "lines",
         "name": "Israel",
         "showlegend": true,
         "type": "scatter",
         "x": [
          "1990",
          "1991",
          "1992",
          "1993",
          "1994",
          "1995",
          "1996",
          "1997",
          "1998",
          "1999",
          "2000",
          "2001",
          "2002",
          "2003",
          "2004",
          "2005",
          "2006",
          "2007",
          "2008",
          "2009",
          "2010",
          "2011",
          "2012",
          "2013",
          "2014",
          "2015",
          "2016",
          "2017",
          "2018",
          "2019",
          "2020",
          "2021"
         ],
         "y": [
          0.787,
          0.793,
          0.797,
          0.804,
          0.808,
          0.811,
          0.818,
          0.825,
          0.833,
          0.841,
          0.844,
          0.848,
          0.854,
          0.855,
          0.858,
          0.866,
          0.874,
          0.885,
          0.885,
          0.889,
          0.894,
          0.897,
          0.898,
          0.904,
          0.908,
          0.909,
          0.913,
          0.917,
          0.919,
          0.921,
          0.917,
          0.919
         ]
        },
        {
         "hovertemplate": "Year: %{x}<br>HDI: %{y}",
         "line": {
          "color": "rgb(1,106,201)",
          "width": 0.5
         },
         "mode": "lines",
         "name": "Italy",
         "showlegend": true,
         "type": "scatter",
         "x": [
          "1990",
          "1991",
          "1992",
          "1993",
          "1994",
          "1995",
          "1996",
          "1997",
          "1998",
          "1999",
          "2000",
          "2001",
          "2002",
          "2003",
          "2004",
          "2005",
          "2006",
          "2007",
          "2008",
          "2009",
          "2010",
          "2011",
          "2012",
          "2013",
          "2014",
          "2015",
          "2016",
          "2017",
          "2018",
          "2019",
          "2020",
          "2021"
         ],
         "y": [
          0.778,
          0.783,
          0.789,
          0.795,
          0.804,
          0.81,
          0.816,
          0.824,
          0.829,
          0.835,
          0.841,
          0.849,
          0.853,
          0.858,
          0.865,
          0.868,
          0.873,
          0.877,
          0.878,
          0.878,
          0.882,
          0.885,
          0.883,
          0.882,
          0.883,
          0.882,
          0.887,
          0.888,
          0.893,
          0.897,
          0.889,
          0.895
         ]
        },
        {
         "hovertemplate": "Year: %{x}<br>HDI: %{y}",
         "line": {
          "color": "rgb(219,215,32)",
          "width": 0.5
         },
         "mode": "lines",
         "name": "Ivory Coast",
         "showlegend": true,
         "type": "scatter",
         "x": [
          "1990",
          "1991",
          "1992",
          "1993",
          "1994",
          "1995",
          "1996",
          "1997",
          "1998",
          "1999",
          "2000",
          "2001",
          "2002",
          "2003",
          "2004",
          "2005",
          "2006",
          "2007",
          "2008",
          "2009",
          "2010",
          "2011",
          "2012",
          "2013",
          "2014",
          "2015",
          "2016",
          "2017",
          "2018",
          "2019",
          "2020",
          "2021"
         ],
         "y": [
          0.427,
          0.428,
          0.43,
          0.433,
          0.436,
          0.442,
          0.448,
          0.456,
          0.461,
          0.459,
          0.457,
          0.456,
          0.454,
          0.453,
          0.455,
          0.456,
          0.458,
          0.461,
          0.464,
          0.469,
          0.473,
          0.472,
          0.477,
          0.483,
          0.502,
          0.513,
          0.524,
          0.534,
          0.542,
          0.55,
          0.551,
          0.55
         ]
        },
        {
         "hovertemplate": "Year: %{x}<br>HDI: %{y}",
         "line": {
          "color": "rgb(37,215,132)",
          "width": 0.5
         },
         "mode": "lines",
         "name": "Jamaica",
         "showlegend": true,
         "type": "scatter",
         "x": [
          "1990",
          "1991",
          "1992",
          "1993",
          "1994",
          "1995",
          "1996",
          "1997",
          "1998",
          "1999",
          "2000",
          "2001",
          "2002",
          "2003",
          "2004",
          "2005",
          "2006",
          "2007",
          "2008",
          "2009",
          "2010",
          "2011",
          "2012",
          "2013",
          "2014",
          "2015",
          "2016",
          "2017",
          "2018",
          "2019",
          "2020",
          "2021"
         ],
         "y": [
          0.659,
          0.662,
          0.663,
          0.667,
          0.668,
          0.669,
          0.669,
          0.668,
          0.666,
          0.667,
          0.664,
          0.673,
          0.677,
          0.671,
          0.687,
          0.69,
          0.694,
          0.697,
          0.7,
          0.7,
          0.704,
          0.709,
          0.713,
          0.714,
          0.714,
          0.713,
          0.712,
          0.715,
          0.716,
          0.719,
          0.713,
          0.709
         ]
        },
        {
         "hovertemplate": "Year: %{x}<br>HDI: %{y}",
         "line": {
          "color": "rgb(1,28,241)",
          "width": 0.5
         },
         "mode": "lines",
         "name": "Japan",
         "showlegend": true,
         "type": "scatter",
         "x": [
          "1990",
          "1991",
          "1992",
          "1993",
          "1994",
          "1995",
          "1996",
          "1997",
          "1998",
          "1999",
          "2000",
          "2001",
          "2002",
          "2003",
          "2004",
          "2005",
          "2006",
          "2007",
          "2008",
          "2009",
          "2010",
          "2011",
          "2012",
          "2013",
          "2014",
          "2015",
          "2016",
          "2017",
          "2018",
          "2019",
          "2020",
          "2021"
         ],
         "y": [
          0.845,
          0.849,
          0.85,
          0.855,
          0.861,
          0.863,
          0.868,
          0.871,
          0.871,
          0.872,
          0.877,
          0.88,
          0.882,
          0.884,
          0.888,
          0.889,
          0.892,
          0.895,
          0.895,
          0.896,
          0.898,
          0.899,
          0.905,
          0.91,
          0.914,
          0.918,
          0.921,
          0.922,
          0.923,
          0.924,
          0.923,
          0.925
         ]
        },
        {
         "hovertemplate": "Year: %{x}<br>HDI: %{y}",
         "line": {
          "color": "rgb(65,236,113)",
          "width": 0.5
         },
         "mode": "lines",
         "name": "Jordan",
         "showlegend": true,
         "type": "scatter",
         "x": [
          "1990",
          "1991",
          "1992",
          "1993",
          "1994",
          "1995",
          "1996",
          "1997",
          "1998",
          "1999",
          "2000",
          "2001",
          "2002",
          "2003",
          "2004",
          "2005",
          "2006",
          "2007",
          "2008",
          "2009",
          "2010",
          "2011",
          "2012",
          "2013",
          "2014",
          "2015",
          "2016",
          "2017",
          "2018",
          "2019",
          "2020",
          "2021"
         ],
         "y": [
          0.622,
          0.625,
          0.637,
          0.641,
          0.644,
          0.651,
          0.655,
          0.661,
          0.666,
          0.671,
          0.678,
          0.685,
          0.692,
          0.698,
          0.709,
          0.716,
          0.722,
          0.729,
          0.734,
          0.731,
          0.725,
          0.721,
          0.721,
          0.719,
          0.719,
          0.718,
          0.718,
          0.718,
          0.723,
          0.727,
          0.723,
          0.72
         ]
        },
        {
         "hovertemplate": "Year: %{x}<br>HDI: %{y}",
         "line": {
          "color": "rgb(33,212,135)",
          "width": 0.5
         },
         "mode": "lines",
         "name": "Kazakhstan",
         "showlegend": true,
         "type": "scatter",
         "x": [
          "1990",
          "1991",
          "1992",
          "1993",
          "1994",
          "1995",
          "1996",
          "1997",
          "1998",
          "1999",
          "2000",
          "2001",
          "2002",
          "2003",
          "2004",
          "2005",
          "2006",
          "2007",
          "2008",
          "2009",
          "2010",
          "2011",
          "2012",
          "2013",
          "2014",
          "2015",
          "2016",
          "2017",
          "2018",
          "2019",
          "2020",
          "2021"
         ],
         "y": [
          0.673,
          0.668,
          0.667,
          0.663,
          0.657,
          0.655,
          0.659,
          0.663,
          0.666,
          0.671,
          0.68,
          0.695,
          0.706,
          0.718,
          0.73,
          0.739,
          0.752,
          0.758,
          0.758,
          0.761,
          0.767,
          0.775,
          0.783,
          0.792,
          0.799,
          0.805,
          0.805,
          0.811,
          0.814,
          0.819,
          0.814,
          0.811
         ]
        },
        {
         "hovertemplate": "Year: %{x}<br>HDI: %{y}",
         "line": {
          "color": "rgb(183,240,47)",
          "width": 0.5
         },
         "mode": "lines",
         "name": "Kenya",
         "showlegend": true,
         "type": "scatter",
         "x": [
          "1990",
          "1991",
          "1992",
          "1993",
          "1994",
          "1995",
          "1996",
          "1997",
          "1998",
          "1999",
          "2000",
          "2001",
          "2002",
          "2003",
          "2004",
          "2005",
          "2006",
          "2007",
          "2008",
          "2009",
          "2010",
          "2011",
          "2012",
          "2013",
          "2014",
          "2015",
          "2016",
          "2017",
          "2018",
          "2019",
          "2020",
          "2021"
         ],
         "y": [
          0.474,
          0.474,
          0.473,
          0.471,
          0.473,
          0.475,
          0.477,
          0.477,
          0.479,
          0.48,
          0.481,
          0.485,
          0.485,
          0.495,
          0.508,
          0.516,
          0.525,
          0.533,
          0.539,
          0.539,
          0.545,
          0.55,
          0.552,
          0.554,
          0.558,
          0.561,
          0.569,
          0.572,
          0.577,
          0.581,
          0.578,
          0.575
         ]
        },
        {
         "hovertemplate": "Year: %{x}<br>HDI: %{y}",
         "line": {
          "color": "rgb(23,203,142)",
          "width": 0.5
         },
         "mode": "lines",
         "name": "Kuwait",
         "showlegend": true,
         "type": "scatter",
         "x": [
          "1990",
          "1991",
          "1992",
          "1993",
          "1994",
          "1995",
          "1996",
          "1997",
          "1998",
          "1999",
          "2000",
          "2001",
          "2002",
          "2003",
          "2004",
          "2005",
          "2006",
          "2007",
          "2008",
          "2009",
          "2010",
          "2011",
          "2012",
          "2013",
          "2014",
          "2015",
          "2016",
          "2017",
          "2018",
          "2019",
          "2020",
          "2021"
         ],
         "y": [
          0.718,
          0.68,
          0.678,
          0.705,
          0.733,
          0.759,
          0.782,
          0.786,
          0.789,
          0.787,
          0.787,
          0.781,
          0.784,
          0.793,
          0.797,
          0.798,
          0.799,
          0.802,
          0.807,
          0.81,
          0.813,
          0.82,
          0.826,
          0.819,
          0.823,
          0.83,
          0.833,
          0.835,
          0.836,
          0.839,
          0.822,
          0.831
         ]
        },
        {
         "hovertemplate": "Year: %{x}<br>HDI: %{y}",
         "line": {
          "color": "rgb(61,233,116)",
          "width": 0.5
         },
         "mode": "lines",
         "name": "Kyrgyzstan",
         "showlegend": true,
         "type": "scatter",
         "x": [
          "1990",
          "1991",
          "1992",
          "1993",
          "1994",
          "1995",
          "1996",
          "1997",
          "1998",
          "1999",
          "2000",
          "2001",
          "2002",
          "2003",
          "2004",
          "2005",
          "2006",
          "2007",
          "2008",
          "2009",
          "2010",
          "2011",
          "2012",
          "2013",
          "2014",
          "2015",
          "2016",
          "2017",
          "2018",
          "2019",
          "2020",
          "2021"
         ],
         "y": [
          0.638,
          0.632,
          0.622,
          0.609,
          0.591,
          0.587,
          0.594,
          0.603,
          0.609,
          0.616,
          0.621,
          0.63,
          0.631,
          0.64,
          0.643,
          0.644,
          0.65,
          0.656,
          0.66,
          0.663,
          0.664,
          0.665,
          0.675,
          0.682,
          0.688,
          0.69,
          0.693,
          0.696,
          0.698,
          0.698,
          0.689,
          0.692
         ]
        },
        {
         "hovertemplate": "Year: %{x}<br>HDI: %{y}",
         "line": {
          "color": "rgb(233,203,27)",
          "width": 0.5
         },
         "mode": "lines",
         "name": "Lao",
         "showlegend": true,
         "type": "scatter",
         "x": [
          "1990",
          "1991",
          "1992",
          "1993",
          "1994",
          "1995",
          "1996",
          "1997",
          "1998",
          "1999",
          "2000",
          "2001",
          "2002",
          "2003",
          "2004",
          "2005",
          "2006",
          "2007",
          "2008",
          "2009",
          "2010",
          "2011",
          "2012",
          "2013",
          "2014",
          "2015",
          "2016",
          "2017",
          "2018",
          "2019",
          "2020",
          "2021"
         ],
         "y": [
          0.405,
          0.412,
          0.417,
          0.424,
          0.432,
          0.434,
          0.447,
          0.454,
          0.46,
          0.466,
          0.47,
          0.476,
          0.484,
          0.493,
          0.5,
          0.51,
          0.511,
          0.525,
          0.532,
          0.543,
          0.551,
          0.563,
          0.572,
          0.582,
          0.592,
          0.599,
          0.604,
          0.607,
          0.607,
          0.61,
          0.608,
          0.607
         ]
        },
        {
         "hovertemplate": "Year: %{x}<br>HDI: %{y}",
         "line": {
          "color": "rgb(1,164,168)",
          "width": 0.5
         },
         "mode": "lines",
         "name": "Latvia",
         "showlegend": true,
         "type": "scatter",
         "x": [
          "1990",
          "1991",
          "1992",
          "1993",
          "1994",
          "1995",
          "1996",
          "1997",
          "1998",
          "1999",
          "2000",
          "2001",
          "2002",
          "2003",
          "2004",
          "2005",
          "2006",
          "2007",
          "2008",
          "2009",
          "2010",
          "2011",
          "2012",
          "2013",
          "2014",
          "2015",
          "2016",
          "2017",
          "2018",
          "2019",
          "2020",
          "2021"
         ],
         "y": [
          0.73,
          0.727,
          0.706,
          0.69,
          0.687,
          0.696,
          0.711,
          0.722,
          0.733,
          0.746,
          0.756,
          0.767,
          0.778,
          0.787,
          0.799,
          0.808,
          0.815,
          0.82,
          0.827,
          0.826,
          0.824,
          0.831,
          0.833,
          0.843,
          0.846,
          0.85,
          0.855,
          0.86,
          0.866,
          0.871,
          0.871,
          0.863
         ]
        },
        {
         "hovertemplate": "Year: %{x}<br>HDI: %{y}",
         "line": {
          "color": "rgb(181,241,48)",
          "width": 0.5
         },
         "mode": "lines",
         "name": "Lesotho",
         "showlegend": true,
         "type": "scatter",
         "x": [
          "1990",
          "1991",
          "1992",
          "1993",
          "1994",
          "1995",
          "1996",
          "1997",
          "1998",
          "1999",
          "2000",
          "2001",
          "2002",
          "2003",
          "2004",
          "2005",
          "2006",
          "2007",
          "2008",
          "2009",
          "2010",
          "2011",
          "2012",
          "2013",
          "2014",
          "2015",
          "2016",
          "2017",
          "2018",
          "2019",
          "2020",
          "2021"
         ],
         "y": [
          0.479,
          0.478,
          0.476,
          0.472,
          0.475,
          0.472,
          0.467,
          0.462,
          0.46,
          0.452,
          0.452,
          0.448,
          0.446,
          0.449,
          0.448,
          0.448,
          0.446,
          0.452,
          0.457,
          0.457,
          0.467,
          0.475,
          0.486,
          0.49,
          0.496,
          0.503,
          0.514,
          0.518,
          0.522,
          0.524,
          0.521,
          0.514
         ]
        },
        {
         "hovertemplate": "Year: %{x}<br>HDI: %{y}",
         "line": {
          "color": "rgb(25,205,140)",
          "width": 0.5
         },
         "mode": "lines",
         "name": "Libya",
         "showlegend": true,
         "type": "scatter",
         "x": [
          "1990",
          "1991",
          "1992",
          "1993",
          "1994",
          "1995",
          "1996",
          "1997",
          "1998",
          "1999",
          "2000",
          "2001",
          "2002",
          "2003",
          "2004",
          "2005",
          "2006",
          "2007",
          "2008",
          "2009",
          "2010",
          "2011",
          "2012",
          "2013",
          "2014",
          "2015",
          "2016",
          "2017",
          "2018",
          "2019",
          "2020",
          "2021"
         ],
         "y": [
          0.666,
          0.677,
          0.681,
          0.684,
          0.689,
          0.694,
          0.699,
          0.704,
          0.706,
          0.709,
          0.712,
          0.716,
          0.716,
          0.724,
          0.731,
          0.735,
          0.739,
          0.741,
          0.741,
          0.738,
          0.739,
          0.69,
          0.726,
          0.716,
          0.699,
          0.699,
          0.696,
          0.714,
          0.722,
          0.722,
          0.703,
          0.718
         ]
        },
        {
         "hovertemplate": "Year: %{x}<br>HDI: %{y}",
         "line": {
          "color": "rgb(1,162,169)",
          "width": 0.5
         },
         "mode": "lines",
         "name": "Lithuania",
         "showlegend": true,
         "type": "scatter",
         "x": [
          "1990",
          "1991",
          "1992",
          "1993",
          "1994",
          "1995",
          "1996",
          "1997",
          "1998",
          "1999",
          "2000",
          "2001",
          "2002",
          "2003",
          "2004",
          "2005",
          "2006",
          "2007",
          "2008",
          "2009",
          "2010",
          "2011",
          "2012",
          "2013",
          "2014",
          "2015",
          "2016",
          "2017",
          "2018",
          "2019",
          "2020",
          "2021"
         ],
         "y": [
          0.734,
          0.729,
          0.714,
          0.697,
          0.693,
          0.701,
          0.717,
          0.732,
          0.744,
          0.753,
          0.766,
          0.776,
          0.786,
          0.8,
          0.809,
          0.817,
          0.823,
          0.83,
          0.84,
          0.839,
          0.842,
          0.849,
          0.851,
          0.854,
          0.861,
          0.862,
          0.868,
          0.876,
          0.88,
          0.884,
          0.879,
          0.875
         ]
        },
        {
         "hovertemplate": "Year: %{x}<br>HDI: %{y}",
         "line": {
          "color": "rgb(1,92,209)",
          "width": 0.5
         },
         "mode": "lines",
         "name": "Luxembourg",
         "showlegend": true,
         "type": "scatter",
         "x": [
          "1990",
          "1991",
          "1992",
          "1993",
          "1994",
          "1995",
          "1996",
          "1997",
          "1998",
          "1999",
          "2000",
          "2001",
          "2002",
          "2003",
          "2004",
          "2005",
          "2006",
          "2007",
          "2008",
          "2009",
          "2010",
          "2011",
          "2012",
          "2013",
          "2014",
          "2015",
          "2016",
          "2017",
          "2018",
          "2019",
          "2020",
          "2021"
         ],
         "y": [
          0.786,
          0.796,
          0.8,
          0.81,
          0.819,
          0.824,
          0.832,
          0.839,
          0.846,
          0.861,
          0.864,
          0.869,
          0.874,
          0.873,
          0.882,
          0.884,
          0.885,
          0.887,
          0.9,
          0.905,
          0.912,
          0.913,
          0.916,
          0.921,
          0.926,
          0.915,
          0.923,
          0.919,
          0.922,
          0.927,
          0.924,
          0.93
         ]
        },
        {
         "hovertemplate": "Year: %{x}<br>HDI: %{y}",
         "line": {
          "color": "rgb(198,106,6)",
          "width": 0.5
         },
         "mode": "lines",
         "name": "Malawi",
         "showlegend": true,
         "type": "scatter",
         "x": [
          "1990",
          "1991",
          "1992",
          "1993",
          "1994",
          "1995",
          "1996",
          "1997",
          "1998",
          "1999",
          "2000",
          "2001",
          "2002",
          "2003",
          "2004",
          "2005",
          "2006",
          "2007",
          "2008",
          "2009",
          "2010",
          "2011",
          "2012",
          "2013",
          "2014",
          "2015",
          "2016",
          "2017",
          "2018",
          "2019",
          "2020",
          "2021"
         ],
         "y": [
          0.303,
          0.309,
          0.319,
          0.327,
          0.326,
          0.367,
          0.368,
          0.369,
          0.369,
          0.375,
          0.374,
          0.38,
          0.386,
          0.393,
          0.4,
          0.406,
          0.415,
          0.423,
          0.433,
          0.445,
          0.456,
          0.463,
          0.47,
          0.478,
          0.487,
          0.491,
          0.498,
          0.505,
          0.51,
          0.519,
          0.516,
          0.512
         ]
        },
        {
         "hovertemplate": "Year: %{x}<br>HDI: %{y}",
         "line": {
          "color": "rgb(47,223,125)",
          "width": 0.5
         },
         "mode": "lines",
         "name": "Malaysia",
         "showlegend": true,
         "type": "scatter",
         "x": [
          "1990",
          "1991",
          "1992",
          "1993",
          "1994",
          "1995",
          "1996",
          "1997",
          "1998",
          "1999",
          "2000",
          "2001",
          "2002",
          "2003",
          "2004",
          "2005",
          "2006",
          "2007",
          "2008",
          "2009",
          "2010",
          "2011",
          "2012",
          "2013",
          "2014",
          "2015",
          "2016",
          "2017",
          "2018",
          "2019",
          "2020",
          "2021"
         ],
         "y": [
          0.64,
          0.648,
          0.656,
          0.663,
          0.671,
          0.679,
          0.689,
          0.7,
          0.703,
          0.709,
          0.721,
          0.722,
          0.724,
          0.732,
          0.735,
          0.732,
          0.736,
          0.747,
          0.756,
          0.762,
          0.769,
          0.773,
          0.78,
          0.785,
          0.792,
          0.797,
          0.803,
          0.805,
          0.807,
          0.81,
          0.806,
          0.803
         ]
        },
        {
         "hovertemplate": "Year: %{x}<br>HDI: %{y}",
         "line": {
          "color": "rgb(148,31,1)",
          "width": 0.5
         },
         "mode": "lines",
         "name": "Mali",
         "showlegend": true,
         "type": "scatter",
         "x": [
          "1990",
          "1991",
          "1992",
          "1993",
          "1994",
          "1995",
          "1996",
          "1997",
          "1998",
          "1999",
          "2000",
          "2001",
          "2002",
          "2003",
          "2004",
          "2005",
          "2006",
          "2007",
          "2008",
          "2009",
          "2010",
          "2011",
          "2012",
          "2013",
          "2014",
          "2015",
          "2016",
          "2017",
          "2018",
          "2019",
          "2020",
          "2021"
         ],
         "y": [
          0.237,
          0.245,
          0.249,
          0.257,
          0.264,
          0.27,
          0.277,
          0.289,
          0.299,
          0.311,
          0.317,
          0.329,
          0.338,
          0.35,
          0.357,
          0.366,
          0.375,
          0.382,
          0.39,
          0.397,
          0.404,
          0.409,
          0.407,
          0.407,
          0.415,
          0.416,
          0.421,
          0.426,
          0.43,
          0.433,
          0.427,
          0.428
         ]
        },
        {
         "hovertemplate": "Year: %{x}<br>HDI: %{y}",
         "line": {
          "color": "rgb(1,157,172)",
          "width": 0.5
         },
         "mode": "lines",
         "name": "Malta",
         "showlegend": true,
         "type": "scatter",
         "x": [
          "1990",
          "1991",
          "1992",
          "1993",
          "1994",
          "1995",
          "1996",
          "1997",
          "1998",
          "1999",
          "2000",
          "2001",
          "2002",
          "2003",
          "2004",
          "2005",
          "2006",
          "2007",
          "2008",
          "2009",
          "2010",
          "2011",
          "2012",
          "2013",
          "2014",
          "2015",
          "2016",
          "2017",
          "2018",
          "2019",
          "2020",
          "2021"
         ],
         "y": [
          0.73,
          0.733,
          0.737,
          0.747,
          0.751,
          0.758,
          0.756,
          0.766,
          0.776,
          0.78,
          0.779,
          0.796,
          0.8,
          0.812,
          0.825,
          0.832,
          0.831,
          0.837,
          0.841,
          0.847,
          0.861,
          0.857,
          0.864,
          0.872,
          0.881,
          0.889,
          0.891,
          0.901,
          0.91,
          0.915,
          0.911,
          0.918
         ]
        },
        {
         "hovertemplate": "Year: %{x}<br>HDI: %{y}",
         "line": {
          "color": "rgb(241,195,25)",
          "width": 0.5
         },
         "mode": "lines",
         "name": "Mauritania",
         "showlegend": true,
         "type": "scatter",
         "x": [
          "1990",
          "1991",
          "1992",
          "1993",
          "1994",
          "1995",
          "1996",
          "1997",
          "1998",
          "1999",
          "2000",
          "2001",
          "2002",
          "2003",
          "2004",
          "2005",
          "2006",
          "2007",
          "2008",
          "2009",
          "2010",
          "2011",
          "2012",
          "2013",
          "2014",
          "2015",
          "2016",
          "2017",
          "2018",
          "2019",
          "2020",
          "2021"
         ],
         "y": [
          0.397,
          0.402,
          0.411,
          0.423,
          0.435,
          0.441,
          0.449,
          0.45,
          0.459,
          0.465,
          0.465,
          0.466,
          0.47,
          0.475,
          0.486,
          0.49,
          0.5,
          0.499,
          0.499,
          0.508,
          0.51,
          0.515,
          0.523,
          0.531,
          0.537,
          0.544,
          0.541,
          0.545,
          0.556,
          0.563,
          0.556,
          0.556
         ]
        },
        {
         "hovertemplate": "Year: %{x}<br>HDI: %{y}",
         "line": {
          "color": "rgb(59,232,117)",
          "width": 0.5
         },
         "mode": "lines",
         "name": "Mauritius",
         "showlegend": true,
         "type": "scatter",
         "x": [
          "1990",
          "1991",
          "1992",
          "1993",
          "1994",
          "1995",
          "1996",
          "1997",
          "1998",
          "1999",
          "2000",
          "2001",
          "2002",
          "2003",
          "2004",
          "2005",
          "2006",
          "2007",
          "2008",
          "2009",
          "2010",
          "2011",
          "2012",
          "2013",
          "2014",
          "2015",
          "2016",
          "2017",
          "2018",
          "2019",
          "2020",
          "2021"
         ],
         "y": [
          0.626,
          0.633,
          0.639,
          0.643,
          0.646,
          0.651,
          0.654,
          0.66,
          0.667,
          0.674,
          0.681,
          0.69,
          0.694,
          0.703,
          0.71,
          0.719,
          0.726,
          0.734,
          0.741,
          0.749,
          0.755,
          0.762,
          0.775,
          0.782,
          0.793,
          0.795,
          0.801,
          0.805,
          0.811,
          0.817,
          0.804,
          0.802
         ]
        },
        {
         "hovertemplate": "Year: %{x}<br>HDI: %{y}",
         "line": {
          "color": "rgb(35,214,133)",
          "width": 0.5
         },
         "mode": "lines",
         "name": "Mexico",
         "showlegend": true,
         "type": "scatter",
         "x": [
          "1990",
          "1991",
          "1992",
          "1993",
          "1994",
          "1995",
          "1996",
          "1997",
          "1998",
          "1999",
          "2000",
          "2001",
          "2002",
          "2003",
          "2004",
          "2005",
          "2006",
          "2007",
          "2008",
          "2009",
          "2010",
          "2011",
          "2012",
          "2013",
          "2014",
          "2015",
          "2016",
          "2017",
          "2018",
          "2019",
          "2020",
          "2021"
         ],
         "y": [
          0.662,
          0.664,
          0.667,
          0.669,
          0.674,
          0.674,
          0.681,
          0.688,
          0.696,
          0.702,
          0.709,
          0.712,
          0.719,
          0.725,
          0.73,
          0.733,
          0.741,
          0.743,
          0.745,
          0.745,
          0.746,
          0.752,
          0.76,
          0.76,
          0.764,
          0.768,
          0.772,
          0.775,
          0.777,
          0.779,
          0.756,
          0.758
         ]
        },
        {
         "hovertemplate": "Year: %{x}<br>HDI: %{y}",
         "line": {
          "color": "rgb(51,226,123)",
          "width": 0.5
         },
         "mode": "lines",
         "name": "Moldova",
         "showlegend": true,
         "type": "scatter",
         "x": [
          "1990",
          "1991",
          "1992",
          "1993",
          "1994",
          "1995",
          "1996",
          "1997",
          "1998",
          "1999",
          "2000",
          "2001",
          "2002",
          "2003",
          "2004",
          "2005",
          "2006",
          "2007",
          "2008",
          "2009",
          "2010",
          "2011",
          "2012",
          "2013",
          "2014",
          "2015",
          "2016",
          "2017",
          "2018",
          "2019",
          "2020",
          "2021"
         ],
         "y": [
          0.653,
          0.644,
          0.632,
          0.634,
          0.614,
          0.618,
          0.617,
          0.626,
          0.628,
          0.631,
          0.641,
          0.652,
          0.663,
          0.674,
          0.685,
          0.695,
          0.704,
          0.713,
          0.723,
          0.723,
          0.73,
          0.736,
          0.741,
          0.746,
          0.75,
          0.749,
          0.756,
          0.765,
          0.768,
          0.774,
          0.766,
          0.767
         ]
        },
        {
         "hovertemplate": "Year: %{x}<br>HDI: %{y}",
         "line": {
          "color": "rgb(105,252,88)",
          "width": 0.5
         },
         "mode": "lines",
         "name": "Mongolia",
         "showlegend": true,
         "type": "scatter",
         "x": [
          "1990",
          "1991",
          "1992",
          "1993",
          "1994",
          "1995",
          "1996",
          "1997",
          "1998",
          "1999",
          "2000",
          "2001",
          "2002",
          "2003",
          "2004",
          "2005",
          "2006",
          "2007",
          "2008",
          "2009",
          "2010",
          "2011",
          "2012",
          "2013",
          "2014",
          "2015",
          "2016",
          "2017",
          "2018",
          "2019",
          "2020",
          "2021"
         ],
         "y": [
          0.579,
          0.575,
          0.564,
          0.551,
          0.555,
          0.56,
          0.564,
          0.572,
          0.583,
          0.591,
          0.598,
          0.609,
          0.617,
          0.631,
          0.647,
          0.658,
          0.669,
          0.68,
          0.691,
          0.695,
          0.701,
          0.709,
          0.718,
          0.726,
          0.729,
          0.732,
          0.733,
          0.732,
          0.743,
          0.746,
          0.745,
          0.739
         ]
        },
        {
         "hovertemplate": "Year: %{x}<br>HDI: %{y}",
         "line": {
          "color": "rgb(201,229,40)",
          "width": 0.5
         },
         "mode": "lines",
         "name": "Morocco",
         "showlegend": true,
         "type": "scatter",
         "x": [
          "1990",
          "1991",
          "1992",
          "1993",
          "1994",
          "1995",
          "1996",
          "1997",
          "1998",
          "1999",
          "2000",
          "2001",
          "2002",
          "2003",
          "2004",
          "2005",
          "2006",
          "2007",
          "2008",
          "2009",
          "2010",
          "2011",
          "2012",
          "2013",
          "2014",
          "2015",
          "2016",
          "2017",
          "2018",
          "2019",
          "2020",
          "2021"
         ],
         "y": [
          0.447,
          0.453,
          0.457,
          0.463,
          0.475,
          0.478,
          0.49,
          0.494,
          0.501,
          0.511,
          0.521,
          0.532,
          0.542,
          0.552,
          0.56,
          0.567,
          0.573,
          0.581,
          0.588,
          0.594,
          0.603,
          0.614,
          0.624,
          0.635,
          0.644,
          0.654,
          0.661,
          0.67,
          0.676,
          0.682,
          0.679,
          0.683
         ]
        },
        {
         "hovertemplate": "Year: %{x}<br>HDI: %{y}",
         "line": {
          "color": "rgb(144,25,1)",
          "width": 0.5
         },
         "mode": "lines",
         "name": "Mozambique",
         "showlegend": true,
         "type": "scatter",
         "x": [
          "1990",
          "1991",
          "1992",
          "1993",
          "1994",
          "1995",
          "1996",
          "1997",
          "1998",
          "1999",
          "2000",
          "2001",
          "2002",
          "2003",
          "2004",
          "2005",
          "2006",
          "2007",
          "2008",
          "2009",
          "2010",
          "2011",
          "2012",
          "2013",
          "2014",
          "2015",
          "2016",
          "2017",
          "2018",
          "2019",
          "2020",
          "2021"
         ],
         "y": [
          0.238,
          0.24,
          0.234,
          0.239,
          0.242,
          0.247,
          0.259,
          0.272,
          0.283,
          0.296,
          0.303,
          0.316,
          0.324,
          0.337,
          0.347,
          0.357,
          0.364,
          0.377,
          0.387,
          0.395,
          0.402,
          0.407,
          0.413,
          0.427,
          0.433,
          0.44,
          0.443,
          0.445,
          0.451,
          0.456,
          0.453,
          0.446
         ]
        },
        {
         "hovertemplate": "Year: %{x}<br>HDI: %{y}",
         "line": {
          "color": "rgb(224,142,12)",
          "width": 0.5
         },
         "mode": "lines",
         "name": "Myanmar",
         "showlegend": true,
         "type": "scatter",
         "x": [
          "1990",
          "1991",
          "1992",
          "1993",
          "1994",
          "1995",
          "1996",
          "1997",
          "1998",
          "1999",
          "2000",
          "2001",
          "2002",
          "2003",
          "2004",
          "2005",
          "2006",
          "2007",
          "2008",
          "2009",
          "2010",
          "2011",
          "2012",
          "2013",
          "2014",
          "2015",
          "2016",
          "2017",
          "2018",
          "2019",
          "2020",
          "2021"
         ],
         "y": [
          0.333,
          0.343,
          0.356,
          0.363,
          0.369,
          0.374,
          0.381,
          0.385,
          0.392,
          0.401,
          0.41,
          0.42,
          0.43,
          0.44,
          0.45,
          0.46,
          0.47,
          0.48,
          0.465,
          0.501,
          0.51,
          0.521,
          0.531,
          0.543,
          0.553,
          0.562,
          0.572,
          0.58,
          0.59,
          0.598,
          0.6,
          0.585
         ]
        },
        {
         "hovertemplate": "Year: %{x}<br>HDI: %{y}",
         "line": {
          "color": "rgb(97,250,93)",
          "width": 0.5
         },
         "mode": "lines",
         "name": "Namibia",
         "showlegend": true,
         "type": "scatter",
         "x": [
          "1990",
          "1991",
          "1992",
          "1993",
          "1994",
          "1995",
          "1996",
          "1997",
          "1998",
          "1999",
          "2000",
          "2001",
          "2002",
          "2003",
          "2004",
          "2005",
          "2006",
          "2007",
          "2008",
          "2009",
          "2010",
          "2011",
          "2012",
          "2013",
          "2014",
          "2015",
          "2016",
          "2017",
          "2018",
          "2019",
          "2020",
          "2021"
         ],
         "y": [
          0.579,
          0.585,
          0.588,
          0.588,
          0.587,
          0.582,
          0.571,
          0.562,
          0.557,
          0.548,
          0.546,
          0.543,
          0.545,
          0.548,
          0.552,
          0.555,
          0.561,
          0.569,
          0.576,
          0.581,
          0.585,
          0.592,
          0.601,
          0.611,
          0.621,
          0.628,
          0.632,
          0.635,
          0.636,
          0.639,
          0.633,
          0.615
         ]
        },
        {
         "hovertemplate": "Year: %{x}<br>HDI: %{y}",
         "line": {
          "color": "rgb(235,201,27)",
          "width": 0.5
         },
         "mode": "lines",
         "name": "Nepal",
         "showlegend": true,
         "type": "scatter",
         "x": [
          "1990",
          "1991",
          "1992",
          "1993",
          "1994",
          "1995",
          "1996",
          "1997",
          "1998",
          "1999",
          "2000",
          "2001",
          "2002",
          "2003",
          "2004",
          "2005",
          "2006",
          "2007",
          "2008",
          "2009",
          "2010",
          "2011",
          "2012",
          "2013",
          "2014",
          "2015",
          "2016",
          "2017",
          "2018",
          "2019",
          "2020",
          "2021"
         ],
         "y": [
          0.399,
          0.408,
          0.416,
          0.421,
          0.428,
          0.433,
          0.442,
          0.449,
          0.455,
          0.461,
          0.467,
          0.469,
          0.476,
          0.482,
          0.489,
          0.495,
          0.505,
          0.509,
          0.518,
          0.53,
          0.543,
          0.553,
          0.561,
          0.57,
          0.576,
          0.579,
          0.586,
          0.594,
          0.601,
          0.611,
          0.604,
          0.602
         ]
        },
        {
         "hovertemplate": "Year: %{x}<br>HDI: %{y}",
         "line": {
          "color": "rgb(1,25,243)",
          "width": 0.5
         },
         "mode": "lines",
         "name": "Netherlands",
         "showlegend": true,
         "type": "scatter",
         "x": [
          "1990",
          "1991",
          "1992",
          "1993",
          "1994",
          "1995",
          "1996",
          "1997",
          "1998",
          "1999",
          "2000",
          "2001",
          "2002",
          "2003",
          "2004",
          "2005",
          "2006",
          "2007",
          "2008",
          "2009",
          "2010",
          "2011",
          "2012",
          "2013",
          "2014",
          "2015",
          "2016",
          "2017",
          "2018",
          "2019",
          "2020",
          "2021"
         ],
         "y": [
          0.847,
          0.852,
          0.853,
          0.855,
          0.881,
          0.878,
          0.882,
          0.883,
          0.886,
          0.888,
          0.893,
          0.895,
          0.892,
          0.894,
          0.897,
          0.899,
          0.906,
          0.912,
          0.912,
          0.913,
          0.917,
          0.927,
          0.927,
          0.929,
          0.931,
          0.932,
          0.933,
          0.937,
          0.939,
          0.943,
          0.939,
          0.941
         ]
        },
        {
         "hovertemplate": "Year: %{x}<br>HDI: %{y}",
         "line": {
          "color": "rgb(1,74,218)",
          "width": 0.5
         },
         "mode": "lines",
         "name": "New Zealand",
         "showlegend": true,
         "type": "scatter",
         "x": [
          "1990",
          "1991",
          "1992",
          "1993",
          "1994",
          "1995",
          "1996",
          "1997",
          "1998",
          "1999",
          "2000",
          "2001",
          "2002",
          "2003",
          "2004",
          "2005",
          "2006",
          "2007",
          "2008",
          "2009",
          "2010",
          "2011",
          "2012",
          "2013",
          "2014",
          "2015",
          "2016",
          "2017",
          "2018",
          "2019",
          "2020",
          "2021"
         ],
         "y": [
          0.806,
          0.811,
          0.818,
          0.833,
          0.846,
          0.853,
          0.857,
          0.865,
          0.874,
          0.878,
          0.887,
          0.894,
          0.897,
          0.903,
          0.906,
          0.912,
          0.913,
          0.916,
          0.915,
          0.919,
          0.922,
          0.922,
          0.924,
          0.929,
          0.93,
          0.931,
          0.934,
          0.935,
          0.936,
          0.937,
          0.936,
          0.937
         ]
        },
        {
         "hovertemplate": "Year: %{x}<br>HDI: %{y}",
         "line": {
          "color": "rgb(163,249,57)",
          "width": 0.5
         },
         "mode": "lines",
         "name": "Nicaragua",
         "showlegend": true,
         "type": "scatter",
         "x": [
          "1990",
          "1991",
          "1992",
          "1993",
          "1994",
          "1995",
          "1996",
          "1997",
          "1998",
          "1999",
          "2000",
          "2001",
          "2002",
          "2003",
          "2004",
          "2005",
          "2006",
          "2007",
          "2008",
          "2009",
          "2010",
          "2011",
          "2012",
          "2013",
          "2014",
          "2015",
          "2016",
          "2017",
          "2018",
          "2019",
          "2020",
          "2021"
         ],
         "y": [
          0.49,
          0.5,
          0.505,
          0.508,
          0.513,
          0.522,
          0.532,
          0.542,
          0.544,
          0.559,
          0.566,
          0.571,
          0.575,
          0.578,
          0.582,
          0.588,
          0.593,
          0.599,
          0.605,
          0.606,
          0.614,
          0.622,
          0.629,
          0.634,
          0.641,
          0.647,
          0.653,
          0.659,
          0.662,
          0.664,
          0.654,
          0.667
         ]
        },
        {
         "hovertemplate": "Year: %{x}<br>HDI: %{y}",
         "line": {
          "color": "rgb(128,0,1)",
          "width": 0.5
         },
         "mode": "lines",
         "name": "Niger",
         "showlegend": true,
         "type": "scatter",
         "x": [
          "1990",
          "1991",
          "1992",
          "1993",
          "1994",
          "1995",
          "1996",
          "1997",
          "1998",
          "1999",
          "2000",
          "2001",
          "2002",
          "2003",
          "2004",
          "2005",
          "2006",
          "2007",
          "2008",
          "2009",
          "2010",
          "2011",
          "2012",
          "2013",
          "2014",
          "2015",
          "2016",
          "2017",
          "2018",
          "2019",
          "2020",
          "2021"
         ],
         "y": [
          0.216,
          0.218,
          0.222,
          0.227,
          0.232,
          0.238,
          0.243,
          0.248,
          0.256,
          0.259,
          0.262,
          0.268,
          0.274,
          0.278,
          0.289,
          0.298,
          0.306,
          0.311,
          0.32,
          0.327,
          0.338,
          0.346,
          0.354,
          0.362,
          0.37,
          0.376,
          0.383,
          0.39,
          0.399,
          0.406,
          0.401,
          0.4
         ]
        },
        {
         "hovertemplate": "Year: %{x}<br>HDI: %{y}",
         "line": {
          "color": "rgb(1,31,240)",
          "width": 0.5
         },
         "mode": "lines",
         "name": "Norway",
         "showlegend": true,
         "type": "scatter",
         "x": [
          "1990",
          "1991",
          "1992",
          "1993",
          "1994",
          "1995",
          "1996",
          "1997",
          "1998",
          "1999",
          "2000",
          "2001",
          "2002",
          "2003",
          "2004",
          "2005",
          "2006",
          "2007",
          "2008",
          "2009",
          "2010",
          "2011",
          "2012",
          "2013",
          "2014",
          "2015",
          "2016",
          "2017",
          "2018",
          "2019",
          "2020",
          "2021"
         ],
         "y": [
          0.838,
          0.845,
          0.851,
          0.858,
          0.873,
          0.871,
          0.879,
          0.885,
          0.895,
          0.901,
          0.913,
          0.911,
          0.912,
          0.919,
          0.927,
          0.931,
          0.937,
          0.938,
          0.94,
          0.936,
          0.941,
          0.944,
          0.946,
          0.949,
          0.952,
          0.953,
          0.955,
          0.959,
          0.962,
          0.961,
          0.959,
          0.961
         ]
        },
        {
         "hovertemplate": "Year: %{x}<br>HDI: %{y}",
         "line": {
          "color": "rgb(239,197,25)",
          "width": 0.5
         },
         "mode": "lines",
         "name": "Pakistan",
         "showlegend": true,
         "type": "scatter",
         "x": [
          "1990",
          "1991",
          "1992",
          "1993",
          "1994",
          "1995",
          "1996",
          "1997",
          "1998",
          "1999",
          "2000",
          "2001",
          "2002",
          "2003",
          "2004",
          "2005",
          "2006",
          "2007",
          "2008",
          "2009",
          "2010",
          "2011",
          "2012",
          "2013",
          "2014",
          "2015",
          "2016",
          "2017",
          "2018",
          "2019",
          "2020",
          "2021"
         ],
         "y": [
          0.4,
          0.404,
          0.409,
          0.41,
          0.414,
          0.417,
          0.423,
          0.425,
          0.43,
          0.435,
          0.441,
          0.448,
          0.454,
          0.462,
          0.475,
          0.484,
          0.493,
          0.499,
          0.498,
          0.502,
          0.505,
          0.508,
          0.513,
          0.518,
          0.527,
          0.534,
          0.541,
          0.543,
          0.545,
          0.546,
          0.543,
          0.544
         ]
        },
        {
         "hovertemplate": "Year: %{x}<br>HDI: %{y}",
         "line": {
          "color": "rgb(29,209,138)",
          "width": 0.5
         },
         "mode": "lines",
         "name": "Panama",
         "showlegend": true,
         "type": "scatter",
         "x": [
          "1990",
          "1991",
          "1992",
          "1993",
          "1994",
          "1995",
          "1996",
          "1997",
          "1998",
          "1999",
          "2000",
          "2001",
          "2002",
          "2003",
          "2004",
          "2005",
          "2006",
          "2007",
          "2008",
          "2009",
          "2010",
          "2011",
          "2012",
          "2013",
          "2014",
          "2015",
          "2016",
          "2017",
          "2018",
          "2019",
          "2020",
          "2021"
         ],
         "y": [
          0.669,
          0.672,
          0.678,
          0.685,
          0.687,
          0.69,
          0.697,
          0.703,
          0.71,
          0.715,
          0.721,
          0.726,
          0.733,
          0.737,
          0.743,
          0.749,
          0.754,
          0.763,
          0.767,
          0.769,
          0.773,
          0.779,
          0.785,
          0.79,
          0.794,
          0.8,
          0.805,
          0.811,
          0.814,
          0.817,
          0.801,
          0.805
         ]
        },
        {
         "hovertemplate": "Year: %{x}<br>HDI: %{y}",
         "line": {
          "color": "rgb(254,178,19)",
          "width": 0.5
         },
         "mode": "lines",
         "name": "Papua New Guinea",
         "showlegend": true,
         "type": "scatter",
         "x": [
          "1990",
          "1991",
          "1992",
          "1993",
          "1994",
          "1995",
          "1996",
          "1997",
          "1998",
          "1999",
          "2000",
          "2001",
          "2002",
          "2003",
          "2004",
          "2005",
          "2006",
          "2007",
          "2008",
          "2009",
          "2010",
          "2011",
          "2012",
          "2013",
          "2014",
          "2015",
          "2016",
          "2017",
          "2018",
          "2019",
          "2020",
          "2021"
         ],
         "y": [
          0.37,
          0.38,
          0.391,
          0.405,
          0.419,
          0.423,
          0.43,
          0.432,
          0.435,
          0.444,
          0.447,
          0.451,
          0.455,
          0.461,
          0.461,
          0.466,
          0.469,
          0.478,
          0.484,
          0.49,
          0.499,
          0.504,
          0.513,
          0.518,
          0.533,
          0.541,
          0.547,
          0.552,
          0.554,
          0.56,
          0.56,
          0.558
         ]
        },
        {
         "hovertemplate": "Year: %{x}<br>HDI: %{y}",
         "line": {
          "color": "rgb(85,246,101)",
          "width": 0.5
         },
         "mode": "lines",
         "name": "Paraguay",
         "showlegend": true,
         "type": "scatter",
         "x": [
          "1990",
          "1991",
          "1992",
          "1993",
          "1994",
          "1995",
          "1996",
          "1997",
          "1998",
          "1999",
          "2000",
          "2001",
          "2002",
          "2003",
          "2004",
          "2005",
          "2006",
          "2007",
          "2008",
          "2009",
          "2010",
          "2011",
          "2012",
          "2013",
          "2014",
          "2015",
          "2016",
          "2017",
          "2018",
          "2019",
          "2020",
          "2021"
         ],
         "y": [
          0.595,
          0.6,
          0.605,
          0.612,
          0.617,
          0.623,
          0.632,
          0.638,
          0.644,
          0.649,
          0.649,
          0.655,
          0.662,
          0.655,
          0.662,
          0.664,
          0.664,
          0.669,
          0.679,
          0.677,
          0.685,
          0.696,
          0.702,
          0.715,
          0.716,
          0.723,
          0.721,
          0.724,
          0.727,
          0.732,
          0.73,
          0.717
         ]
        },
        {
         "hovertemplate": "Year: %{x}<br>HDI: %{y}",
         "line": {
          "color": "rgb(65,236,113)",
          "width": 0.5
         },
         "mode": "lines",
         "name": "Peru",
         "showlegend": true,
         "type": "scatter",
         "x": [
          "1990",
          "1991",
          "1992",
          "1993",
          "1994",
          "1995",
          "1996",
          "1997",
          "1998",
          "1999",
          "2000",
          "2001",
          "2002",
          "2003",
          "2004",
          "2005",
          "2006",
          "2007",
          "2008",
          "2009",
          "2010",
          "2011",
          "2012",
          "2013",
          "2014",
          "2015",
          "2016",
          "2017",
          "2018",
          "2019",
          "2020",
          "2021"
         ],
         "y": [
          0.621,
          0.625,
          0.625,
          0.629,
          0.639,
          0.647,
          0.651,
          0.656,
          0.664,
          0.673,
          0.676,
          0.684,
          0.685,
          0.684,
          0.69,
          0.686,
          0.691,
          0.7,
          0.708,
          0.711,
          0.725,
          0.732,
          0.742,
          0.75,
          0.755,
          0.759,
          0.765,
          0.77,
          0.776,
          0.78,
          0.762,
          0.762
         ]
        },
        {
         "hovertemplate": "Year: %{x}<br>HDI: %{y}",
         "line": {
          "color": "rgb(87,246,99)",
          "width": 0.5
         },
         "mode": "lines",
         "name": "Philippines",
         "showlegend": true,
         "type": "scatter",
         "x": [
          "1990",
          "1991",
          "1992",
          "1993",
          "1994",
          "1995",
          "1996",
          "1997",
          "1998",
          "1999",
          "2000",
          "2001",
          "2002",
          "2003",
          "2004",
          "2005",
          "2006",
          "2007",
          "2008",
          "2009",
          "2010",
          "2011",
          "2012",
          "2013",
          "2014",
          "2015",
          "2016",
          "2017",
          "2018",
          "2019",
          "2020",
          "2021"
         ],
         "y": [
          0.598,
          0.599,
          0.603,
          0.606,
          0.609,
          0.612,
          0.62,
          0.625,
          0.63,
          0.633,
          0.633,
          0.638,
          0.645,
          0.65,
          0.657,
          0.658,
          0.659,
          0.664,
          0.668,
          0.667,
          0.674,
          0.679,
          0.685,
          0.692,
          0.696,
          0.698,
          0.7,
          0.704,
          0.71,
          0.718,
          0.71,
          0.699
         ]
        },
        {
         "hovertemplate": "Year: %{x}<br>HDI: %{y}",
         "line": {
          "color": "rgb(1,176,160)",
          "width": 0.5
         },
         "mode": "lines",
         "name": "Poland",
         "showlegend": true,
         "type": "scatter",
         "x": [
          "1990",
          "1991",
          "1992",
          "1993",
          "1994",
          "1995",
          "1996",
          "1997",
          "1998",
          "1999",
          "2000",
          "2001",
          "2002",
          "2003",
          "2004",
          "2005",
          "2006",
          "2007",
          "2008",
          "2009",
          "2010",
          "2011",
          "2012",
          "2013",
          "2014",
          "2015",
          "2016",
          "2017",
          "2018",
          "2019",
          "2020",
          "2021"
         ],
         "y": [
          0.716,
          0.713,
          0.718,
          0.731,
          0.741,
          0.746,
          0.755,
          0.766,
          0.776,
          0.783,
          0.793,
          0.799,
          0.806,
          0.811,
          0.809,
          0.815,
          0.82,
          0.825,
          0.831,
          0.835,
          0.841,
          0.847,
          0.852,
          0.863,
          0.865,
          0.868,
          0.872,
          0.875,
          0.877,
          0.881,
          0.876,
          0.876
         ]
        },
        {
         "hovertemplate": "Year: %{x}<br>HDI: %{y}",
         "line": {
          "color": "rgb(1,178,159)",
          "width": 0.5
         },
         "mode": "lines",
         "name": "Portugal",
         "showlegend": true,
         "type": "scatter",
         "x": [
          "1990",
          "1991",
          "1992",
          "1993",
          "1994",
          "1995",
          "1996",
          "1997",
          "1998",
          "1999",
          "2000",
          "2001",
          "2002",
          "2003",
          "2004",
          "2005",
          "2006",
          "2007",
          "2008",
          "2009",
          "2010",
          "2011",
          "2012",
          "2013",
          "2014",
          "2015",
          "2016",
          "2017",
          "2018",
          "2019",
          "2020",
          "2021"
         ],
         "y": [
          0.701,
          0.711,
          0.727,
          0.741,
          0.754,
          0.761,
          0.769,
          0.778,
          0.786,
          0.785,
          0.791,
          0.797,
          0.798,
          0.802,
          0.805,
          0.806,
          0.811,
          0.818,
          0.822,
          0.825,
          0.829,
          0.835,
          0.836,
          0.845,
          0.848,
          0.85,
          0.853,
          0.859,
          0.86,
          0.867,
          0.863,
          0.866
         ]
        },
        {
         "hovertemplate": "Year: %{x}<br>HDI: %{y}",
         "line": {
          "color": "rgb(1,136,184)",
          "width": 0.5
         },
         "mode": "lines",
         "name": "Qatar",
         "showlegend": true,
         "type": "scatter",
         "x": [
          "1990",
          "1991",
          "1992",
          "1993",
          "1994",
          "1995",
          "1996",
          "1997",
          "1998",
          "1999",
          "2000",
          "2001",
          "2002",
          "2003",
          "2004",
          "2005",
          "2006",
          "2007",
          "2008",
          "2009",
          "2010",
          "2011",
          "2012",
          "2013",
          "2014",
          "2015",
          "2016",
          "2017",
          "2018",
          "2019",
          "2020",
          "2021"
         ],
         "y": [
          0.758,
          0.754,
          0.756,
          0.763,
          0.77,
          0.775,
          0.782,
          0.795,
          0.799,
          0.802,
          0.801,
          0.803,
          0.809,
          0.819,
          0.822,
          0.827,
          0.825,
          0.834,
          0.84,
          0.838,
          0.834,
          0.844,
          0.829,
          0.834,
          0.839,
          0.846,
          0.85,
          0.849,
          0.853,
          0.859,
          0.854,
          0.855
         ]
        },
        {
         "hovertemplate": "Year: %{x}<br>HDI: %{y}",
         "line": {
          "color": "rgb(15,195,147)",
          "width": 0.5
         },
         "mode": "lines",
         "name": "Romania",
         "showlegend": true,
         "type": "scatter",
         "x": [
          "1990",
          "1991",
          "1992",
          "1993",
          "1994",
          "1995",
          "1996",
          "1997",
          "1998",
          "1999",
          "2000",
          "2001",
          "2002",
          "2003",
          "2004",
          "2005",
          "2006",
          "2007",
          "2008",
          "2009",
          "2010",
          "2011",
          "2012",
          "2013",
          "2014",
          "2015",
          "2016",
          "2017",
          "2018",
          "2019",
          "2020",
          "2021"
         ],
         "y": [
          0.703,
          0.689,
          0.679,
          0.68,
          0.682,
          0.688,
          0.693,
          0.696,
          0.7,
          0.708,
          0.715,
          0.722,
          0.729,
          0.732,
          0.742,
          0.756,
          0.77,
          0.786,
          0.806,
          0.809,
          0.807,
          0.808,
          0.805,
          0.81,
          0.811,
          0.813,
          0.816,
          0.823,
          0.827,
          0.832,
          0.824,
          0.821
         ]
        },
        {
         "hovertemplate": "Year: %{x}<br>HDI: %{y}",
         "line": {
          "color": "rgb(1,149,177)",
          "width": 0.5
         },
         "mode": "lines",
         "name": "Russian Federation",
         "showlegend": true,
         "type": "scatter",
         "x": [
          "1990",
          "1991",
          "1992",
          "1993",
          "1994",
          "1995",
          "1996",
          "1997",
          "1998",
          "1999",
          "2000",
          "2001",
          "2002",
          "2003",
          "2004",
          "2005",
          "2006",
          "2007",
          "2008",
          "2009",
          "2010",
          "2011",
          "2012",
          "2013",
          "2014",
          "2015",
          "2016",
          "2017",
          "2018",
          "2019",
          "2020",
          "2021"
         ],
         "y": [
          0.743,
          0.741,
          0.728,
          0.71,
          0.698,
          0.698,
          0.708,
          0.716,
          0.719,
          0.721,
          0.732,
          0.74,
          0.746,
          0.754,
          0.761,
          0.764,
          0.775,
          0.786,
          0.791,
          0.789,
          0.796,
          0.808,
          0.811,
          0.817,
          0.818,
          0.824,
          0.828,
          0.833,
          0.841,
          0.845,
          0.83,
          0.822
         ]
        },
        {
         "hovertemplate": "Year: %{x}<br>HDI: %{y}",
         "line": {
          "color": "rgb(15,195,147)",
          "width": 0.5
         },
         "mode": "lines",
         "name": "Saint Lucia",
         "showlegend": true,
         "type": "scatter",
         "x": [
          "1990",
          "1991",
          "1992",
          "1993",
          "1994",
          "1995",
          "1996",
          "1997",
          "1998",
          "1999",
          "2000",
          "2001",
          "2002",
          "2003",
          "2004",
          "2005",
          "2006",
          "2007",
          "2008",
          "2009",
          "2010",
          "2011",
          "2012",
          "2013",
          "2014",
          "2015",
          "2016",
          "2017",
          "2018",
          "2019",
          "2020",
          "2021"
         ],
         "y": [
          0.69,
          0.691,
          0.695,
          0.695,
          0.695,
          0.694,
          0.696,
          0.695,
          0.697,
          0.698,
          0.698,
          0.697,
          0.699,
          0.701,
          0.704,
          0.709,
          0.718,
          0.718,
          0.723,
          0.725,
          0.728,
          0.734,
          0.734,
          0.734,
          0.735,
          0.737,
          0.744,
          0.744,
          0.746,
          0.735,
          0.723,
          0.715
         ]
        },
        {
         "hovertemplate": "Year: %{x}<br>HDI: %{y}",
         "line": {
          "color": "rgb(177,243,50)",
          "width": 0.5
         },
         "mode": "lines",
         "name": "Sao Tome and Principe",
         "showlegend": true,
         "type": "scatter",
         "x": [
          "1990",
          "1991",
          "1992",
          "1993",
          "1994",
          "1995",
          "1996",
          "1997",
          "1998",
          "1999",
          "2000",
          "2001",
          "2002",
          "2003",
          "2004",
          "2005",
          "2006",
          "2007",
          "2008",
          "2009",
          "2010",
          "2011",
          "2012",
          "2013",
          "2014",
          "2015",
          "2016",
          "2017",
          "2018",
          "2019",
          "2020",
          "2021"
         ],
         "y": [
          0.485,
          0.484,
          0.485,
          0.485,
          0.487,
          0.488,
          0.491,
          0.492,
          0.494,
          0.498,
          0.501,
          0.507,
          0.511,
          0.519,
          0.525,
          0.531,
          0.542,
          0.545,
          0.546,
          0.552,
          0.554,
          0.556,
          0.562,
          0.573,
          0.584,
          0.596,
          0.603,
          0.612,
          0.617,
          0.622,
          0.619,
          0.618
         ]
        },
        {
         "hovertemplate": "Year: %{x}<br>HDI: %{y}",
         "line": {
          "color": "rgb(17,197,146)",
          "width": 0.5
         },
         "mode": "lines",
         "name": "Saudi Arabia",
         "showlegend": true,
         "type": "scatter",
         "x": [
          "1990",
          "1991",
          "1992",
          "1993",
          "1994",
          "1995",
          "1996",
          "1997",
          "1998",
          "1999",
          "2000",
          "2001",
          "2002",
          "2003",
          "2004",
          "2005",
          "2006",
          "2007",
          "2008",
          "2009",
          "2010",
          "2011",
          "2012",
          "2013",
          "2014",
          "2015",
          "2016",
          "2017",
          "2018",
          "2019",
          "2020",
          "2021"
         ],
         "y": [
          0.678,
          0.688,
          0.694,
          0.699,
          0.704,
          0.709,
          0.715,
          0.72,
          0.727,
          0.73,
          0.737,
          0.744,
          0.75,
          0.76,
          0.77,
          0.78,
          0.787,
          0.794,
          0.802,
          0.807,
          0.816,
          0.828,
          0.837,
          0.845,
          0.852,
          0.859,
          0.864,
          0.86,
          0.865,
          0.873,
          0.87,
          0.875
         ]
        },
        {
         "hovertemplate": "Year: %{x}<br>HDI: %{y}",
         "line": {
          "color": "rgb(248,171,18)",
          "width": 0.5
         },
         "mode": "lines",
         "name": "Senegal",
         "showlegend": true,
         "type": "scatter",
         "x": [
          "1990",
          "1991",
          "1992",
          "1993",
          "1994",
          "1995",
          "1996",
          "1997",
          "1998",
          "1999",
          "2000",
          "2001",
          "2002",
          "2003",
          "2004",
          "2005",
          "2006",
          "2007",
          "2008",
          "2009",
          "2010",
          "2011",
          "2012",
          "2013",
          "2014",
          "2015",
          "2016",
          "2017",
          "2018",
          "2019",
          "2020",
          "2021"
         ],
         "y": [
          0.373,
          0.374,
          0.375,
          0.374,
          0.374,
          0.375,
          0.376,
          0.377,
          0.379,
          0.382,
          0.388,
          0.394,
          0.398,
          0.405,
          0.412,
          0.419,
          0.427,
          0.439,
          0.451,
          0.459,
          0.468,
          0.482,
          0.49,
          0.496,
          0.502,
          0.505,
          0.507,
          0.509,
          0.512,
          0.513,
          0.513,
          0.511
         ]
        },
        {
         "hovertemplate": "Year: %{x}<br>HDI: %{y}",
         "line": {
          "color": "rgb(196,103,6)",
          "width": 0.5
         },
         "mode": "lines",
         "name": "Sierra Leone",
         "showlegend": true,
         "type": "scatter",
         "x": [
          "1990",
          "1991",
          "1992",
          "1993",
          "1994",
          "1995",
          "1996",
          "1997",
          "1998",
          "1999",
          "2000",
          "2001",
          "2002",
          "2003",
          "2004",
          "2005",
          "2006",
          "2007",
          "2008",
          "2009",
          "2010",
          "2011",
          "2012",
          "2013",
          "2014",
          "2015",
          "2016",
          "2017",
          "2018",
          "2019",
          "2020",
          "2021"
         ],
         "y": [
          0.312,
          0.305,
          0.305,
          0.312,
          0.312,
          0.314,
          0.312,
          0.307,
          0.305,
          0.301,
          0.318,
          0.331,
          0.347,
          0.357,
          0.364,
          0.372,
          0.382,
          0.397,
          0.409,
          0.42,
          0.427,
          0.433,
          0.447,
          0.459,
          0.461,
          0.453,
          0.457,
          0.466,
          0.47,
          0.48,
          0.475,
          0.477
         ]
        },
        {
         "hovertemplate": "Year: %{x}<br>HDI: %{y}",
         "line": {
          "color": "rgb(1,154,174)",
          "width": 0.5
         },
         "mode": "lines",
         "name": "Singapore",
         "showlegend": true,
         "type": "scatter",
         "x": [
          "1990",
          "1991",
          "1992",
          "1993",
          "1994",
          "1995",
          "1996",
          "1997",
          "1998",
          "1999",
          "2000",
          "2001",
          "2002",
          "2003",
          "2004",
          "2005",
          "2006",
          "2007",
          "2008",
          "2009",
          "2010",
          "2011",
          "2012",
          "2013",
          "2014",
          "2015",
          "2016",
          "2017",
          "2018",
          "2019",
          "2020",
          "2021"
         ],
         "y": [
          0.727,
          0.737,
          0.748,
          0.758,
          0.77,
          0.779,
          0.789,
          0.802,
          0.81,
          0.82,
          0.831,
          0.833,
          0.84,
          0.845,
          0.851,
          0.875,
          0.881,
          0.887,
          0.892,
          0.892,
          0.91,
          0.915,
          0.92,
          0.923,
          0.928,
          0.93,
          0.934,
          0.935,
          0.94,
          0.943,
          0.939,
          0.939
         ]
        },
        {
         "hovertemplate": "Year: %{x}<br>HDI: %{y}",
         "line": {
          "color": "rgb(15,195,147)",
          "width": 0.5
         },
         "mode": "lines",
         "name": "Slovakia",
         "showlegend": true,
         "type": "scatter",
         "x": [
          "1990",
          "1991",
          "1992",
          "1993",
          "1994",
          "1995",
          "1996",
          "1997",
          "1998",
          "1999",
          "2000",
          "2001",
          "2002",
          "2003",
          "2004",
          "2005",
          "2006",
          "2007",
          "2008",
          "2009",
          "2010",
          "2011",
          "2012",
          "2013",
          "2014",
          "2015",
          "2016",
          "2017",
          "2018",
          "2019",
          "2020",
          "2021"
         ],
         "y": [
          0.692,
          0.69,
          0.694,
          0.701,
          0.711,
          0.72,
          0.73,
          0.738,
          0.748,
          0.755,
          0.763,
          0.77,
          0.779,
          0.784,
          0.794,
          0.803,
          0.812,
          0.823,
          0.831,
          0.833,
          0.84,
          0.844,
          0.845,
          0.848,
          0.849,
          0.851,
          0.854,
          0.856,
          0.859,
          0.862,
          0.857,
          0.848
         ]
        },
        {
         "hovertemplate": "Year: %{x}<br>HDI: %{y}",
         "line": {
          "color": "rgb(53,228,121)",
          "width": 0.5
         },
         "mode": "lines",
         "name": "South Africa",
         "showlegend": true,
         "type": "scatter",
         "x": [
          "1990",
          "1991",
          "1992",
          "1993",
          "1994",
          "1995",
          "1996",
          "1997",
          "1998",
          "1999",
          "2000",
          "2001",
          "2002",
          "2003",
          "2004",
          "2005",
          "2006",
          "2007",
          "2008",
          "2009",
          "2010",
          "2011",
          "2012",
          "2013",
          "2014",
          "2015",
          "2016",
          "2017",
          "2018",
          "2019",
          "2020",
          "2021"
         ],
         "y": [
          0.632,
          0.641,
          0.647,
          0.652,
          0.658,
          0.661,
          0.656,
          0.651,
          0.644,
          0.638,
          0.633,
          0.629,
          0.633,
          0.629,
          0.63,
          0.632,
          0.637,
          0.644,
          0.653,
          0.665,
          0.675,
          0.686,
          0.696,
          0.704,
          0.712,
          0.716,
          0.719,
          0.72,
          0.726,
          0.736,
          0.727,
          0.713
         ]
        },
        {
         "hovertemplate": "Year: %{x}<br>HDI: %{y}",
         "line": {
          "color": "rgb(1,144,180)",
          "width": 0.5
         },
         "mode": "lines",
         "name": "South Korea",
         "showlegend": true,
         "type": "scatter",
         "x": [
          "1990",
          "1991",
          "1992",
          "1993",
          "1994",
          "1995",
          "1996",
          "1997",
          "1998",
          "1999",
          "2000",
          "2001",
          "2002",
          "2003",
          "2004",
          "2005",
          "2006",
          "2007",
          "2008",
          "2009",
          "2010",
          "2011",
          "2012",
          "2013",
          "2014",
          "2015",
          "2016",
          "2017",
          "2018",
          "2019",
          "2020",
          "2021"
         ],
         "y": [
          0.737,
          0.747,
          0.754,
          0.763,
          0.773,
          0.783,
          0.793,
          0.806,
          0.804,
          0.815,
          0.825,
          0.833,
          0.84,
          0.844,
          0.852,
          0.86,
          0.866,
          0.871,
          0.875,
          0.877,
          0.89,
          0.896,
          0.897,
          0.901,
          0.906,
          0.909,
          0.912,
          0.916,
          0.919,
          0.923,
          0.922,
          0.925
         ]
        },
        {
         "hovertemplate": "Year: %{x}<br>HDI: %{y}",
         "line": {
          "color": "rgb(1,126,190)",
          "width": 0.5
         },
         "mode": "lines",
         "name": "Spain",
         "showlegend": true,
         "type": "scatter",
         "x": [
          "1990",
          "1991",
          "1992",
          "1993",
          "1994",
          "1995",
          "1996",
          "1997",
          "1998",
          "1999",
          "2000",
          "2001",
          "2002",
          "2003",
          "2004",
          "2005",
          "2006",
          "2007",
          "2008",
          "2009",
          "2010",
          "2011",
          "2012",
          "2013",
          "2014",
          "2015",
          "2016",
          "2017",
          "2018",
          "2019",
          "2020",
          "2021"
         ],
         "y": [
          0.757,
          0.764,
          0.772,
          0.781,
          0.789,
          0.796,
          0.802,
          0.808,
          0.813,
          0.818,
          0.825,
          0.83,
          0.834,
          0.837,
          0.844,
          0.85,
          0.856,
          0.858,
          0.86,
          0.861,
          0.868,
          0.872,
          0.874,
          0.88,
          0.884,
          0.889,
          0.895,
          0.897,
          0.901,
          0.908,
          0.899,
          0.905
         ]
        },
        {
         "hovertemplate": "Year: %{x}<br>HDI: %{y}",
         "line": {
          "color": "rgb(53,228,121)",
          "width": 0.5
         },
         "mode": "lines",
         "name": "Sri Lanka",
         "showlegend": true,
         "type": "scatter",
         "x": [
          "1990",
          "1991",
          "1992",
          "1993",
          "1994",
          "1995",
          "1996",
          "1997",
          "1998",
          "1999",
          "2000",
          "2001",
          "2002",
          "2003",
          "2004",
          "2005",
          "2006",
          "2007",
          "2008",
          "2009",
          "2010",
          "2011",
          "2012",
          "2013",
          "2014",
          "2015",
          "2016",
          "2017",
          "2018",
          "2019",
          "2020",
          "2021"
         ],
         "y": [
          0.636,
          0.641,
          0.65,
          0.658,
          0.663,
          0.666,
          0.672,
          0.678,
          0.683,
          0.691,
          0.688,
          0.69,
          0.694,
          0.699,
          0.683,
          0.71,
          0.714,
          0.719,
          0.721,
          0.713,
          0.737,
          0.744,
          0.751,
          0.756,
          0.76,
          0.764,
          0.767,
          0.771,
          0.776,
          0.778,
          0.78,
          0.782
         ]
        },
        {
         "hovertemplate": "Year: %{x}<br>HDI: %{y}",
         "line": {
          "color": "rgb(224,142,12)",
          "width": 0.5
         },
         "mode": "lines",
         "name": "Sudan",
         "showlegend": true,
         "type": "scatter",
         "x": [
          "1990",
          "1991",
          "1992",
          "1993",
          "1994",
          "1995",
          "1996",
          "1997",
          "1998",
          "1999",
          "2000",
          "2001",
          "2002",
          "2003",
          "2004",
          "2005",
          "2006",
          "2007",
          "2008",
          "2009",
          "2010",
          "2011",
          "2012",
          "2013",
          "2014",
          "2015",
          "2016",
          "2017",
          "2018",
          "2019",
          "2020",
          "2021"
         ],
         "y": [
          0.336,
          0.342,
          0.331,
          0.34,
          0.383,
          0.371,
          0.379,
          0.388,
          0.376,
          0.413,
          0.424,
          0.431,
          0.436,
          0.439,
          0.441,
          0.448,
          0.465,
          0.47,
          0.478,
          0.486,
          0.486,
          0.487,
          0.493,
          0.497,
          0.504,
          0.508,
          0.511,
          0.514,
          0.514,
          0.514,
          0.51,
          0.508
         ]
        },
        {
         "hovertemplate": "Year: %{x}<br>HDI: %{y}",
         "line": {
          "color": "rgb(1,71,219)",
          "width": 0.5
         },
         "mode": "lines",
         "name": "Sweden",
         "showlegend": true,
         "type": "scatter",
         "x": [
          "1990",
          "1991",
          "1992",
          "1993",
          "1994",
          "1995",
          "1996",
          "1997",
          "1998",
          "1999",
          "2000",
          "2001",
          "2002",
          "2003",
          "2004",
          "2005",
          "2006",
          "2007",
          "2008",
          "2009",
          "2010",
          "2011",
          "2012",
          "2013",
          "2014",
          "2015",
          "2016",
          "2017",
          "2018",
          "2019",
          "2020",
          "2021"
         ],
         "y": [
          0.81,
          0.813,
          0.82,
          0.84,
          0.851,
          0.86,
          0.868,
          0.879,
          0.894,
          0.899,
          0.904,
          0.907,
          0.91,
          0.915,
          0.9,
          0.902,
          0.906,
          0.908,
          0.905,
          0.904,
          0.91,
          0.911,
          0.911,
          0.932,
          0.935,
          0.937,
          0.939,
          0.941,
          0.942,
          0.947,
          0.942,
          0.947
         ]
        },
        {
         "hovertemplate": "Year: %{x}<br>HDI: %{y}",
         "line": {
          "color": "rgb(1,21,245)",
          "width": 0.5
         },
         "mode": "lines",
         "name": "Switzerland",
         "showlegend": true,
         "type": "scatter",
         "x": [
          "1990",
          "1991",
          "1992",
          "1993",
          "1994",
          "1995",
          "1996",
          "1997",
          "1998",
          "1999",
          "2000",
          "2001",
          "2002",
          "2003",
          "2004",
          "2005",
          "2006",
          "2007",
          "2008",
          "2009",
          "2010",
          "2011",
          "2012",
          "2013",
          "2014",
          "2015",
          "2016",
          "2017",
          "2018",
          "2019",
          "2020",
          "2021"
         ],
         "y": [
          0.851,
          0.853,
          0.856,
          0.861,
          0.863,
          0.865,
          0.87,
          0.875,
          0.88,
          0.884,
          0.887,
          0.89,
          0.89,
          0.895,
          0.901,
          0.905,
          0.914,
          0.92,
          0.926,
          0.936,
          0.942,
          0.943,
          0.945,
          0.948,
          0.952,
          0.954,
          0.956,
          0.957,
          0.959,
          0.962,
          0.956,
          0.962
         ]
        },
        {
         "hovertemplate": "Year: %{x}<br>HDI: %{y}",
         "line": {
          "color": "rgb(111,253,85)",
          "width": 0.5
         },
         "mode": "lines",
         "name": "Syrian Arab Republic",
         "showlegend": true,
         "type": "scatter",
         "x": [
          "1990",
          "1991",
          "1992",
          "1993",
          "1994",
          "1995",
          "1996",
          "1997",
          "1998",
          "1999",
          "2000",
          "2001",
          "2002",
          "2003",
          "2004",
          "2005",
          "2006",
          "2007",
          "2008",
          "2009",
          "2010",
          "2011",
          "2012",
          "2013",
          "2014",
          "2015",
          "2016",
          "2017",
          "2018",
          "2019",
          "2020",
          "2021"
         ],
         "y": [
          0.562,
          0.567,
          0.573,
          0.574,
          0.577,
          0.579,
          0.582,
          0.585,
          0.587,
          0.586,
          0.587,
          0.596,
          0.603,
          0.615,
          0.627,
          0.64,
          0.65,
          0.659,
          0.653,
          0.659,
          0.66,
          0.691,
          0.65,
          0.573,
          0.553,
          0.556,
          0.56,
          0.572,
          0.58,
          0.584,
          0.577,
          0.577
         ]
        },
        {
         "hovertemplate": "Year: %{x}<br>HDI: %{y}",
         "line": {
          "color": "rgb(69,238,111)",
          "width": 0.5
         },
         "mode": "lines",
         "name": "Tajikistan",
         "showlegend": true,
         "type": "scatter",
         "x": [
          "1990",
          "1991",
          "1992",
          "1993",
          "1994",
          "1995",
          "1996",
          "1997",
          "1998",
          "1999",
          "2000",
          "2001",
          "2002",
          "2003",
          "2004",
          "2005",
          "2006",
          "2007",
          "2008",
          "2009",
          "2010",
          "2011",
          "2012",
          "2013",
          "2014",
          "2015",
          "2016",
          "2017",
          "2018",
          "2019",
          "2020",
          "2021"
         ],
         "y": [
          0.628,
          0.622,
          0.57,
          0.542,
          0.547,
          0.547,
          0.531,
          0.54,
          0.547,
          0.553,
          0.56,
          0.569,
          0.579,
          0.594,
          0.606,
          0.612,
          0.622,
          0.625,
          0.639,
          0.633,
          0.636,
          0.635,
          0.643,
          0.656,
          0.656,
          0.657,
          0.66,
          0.665,
          0.671,
          0.676,
          0.664,
          0.685
         ]
        },
        {
         "hovertemplate": "Year: %{x}<br>HDI: %{y}",
         "line": {
          "color": "rgb(246,169,17)",
          "width": 0.5
         },
         "mode": "lines",
         "name": "Tanzania",
         "showlegend": true,
         "type": "scatter",
         "x": [
          "1990",
          "1991",
          "1992",
          "1993",
          "1994",
          "1995",
          "1996",
          "1997",
          "1998",
          "1999",
          "2000",
          "2001",
          "2002",
          "2003",
          "2004",
          "2005",
          "2006",
          "2007",
          "2008",
          "2009",
          "2010",
          "2011",
          "2012",
          "2013",
          "2014",
          "2015",
          "2016",
          "2017",
          "2018",
          "2019",
          "2020",
          "2021"
         ],
         "y": [
          0.371,
          0.371,
          0.369,
          0.369,
          0.369,
          0.37,
          0.372,
          0.373,
          0.38,
          0.39,
          0.398,
          0.406,
          0.416,
          0.426,
          0.436,
          0.446,
          0.456,
          0.465,
          0.473,
          0.482,
          0.493,
          0.499,
          0.504,
          0.51,
          0.515,
          0.52,
          0.524,
          0.528,
          0.538,
          0.548,
          0.548,
          0.549
         ]
        },
        {
         "hovertemplate": "Year: %{x}<br>HDI: %{y}",
         "line": {
          "color": "rgb(97,250,93)",
          "width": 0.5
         },
         "mode": "lines",
         "name": "Thailand",
         "showlegend": true,
         "type": "scatter",
         "x": [
          "1990",
          "1991",
          "1992",
          "1993",
          "1994",
          "1995",
          "1996",
          "1997",
          "1998",
          "1999",
          "2000",
          "2001",
          "2002",
          "2003",
          "2004",
          "2005",
          "2006",
          "2007",
          "2008",
          "2009",
          "2010",
          "2011",
          "2012",
          "2013",
          "2014",
          "2015",
          "2016",
          "2017",
          "2018",
          "2019",
          "2020",
          "2021"
         ],
         "y": [
          0.576,
          0.585,
          0.595,
          0.604,
          0.613,
          0.619,
          0.628,
          0.635,
          0.64,
          0.646,
          0.653,
          0.664,
          0.676,
          0.687,
          0.697,
          0.706,
          0.712,
          0.724,
          0.727,
          0.73,
          0.737,
          0.743,
          0.746,
          0.747,
          0.778,
          0.781,
          0.785,
          0.79,
          0.795,
          0.804,
          0.802,
          0.8
         ]
        },
        {
         "hovertemplate": "Year: %{x}<br>HDI: %{y}",
         "line": {
          "color": "rgb(255,180,20)",
          "width": 0.5
         },
         "mode": "lines",
         "name": "DRC",
         "showlegend": true,
         "type": "scatter",
         "x": [
          "1990",
          "1991",
          "1992",
          "1993",
          "1994",
          "1995",
          "1996",
          "1997",
          "1998",
          "1999",
          "2000",
          "2001",
          "2002",
          "2003",
          "2004",
          "2005",
          "2006",
          "2007",
          "2008",
          "2009",
          "2010",
          "2011",
          "2012",
          "2013",
          "2014",
          "2015",
          "2016",
          "2017",
          "2018",
          "2019",
          "2020",
          "2021"
         ],
         "y": [
          0.386,
          0.384,
          0.38,
          0.375,
          0.371,
          0.373,
          0.372,
          0.374,
          0.371,
          0.368,
          0.376,
          0.374,
          0.378,
          0.384,
          0.39,
          0.395,
          0.401,
          0.406,
          0.416,
          0.421,
          0.429,
          0.438,
          0.44,
          0.446,
          0.455,
          0.463,
          0.472,
          0.475,
          0.48,
          0.482,
          0.479,
          0.479
         ]
        },
        {
         "hovertemplate": "Year: %{x}<br>HDI: %{y}",
         "line": {
          "color": "rgb(231,205,28)",
          "width": 0.5
         },
         "mode": "lines",
         "name": "Togo",
         "showlegend": true,
         "type": "scatter",
         "x": [
          "1990",
          "1991",
          "1992",
          "1993",
          "1994",
          "1995",
          "1996",
          "1997",
          "1998",
          "1999",
          "2000",
          "2001",
          "2002",
          "2003",
          "2004",
          "2005",
          "2006",
          "2007",
          "2008",
          "2009",
          "2010",
          "2011",
          "2012",
          "2013",
          "2014",
          "2015",
          "2016",
          "2017",
          "2018",
          "2019",
          "2020",
          "2021"
         ],
         "y": [
          0.41,
          0.414,
          0.406,
          0.398,
          0.404,
          0.419,
          0.429,
          0.438,
          0.439,
          0.443,
          0.446,
          0.449,
          0.454,
          0.46,
          0.459,
          0.458,
          0.464,
          0.457,
          0.464,
          0.472,
          0.477,
          0.487,
          0.491,
          0.499,
          0.505,
          0.514,
          0.518,
          0.524,
          0.528,
          0.535,
          0.535,
          0.539
         ]
        },
        {
         "hovertemplate": "Year: %{x}<br>HDI: %{y}",
         "line": {
          "color": "rgb(45,222,127)",
          "width": 0.5
         },
         "mode": "lines",
         "name": "Tonga",
         "showlegend": true,
         "type": "scatter",
         "x": [
          "1990",
          "1991",
          "1992",
          "1993",
          "1994",
          "1995",
          "1996",
          "1997",
          "1998",
          "1999",
          "2000",
          "2001",
          "2002",
          "2003",
          "2004",
          "2005",
          "2006",
          "2007",
          "2008",
          "2009",
          "2010",
          "2011",
          "2012",
          "2013",
          "2014",
          "2015",
          "2016",
          "2017",
          "2018",
          "2019",
          "2020",
          "2021"
         ],
         "y": [
          0.645,
          0.652,
          0.656,
          0.663,
          0.672,
          0.676,
          0.678,
          0.68,
          0.685,
          0.688,
          0.685,
          0.688,
          0.694,
          0.701,
          0.702,
          0.702,
          0.703,
          0.704,
          0.709,
          0.708,
          0.713,
          0.72,
          0.723,
          0.725,
          0.727,
          0.73,
          0.735,
          0.74,
          0.742,
          0.744,
          0.745,
          0.745
         ]
        },
        {
         "hovertemplate": "Year: %{x}<br>HDI: %{y}",
         "line": {
          "color": "rgb(35,214,133)",
          "width": 0.5
         },
         "mode": "lines",
         "name": "Trinidad and Tobago",
         "showlegend": true,
         "type": "scatter",
         "x": [
          "1990",
          "1991",
          "1992",
          "1993",
          "1994",
          "1995",
          "1996",
          "1997",
          "1998",
          "1999",
          "2000",
          "2001",
          "2002",
          "2003",
          "2004",
          "2005",
          "2006",
          "2007",
          "2008",
          "2009",
          "2010",
          "2011",
          "2012",
          "2013",
          "2014",
          "2015",
          "2016",
          "2017",
          "2018",
          "2019",
          "2020",
          "2021"
         ],
         "y": [
          0.66,
          0.665,
          0.663,
          0.667,
          0.67,
          0.678,
          0.684,
          0.69,
          0.7,
          0.703,
          0.712,
          0.721,
          0.732,
          0.737,
          0.752,
          0.758,
          0.767,
          0.773,
          0.777,
          0.787,
          0.79,
          0.794,
          0.8,
          0.806,
          0.809,
          0.816,
          0.815,
          0.817,
          0.815,
          0.821,
          0.818,
          0.81
         ]
        },
        {
         "hovertemplate": "Year: %{x}<br>HDI: %{y}",
         "line": {
          "color": "rgb(101,251,91)",
          "width": 0.5
         },
         "mode": "lines",
         "name": "Tunisia",
         "showlegend": true,
         "type": "scatter",
         "x": [
          "1990",
          "1991",
          "1992",
          "1993",
          "1994",
          "1995",
          "1996",
          "1997",
          "1998",
          "1999",
          "2000",
          "2001",
          "2002",
          "2003",
          "2004",
          "2005",
          "2006",
          "2007",
          "2008",
          "2009",
          "2010",
          "2011",
          "2012",
          "2013",
          "2014",
          "2015",
          "2016",
          "2017",
          "2018",
          "2019",
          "2020",
          "2021"
         ],
         "y": [
          0.576,
          0.581,
          0.588,
          0.594,
          0.604,
          0.611,
          0.62,
          0.627,
          0.639,
          0.65,
          0.658,
          0.665,
          0.67,
          0.677,
          0.687,
          0.694,
          0.7,
          0.706,
          0.711,
          0.715,
          0.72,
          0.722,
          0.724,
          0.727,
          0.73,
          0.733,
          0.737,
          0.74,
          0.743,
          0.745,
          0.737,
          0.731
         ]
        },
        {
         "hovertemplate": "Year: %{x}<br>HDI: %{y}",
         "line": {
          "color": "rgb(83,245,102)",
          "width": 0.5
         },
         "mode": "lines",
         "name": "Turkey",
         "showlegend": true,
         "type": "scatter",
         "x": [
          "1990",
          "1991",
          "1992",
          "1993",
          "1994",
          "1995",
          "1996",
          "1997",
          "1998",
          "1999",
          "2000",
          "2001",
          "2002",
          "2003",
          "2004",
          "2005",
          "2006",
          "2007",
          "2008",
          "2009",
          "2010",
          "2011",
          "2012",
          "2013",
          "2014",
          "2015",
          "2016",
          "2017",
          "2018",
          "2019",
          "2020",
          "2021"
         ],
         "y": [
          0.6,
          0.604,
          0.61,
          0.617,
          0.618,
          0.625,
          0.633,
          0.641,
          0.652,
          0.655,
          0.67,
          0.674,
          0.684,
          0.69,
          0.695,
          0.7,
          0.71,
          0.717,
          0.721,
          0.728,
          0.749,
          0.762,
          0.769,
          0.799,
          0.809,
          0.817,
          0.823,
          0.833,
          0.839,
          0.842,
          0.833,
          0.838
         ]
        },
        {
         "hovertemplate": "Year: %{x}<br>HDI: %{y}",
         "line": {
          "color": "rgb(115,254,83)",
          "width": 0.5
         },
         "mode": "lines",
         "name": "Tuvalu",
         "showlegend": true,
         "type": "scatter",
         "x": [
          "1990",
          "1991",
          "1992",
          "1993",
          "1994",
          "1995",
          "1996",
          "1997",
          "1998",
          "1999",
          "2000",
          "2001",
          "2002",
          "2003",
          "2004",
          "2005",
          "2006",
          "2007",
          "2008",
          "2009",
          "2010",
          "2011",
          "2012",
          "2013",
          "2014",
          "2015",
          "2016",
          "2017",
          "2018",
          "2019",
          "2020",
          "2021"
         ],
         "y": [
          0.559,
          0.562,
          0.558,
          0.57,
          0.577,
          0.575,
          0.573,
          0.579,
          0.589,
          0.592,
          0.597,
          0.61,
          0.62,
          0.605,
          0.61,
          0.61,
          0.611,
          0.613,
          0.618,
          0.615,
          0.616,
          0.616,
          0.624,
          0.628,
          0.627,
          0.643,
          0.636,
          0.634,
          0.642,
          0.635,
          0.639,
          0.641
         ]
        },
        {
         "hovertemplate": "Year: %{x}<br>HDI: %{y}",
         "line": {
          "color": "rgb(216,131,10)",
          "width": 0.5
         },
         "mode": "lines",
         "name": "Uganda",
         "showlegend": true,
         "type": "scatter",
         "x": [
          "1990",
          "1991",
          "1992",
          "1993",
          "1994",
          "1995",
          "1996",
          "1997",
          "1998",
          "1999",
          "2000",
          "2001",
          "2002",
          "2003",
          "2004",
          "2005",
          "2006",
          "2007",
          "2008",
          "2009",
          "2010",
          "2011",
          "2012",
          "2013",
          "2014",
          "2015",
          "2016",
          "2017",
          "2018",
          "2019",
          "2020",
          "2021"
         ],
         "y": [
          0.329,
          0.331,
          0.325,
          0.332,
          0.336,
          0.342,
          0.354,
          0.364,
          0.373,
          0.385,
          0.394,
          0.404,
          0.417,
          0.429,
          0.444,
          0.454,
          0.466,
          0.476,
          0.484,
          0.494,
          0.502,
          0.506,
          0.504,
          0.509,
          0.512,
          0.517,
          0.519,
          0.52,
          0.522,
          0.525,
          0.524,
          0.525
         ]
        },
        {
         "hovertemplate": "Year: %{x}<br>HDI: %{y}",
         "line": {
          "color": "rgb(1,167,166)",
          "width": 0.5
         },
         "mode": "lines",
         "name": "Ukraine",
         "showlegend": true,
         "type": "scatter",
         "x": [
          "1990",
          "1991",
          "1992",
          "1993",
          "1994",
          "1995",
          "1996",
          "1997",
          "1998",
          "1999",
          "2000",
          "2001",
          "2002",
          "2003",
          "2004",
          "2005",
          "2006",
          "2007",
          "2008",
          "2009",
          "2010",
          "2011",
          "2012",
          "2013",
          "2014",
          "2015",
          "2016",
          "2017",
          "2018",
          "2019",
          "2020",
          "2021"
         ],
         "y": [
          0.729,
          0.723,
          0.715,
          0.703,
          0.689,
          0.684,
          0.685,
          0.689,
          0.696,
          0.698,
          0.7,
          0.715,
          0.722,
          0.732,
          0.74,
          0.743,
          0.751,
          0.757,
          0.761,
          0.758,
          0.764,
          0.769,
          0.773,
          0.773,
          0.773,
          0.774,
          0.779,
          0.782,
          0.783,
          0.786,
          0.775,
          0.773
         ]
        },
        {
         "hovertemplate": "Year: %{x}<br>HDI: %{y}",
         "line": {
          "color": "rgb(1,152,175)",
          "width": 0.5
         },
         "mode": "lines",
         "name": "United Arab Emirates",
         "showlegend": true,
         "type": "scatter",
         "x": [
          "1990",
          "1991",
          "1992",
          "1993",
          "1994",
          "1995",
          "1996",
          "1997",
          "1998",
          "1999",
          "2000",
          "2001",
          "2002",
          "2003",
          "2004",
          "2005",
          "2006",
          "2007",
          "2008",
          "2009",
          "2010",
          "2011",
          "2012",
          "2013",
          "2014",
          "2015",
          "2016",
          "2017",
          "2018",
          "2019",
          "2020",
          "2021"
         ],
         "y": [
          0.728,
          0.739,
          0.742,
          0.748,
          0.755,
          0.762,
          0.767,
          0.773,
          0.779,
          0.787,
          0.796,
          0.8,
          0.804,
          0.814,
          0.818,
          0.822,
          0.827,
          0.831,
          0.834,
          0.833,
          0.835,
          0.84,
          0.846,
          0.852,
          0.859,
          0.865,
          0.87,
          0.897,
          0.909,
          0.92,
          0.912,
          0.911
         ]
        },
        {
         "hovertemplate": "Year: %{x}<br>HDI: %{y}",
         "line": {
          "color": "rgb(1,77,216)",
          "width": 0.5
         },
         "mode": "lines",
         "name": "United Kingdom",
         "showlegend": true,
         "type": "scatter",
         "x": [
          "1990",
          "1991",
          "1992",
          "1993",
          "1994",
          "1995",
          "1996",
          "1997",
          "1998",
          "1999",
          "2000",
          "2001",
          "2002",
          "2003",
          "2004",
          "2005",
          "2006",
          "2007",
          "2008",
          "2009",
          "2010",
          "2011",
          "2012",
          "2013",
          "2014",
          "2015",
          "2016",
          "2017",
          "2018",
          "2019",
          "2020",
          "2021"
         ],
         "y": [
          0.804,
          0.809,
          0.816,
          0.82,
          0.828,
          0.828,
          0.834,
          0.842,
          0.848,
          0.855,
          0.862,
          0.868,
          0.873,
          0.878,
          0.889,
          0.895,
          0.894,
          0.897,
          0.9,
          0.906,
          0.912,
          0.908,
          0.909,
          0.922,
          0.924,
          0.924,
          0.927,
          0.93,
          0.929,
          0.935,
          0.924,
          0.929
         ]
        },
        {
         "hovertemplate": "Year: %{x}<br>HDI: %{y}",
         "line": {
          "color": "rgb(1,0,255)",
          "width": 0.5
         },
         "mode": "lines",
         "name": "United States",
         "showlegend": true,
         "type": "scatter",
         "x": [
          "1990",
          "1991",
          "1992",
          "1993",
          "1994",
          "1995",
          "1996",
          "1997",
          "1998",
          "1999",
          "2000",
          "2001",
          "2002",
          "2003",
          "2004",
          "2005",
          "2006",
          "2007",
          "2008",
          "2009",
          "2010",
          "2011",
          "2012",
          "2013",
          "2014",
          "2015",
          "2016",
          "2017",
          "2018",
          "2019",
          "2020",
          "2021"
         ],
         "y": [
          0.872,
          0.873,
          0.878,
          0.88,
          0.884,
          0.885,
          0.887,
          0.89,
          0.893,
          0.889,
          0.891,
          0.892,
          0.893,
          0.895,
          0.898,
          0.9,
          0.904,
          0.906,
          0.906,
          0.908,
          0.911,
          0.913,
          0.916,
          0.917,
          0.919,
          0.92,
          0.922,
          0.924,
          0.927,
          0.93,
          0.92,
          0.921
         ]
        },
        {
         "hovertemplate": "Year: %{x}<br>HDI: %{y}",
         "line": {
          "color": "rgb(3,183,156)",
          "width": 0.5
         },
         "mode": "lines",
         "name": "Uruguay",
         "showlegend": true,
         "type": "scatter",
         "x": [
          "1990",
          "1991",
          "1992",
          "1993",
          "1994",
          "1995",
          "1996",
          "1997",
          "1998",
          "1999",
          "2000",
          "2001",
          "2002",
          "2003",
          "2004",
          "2005",
          "2006",
          "2007",
          "2008",
          "2009",
          "2010",
          "2011",
          "2012",
          "2013",
          "2014",
          "2015",
          "2016",
          "2017",
          "2018",
          "2019",
          "2020",
          "2021"
         ],
         "y": [
          0.701,
          0.705,
          0.708,
          0.711,
          0.716,
          0.717,
          0.723,
          0.735,
          0.744,
          0.747,
          0.753,
          0.76,
          0.764,
          0.77,
          0.77,
          0.768,
          0.768,
          0.771,
          0.774,
          0.78,
          0.787,
          0.794,
          0.798,
          0.805,
          0.808,
          0.811,
          0.815,
          0.819,
          0.819,
          0.821,
          0.821,
          0.809
         ]
        },
        {
         "hovertemplate": "Year: %{x}<br>HDI: %{y}",
         "line": {
          "color": "rgb(31,210,136)",
          "width": 0.5
         },
         "mode": "lines",
         "name": "Venezuela",
         "showlegend": true,
         "type": "scatter",
         "x": [
          "1990",
          "1991",
          "1992",
          "1993",
          "1994",
          "1995",
          "1996",
          "1997",
          "1998",
          "1999",
          "2000",
          "2001",
          "2002",
          "2003",
          "2004",
          "2005",
          "2006",
          "2007",
          "2008",
          "2009",
          "2010",
          "2011",
          "2012",
          "2013",
          "2014",
          "2015",
          "2016",
          "2017",
          "2018",
          "2019",
          "2020",
          "2021"
         ],
         "y": [
          0.659,
          0.669,
          0.675,
          0.676,
          0.675,
          0.679,
          0.679,
          0.685,
          0.686,
          0.682,
          0.684,
          0.689,
          0.699,
          0.693,
          0.707,
          0.721,
          0.732,
          0.749,
          0.756,
          0.756,
          0.755,
          0.762,
          0.767,
          0.774,
          0.77,
          0.767,
          0.757,
          0.744,
          0.738,
          0.721,
          0.695,
          0.691
         ]
        },
        {
         "hovertemplate": "Year: %{x}<br>HDI: %{y}",
         "line": {
          "color": "rgb(169,246,54)",
          "width": 0.5
         },
         "mode": "lines",
         "name": "Viet Nam",
         "showlegend": true,
         "type": "scatter",
         "x": [
          "1990",
          "1991",
          "1992",
          "1993",
          "1994",
          "1995",
          "1996",
          "1997",
          "1998",
          "1999",
          "2000",
          "2001",
          "2002",
          "2003",
          "2004",
          "2005",
          "2006",
          "2007",
          "2008",
          "2009",
          "2010",
          "2011",
          "2012",
          "2013",
          "2014",
          "2015",
          "2016",
          "2017",
          "2018",
          "2019",
          "2020",
          "2021"
         ],
         "y": [
          0.482,
          0.493,
          0.504,
          0.515,
          0.526,
          0.539,
          0.55,
          0.56,
          0.569,
          0.578,
          0.588,
          0.598,
          0.608,
          0.617,
          0.625,
          0.633,
          0.641,
          0.648,
          0.653,
          0.658,
          0.663,
          0.668,
          0.672,
          0.676,
          0.68,
          0.684,
          0.688,
          0.692,
          0.697,
          0.703,
          0.71,
          0.703
         ]
        },
        {
         "hovertemplate": "Year: %{x}<br>HDI: %{y}",
         "line": {
          "color": "rgb(253,183,21)",
          "width": 0.5
         },
         "mode": "lines",
         "name": "Yemen",
         "showlegend": true,
         "type": "scatter",
         "x": [
          "1990",
          "1991",
          "1992",
          "1993",
          "1994",
          "1995",
          "1996",
          "1997",
          "1998",
          "1999",
          "2000",
          "2001",
          "2002",
          "2003",
          "2004",
          "2005",
          "2006",
          "2007",
          "2008",
          "2009",
          "2010",
          "2011",
          "2012",
          "2013",
          "2014",
          "2015",
          "2016",
          "2017",
          "2018",
          "2019",
          "2020",
          "2021"
         ],
         "y": [
          0.383,
          0.386,
          0.391,
          0.397,
          0.399,
          0.409,
          0.419,
          0.427,
          0.435,
          0.441,
          0.45,
          0.46,
          0.468,
          0.476,
          0.483,
          0.489,
          0.494,
          0.498,
          0.501,
          0.506,
          0.51,
          0.509,
          0.512,
          0.513,
          0.505,
          0.477,
          0.467,
          0.459,
          0.459,
          0.461,
          0.46,
          0.455
         ]
        },
        {
         "hovertemplate": "Year: %{x}<br>HDI: %{y}",
         "line": {
          "color": "rgb(235,201,27)",
          "width": 0.5
         },
         "mode": "lines",
         "name": "Zambia",
         "showlegend": true,
         "type": "scatter",
         "x": [
          "1990",
          "1991",
          "1992",
          "1993",
          "1994",
          "1995",
          "1996",
          "1997",
          "1998",
          "1999",
          "2000",
          "2001",
          "2002",
          "2003",
          "2004",
          "2005",
          "2006",
          "2007",
          "2008",
          "2009",
          "2010",
          "2011",
          "2012",
          "2013",
          "2014",
          "2015",
          "2016",
          "2017",
          "2018",
          "2019",
          "2020",
          "2021"
         ],
         "y": [
          0.412,
          0.408,
          0.408,
          0.414,
          0.411,
          0.413,
          0.414,
          0.413,
          0.411,
          0.413,
          0.418,
          0.425,
          0.434,
          0.448,
          0.459,
          0.472,
          0.484,
          0.495,
          0.506,
          0.519,
          0.529,
          0.534,
          0.548,
          0.554,
          0.557,
          0.562,
          0.564,
          0.568,
          0.572,
          0.575,
          0.57,
          0.565
         ]
        },
        {
         "hovertemplate": "Year: %{x}<br>HDI: %{y}",
         "line": {
          "color": "rgb(155,251,61)",
          "width": 0.5
         },
         "mode": "lines",
         "name": "Zimbabwe",
         "showlegend": true,
         "type": "scatter",
         "x": [
          "1990",
          "1991",
          "1992",
          "1993",
          "1994",
          "1995",
          "1996",
          "1997",
          "1998",
          "1999",
          "2000",
          "2001",
          "2002",
          "2003",
          "2004",
          "2005",
          "2006",
          "2007",
          "2008",
          "2009",
          "2010",
          "2011",
          "2012",
          "2013",
          "2014",
          "2015",
          "2016",
          "2017",
          "2018",
          "2019",
          "2020",
          "2021"
         ],
         "y": [
          0.509,
          0.512,
          0.498,
          0.491,
          0.486,
          0.477,
          0.476,
          0.472,
          0.466,
          0.457,
          0.452,
          0.441,
          0.452,
          0.439,
          0.446,
          0.448,
          0.452,
          0.454,
          0.454,
          0.486,
          0.512,
          0.535,
          0.557,
          0.567,
          0.576,
          0.582,
          0.588,
          0.594,
          0.602,
          0.601,
          0.6,
          0.593
         ]
        },
        {
         "hovertemplate": "Year: %{x}<br>HDI: %{y}",
         "line": {
          "color": "black",
          "width": 3
         },
         "mode": "lines",
         "name": "World Mean",
         "type": "scatter",
         "x": [
          "1990",
          "1991",
          "1992",
          "1993",
          "1994",
          "1995",
          "1996",
          "1997",
          "1998",
          "1999",
          "2000",
          "2001",
          "2002",
          "2003",
          "2004",
          "2005",
          "2006",
          "2007",
          "2008",
          "2009",
          "2010",
          "2011",
          "2012",
          "2013",
          "2014",
          "2015",
          "2016",
          "2017",
          "2018",
          "2019",
          "2020",
          "2021"
         ],
         "y": [
          0.5992765957446803,
          0.6019787234042552,
          0.6045248226950357,
          0.6085035460992905,
          0.6134113475177297,
          0.6181773049645392,
          0.6237801418439717,
          0.6290638297872341,
          0.634489361702128,
          0.6395248226950355,
          0.6448226950354614,
          0.6504822695035464,
          0.6561489361702125,
          0.6616170212765954,
          0.6679929078014183,
          0.6742340425531912,
          0.680631205673759,
          0.6869007092198584,
          0.6922127659574472,
          0.6961702127659577,
          0.7014822695035459,
          0.7073404255319148,
          0.7124468085106382,
          0.7174397163120565,
          0.7220000000000002,
          0.7260354609929075,
          0.7299361702127657,
          0.7337659574468085,
          0.7374042553191488,
          0.7411489361702133,
          0.7356241134751772,
          0.7346312056737591
         ]
        }
       ],
       "layout": {
        "autosize": true,
        "legend": {
         "orientation": "v",
         "x": 1,
         "xanchor": "left",
         "y": 0.99,
         "yanchor": "top"
        },
        "plot_bgcolor": "white",
        "showlegend": true,
        "template": {
         "data": {
          "bar": [
           {
            "error_x": {
             "color": "#2a3f5f"
            },
            "error_y": {
             "color": "#2a3f5f"
            },
            "marker": {
             "line": {
              "color": "#E5ECF6",
              "width": 0.5
             },
             "pattern": {
              "fillmode": "overlay",
              "size": 10,
              "solidity": 0.2
             }
            },
            "type": "bar"
           }
          ],
          "barpolar": [
           {
            "marker": {
             "line": {
              "color": "#E5ECF6",
              "width": 0.5
             },
             "pattern": {
              "fillmode": "overlay",
              "size": 10,
              "solidity": 0.2
             }
            },
            "type": "barpolar"
           }
          ],
          "carpet": [
           {
            "aaxis": {
             "endlinecolor": "#2a3f5f",
             "gridcolor": "white",
             "linecolor": "white",
             "minorgridcolor": "white",
             "startlinecolor": "#2a3f5f"
            },
            "baxis": {
             "endlinecolor": "#2a3f5f",
             "gridcolor": "white",
             "linecolor": "white",
             "minorgridcolor": "white",
             "startlinecolor": "#2a3f5f"
            },
            "type": "carpet"
           }
          ],
          "choropleth": [
           {
            "colorbar": {
             "outlinewidth": 0,
             "ticks": ""
            },
            "type": "choropleth"
           }
          ],
          "contour": [
           {
            "colorbar": {
             "outlinewidth": 0,
             "ticks": ""
            },
            "colorscale": [
             [
              0,
              "#0d0887"
             ],
             [
              0.1111111111111111,
              "#46039f"
             ],
             [
              0.2222222222222222,
              "#7201a8"
             ],
             [
              0.3333333333333333,
              "#9c179e"
             ],
             [
              0.4444444444444444,
              "#bd3786"
             ],
             [
              0.5555555555555556,
              "#d8576b"
             ],
             [
              0.6666666666666666,
              "#ed7953"
             ],
             [
              0.7777777777777778,
              "#fb9f3a"
             ],
             [
              0.8888888888888888,
              "#fdca26"
             ],
             [
              1,
              "#f0f921"
             ]
            ],
            "type": "contour"
           }
          ],
          "contourcarpet": [
           {
            "colorbar": {
             "outlinewidth": 0,
             "ticks": ""
            },
            "type": "contourcarpet"
           }
          ],
          "heatmap": [
           {
            "colorbar": {
             "outlinewidth": 0,
             "ticks": ""
            },
            "colorscale": [
             [
              0,
              "#0d0887"
             ],
             [
              0.1111111111111111,
              "#46039f"
             ],
             [
              0.2222222222222222,
              "#7201a8"
             ],
             [
              0.3333333333333333,
              "#9c179e"
             ],
             [
              0.4444444444444444,
              "#bd3786"
             ],
             [
              0.5555555555555556,
              "#d8576b"
             ],
             [
              0.6666666666666666,
              "#ed7953"
             ],
             [
              0.7777777777777778,
              "#fb9f3a"
             ],
             [
              0.8888888888888888,
              "#fdca26"
             ],
             [
              1,
              "#f0f921"
             ]
            ],
            "type": "heatmap"
           }
          ],
          "heatmapgl": [
           {
            "colorbar": {
             "outlinewidth": 0,
             "ticks": ""
            },
            "colorscale": [
             [
              0,
              "#0d0887"
             ],
             [
              0.1111111111111111,
              "#46039f"
             ],
             [
              0.2222222222222222,
              "#7201a8"
             ],
             [
              0.3333333333333333,
              "#9c179e"
             ],
             [
              0.4444444444444444,
              "#bd3786"
             ],
             [
              0.5555555555555556,
              "#d8576b"
             ],
             [
              0.6666666666666666,
              "#ed7953"
             ],
             [
              0.7777777777777778,
              "#fb9f3a"
             ],
             [
              0.8888888888888888,
              "#fdca26"
             ],
             [
              1,
              "#f0f921"
             ]
            ],
            "type": "heatmapgl"
           }
          ],
          "histogram": [
           {
            "marker": {
             "pattern": {
              "fillmode": "overlay",
              "size": 10,
              "solidity": 0.2
             }
            },
            "type": "histogram"
           }
          ],
          "histogram2d": [
           {
            "colorbar": {
             "outlinewidth": 0,
             "ticks": ""
            },
            "colorscale": [
             [
              0,
              "#0d0887"
             ],
             [
              0.1111111111111111,
              "#46039f"
             ],
             [
              0.2222222222222222,
              "#7201a8"
             ],
             [
              0.3333333333333333,
              "#9c179e"
             ],
             [
              0.4444444444444444,
              "#bd3786"
             ],
             [
              0.5555555555555556,
              "#d8576b"
             ],
             [
              0.6666666666666666,
              "#ed7953"
             ],
             [
              0.7777777777777778,
              "#fb9f3a"
             ],
             [
              0.8888888888888888,
              "#fdca26"
             ],
             [
              1,
              "#f0f921"
             ]
            ],
            "type": "histogram2d"
           }
          ],
          "histogram2dcontour": [
           {
            "colorbar": {
             "outlinewidth": 0,
             "ticks": ""
            },
            "colorscale": [
             [
              0,
              "#0d0887"
             ],
             [
              0.1111111111111111,
              "#46039f"
             ],
             [
              0.2222222222222222,
              "#7201a8"
             ],
             [
              0.3333333333333333,
              "#9c179e"
             ],
             [
              0.4444444444444444,
              "#bd3786"
             ],
             [
              0.5555555555555556,
              "#d8576b"
             ],
             [
              0.6666666666666666,
              "#ed7953"
             ],
             [
              0.7777777777777778,
              "#fb9f3a"
             ],
             [
              0.8888888888888888,
              "#fdca26"
             ],
             [
              1,
              "#f0f921"
             ]
            ],
            "type": "histogram2dcontour"
           }
          ],
          "mesh3d": [
           {
            "colorbar": {
             "outlinewidth": 0,
             "ticks": ""
            },
            "type": "mesh3d"
           }
          ],
          "parcoords": [
           {
            "line": {
             "colorbar": {
              "outlinewidth": 0,
              "ticks": ""
             }
            },
            "type": "parcoords"
           }
          ],
          "pie": [
           {
            "automargin": true,
            "type": "pie"
           }
          ],
          "scatter": [
           {
            "fillpattern": {
             "fillmode": "overlay",
             "size": 10,
             "solidity": 0.2
            },
            "type": "scatter"
           }
          ],
          "scatter3d": [
           {
            "line": {
             "colorbar": {
              "outlinewidth": 0,
              "ticks": ""
             }
            },
            "marker": {
             "colorbar": {
              "outlinewidth": 0,
              "ticks": ""
             }
            },
            "type": "scatter3d"
           }
          ],
          "scattercarpet": [
           {
            "marker": {
             "colorbar": {
              "outlinewidth": 0,
              "ticks": ""
             }
            },
            "type": "scattercarpet"
           }
          ],
          "scattergeo": [
           {
            "marker": {
             "colorbar": {
              "outlinewidth": 0,
              "ticks": ""
             }
            },
            "type": "scattergeo"
           }
          ],
          "scattergl": [
           {
            "marker": {
             "colorbar": {
              "outlinewidth": 0,
              "ticks": ""
             }
            },
            "type": "scattergl"
           }
          ],
          "scattermapbox": [
           {
            "marker": {
             "colorbar": {
              "outlinewidth": 0,
              "ticks": ""
             }
            },
            "type": "scattermapbox"
           }
          ],
          "scatterpolar": [
           {
            "marker": {
             "colorbar": {
              "outlinewidth": 0,
              "ticks": ""
             }
            },
            "type": "scatterpolar"
           }
          ],
          "scatterpolargl": [
           {
            "marker": {
             "colorbar": {
              "outlinewidth": 0,
              "ticks": ""
             }
            },
            "type": "scatterpolargl"
           }
          ],
          "scatterternary": [
           {
            "marker": {
             "colorbar": {
              "outlinewidth": 0,
              "ticks": ""
             }
            },
            "type": "scatterternary"
           }
          ],
          "surface": [
           {
            "colorbar": {
             "outlinewidth": 0,
             "ticks": ""
            },
            "colorscale": [
             [
              0,
              "#0d0887"
             ],
             [
              0.1111111111111111,
              "#46039f"
             ],
             [
              0.2222222222222222,
              "#7201a8"
             ],
             [
              0.3333333333333333,
              "#9c179e"
             ],
             [
              0.4444444444444444,
              "#bd3786"
             ],
             [
              0.5555555555555556,
              "#d8576b"
             ],
             [
              0.6666666666666666,
              "#ed7953"
             ],
             [
              0.7777777777777778,
              "#fb9f3a"
             ],
             [
              0.8888888888888888,
              "#fdca26"
             ],
             [
              1,
              "#f0f921"
             ]
            ],
            "type": "surface"
           }
          ],
          "table": [
           {
            "cells": {
             "fill": {
              "color": "#EBF0F8"
             },
             "line": {
              "color": "white"
             }
            },
            "header": {
             "fill": {
              "color": "#C8D4E3"
             },
             "line": {
              "color": "white"
             }
            },
            "type": "table"
           }
          ]
         },
         "layout": {
          "annotationdefaults": {
           "arrowcolor": "#2a3f5f",
           "arrowhead": 0,
           "arrowwidth": 1
          },
          "autotypenumbers": "strict",
          "coloraxis": {
           "colorbar": {
            "outlinewidth": 0,
            "ticks": ""
           }
          },
          "colorscale": {
           "diverging": [
            [
             0,
             "#8e0152"
            ],
            [
             0.1,
             "#c51b7d"
            ],
            [
             0.2,
             "#de77ae"
            ],
            [
             0.3,
             "#f1b6da"
            ],
            [
             0.4,
             "#fde0ef"
            ],
            [
             0.5,
             "#f7f7f7"
            ],
            [
             0.6,
             "#e6f5d0"
            ],
            [
             0.7,
             "#b8e186"
            ],
            [
             0.8,
             "#7fbc41"
            ],
            [
             0.9,
             "#4d9221"
            ],
            [
             1,
             "#276419"
            ]
           ],
           "sequential": [
            [
             0,
             "#0d0887"
            ],
            [
             0.1111111111111111,
             "#46039f"
            ],
            [
             0.2222222222222222,
             "#7201a8"
            ],
            [
             0.3333333333333333,
             "#9c179e"
            ],
            [
             0.4444444444444444,
             "#bd3786"
            ],
            [
             0.5555555555555556,
             "#d8576b"
            ],
            [
             0.6666666666666666,
             "#ed7953"
            ],
            [
             0.7777777777777778,
             "#fb9f3a"
            ],
            [
             0.8888888888888888,
             "#fdca26"
            ],
            [
             1,
             "#f0f921"
            ]
           ],
           "sequentialminus": [
            [
             0,
             "#0d0887"
            ],
            [
             0.1111111111111111,
             "#46039f"
            ],
            [
             0.2222222222222222,
             "#7201a8"
            ],
            [
             0.3333333333333333,
             "#9c179e"
            ],
            [
             0.4444444444444444,
             "#bd3786"
            ],
            [
             0.5555555555555556,
             "#d8576b"
            ],
            [
             0.6666666666666666,
             "#ed7953"
            ],
            [
             0.7777777777777778,
             "#fb9f3a"
            ],
            [
             0.8888888888888888,
             "#fdca26"
            ],
            [
             1,
             "#f0f921"
            ]
           ]
          },
          "colorway": [
           "#636efa",
           "#EF553B",
           "#00cc96",
           "#ab63fa",
           "#FFA15A",
           "#19d3f3",
           "#FF6692",
           "#B6E880",
           "#FF97FF",
           "#FECB52"
          ],
          "font": {
           "color": "#2a3f5f"
          },
          "geo": {
           "bgcolor": "white",
           "lakecolor": "white",
           "landcolor": "#E5ECF6",
           "showlakes": true,
           "showland": true,
           "subunitcolor": "white"
          },
          "hoverlabel": {
           "align": "left"
          },
          "hovermode": "closest",
          "mapbox": {
           "style": "light"
          },
          "paper_bgcolor": "white",
          "plot_bgcolor": "#E5ECF6",
          "polar": {
           "angularaxis": {
            "gridcolor": "white",
            "linecolor": "white",
            "ticks": ""
           },
           "bgcolor": "#E5ECF6",
           "radialaxis": {
            "gridcolor": "white",
            "linecolor": "white",
            "ticks": ""
           }
          },
          "scene": {
           "xaxis": {
            "backgroundcolor": "#E5ECF6",
            "gridcolor": "white",
            "gridwidth": 2,
            "linecolor": "white",
            "showbackground": true,
            "ticks": "",
            "zerolinecolor": "white"
           },
           "yaxis": {
            "backgroundcolor": "#E5ECF6",
            "gridcolor": "white",
            "gridwidth": 2,
            "linecolor": "white",
            "showbackground": true,
            "ticks": "",
            "zerolinecolor": "white"
           },
           "zaxis": {
            "backgroundcolor": "#E5ECF6",
            "gridcolor": "white",
            "gridwidth": 2,
            "linecolor": "white",
            "showbackground": true,
            "ticks": "",
            "zerolinecolor": "white"
           }
          },
          "shapedefaults": {
           "line": {
            "color": "#2a3f5f"
           }
          },
          "ternary": {
           "aaxis": {
            "gridcolor": "white",
            "linecolor": "white",
            "ticks": ""
           },
           "baxis": {
            "gridcolor": "white",
            "linecolor": "white",
            "ticks": ""
           },
           "bgcolor": "#E5ECF6",
           "caxis": {
            "gridcolor": "white",
            "linecolor": "white",
            "ticks": ""
           }
          },
          "title": {
           "x": 0.05
          },
          "xaxis": {
           "automargin": true,
           "gridcolor": "white",
           "linecolor": "white",
           "ticks": "",
           "title": {
            "standoff": 15
           },
           "zerolinecolor": "white",
           "zerolinewidth": 2
          },
          "yaxis": {
           "automargin": true,
           "gridcolor": "white",
           "linecolor": "white",
           "ticks": "",
           "title": {
            "standoff": 15
           },
           "zerolinecolor": "white",
           "zerolinewidth": 2
          }
         }
        },
        "title": {
         "text": "Human Development Index (1990-2021)"
        },
        "xaxis": {
         "autorange": true,
         "gridcolor": "lightgrey",
         "gridwidth": 1,
         "range": [
          0,
          31
         ],
         "showgrid": true,
         "title": {
          "text": "Year"
         },
         "type": "category"
        },
        "yaxis": {
         "autorange": true,
         "gridcolor": "lightgrey",
         "gridwidth": 1,
         "range": [
          0.17455555555555555,
          1.0034444444444444
         ],
         "showgrid": true,
         "title": {
          "text": "HDI"
         },
         "type": "linear"
        }
       }
      },
      "text/html": [
       "<div>                            <div id=\"e6bb33c2-4e70-486e-9311-df6f8bc5db3c\" class=\"plotly-graph-div\" style=\"height:800px; width:100%;\"></div>            <script type=\"text/javascript\">                require([\"plotly\"], function(Plotly) {                    window.PLOTLYENV=window.PLOTLYENV || {};                                    if (document.getElementById(\"e6bb33c2-4e70-486e-9311-df6f8bc5db3c\")) {                    Plotly.newPlot(                        \"e6bb33c2-4e70-486e-9311-df6f8bc5db3c\",                        [{\"line\":{\"color\":\"rgb(174,71,3)\",\"width\":0.5},\"mode\":\"lines\",\"name\":\"Afghanistan\",\"showlegend\":true,\"x\":[\"1990\",\"1991\",\"1992\",\"1993\",\"1994\",\"1995\",\"1996\",\"1997\",\"1998\",\"1999\",\"2000\",\"2001\",\"2002\",\"2003\",\"2004\",\"2005\",\"2006\",\"2007\",\"2008\",\"2009\",\"2010\",\"2011\",\"2012\",\"2013\",\"2014\",\"2015\",\"2016\",\"2017\",\"2018\",\"2019\",\"2020\",\"2021\"],\"y\":[0.273,0.279,0.287,0.297,0.292,0.31,0.319,0.323,0.324,0.332,0.335,0.337,0.362,0.376,0.392,0.4,0.409,0.424,0.43,0.44,0.448,0.456,0.466,0.474,0.479,0.478,0.481,0.482,0.483,0.488,0.483,0.478],\"type\":\"scatter\",\"hovertemplate\":\"Year: %{x}\\u003cbr\\u003eHDI: %{y}\"},{\"line\":{\"color\":\"rgb(63,234,115)\",\"width\":0.5},\"mode\":\"lines\",\"name\":\"Albania\",\"showlegend\":true,\"x\":[\"1990\",\"1991\",\"1992\",\"1993\",\"1994\",\"1995\",\"1996\",\"1997\",\"1998\",\"1999\",\"2000\",\"2001\",\"2002\",\"2003\",\"2004\",\"2005\",\"2006\",\"2007\",\"2008\",\"2009\",\"2010\",\"2011\",\"2012\",\"2013\",\"2014\",\"2015\",\"2016\",\"2017\",\"2018\",\"2019\",\"2020\",\"2021\"],\"y\":[0.647,0.629,0.614,0.617,0.624,0.634,0.645,0.642,0.657,0.669,0.677,0.684,0.689,0.696,0.7,0.711,0.718,0.73,0.736,0.741,0.754,0.766,0.778,0.785,0.792,0.795,0.798,0.802,0.806,0.81,0.794,0.796],\"type\":\"scatter\",\"hovertemplate\":\"Year: %{x}\\u003cbr\\u003eHDI: %{y}\"},{\"line\":{\"color\":\"rgb(91,248,97)\",\"width\":0.5},\"mode\":\"lines\",\"name\":\"Algeria\",\"showlegend\":true,\"x\":[\"1990\",\"1991\",\"1992\",\"1993\",\"1994\",\"1995\",\"1996\",\"1997\",\"1998\",\"1999\",\"2000\",\"2001\",\"2002\",\"2003\",\"2004\",\"2005\",\"2006\",\"2007\",\"2008\",\"2009\",\"2010\",\"2011\",\"2012\",\"2013\",\"2014\",\"2015\",\"2016\",\"2017\",\"2018\",\"2019\",\"2020\",\"2021\"],\"y\":[0.591,0.594,0.599,0.601,0.602,0.606,0.617,0.624,0.633,0.641,0.649,0.655,0.664,0.67,0.678,0.685,0.69,0.697,0.705,0.714,0.721,0.727,0.729,0.731,0.735,0.74,0.743,0.744,0.745,0.748,0.736,0.745],\"type\":\"scatter\",\"hovertemplate\":\"Year: %{x}\\u003cbr\\u003eHDI: %{y}\"},{\"line\":{\"color\":\"rgb(1,159,171)\",\"width\":0.5},\"mode\":\"lines\",\"name\":\"Argentina\",\"showlegend\":true,\"x\":[\"1990\",\"1991\",\"1992\",\"1993\",\"1994\",\"1995\",\"1996\",\"1997\",\"1998\",\"1999\",\"2000\",\"2001\",\"2002\",\"2003\",\"2004\",\"2005\",\"2006\",\"2007\",\"2008\",\"2009\",\"2010\",\"2011\",\"2012\",\"2013\",\"2014\",\"2015\",\"2016\",\"2017\",\"2018\",\"2019\",\"2020\",\"2021\"],\"y\":[0.723,0.73,0.735,0.739,0.744,0.745,0.751,0.756,0.762,0.773,0.779,0.784,0.785,0.793,0.798,0.802,0.814,0.817,0.825,0.827,0.834,0.841,0.843,0.845,0.846,0.848,0.847,0.851,0.85,0.852,0.84,0.842],\"type\":\"scatter\",\"hovertemplate\":\"Year: %{x}\\u003cbr\\u003eHDI: %{y}\"},{\"line\":{\"color\":\"rgb(47,223,125)\",\"width\":0.5},\"mode\":\"lines\",\"name\":\"Armenia\",\"showlegend\":true,\"x\":[\"1990\",\"1991\",\"1992\",\"1993\",\"1994\",\"1995\",\"1996\",\"1997\",\"1998\",\"1999\",\"2000\",\"2001\",\"2002\",\"2003\",\"2004\",\"2005\",\"2006\",\"2007\",\"2008\",\"2009\",\"2010\",\"2011\",\"2012\",\"2013\",\"2014\",\"2015\",\"2016\",\"2017\",\"2018\",\"2019\",\"2020\",\"2021\"],\"y\":[0.656,0.649,0.618,0.616,0.62,0.627,0.632,0.641,0.654,0.657,0.662,0.666,0.676,0.686,0.694,0.707,0.721,0.738,0.742,0.741,0.746,0.75,0.755,0.76,0.764,0.766,0.765,0.768,0.771,0.778,0.757,0.759],\"type\":\"scatter\",\"hovertemplate\":\"Year: %{x}\\u003cbr\\u003eHDI: %{y}\"},{\"line\":{\"color\":\"rgb(1,6,252)\",\"width\":0.5},\"mode\":\"lines\",\"name\":\"Australia\",\"showlegend\":true,\"x\":[\"1990\",\"1991\",\"1992\",\"1993\",\"1994\",\"1995\",\"1996\",\"1997\",\"1998\",\"1999\",\"2000\",\"2001\",\"2002\",\"2003\",\"2004\",\"2005\",\"2006\",\"2007\",\"2008\",\"2009\",\"2010\",\"2011\",\"2012\",\"2013\",\"2014\",\"2015\",\"2016\",\"2017\",\"2018\",\"2019\",\"2020\",\"2021\"],\"y\":[0.865,0.867,0.869,0.873,0.873,0.882,0.884,0.887,0.891,0.894,0.896,0.9,0.902,0.906,0.908,0.911,0.914,0.915,0.919,0.921,0.923,0.926,0.93,0.929,0.931,0.933,0.935,0.937,0.941,0.941,0.947,0.951],\"type\":\"scatter\",\"hovertemplate\":\"Year: %{x}\\u003cbr\\u003eHDI: %{y}\"},{\"line\":{\"color\":\"rgb(1,53,229)\",\"width\":0.5},\"mode\":\"lines\",\"name\":\"Austria\",\"showlegend\":true,\"x\":[\"1990\",\"1991\",\"1992\",\"1993\",\"1994\",\"1995\",\"1996\",\"1997\",\"1998\",\"1999\",\"2000\",\"2001\",\"2002\",\"2003\",\"2004\",\"2005\",\"2006\",\"2007\",\"2008\",\"2009\",\"2010\",\"2011\",\"2012\",\"2013\",\"2014\",\"2015\",\"2016\",\"2017\",\"2018\",\"2019\",\"2020\",\"2021\"],\"y\":[0.825,0.829,0.835,0.84,0.845,0.849,0.853,0.857,0.863,0.866,0.871,0.876,0.879,0.881,0.886,0.889,0.893,0.896,0.898,0.898,0.902,0.905,0.906,0.905,0.909,0.91,0.915,0.916,0.917,0.919,0.913,0.916],\"type\":\"scatter\",\"hovertemplate\":\"Year: %{x}\\u003cbr\\u003eHDI: %{y}\"},{\"line\":{\"color\":\"rgb(1,147,178)\",\"width\":0.5},\"mode\":\"lines\",\"name\":\"Bahrain\",\"showlegend\":true,\"x\":[\"1990\",\"1991\",\"1992\",\"1993\",\"1994\",\"1995\",\"1996\",\"1997\",\"1998\",\"1999\",\"2000\",\"2001\",\"2002\",\"2003\",\"2004\",\"2005\",\"2006\",\"2007\",\"2008\",\"2009\",\"2010\",\"2011\",\"2012\",\"2013\",\"2014\",\"2015\",\"2016\",\"2017\",\"2018\",\"2019\",\"2020\",\"2021\"],\"y\":[0.742,0.743,0.749,0.761,0.764,0.772,0.778,0.78,0.785,0.789,0.798,0.804,0.804,0.806,0.804,0.803,0.804,0.807,0.808,0.806,0.808,0.809,0.817,0.824,0.83,0.858,0.865,0.869,0.879,0.882,0.877,0.875],\"type\":\"scatter\",\"hovertemplate\":\"Year: %{x}\\u003cbr\\u003eHDI: %{y}\"},{\"line\":{\"color\":\"rgb(247,189,23)\",\"width\":0.5},\"mode\":\"lines\",\"name\":\"Bangladesh\",\"showlegend\":true,\"x\":[\"1990\",\"1991\",\"1992\",\"1993\",\"1994\",\"1995\",\"1996\",\"1997\",\"1998\",\"1999\",\"2000\",\"2001\",\"2002\",\"2003\",\"2004\",\"2005\",\"2006\",\"2007\",\"2008\",\"2009\",\"2010\",\"2011\",\"2012\",\"2013\",\"2014\",\"2015\",\"2016\",\"2017\",\"2018\",\"2019\",\"2020\",\"2021\"],\"y\":[0.397,0.394,0.413,0.42,0.427,0.436,0.441,0.453,0.467,0.481,0.485,0.492,0.499,0.505,0.511,0.518,0.524,0.527,0.53,0.541,0.553,0.561,0.572,0.574,0.583,0.602,0.612,0.622,0.635,0.644,0.655,0.661],\"type\":\"scatter\",\"hovertemplate\":\"Year: %{x}\\u003cbr\\u003eHDI: %{y}\"},{\"line\":{\"color\":\"rgb(1,164,168)\",\"width\":0.5},\"mode\":\"lines\",\"name\":\"Barbados\",\"showlegend\":true,\"x\":[\"1990\",\"1991\",\"1992\",\"1993\",\"1994\",\"1995\",\"1996\",\"1997\",\"1998\",\"1999\",\"2000\",\"2001\",\"2002\",\"2003\",\"2004\",\"2005\",\"2006\",\"2007\",\"2008\",\"2009\",\"2010\",\"2011\",\"2012\",\"2013\",\"2014\",\"2015\",\"2016\",\"2017\",\"2018\",\"2019\",\"2020\",\"2021\"],\"y\":[0.725,0.727,0.727,0.731,0.736,0.739,0.744,0.747,0.748,0.75,0.756,0.756,0.76,0.765,0.77,0.776,0.781,0.786,0.789,0.791,0.788,0.784,0.787,0.787,0.789,0.791,0.794,0.796,0.797,0.799,0.788,0.79],\"type\":\"scatter\",\"hovertemplate\":\"Year: %{x}\\u003cbr\\u003eHDI: %{y}\"},{\"line\":{\"color\":\"rgb(1,65,223)\",\"width\":0.5},\"mode\":\"lines\",\"name\":\"Belgium\",\"showlegend\":true,\"x\":[\"1990\",\"1991\",\"1992\",\"1993\",\"1994\",\"1995\",\"1996\",\"1997\",\"1998\",\"1999\",\"2000\",\"2001\",\"2002\",\"2003\",\"2004\",\"2005\",\"2006\",\"2007\",\"2008\",\"2009\",\"2010\",\"2011\",\"2012\",\"2013\",\"2014\",\"2015\",\"2016\",\"2017\",\"2018\",\"2019\",\"2020\",\"2021\"],\"y\":[0.816,0.819,0.835,0.85,0.858,0.865,0.871,0.876,0.878,0.882,0.887,0.89,0.892,0.895,0.9,0.902,0.905,0.908,0.908,0.91,0.912,0.914,0.915,0.916,0.921,0.924,0.927,0.931,0.933,0.936,0.928,0.937],\"type\":\"scatter\",\"hovertemplate\":\"Year: %{x}\\u003cbr\\u003eHDI: %{y}\"},{\"line\":{\"color\":\"rgb(85,246,101)\",\"width\":0.5},\"mode\":\"lines\",\"name\":\"Belize\",\"showlegend\":true,\"x\":[\"1990\",\"1991\",\"1992\",\"1993\",\"1994\",\"1995\",\"1996\",\"1997\",\"1998\",\"1999\",\"2000\",\"2001\",\"2002\",\"2003\",\"2004\",\"2005\",\"2006\",\"2007\",\"2008\",\"2009\",\"2010\",\"2011\",\"2012\",\"2013\",\"2014\",\"2015\",\"2016\",\"2017\",\"2018\",\"2019\",\"2020\",\"2021\"],\"y\":[0.593,0.6,0.608,0.614,0.618,0.62,0.623,0.625,0.626,0.633,0.64,0.643,0.652,0.66,0.667,0.664,0.68,0.685,0.693,0.701,0.707,0.709,0.713,0.712,0.709,0.708,0.712,0.707,0.706,0.705,0.69,0.683],\"type\":\"scatter\",\"hovertemplate\":\"Year: %{x}\\u003cbr\\u003eHDI: %{y}\"},{\"line\":{\"color\":\"rgb(242,164,16)\",\"width\":0.5},\"mode\":\"lines\",\"name\":\"Benin\",\"showlegend\":true,\"x\":[\"1990\",\"1991\",\"1992\",\"1993\",\"1994\",\"1995\",\"1996\",\"1997\",\"1998\",\"1999\",\"2000\",\"2001\",\"2002\",\"2003\",\"2004\",\"2005\",\"2006\",\"2007\",\"2008\",\"2009\",\"2010\",\"2011\",\"2012\",\"2013\",\"2014\",\"2015\",\"2016\",\"2017\",\"2018\",\"2019\",\"2020\",\"2021\"],\"y\":[0.359,0.364,0.369,0.375,0.38,0.386,0.391,0.397,0.402,0.409,0.416,0.428,0.436,0.443,0.45,0.457,0.464,0.472,0.48,0.486,0.492,0.499,0.509,0.52,0.524,0.529,0.53,0.53,0.53,0.53,0.524,0.525],\"type\":\"scatter\",\"hovertemplate\":\"Year: %{x}\\u003cbr\\u003eHDI: %{y}\"},{\"line\":{\"color\":\"rgb(117,254,81)\",\"width\":0.5},\"mode\":\"lines\",\"name\":\"Bolivia\",\"showlegend\":true,\"x\":[\"1990\",\"1991\",\"1992\",\"1993\",\"1994\",\"1995\",\"1996\",\"1997\",\"1998\",\"1999\",\"2000\",\"2001\",\"2002\",\"2003\",\"2004\",\"2005\",\"2006\",\"2007\",\"2008\",\"2009\",\"2010\",\"2011\",\"2012\",\"2013\",\"2014\",\"2015\",\"2016\",\"2017\",\"2018\",\"2019\",\"2020\",\"2021\"],\"y\":[0.55,0.56,0.568,0.578,0.587,0.598,0.609,0.62,0.632,0.631,0.632,0.632,0.63,0.627,0.626,0.635,0.638,0.645,0.652,0.658,0.662,0.668,0.674,0.682,0.684,0.69,0.701,0.708,0.714,0.717,0.694,0.692],\"type\":\"scatter\",\"hovertemplate\":\"Year: %{x}\\u003cbr\\u003eHDI: %{y}\"},{\"line\":{\"color\":\"rgb(95,249,94)\",\"width\":0.5},\"mode\":\"lines\",\"name\":\"Botswana\",\"showlegend\":true,\"x\":[\"1990\",\"1991\",\"1992\",\"1993\",\"1994\",\"1995\",\"1996\",\"1997\",\"1998\",\"1999\",\"2000\",\"2001\",\"2002\",\"2003\",\"2004\",\"2005\",\"2006\",\"2007\",\"2008\",\"2009\",\"2010\",\"2011\",\"2012\",\"2013\",\"2014\",\"2015\",\"2016\",\"2017\",\"2018\",\"2019\",\"2020\",\"2021\"],\"y\":[0.586,0.588,0.586,0.588,0.578,0.583,0.583,0.586,0.586,0.587,0.585,0.586,0.583,0.59,0.595,0.604,0.618,0.632,0.642,0.647,0.66,0.669,0.674,0.687,0.696,0.702,0.713,0.722,0.716,0.717,0.713,0.693],\"type\":\"scatter\",\"hovertemplate\":\"Year: %{x}\\u003cbr\\u003eHDI: %{y}\"},{\"line\":{\"color\":\"rgb(73,240,108)\",\"width\":0.5},\"mode\":\"lines\",\"name\":\"Brazil\",\"showlegend\":true,\"x\":[\"1990\",\"1991\",\"1992\",\"1993\",\"1994\",\"1995\",\"1996\",\"1997\",\"1998\",\"1999\",\"2000\",\"2001\",\"2002\",\"2003\",\"2004\",\"2005\",\"2006\",\"2007\",\"2008\",\"2009\",\"2010\",\"2011\",\"2012\",\"2013\",\"2014\",\"2015\",\"2016\",\"2017\",\"2018\",\"2019\",\"2020\",\"2021\"],\"y\":[0.61,0.616,0.622,0.63,0.638,0.646,0.653,0.66,0.666,0.671,0.679,0.686,0.692,0.688,0.692,0.698,0.7,0.704,0.715,0.717,0.723,0.728,0.732,0.75,0.754,0.753,0.755,0.759,0.764,0.766,0.758,0.754],\"type\":\"scatter\",\"hovertemplate\":\"Year: %{x}\\u003cbr\\u003eHDI: %{y}\"},{\"line\":{\"color\":\"rgb(1,115,196)\",\"width\":0.5},\"mode\":\"lines\",\"name\":\"Brunei\",\"showlegend\":true,\"x\":[\"1990\",\"1991\",\"1992\",\"1993\",\"1994\",\"1995\",\"1996\",\"1997\",\"1998\",\"1999\",\"2000\",\"2001\",\"2002\",\"2003\",\"2004\",\"2005\",\"2006\",\"2007\",\"2008\",\"2009\",\"2010\",\"2011\",\"2012\",\"2013\",\"2014\",\"2015\",\"2016\",\"2017\",\"2018\",\"2019\",\"2020\",\"2021\"],\"y\":[0.77,0.775,0.781,0.786,0.79,0.795,0.798,0.799,0.801,0.807,0.808,0.809,0.813,0.818,0.822,0.825,0.828,0.827,0.826,0.828,0.828,0.832,0.838,0.838,0.837,0.836,0.835,0.834,0.83,0.83,0.83,0.829],\"type\":\"scatter\",\"hovertemplate\":\"Year: %{x}\\u003cbr\\u003eHDI: %{y}\"},{\"line\":{\"color\":\"rgb(19,199,145)\",\"width\":0.5},\"mode\":\"lines\",\"name\":\"Bulgaria\",\"showlegend\":true,\"x\":[\"1990\",\"1991\",\"1992\",\"1993\",\"1994\",\"1995\",\"1996\",\"1997\",\"1998\",\"1999\",\"2000\",\"2001\",\"2002\",\"2003\",\"2004\",\"2005\",\"2006\",\"2007\",\"2008\",\"2009\",\"2010\",\"2011\",\"2012\",\"2013\",\"2014\",\"2015\",\"2016\",\"2017\",\"2018\",\"2019\",\"2020\",\"2021\"],\"y\":[0.684,0.684,0.686,0.689,0.691,0.7,0.711,0.706,0.716,0.72,0.725,0.734,0.74,0.749,0.756,0.762,0.767,0.774,0.782,0.785,0.79,0.794,0.798,0.805,0.807,0.809,0.809,0.808,0.809,0.81,0.802,0.795],\"type\":\"scatter\",\"hovertemplate\":\"Year: %{x}\\u003cbr\\u003eHDI: %{y}\"},{\"line\":{\"color\":\"rgb(184,86,4)\",\"width\":0.5},\"mode\":\"lines\",\"name\":\"Burundi\",\"showlegend\":true,\"x\":[\"1990\",\"1991\",\"1992\",\"1993\",\"1994\",\"1995\",\"1996\",\"1997\",\"1998\",\"1999\",\"2000\",\"2001\",\"2002\",\"2003\",\"2004\",\"2005\",\"2006\",\"2007\",\"2008\",\"2009\",\"2010\",\"2011\",\"2012\",\"2013\",\"2014\",\"2015\",\"2016\",\"2017\",\"2018\",\"2019\",\"2020\",\"2021\"],\"y\":[0.29,0.292,0.289,0.26,0.29,0.286,0.283,0.287,0.294,0.296,0.297,0.299,0.311,0.319,0.33,0.338,0.36,0.372,0.386,0.395,0.405,0.41,0.416,0.421,0.426,0.428,0.43,0.428,0.428,0.431,0.426,0.426],\"type\":\"scatter\",\"hovertemplate\":\"Year: %{x}\\u003cbr\\u003eHDI: %{y}\"},{\"line\":{\"color\":\"rgb(255,180,20)\",\"width\":0.5},\"mode\":\"lines\",\"name\":\"Cambodia\",\"showlegend\":true,\"x\":[\"1990\",\"1991\",\"1992\",\"1993\",\"1994\",\"1995\",\"1996\",\"1997\",\"1998\",\"1999\",\"2000\",\"2001\",\"2002\",\"2003\",\"2004\",\"2005\",\"2006\",\"2007\",\"2008\",\"2009\",\"2010\",\"2011\",\"2012\",\"2013\",\"2014\",\"2015\",\"2016\",\"2017\",\"2018\",\"2019\",\"2020\",\"2021\"],\"y\":[0.378,0.383,0.387,0.39,0.392,0.397,0.4,0.404,0.407,0.416,0.425,0.441,0.461,0.475,0.488,0.499,0.51,0.521,0.528,0.534,0.54,0.548,0.555,0.562,0.569,0.574,0.581,0.586,0.591,0.598,0.596,0.593],\"type\":\"scatter\",\"hovertemplate\":\"Year: %{x}\\u003cbr\\u003eHDI: %{y}\"},{\"line\":{\"color\":\"rgb(203,228,39)\",\"width\":0.5},\"mode\":\"lines\",\"name\":\"Cameroon\",\"showlegend\":true,\"x\":[\"1990\",\"1991\",\"1992\",\"1993\",\"1994\",\"1995\",\"1996\",\"1997\",\"1998\",\"1999\",\"2000\",\"2001\",\"2002\",\"2003\",\"2004\",\"2005\",\"2006\",\"2007\",\"2008\",\"2009\",\"2010\",\"2011\",\"2012\",\"2013\",\"2014\",\"2015\",\"2016\",\"2017\",\"2018\",\"2019\",\"2020\",\"2021\"],\"y\":[0.452,0.449,0.446,0.439,0.436,0.435,0.434,0.435,0.436,0.437,0.442,0.46,0.461,0.468,0.474,0.475,0.477,0.489,0.497,0.506,0.513,0.521,0.533,0.542,0.551,0.56,0.564,0.571,0.577,0.583,0.578,0.576],\"type\":\"scatter\",\"hovertemplate\":\"Year: %{x}\\u003cbr\\u003eHDI: %{y}\"},{\"line\":{\"color\":\"rgb(1,9,251)\",\"width\":0.5},\"mode\":\"lines\",\"name\":\"Canada\",\"showlegend\":true,\"x\":[\"1990\",\"1991\",\"1992\",\"1993\",\"1994\",\"1995\",\"1996\",\"1997\",\"1998\",\"1999\",\"2000\",\"2001\",\"2002\",\"2003\",\"2004\",\"2005\",\"2006\",\"2007\",\"2008\",\"2009\",\"2010\",\"2011\",\"2012\",\"2013\",\"2014\",\"2015\",\"2016\",\"2017\",\"2018\",\"2019\",\"2020\",\"2021\"],\"y\":[0.86,0.864,0.868,0.866,0.872,0.876,0.879,0.88,0.879,0.884,0.89,0.892,0.894,0.897,0.901,0.903,0.907,0.908,0.91,0.909,0.911,0.915,0.921,0.923,0.925,0.926,0.928,0.931,0.933,0.937,0.931,0.936],\"type\":\"scatter\",\"hovertemplate\":\"Year: %{x}\\u003cbr\\u003eHDI: %{y}\"},{\"line\":{\"color\":\"rgb(216,131,10)\",\"width\":0.5},\"mode\":\"lines\",\"name\":\"Central African Republic\",\"showlegend\":true,\"x\":[\"1990\",\"1991\",\"1992\",\"1993\",\"1994\",\"1995\",\"1996\",\"1997\",\"1998\",\"1999\",\"2000\",\"2001\",\"2002\",\"2003\",\"2004\",\"2005\",\"2006\",\"2007\",\"2008\",\"2009\",\"2010\",\"2011\",\"2012\",\"2013\",\"2014\",\"2015\",\"2016\",\"2017\",\"2018\",\"2019\",\"2020\",\"2021\"],\"y\":[0.338,0.333,0.319,0.319,0.321,0.323,0.319,0.322,0.325,0.329,0.329,0.332,0.333,0.333,0.337,0.342,0.345,0.351,0.358,0.364,0.372,0.381,0.388,0.368,0.37,0.384,0.391,0.398,0.405,0.411,0.407,0.404],\"type\":\"scatter\",\"hovertemplate\":\"Year: %{x}\\u003cbr\\u003eHDI: %{y}\"},{\"line\":{\"color\":\"rgb(1,174,162)\",\"width\":0.5},\"mode\":\"lines\",\"name\":\"Chile\",\"showlegend\":true,\"x\":[\"1990\",\"1991\",\"1992\",\"1993\",\"1994\",\"1995\",\"1996\",\"1997\",\"1998\",\"1999\",\"2000\",\"2001\",\"2002\",\"2003\",\"2004\",\"2005\",\"2006\",\"2007\",\"2008\",\"2009\",\"2010\",\"2011\",\"2012\",\"2013\",\"2014\",\"2015\",\"2016\",\"2017\",\"2018\",\"2019\",\"2020\",\"2021\"],\"y\":[0.706,0.715,0.723,0.716,0.722,0.728,0.735,0.744,0.749,0.755,0.763,0.768,0.775,0.779,0.787,0.795,0.796,0.801,0.813,0.811,0.813,0.817,0.824,0.836,0.841,0.846,0.85,0.853,0.856,0.861,0.852,0.855],\"type\":\"scatter\",\"hovertemplate\":\"Year: %{x}\\u003cbr\\u003eHDI: %{y}\"},{\"line\":{\"color\":\"rgb(169,246,54)\",\"width\":0.5},\"mode\":\"lines\",\"name\":\"China\",\"showlegend\":true,\"x\":[\"1990\",\"1991\",\"1992\",\"1993\",\"1994\",\"1995\",\"1996\",\"1997\",\"1998\",\"1999\",\"2000\",\"2001\",\"2002\",\"2003\",\"2004\",\"2005\",\"2006\",\"2007\",\"2008\",\"2009\",\"2010\",\"2011\",\"2012\",\"2013\",\"2014\",\"2015\",\"2016\",\"2017\",\"2018\",\"2019\",\"2020\",\"2021\"],\"y\":[0.484,0.492,0.504,0.515,0.525,0.535,0.545,0.554,0.564,0.573,0.584,0.593,0.604,0.615,0.626,0.638,0.65,0.663,0.672,0.682,0.691,0.7,0.709,0.717,0.725,0.733,0.74,0.747,0.755,0.762,0.764,0.768],\"type\":\"scatter\",\"hovertemplate\":\"Year: %{x}\\u003cbr\\u003eHDI: %{y}\"},{\"line\":{\"color\":\"rgb(71,239,109)\",\"width\":0.5},\"mode\":\"lines\",\"name\":\"Colombia\",\"showlegend\":true,\"x\":[\"1990\",\"1991\",\"1992\",\"1993\",\"1994\",\"1995\",\"1996\",\"1997\",\"1998\",\"1999\",\"2000\",\"2001\",\"2002\",\"2003\",\"2004\",\"2005\",\"2006\",\"2007\",\"2008\",\"2009\",\"2010\",\"2011\",\"2012\",\"2013\",\"2014\",\"2015\",\"2016\",\"2017\",\"2018\",\"2019\",\"2020\",\"2021\"],\"y\":[0.61,0.619,0.628,0.635,0.64,0.645,0.653,0.66,0.665,0.663,0.666,0.667,0.67,0.677,0.683,0.696,0.698,0.71,0.716,0.722,0.726,0.733,0.734,0.746,0.75,0.754,0.759,0.761,0.763,0.768,0.756,0.752],\"type\":\"scatter\",\"hovertemplate\":\"Year: %{x}\\u003cbr\\u003eHDI: %{y}\"},{\"line\":{\"color\":\"rgb(149,252,64)\",\"width\":0.5},\"mode\":\"lines\",\"name\":\"Congo\",\"showlegend\":true,\"x\":[\"1990\",\"1991\",\"1992\",\"1993\",\"1994\",\"1995\",\"1996\",\"1997\",\"1998\",\"1999\",\"2000\",\"2001\",\"2002\",\"2003\",\"2004\",\"2005\",\"2006\",\"2007\",\"2008\",\"2009\",\"2010\",\"2011\",\"2012\",\"2013\",\"2014\",\"2015\",\"2016\",\"2017\",\"2018\",\"2019\",\"2020\",\"2021\"],\"y\":[0.522,0.519,0.518,0.512,0.507,0.497,0.496,0.466,0.489,0.49,0.491,0.497,0.5,0.5,0.505,0.519,0.532,0.533,0.541,0.554,0.561,0.564,0.575,0.58,0.589,0.59,0.586,0.58,0.578,0.57,0.574,0.571],\"type\":\"scatter\",\"hovertemplate\":\"Year: %{x}\\u003cbr\\u003eHDI: %{y}\"},{\"line\":{\"color\":\"rgb(37,215,132)\",\"width\":0.5},\"mode\":\"lines\",\"name\":\"Costa Rica\",\"showlegend\":true,\"x\":[\"1990\",\"1991\",\"1992\",\"1993\",\"1994\",\"1995\",\"1996\",\"1997\",\"1998\",\"1999\",\"2000\",\"2001\",\"2002\",\"2003\",\"2004\",\"2005\",\"2006\",\"2007\",\"2008\",\"2009\",\"2010\",\"2011\",\"2012\",\"2013\",\"2014\",\"2015\",\"2016\",\"2017\",\"2018\",\"2019\",\"2020\",\"2021\"],\"y\":[0.66,0.663,0.674,0.682,0.685,0.691,0.693,0.7,0.705,0.708,0.71,0.715,0.722,0.727,0.732,0.74,0.747,0.756,0.765,0.769,0.772,0.782,0.786,0.792,0.796,0.798,0.803,0.807,0.811,0.819,0.816,0.809],\"type\":\"scatter\",\"hovertemplate\":\"Year: %{x}\\u003cbr\\u003eHDI: %{y}\"},{\"line\":{\"color\":\"rgb(27,207,139)\",\"width\":0.5},\"mode\":\"lines\",\"name\":\"Cuba\",\"showlegend\":true,\"x\":[\"1990\",\"1991\",\"1992\",\"1993\",\"1994\",\"1995\",\"1996\",\"1997\",\"1998\",\"1999\",\"2000\",\"2001\",\"2002\",\"2003\",\"2004\",\"2005\",\"2006\",\"2007\",\"2008\",\"2009\",\"2010\",\"2011\",\"2012\",\"2013\",\"2014\",\"2015\",\"2016\",\"2017\",\"2018\",\"2019\",\"2020\",\"2021\"],\"y\":[0.68,0.674,0.668,0.659,0.656,0.659,0.67,0.674,0.678,0.685,0.693,0.7,0.706,0.714,0.728,0.741,0.761,0.775,0.784,0.784,0.78,0.777,0.773,0.769,0.771,0.773,0.774,0.779,0.783,0.788,0.781,0.764],\"type\":\"scatter\",\"hovertemplate\":\"Year: %{x}\\u003cbr\\u003eHDI: %{y}\"},{\"line\":{\"color\":\"rgb(1,171,163)\",\"width\":0.5},\"mode\":\"lines\",\"name\":\"Cyprus\",\"showlegend\":true,\"x\":[\"1990\",\"1991\",\"1992\",\"1993\",\"1994\",\"1995\",\"1996\",\"1997\",\"1998\",\"1999\",\"2000\",\"2001\",\"2002\",\"2003\",\"2004\",\"2005\",\"2006\",\"2007\",\"2008\",\"2009\",\"2010\",\"2011\",\"2012\",\"2013\",\"2014\",\"2015\",\"2016\",\"2017\",\"2018\",\"2019\",\"2020\",\"2021\"],\"y\":[0.716,0.719,0.726,0.765,0.77,0.776,0.781,0.785,0.794,0.794,0.797,0.804,0.816,0.825,0.83,0.834,0.841,0.848,0.857,0.862,0.857,0.861,0.86,0.861,0.865,0.871,0.877,0.887,0.892,0.897,0.894,0.896],\"type\":\"scatter\",\"hovertemplate\":\"Year: %{x}\\u003cbr\\u003eHDI: %{y}\"},{\"line\":{\"color\":\"rgb(1,149,177)\",\"width\":0.5},\"mode\":\"lines\",\"name\":\"Czechia\",\"showlegend\":true,\"x\":[\"1990\",\"1991\",\"1992\",\"1993\",\"1994\",\"1995\",\"1996\",\"1997\",\"1998\",\"1999\",\"2000\",\"2001\",\"2002\",\"2003\",\"2004\",\"2005\",\"2006\",\"2007\",\"2008\",\"2009\",\"2010\",\"2011\",\"2012\",\"2013\",\"2014\",\"2015\",\"2016\",\"2017\",\"2018\",\"2019\",\"2020\",\"2021\"],\"y\":[0.742,0.742,0.743,0.751,0.762,0.77,0.782,0.787,0.792,0.796,0.808,0.818,0.825,0.831,0.836,0.844,0.852,0.859,0.863,0.865,0.87,0.872,0.874,0.881,0.887,0.891,0.895,0.897,0.894,0.897,0.892,0.889],\"type\":\"scatter\",\"hovertemplate\":\"Year: %{x}\\u003cbr\\u003eHDI: %{y}\"},{\"line\":{\"color\":\"rgb(1,40,235)\",\"width\":0.5},\"mode\":\"lines\",\"name\":\"Denmark\",\"showlegend\":true,\"x\":[\"1990\",\"1991\",\"1992\",\"1993\",\"1994\",\"1995\",\"1996\",\"1997\",\"1998\",\"1999\",\"2000\",\"2001\",\"2002\",\"2003\",\"2004\",\"2005\",\"2006\",\"2007\",\"2008\",\"2009\",\"2010\",\"2011\",\"2012\",\"2013\",\"2014\",\"2015\",\"2016\",\"2017\",\"2018\",\"2019\",\"2020\",\"2021\"],\"y\":[0.834,0.838,0.841,0.844,0.851,0.854,0.862,0.869,0.876,0.886,0.889,0.895,0.896,0.901,0.906,0.911,0.91,0.911,0.915,0.909,0.913,0.926,0.931,0.933,0.932,0.936,0.943,0.944,0.942,0.946,0.947,0.948],\"type\":\"scatter\",\"hovertemplate\":\"Year: %{x}\\u003cbr\\u003eHDI: %{y}\"},{\"line\":{\"color\":\"rgb(99,250,92)\",\"width\":0.5},\"mode\":\"lines\",\"name\":\"Dominican Republic\",\"showlegend\":true,\"x\":[\"1990\",\"1991\",\"1992\",\"1993\",\"1994\",\"1995\",\"1996\",\"1997\",\"1998\",\"1999\",\"2000\",\"2001\",\"2002\",\"2003\",\"2004\",\"2005\",\"2006\",\"2007\",\"2008\",\"2009\",\"2010\",\"2011\",\"2012\",\"2013\",\"2014\",\"2015\",\"2016\",\"2017\",\"2018\",\"2019\",\"2020\",\"2021\"],\"y\":[0.577,0.583,0.593,0.6,0.607,0.613,0.62,0.627,0.633,0.64,0.646,0.651,0.657,0.659,0.663,0.674,0.683,0.692,0.697,0.701,0.708,0.713,0.718,0.722,0.728,0.736,0.755,0.757,0.764,0.771,0.764,0.767],\"type\":\"scatter\",\"hovertemplate\":\"Year: %{x}\\u003cbr\\u003eHDI: %{y}\"},{\"line\":{\"color\":\"rgb(45,222,127)\",\"width\":0.5},\"mode\":\"lines\",\"name\":\"Ecuador\",\"showlegend\":true,\"x\":[\"1990\",\"1991\",\"1992\",\"1993\",\"1994\",\"1995\",\"1996\",\"1997\",\"1998\",\"1999\",\"2000\",\"2001\",\"2002\",\"2003\",\"2004\",\"2005\",\"2006\",\"2007\",\"2008\",\"2009\",\"2010\",\"2011\",\"2012\",\"2013\",\"2014\",\"2015\",\"2016\",\"2017\",\"2018\",\"2019\",\"2020\",\"2021\"],\"y\":[0.651,0.652,0.658,0.662,0.667,0.671,0.674,0.679,0.684,0.683,0.687,0.693,0.698,0.703,0.71,0.715,0.72,0.723,0.729,0.731,0.736,0.743,0.751,0.755,0.76,0.765,0.762,0.762,0.762,0.76,0.731,0.74],\"type\":\"scatter\",\"hovertemplate\":\"Year: %{x}\\u003cbr\\u003eHDI: %{y}\"},{\"line\":{\"color\":\"rgb(103,251,90)\",\"width\":0.5},\"mode\":\"lines\",\"name\":\"Egypt\",\"showlegend\":true,\"x\":[\"1990\",\"1991\",\"1992\",\"1993\",\"1994\",\"1995\",\"1996\",\"1997\",\"1998\",\"1999\",\"2000\",\"2001\",\"2002\",\"2003\",\"2004\",\"2005\",\"2006\",\"2007\",\"2008\",\"2009\",\"2010\",\"2011\",\"2012\",\"2013\",\"2014\",\"2015\",\"2016\",\"2017\",\"2018\",\"2019\",\"2020\",\"2021\"],\"y\":[0.572,0.578,0.585,0.591,0.598,0.605,0.613,0.619,0.624,0.629,0.633,0.637,0.639,0.637,0.64,0.643,0.647,0.655,0.663,0.668,0.675,0.679,0.688,0.694,0.699,0.706,0.713,0.721,0.729,0.735,0.734,0.731],\"type\":\"scatter\",\"hovertemplate\":\"Year: %{x}\\u003cbr\\u003eHDI: %{y}\"},{\"line\":{\"color\":\"rgb(135,254,71)\",\"width\":0.5},\"mode\":\"lines\",\"name\":\"El Salvador\",\"showlegend\":true,\"x\":[\"1990\",\"1991\",\"1992\",\"1993\",\"1994\",\"1995\",\"1996\",\"1997\",\"1998\",\"1999\",\"2000\",\"2001\",\"2002\",\"2003\",\"2004\",\"2005\",\"2006\",\"2007\",\"2008\",\"2009\",\"2010\",\"2011\",\"2012\",\"2013\",\"2014\",\"2015\",\"2016\",\"2017\",\"2018\",\"2019\",\"2020\",\"2021\"],\"y\":[0.525,0.536,0.548,0.558,0.568,0.578,0.587,0.597,0.605,0.609,0.617,0.619,0.626,0.631,0.636,0.641,0.646,0.651,0.653,0.653,0.659,0.661,0.664,0.667,0.666,0.668,0.671,0.674,0.68,0.683,0.672,0.675],\"type\":\"scatter\",\"hovertemplate\":\"Year: %{x}\\u003cbr\\u003eHDI: %{y}\"},{\"line\":{\"color\":\"rgb(1,162,169)\",\"width\":0.5},\"mode\":\"lines\",\"name\":\"Estonia\",\"showlegend\":true,\"x\":[\"1990\",\"1991\",\"1992\",\"1993\",\"1994\",\"1995\",\"1996\",\"1997\",\"1998\",\"1999\",\"2000\",\"2001\",\"2002\",\"2003\",\"2004\",\"2005\",\"2006\",\"2007\",\"2008\",\"2009\",\"2010\",\"2011\",\"2012\",\"2013\",\"2014\",\"2015\",\"2016\",\"2017\",\"2018\",\"2019\",\"2020\",\"2021\"],\"y\":[0.732,0.729,0.719,0.71,0.712,0.725,0.742,0.757,0.764,0.773,0.787,0.797,0.807,0.816,0.826,0.839,0.847,0.853,0.856,0.856,0.861,0.871,0.874,0.88,0.879,0.882,0.885,0.887,0.891,0.896,0.892,0.89],\"type\":\"scatter\",\"hovertemplate\":\"Year: %{x}\\u003cbr\\u003eHDI: %{y}\"},{\"line\":{\"color\":\"rgb(129,254,75)\",\"width\":0.5},\"mode\":\"lines\",\"name\":\"Eswatini\",\"showlegend\":true,\"x\":[\"1990\",\"1991\",\"1992\",\"1993\",\"1994\",\"1995\",\"1996\",\"1997\",\"1998\",\"1999\",\"2000\",\"2001\",\"2002\",\"2003\",\"2004\",\"2005\",\"2006\",\"2007\",\"2008\",\"2009\",\"2010\",\"2011\",\"2012\",\"2013\",\"2014\",\"2015\",\"2016\",\"2017\",\"2018\",\"2019\",\"2020\",\"2021\"],\"y\":[0.545,0.543,0.54,0.532,0.523,0.518,0.509,0.5,0.49,0.482,0.471,0.463,0.451,0.446,0.444,0.446,0.462,0.471,0.479,0.486,0.503,0.517,0.531,0.546,0.559,0.575,0.586,0.596,0.607,0.615,0.61,0.597],\"type\":\"scatter\",\"hovertemplate\":\"Year: %{x}\\u003cbr\\u003eHDI: %{y}\"},{\"line\":{\"color\":\"rgb(49,225,124)\",\"width\":0.5},\"mode\":\"lines\",\"name\":\"Fiji\",\"showlegend\":true,\"x\":[\"1990\",\"1991\",\"1992\",\"1993\",\"1994\",\"1995\",\"1996\",\"1997\",\"1998\",\"1999\",\"2000\",\"2001\",\"2002\",\"2003\",\"2004\",\"2005\",\"2006\",\"2007\",\"2008\",\"2009\",\"2010\",\"2011\",\"2012\",\"2013\",\"2014\",\"2015\",\"2016\",\"2017\",\"2018\",\"2019\",\"2020\",\"2021\"],\"y\":[0.642,0.647,0.651,0.654,0.66,0.666,0.669,0.67,0.672,0.679,0.681,0.686,0.687,0.692,0.704,0.702,0.705,0.706,0.709,0.711,0.714,0.719,0.721,0.726,0.729,0.729,0.735,0.741,0.745,0.746,0.737,0.73],\"type\":\"scatter\",\"hovertemplate\":\"Year: %{x}\\u003cbr\\u003eHDI: %{y}\"},{\"line\":{\"color\":\"rgb(1,65,223)\",\"width\":0.5},\"mode\":\"lines\",\"name\":\"Finland\",\"showlegend\":true,\"x\":[\"1990\",\"1991\",\"1992\",\"1993\",\"1994\",\"1995\",\"1996\",\"1997\",\"1998\",\"1999\",\"2000\",\"2001\",\"2002\",\"2003\",\"2004\",\"2005\",\"2006\",\"2007\",\"2008\",\"2009\",\"2010\",\"2011\",\"2012\",\"2013\",\"2014\",\"2015\",\"2016\",\"2017\",\"2018\",\"2019\",\"2020\",\"2021\"],\"y\":[0.814,0.818,0.825,0.829,0.841,0.847,0.854,0.863,0.873,0.881,0.891,0.9,0.904,0.907,0.902,0.905,0.909,0.911,0.912,0.907,0.911,0.915,0.915,0.926,0.927,0.93,0.931,0.934,0.936,0.939,0.938,0.94],\"type\":\"scatter\",\"hovertemplate\":\"Year: %{x}\\u003cbr\\u003eHDI: %{y}\"},{\"line\":{\"color\":\"rgb(1,86,212)\",\"width\":0.5},\"mode\":\"lines\",\"name\":\"France\",\"showlegend\":true,\"x\":[\"1990\",\"1991\",\"1992\",\"1993\",\"1994\",\"1995\",\"1996\",\"1997\",\"1998\",\"1999\",\"2000\",\"2001\",\"2002\",\"2003\",\"2004\",\"2005\",\"2006\",\"2007\",\"2008\",\"2009\",\"2010\",\"2011\",\"2012\",\"2013\",\"2014\",\"2015\",\"2016\",\"2017\",\"2018\",\"2019\",\"2020\",\"2021\"],\"y\":[0.791,0.799,0.806,0.809,0.823,0.828,0.833,0.838,0.842,0.84,0.844,0.847,0.848,0.851,0.858,0.866,0.87,0.873,0.873,0.872,0.877,0.881,0.882,0.887,0.892,0.892,0.895,0.898,0.901,0.905,0.898,0.903],\"type\":\"scatter\",\"hovertemplate\":\"Year: %{x}\\u003cbr\\u003eHDI: %{y}\"},{\"line\":{\"color\":\"rgb(73,240,108)\",\"width\":0.5},\"mode\":\"lines\",\"name\":\"Gabon\",\"showlegend\":true,\"x\":[\"1990\",\"1991\",\"1992\",\"1993\",\"1994\",\"1995\",\"1996\",\"1997\",\"1998\",\"1999\",\"2000\",\"2001\",\"2002\",\"2003\",\"2004\",\"2005\",\"2006\",\"2007\",\"2008\",\"2009\",\"2010\",\"2011\",\"2012\",\"2013\",\"2014\",\"2015\",\"2016\",\"2017\",\"2018\",\"2019\",\"2020\",\"2021\"],\"y\":[0.61,0.615,0.615,0.619,0.623,0.627,0.63,0.634,0.64,0.636,0.635,0.641,0.644,0.648,0.647,0.652,0.651,0.655,0.655,0.66,0.664,0.668,0.679,0.685,0.694,0.699,0.702,0.706,0.706,0.709,0.71,0.706],\"type\":\"scatter\",\"hovertemplate\":\"Year: %{x}\\u003cbr\\u003eHDI: %{y}\"},{\"line\":{\"color\":\"rgb(230,149,13)\",\"width\":0.5},\"mode\":\"lines\",\"name\":\"Gambia\",\"showlegend\":true,\"x\":[\"1990\",\"1991\",\"1992\",\"1993\",\"1994\",\"1995\",\"1996\",\"1997\",\"1998\",\"1999\",\"2000\",\"2001\",\"2002\",\"2003\",\"2004\",\"2005\",\"2006\",\"2007\",\"2008\",\"2009\",\"2010\",\"2011\",\"2012\",\"2013\",\"2014\",\"2015\",\"2016\",\"2017\",\"2018\",\"2019\",\"2020\",\"2021\"],\"y\":[0.343,0.35,0.357,0.363,0.369,0.376,0.382,0.385,0.392,0.398,0.404,0.41,0.412,0.419,0.428,0.431,0.436,0.442,0.45,0.455,0.46,0.46,0.467,0.471,0.473,0.478,0.484,0.489,0.495,0.503,0.501,0.5],\"type\":\"scatter\",\"hovertemplate\":\"Year: %{x}\\u003cbr\\u003eHDI: %{y}\"},{\"line\":{\"color\":\"rgb(1,43,234)\",\"width\":0.5},\"mode\":\"lines\",\"name\":\"Germany\",\"showlegend\":true,\"x\":[\"1990\",\"1991\",\"1992\",\"1993\",\"1994\",\"1995\",\"1996\",\"1997\",\"1998\",\"1999\",\"2000\",\"2001\",\"2002\",\"2003\",\"2004\",\"2005\",\"2006\",\"2007\",\"2008\",\"2009\",\"2010\",\"2011\",\"2012\",\"2013\",\"2014\",\"2015\",\"2016\",\"2017\",\"2018\",\"2019\",\"2020\",\"2021\"],\"y\":[0.829,0.835,0.842,0.852,0.858,0.863,0.868,0.874,0.879,0.884,0.889,0.896,0.901,0.905,0.914,0.914,0.917,0.921,0.923,0.923,0.926,0.931,0.933,0.934,0.937,0.938,0.941,0.944,0.945,0.948,0.944,0.942],\"type\":\"scatter\",\"hovertemplate\":\"Year: %{x}\\u003cbr\\u003eHDI: %{y}\"},{\"line\":{\"color\":\"rgb(191,236,44)\",\"width\":0.5},\"mode\":\"lines\",\"name\":\"Ghana\",\"showlegend\":true,\"x\":[\"1990\",\"1991\",\"1992\",\"1993\",\"1994\",\"1995\",\"1996\",\"1997\",\"1998\",\"1999\",\"2000\",\"2001\",\"2002\",\"2003\",\"2004\",\"2005\",\"2006\",\"2007\",\"2008\",\"2009\",\"2010\",\"2011\",\"2012\",\"2013\",\"2014\",\"2015\",\"2016\",\"2017\",\"2018\",\"2019\",\"2020\",\"2021\"],\"y\":[0.46,0.466,0.47,0.475,0.477,0.483,0.487,0.492,0.497,0.502,0.507,0.505,0.512,0.515,0.521,0.533,0.54,0.55,0.561,0.566,0.574,0.585,0.592,0.6,0.6,0.607,0.611,0.616,0.62,0.631,0.632,0.632],\"type\":\"scatter\",\"hovertemplate\":\"Year: %{x}\\u003cbr\\u003eHDI: %{y}\"},{\"line\":{\"color\":\"rgb(1,120,193)\",\"width\":0.5},\"mode\":\"lines\",\"name\":\"Greece\",\"showlegend\":true,\"x\":[\"1990\",\"1991\",\"1992\",\"1993\",\"1994\",\"1995\",\"1996\",\"1997\",\"1998\",\"1999\",\"2000\",\"2001\",\"2002\",\"2003\",\"2004\",\"2005\",\"2006\",\"2007\",\"2008\",\"2009\",\"2010\",\"2011\",\"2012\",\"2013\",\"2014\",\"2015\",\"2016\",\"2017\",\"2018\",\"2019\",\"2020\",\"2021\"],\"y\":[0.759,0.769,0.769,0.769,0.774,0.777,0.782,0.789,0.799,0.801,0.81,0.82,0.83,0.835,0.843,0.855,0.863,0.858,0.863,0.866,0.869,0.865,0.866,0.871,0.879,0.88,0.877,0.88,0.886,0.889,0.886,0.887],\"type\":\"scatter\",\"hovertemplate\":\"Year: %{x}\\u003cbr\\u003eHDI: %{y}\"},{\"line\":{\"color\":\"rgb(173,245,52)\",\"width\":0.5},\"mode\":\"lines\",\"name\":\"Guatemala\",\"showlegend\":true,\"x\":[\"1990\",\"1991\",\"1992\",\"1993\",\"1994\",\"1995\",\"1996\",\"1997\",\"1998\",\"1999\",\"2000\",\"2001\",\"2002\",\"2003\",\"2004\",\"2005\",\"2006\",\"2007\",\"2008\",\"2009\",\"2010\",\"2011\",\"2012\",\"2013\",\"2014\",\"2015\",\"2016\",\"2017\",\"2018\",\"2019\",\"2020\",\"2021\"],\"y\":[0.484,0.488,0.492,0.497,0.501,0.508,0.516,0.525,0.534,0.542,0.55,0.556,0.561,0.566,0.571,0.574,0.581,0.59,0.596,0.6,0.605,0.611,0.616,0.62,0.637,0.639,0.639,0.64,0.64,0.642,0.635,0.627],\"type\":\"scatter\",\"hovertemplate\":\"Year: %{x}\\u003cbr\\u003eHDI: %{y}\"},{\"line\":{\"color\":\"rgb(170,65,3)\",\"width\":0.5},\"mode\":\"lines\",\"name\":\"Guinea\",\"showlegend\":true,\"x\":[\"1990\",\"1991\",\"1992\",\"1993\",\"1994\",\"1995\",\"1996\",\"1997\",\"1998\",\"1999\",\"2000\",\"2001\",\"2002\",\"2003\",\"2004\",\"2005\",\"2006\",\"2007\",\"2008\",\"2009\",\"2010\",\"2011\",\"2012\",\"2013\",\"2014\",\"2015\",\"2016\",\"2017\",\"2018\",\"2019\",\"2020\",\"2021\"],\"y\":[0.269,0.274,0.282,0.289,0.295,0.303,0.31,0.321,0.33,0.339,0.345,0.352,0.362,0.37,0.377,0.387,0.394,0.402,0.408,0.41,0.415,0.42,0.425,0.429,0.435,0.44,0.45,0.458,0.462,0.467,0.466,0.465],\"type\":\"scatter\",\"hovertemplate\":\"Year: %{x}\\u003cbr\\u003eHDI: %{y}\"},{\"line\":{\"color\":\"rgb(159,250,59)\",\"width\":0.5},\"mode\":\"lines\",\"name\":\"Guyana\",\"showlegend\":true,\"x\":[\"1990\",\"1991\",\"1992\",\"1993\",\"1994\",\"1995\",\"1996\",\"1997\",\"1998\",\"1999\",\"2000\",\"2001\",\"2002\",\"2003\",\"2004\",\"2005\",\"2006\",\"2007\",\"2008\",\"2009\",\"2010\",\"2011\",\"2012\",\"2013\",\"2014\",\"2015\",\"2016\",\"2017\",\"2018\",\"2019\",\"2020\",\"2021\"],\"y\":[0.509,0.505,0.52,0.534,0.544,0.549,0.559,0.564,0.569,0.573,0.577,0.584,0.59,0.598,0.612,0.622,0.631,0.638,0.644,0.649,0.656,0.665,0.669,0.673,0.681,0.684,0.691,0.695,0.701,0.708,0.721,0.714],\"type\":\"scatter\",\"hovertemplate\":\"Year: %{x}\\u003cbr\\u003eHDI: %{y}\"},{\"line\":{\"color\":\"rgb(215,219,34)\",\"width\":0.5},\"mode\":\"lines\",\"name\":\"Haiti\",\"showlegend\":true,\"x\":[\"1990\",\"1991\",\"1992\",\"1993\",\"1994\",\"1995\",\"1996\",\"1997\",\"1998\",\"1999\",\"2000\",\"2001\",\"2002\",\"2003\",\"2004\",\"2005\",\"2006\",\"2007\",\"2008\",\"2009\",\"2010\",\"2011\",\"2012\",\"2013\",\"2014\",\"2015\",\"2016\",\"2017\",\"2018\",\"2019\",\"2020\",\"2021\"],\"y\":[0.429,0.433,0.435,0.436,0.434,0.444,0.45,0.455,0.46,0.466,0.47,0.472,0.476,0.482,0.479,0.49,0.494,0.499,0.503,0.508,0.433,0.512,0.517,0.521,0.525,0.529,0.532,0.539,0.541,0.543,0.54,0.535],\"type\":\"scatter\",\"hovertemplate\":\"Year: %{x}\\u003cbr\\u003eHDI: %{y}\"},{\"line\":{\"color\":\"rgb(151,252,63)\",\"width\":0.5},\"mode\":\"lines\",\"name\":\"Honduras\",\"showlegend\":true,\"x\":[\"1990\",\"1991\",\"1992\",\"1993\",\"1994\",\"1995\",\"1996\",\"1997\",\"1998\",\"1999\",\"2000\",\"2001\",\"2002\",\"2003\",\"2004\",\"2005\",\"2006\",\"2007\",\"2008\",\"2009\",\"2010\",\"2011\",\"2012\",\"2013\",\"2014\",\"2015\",\"2016\",\"2017\",\"2018\",\"2019\",\"2020\",\"2021\"],\"y\":[0.516,0.517,0.521,0.527,0.53,0.536,0.539,0.544,0.527,0.55,0.556,0.559,0.563,0.567,0.572,0.577,0.581,0.586,0.591,0.594,0.597,0.6,0.599,0.603,0.606,0.613,0.618,0.617,0.617,0.632,0.621,0.621],\"type\":\"scatter\",\"hovertemplate\":\"Year: %{x}\\u003cbr\\u003eHDI: %{y}\"},{\"line\":{\"color\":\"rgb(1,92,209)\",\"width\":0.5},\"mode\":\"lines\",\"name\":\"Hong Kong\",\"showlegend\":true,\"x\":[\"1990\",\"1991\",\"1992\",\"1993\",\"1994\",\"1995\",\"1996\",\"1997\",\"1998\",\"1999\",\"2000\",\"2001\",\"2002\",\"2003\",\"2004\",\"2005\",\"2006\",\"2007\",\"2008\",\"2009\",\"2010\",\"2011\",\"2012\",\"2013\",\"2014\",\"2015\",\"2016\",\"2017\",\"2018\",\"2019\",\"2020\",\"2021\"],\"y\":[0.788,0.794,0.802,0.811,0.819,0.825,0.831,0.837,0.839,0.843,0.851,0.856,0.859,0.864,0.872,0.879,0.887,0.894,0.899,0.9,0.907,0.914,0.918,0.924,0.93,0.935,0.938,0.944,0.949,0.952,0.949,0.952],\"type\":\"scatter\",\"hovertemplate\":\"Year: %{x}\\u003cbr\\u003eHDI: %{y}\"},{\"line\":{\"color\":\"rgb(1,174,162)\",\"width\":0.5},\"mode\":\"lines\",\"name\":\"Hungary\",\"showlegend\":true,\"x\":[\"1990\",\"1991\",\"1992\",\"1993\",\"1994\",\"1995\",\"1996\",\"1997\",\"1998\",\"1999\",\"2000\",\"2001\",\"2002\",\"2003\",\"2004\",\"2005\",\"2006\",\"2007\",\"2008\",\"2009\",\"2010\",\"2011\",\"2012\",\"2013\",\"2014\",\"2015\",\"2016\",\"2017\",\"2018\",\"2019\",\"2020\",\"2021\"],\"y\":[0.72,0.715,0.714,0.722,0.731,0.735,0.741,0.749,0.756,0.763,0.773,0.782,0.791,0.798,0.801,0.806,0.814,0.817,0.823,0.825,0.828,0.83,0.831,0.84,0.838,0.838,0.843,0.845,0.849,0.853,0.849,0.846],\"type\":\"scatter\",\"hovertemplate\":\"Year: %{x}\\u003cbr\\u003eHDI: %{y}\"},{\"line\":{\"color\":\"rgb(1,59,226)\",\"width\":0.5},\"mode\":\"lines\",\"name\":\"Iceland\",\"showlegend\":true,\"x\":[\"1990\",\"1991\",\"1992\",\"1993\",\"1994\",\"1995\",\"1996\",\"1997\",\"1998\",\"1999\",\"2000\",\"2001\",\"2002\",\"2003\",\"2004\",\"2005\",\"2006\",\"2007\",\"2008\",\"2009\",\"2010\",\"2011\",\"2012\",\"2013\",\"2014\",\"2015\",\"2016\",\"2017\",\"2018\",\"2019\",\"2020\",\"2021\"],\"y\":[0.811,0.822,0.828,0.829,0.835,0.833,0.838,0.849,0.86,0.862,0.871,0.879,0.886,0.891,0.895,0.901,0.903,0.909,0.902,0.9,0.902,0.912,0.921,0.929,0.938,0.945,0.948,0.954,0.959,0.96,0.957,0.959],\"type\":\"scatter\",\"hovertemplate\":\"Year: %{x}\\u003cbr\\u003eHDI: %{y}\"},{\"line\":{\"color\":\"rgb(213,220,35)\",\"width\":0.5},\"mode\":\"lines\",\"name\":\"India\",\"showlegend\":true,\"x\":[\"1990\",\"1991\",\"1992\",\"1993\",\"1994\",\"1995\",\"1996\",\"1997\",\"1998\",\"1999\",\"2000\",\"2001\",\"2002\",\"2003\",\"2004\",\"2005\",\"2006\",\"2007\",\"2008\",\"2009\",\"2010\",\"2011\",\"2012\",\"2013\",\"2014\",\"2015\",\"2016\",\"2017\",\"2018\",\"2019\",\"2020\",\"2021\"],\"y\":[0.434,0.437,0.442,0.446,0.452,0.458,0.466,0.471,0.478,0.486,0.491,0.496,0.503,0.516,0.525,0.534,0.543,0.553,0.56,0.565,0.575,0.588,0.598,0.607,0.619,0.629,0.639,0.644,0.645,0.645,0.642,0.633],\"type\":\"scatter\",\"hovertemplate\":\"Year: %{x}\\u003cbr\\u003eHDI: %{y}\"},{\"line\":{\"color\":\"rgb(139,254,69)\",\"width\":0.5},\"mode\":\"lines\",\"name\":\"Indonesia\",\"showlegend\":true,\"x\":[\"1990\",\"1991\",\"1992\",\"1993\",\"1994\",\"1995\",\"1996\",\"1997\",\"1998\",\"1999\",\"2000\",\"2001\",\"2002\",\"2003\",\"2004\",\"2005\",\"2006\",\"2007\",\"2008\",\"2009\",\"2010\",\"2011\",\"2012\",\"2013\",\"2014\",\"2015\",\"2016\",\"2017\",\"2018\",\"2019\",\"2020\",\"2021\"],\"y\":[0.526,0.532,0.54,0.548,0.558,0.569,0.578,0.589,0.585,0.59,0.595,0.604,0.612,0.621,0.619,0.632,0.639,0.643,0.646,0.657,0.664,0.671,0.678,0.683,0.687,0.695,0.699,0.704,0.71,0.716,0.709,0.705],\"type\":\"scatter\",\"hovertemplate\":\"Year: %{x}\\u003cbr\\u003eHDI: %{y}\"},{\"line\":{\"color\":\"rgb(69,238,111)\",\"width\":0.5},\"mode\":\"lines\",\"name\":\"Iran\",\"showlegend\":true,\"x\":[\"1990\",\"1991\",\"1992\",\"1993\",\"1994\",\"1995\",\"1996\",\"1997\",\"1998\",\"1999\",\"2000\",\"2001\",\"2002\",\"2003\",\"2004\",\"2005\",\"2006\",\"2007\",\"2008\",\"2009\",\"2010\",\"2011\",\"2012\",\"2013\",\"2014\",\"2015\",\"2016\",\"2017\",\"2018\",\"2019\",\"2020\",\"2021\"],\"y\":[0.601,0.62,0.627,0.634,0.64,0.647,0.655,0.662,0.669,0.677,0.685,0.693,0.701,0.704,0.712,0.717,0.727,0.733,0.735,0.738,0.745,0.754,0.768,0.769,0.773,0.776,0.786,0.789,0.787,0.783,0.777,0.774],\"type\":\"scatter\",\"hovertemplate\":\"Year: %{x}\\u003cbr\\u003eHDI: %{y}\"},{\"line\":{\"color\":\"rgb(167,247,55)\",\"width\":0.5},\"mode\":\"lines\",\"name\":\"Iraq\",\"showlegend\":true,\"x\":[\"1990\",\"1991\",\"1992\",\"1993\",\"1994\",\"1995\",\"1996\",\"1997\",\"1998\",\"1999\",\"2000\",\"2001\",\"2002\",\"2003\",\"2004\",\"2005\",\"2006\",\"2007\",\"2008\",\"2009\",\"2010\",\"2011\",\"2012\",\"2013\",\"2014\",\"2015\",\"2016\",\"2017\",\"2018\",\"2019\",\"2020\",\"2021\"],\"y\":[0.528,0.496,0.524,0.545,0.543,0.532,0.551,0.558,0.571,0.582,0.589,0.596,0.598,0.579,0.602,0.606,0.604,0.607,0.623,0.633,0.64,0.649,0.66,0.667,0.67,0.675,0.679,0.685,0.692,0.696,0.679,0.686],\"type\":\"scatter\",\"hovertemplate\":\"Year: %{x}\\u003cbr\\u003eHDI: %{y}\"},{\"line\":{\"color\":\"rgb(1,147,178)\",\"width\":0.5},\"mode\":\"lines\",\"name\":\"Ireland\",\"showlegend\":true,\"x\":[\"1990\",\"1991\",\"1992\",\"1993\",\"1994\",\"1995\",\"1996\",\"1997\",\"1998\",\"1999\",\"2000\",\"2001\",\"2002\",\"2003\",\"2004\",\"2005\",\"2006\",\"2007\",\"2008\",\"2009\",\"2010\",\"2011\",\"2012\",\"2013\",\"2014\",\"2015\",\"2016\",\"2017\",\"2018\",\"2019\",\"2020\",\"2021\"],\"y\":[0.737,0.743,0.751,0.76,0.771,0.777,0.785,0.794,0.83,0.837,0.847,0.855,0.864,0.873,0.881,0.888,0.891,0.896,0.899,0.895,0.904,0.902,0.903,0.908,0.914,0.925,0.929,0.934,0.937,0.942,0.943,0.945],\"type\":\"scatter\",\"hovertemplate\":\"Year: %{x}\\u003cbr\\u003eHDI: %{y}\"},{\"line\":{\"color\":\"rgb(1,95,207)\",\"width\":0.5},\"mode\":\"lines\",\"name\":\"Israel\",\"showlegend\":true,\"x\":[\"1990\",\"1991\",\"1992\",\"1993\",\"1994\",\"1995\",\"1996\",\"1997\",\"1998\",\"1999\",\"2000\",\"2001\",\"2002\",\"2003\",\"2004\",\"2005\",\"2006\",\"2007\",\"2008\",\"2009\",\"2010\",\"2011\",\"2012\",\"2013\",\"2014\",\"2015\",\"2016\",\"2017\",\"2018\",\"2019\",\"2020\",\"2021\"],\"y\":[0.787,0.793,0.797,0.804,0.808,0.811,0.818,0.825,0.833,0.841,0.844,0.848,0.854,0.855,0.858,0.866,0.874,0.885,0.885,0.889,0.894,0.897,0.898,0.904,0.908,0.909,0.913,0.917,0.919,0.921,0.917,0.919],\"type\":\"scatter\",\"hovertemplate\":\"Year: %{x}\\u003cbr\\u003eHDI: %{y}\"},{\"line\":{\"color\":\"rgb(1,106,201)\",\"width\":0.5},\"mode\":\"lines\",\"name\":\"Italy\",\"showlegend\":true,\"x\":[\"1990\",\"1991\",\"1992\",\"1993\",\"1994\",\"1995\",\"1996\",\"1997\",\"1998\",\"1999\",\"2000\",\"2001\",\"2002\",\"2003\",\"2004\",\"2005\",\"2006\",\"2007\",\"2008\",\"2009\",\"2010\",\"2011\",\"2012\",\"2013\",\"2014\",\"2015\",\"2016\",\"2017\",\"2018\",\"2019\",\"2020\",\"2021\"],\"y\":[0.778,0.783,0.789,0.795,0.804,0.81,0.816,0.824,0.829,0.835,0.841,0.849,0.853,0.858,0.865,0.868,0.873,0.877,0.878,0.878,0.882,0.885,0.883,0.882,0.883,0.882,0.887,0.888,0.893,0.897,0.889,0.895],\"type\":\"scatter\",\"hovertemplate\":\"Year: %{x}\\u003cbr\\u003eHDI: %{y}\"},{\"line\":{\"color\":\"rgb(219,215,32)\",\"width\":0.5},\"mode\":\"lines\",\"name\":\"Ivory Coast\",\"showlegend\":true,\"x\":[\"1990\",\"1991\",\"1992\",\"1993\",\"1994\",\"1995\",\"1996\",\"1997\",\"1998\",\"1999\",\"2000\",\"2001\",\"2002\",\"2003\",\"2004\",\"2005\",\"2006\",\"2007\",\"2008\",\"2009\",\"2010\",\"2011\",\"2012\",\"2013\",\"2014\",\"2015\",\"2016\",\"2017\",\"2018\",\"2019\",\"2020\",\"2021\"],\"y\":[0.427,0.428,0.43,0.433,0.436,0.442,0.448,0.456,0.461,0.459,0.457,0.456,0.454,0.453,0.455,0.456,0.458,0.461,0.464,0.469,0.473,0.472,0.477,0.483,0.502,0.513,0.524,0.534,0.542,0.55,0.551,0.55],\"type\":\"scatter\",\"hovertemplate\":\"Year: %{x}\\u003cbr\\u003eHDI: %{y}\"},{\"line\":{\"color\":\"rgb(37,215,132)\",\"width\":0.5},\"mode\":\"lines\",\"name\":\"Jamaica\",\"showlegend\":true,\"x\":[\"1990\",\"1991\",\"1992\",\"1993\",\"1994\",\"1995\",\"1996\",\"1997\",\"1998\",\"1999\",\"2000\",\"2001\",\"2002\",\"2003\",\"2004\",\"2005\",\"2006\",\"2007\",\"2008\",\"2009\",\"2010\",\"2011\",\"2012\",\"2013\",\"2014\",\"2015\",\"2016\",\"2017\",\"2018\",\"2019\",\"2020\",\"2021\"],\"y\":[0.659,0.662,0.663,0.667,0.668,0.669,0.669,0.668,0.666,0.667,0.664,0.673,0.677,0.671,0.687,0.69,0.694,0.697,0.7,0.7,0.704,0.709,0.713,0.714,0.714,0.713,0.712,0.715,0.716,0.719,0.713,0.709],\"type\":\"scatter\",\"hovertemplate\":\"Year: %{x}\\u003cbr\\u003eHDI: %{y}\"},{\"line\":{\"color\":\"rgb(1,28,241)\",\"width\":0.5},\"mode\":\"lines\",\"name\":\"Japan\",\"showlegend\":true,\"x\":[\"1990\",\"1991\",\"1992\",\"1993\",\"1994\",\"1995\",\"1996\",\"1997\",\"1998\",\"1999\",\"2000\",\"2001\",\"2002\",\"2003\",\"2004\",\"2005\",\"2006\",\"2007\",\"2008\",\"2009\",\"2010\",\"2011\",\"2012\",\"2013\",\"2014\",\"2015\",\"2016\",\"2017\",\"2018\",\"2019\",\"2020\",\"2021\"],\"y\":[0.845,0.849,0.85,0.855,0.861,0.863,0.868,0.871,0.871,0.872,0.877,0.88,0.882,0.884,0.888,0.889,0.892,0.895,0.895,0.896,0.898,0.899,0.905,0.91,0.914,0.918,0.921,0.922,0.923,0.924,0.923,0.925],\"type\":\"scatter\",\"hovertemplate\":\"Year: %{x}\\u003cbr\\u003eHDI: %{y}\"},{\"line\":{\"color\":\"rgb(65,236,113)\",\"width\":0.5},\"mode\":\"lines\",\"name\":\"Jordan\",\"showlegend\":true,\"x\":[\"1990\",\"1991\",\"1992\",\"1993\",\"1994\",\"1995\",\"1996\",\"1997\",\"1998\",\"1999\",\"2000\",\"2001\",\"2002\",\"2003\",\"2004\",\"2005\",\"2006\",\"2007\",\"2008\",\"2009\",\"2010\",\"2011\",\"2012\",\"2013\",\"2014\",\"2015\",\"2016\",\"2017\",\"2018\",\"2019\",\"2020\",\"2021\"],\"y\":[0.622,0.625,0.637,0.641,0.644,0.651,0.655,0.661,0.666,0.671,0.678,0.685,0.692,0.698,0.709,0.716,0.722,0.729,0.734,0.731,0.725,0.721,0.721,0.719,0.719,0.718,0.718,0.718,0.723,0.727,0.723,0.72],\"type\":\"scatter\",\"hovertemplate\":\"Year: %{x}\\u003cbr\\u003eHDI: %{y}\"},{\"line\":{\"color\":\"rgb(33,212,135)\",\"width\":0.5},\"mode\":\"lines\",\"name\":\"Kazakhstan\",\"showlegend\":true,\"x\":[\"1990\",\"1991\",\"1992\",\"1993\",\"1994\",\"1995\",\"1996\",\"1997\",\"1998\",\"1999\",\"2000\",\"2001\",\"2002\",\"2003\",\"2004\",\"2005\",\"2006\",\"2007\",\"2008\",\"2009\",\"2010\",\"2011\",\"2012\",\"2013\",\"2014\",\"2015\",\"2016\",\"2017\",\"2018\",\"2019\",\"2020\",\"2021\"],\"y\":[0.673,0.668,0.667,0.663,0.657,0.655,0.659,0.663,0.666,0.671,0.68,0.695,0.706,0.718,0.73,0.739,0.752,0.758,0.758,0.761,0.767,0.775,0.783,0.792,0.799,0.805,0.805,0.811,0.814,0.819,0.814,0.811],\"type\":\"scatter\",\"hovertemplate\":\"Year: %{x}\\u003cbr\\u003eHDI: %{y}\"},{\"line\":{\"color\":\"rgb(183,240,47)\",\"width\":0.5},\"mode\":\"lines\",\"name\":\"Kenya\",\"showlegend\":true,\"x\":[\"1990\",\"1991\",\"1992\",\"1993\",\"1994\",\"1995\",\"1996\",\"1997\",\"1998\",\"1999\",\"2000\",\"2001\",\"2002\",\"2003\",\"2004\",\"2005\",\"2006\",\"2007\",\"2008\",\"2009\",\"2010\",\"2011\",\"2012\",\"2013\",\"2014\",\"2015\",\"2016\",\"2017\",\"2018\",\"2019\",\"2020\",\"2021\"],\"y\":[0.474,0.474,0.473,0.471,0.473,0.475,0.477,0.477,0.479,0.48,0.481,0.485,0.485,0.495,0.508,0.516,0.525,0.533,0.539,0.539,0.545,0.55,0.552,0.554,0.558,0.561,0.569,0.572,0.577,0.581,0.578,0.575],\"type\":\"scatter\",\"hovertemplate\":\"Year: %{x}\\u003cbr\\u003eHDI: %{y}\"},{\"line\":{\"color\":\"rgb(23,203,142)\",\"width\":0.5},\"mode\":\"lines\",\"name\":\"Kuwait\",\"showlegend\":true,\"x\":[\"1990\",\"1991\",\"1992\",\"1993\",\"1994\",\"1995\",\"1996\",\"1997\",\"1998\",\"1999\",\"2000\",\"2001\",\"2002\",\"2003\",\"2004\",\"2005\",\"2006\",\"2007\",\"2008\",\"2009\",\"2010\",\"2011\",\"2012\",\"2013\",\"2014\",\"2015\",\"2016\",\"2017\",\"2018\",\"2019\",\"2020\",\"2021\"],\"y\":[0.718,0.68,0.678,0.705,0.733,0.759,0.782,0.786,0.789,0.787,0.787,0.781,0.784,0.793,0.797,0.798,0.799,0.802,0.807,0.81,0.813,0.82,0.826,0.819,0.823,0.83,0.833,0.835,0.836,0.839,0.822,0.831],\"type\":\"scatter\",\"hovertemplate\":\"Year: %{x}\\u003cbr\\u003eHDI: %{y}\"},{\"line\":{\"color\":\"rgb(61,233,116)\",\"width\":0.5},\"mode\":\"lines\",\"name\":\"Kyrgyzstan\",\"showlegend\":true,\"x\":[\"1990\",\"1991\",\"1992\",\"1993\",\"1994\",\"1995\",\"1996\",\"1997\",\"1998\",\"1999\",\"2000\",\"2001\",\"2002\",\"2003\",\"2004\",\"2005\",\"2006\",\"2007\",\"2008\",\"2009\",\"2010\",\"2011\",\"2012\",\"2013\",\"2014\",\"2015\",\"2016\",\"2017\",\"2018\",\"2019\",\"2020\",\"2021\"],\"y\":[0.638,0.632,0.622,0.609,0.591,0.587,0.594,0.603,0.609,0.616,0.621,0.63,0.631,0.64,0.643,0.644,0.65,0.656,0.66,0.663,0.664,0.665,0.675,0.682,0.688,0.69,0.693,0.696,0.698,0.698,0.689,0.692],\"type\":\"scatter\",\"hovertemplate\":\"Year: %{x}\\u003cbr\\u003eHDI: %{y}\"},{\"line\":{\"color\":\"rgb(233,203,27)\",\"width\":0.5},\"mode\":\"lines\",\"name\":\"Lao\",\"showlegend\":true,\"x\":[\"1990\",\"1991\",\"1992\",\"1993\",\"1994\",\"1995\",\"1996\",\"1997\",\"1998\",\"1999\",\"2000\",\"2001\",\"2002\",\"2003\",\"2004\",\"2005\",\"2006\",\"2007\",\"2008\",\"2009\",\"2010\",\"2011\",\"2012\",\"2013\",\"2014\",\"2015\",\"2016\",\"2017\",\"2018\",\"2019\",\"2020\",\"2021\"],\"y\":[0.405,0.412,0.417,0.424,0.432,0.434,0.447,0.454,0.46,0.466,0.47,0.476,0.484,0.493,0.5,0.51,0.511,0.525,0.532,0.543,0.551,0.563,0.572,0.582,0.592,0.599,0.604,0.607,0.607,0.61,0.608,0.607],\"type\":\"scatter\",\"hovertemplate\":\"Year: %{x}\\u003cbr\\u003eHDI: %{y}\"},{\"line\":{\"color\":\"rgb(1,164,168)\",\"width\":0.5},\"mode\":\"lines\",\"name\":\"Latvia\",\"showlegend\":true,\"x\":[\"1990\",\"1991\",\"1992\",\"1993\",\"1994\",\"1995\",\"1996\",\"1997\",\"1998\",\"1999\",\"2000\",\"2001\",\"2002\",\"2003\",\"2004\",\"2005\",\"2006\",\"2007\",\"2008\",\"2009\",\"2010\",\"2011\",\"2012\",\"2013\",\"2014\",\"2015\",\"2016\",\"2017\",\"2018\",\"2019\",\"2020\",\"2021\"],\"y\":[0.73,0.727,0.706,0.69,0.687,0.696,0.711,0.722,0.733,0.746,0.756,0.767,0.778,0.787,0.799,0.808,0.815,0.82,0.827,0.826,0.824,0.831,0.833,0.843,0.846,0.85,0.855,0.86,0.866,0.871,0.871,0.863],\"type\":\"scatter\",\"hovertemplate\":\"Year: %{x}\\u003cbr\\u003eHDI: %{y}\"},{\"line\":{\"color\":\"rgb(181,241,48)\",\"width\":0.5},\"mode\":\"lines\",\"name\":\"Lesotho\",\"showlegend\":true,\"x\":[\"1990\",\"1991\",\"1992\",\"1993\",\"1994\",\"1995\",\"1996\",\"1997\",\"1998\",\"1999\",\"2000\",\"2001\",\"2002\",\"2003\",\"2004\",\"2005\",\"2006\",\"2007\",\"2008\",\"2009\",\"2010\",\"2011\",\"2012\",\"2013\",\"2014\",\"2015\",\"2016\",\"2017\",\"2018\",\"2019\",\"2020\",\"2021\"],\"y\":[0.479,0.478,0.476,0.472,0.475,0.472,0.467,0.462,0.46,0.452,0.452,0.448,0.446,0.449,0.448,0.448,0.446,0.452,0.457,0.457,0.467,0.475,0.486,0.49,0.496,0.503,0.514,0.518,0.522,0.524,0.521,0.514],\"type\":\"scatter\",\"hovertemplate\":\"Year: %{x}\\u003cbr\\u003eHDI: %{y}\"},{\"line\":{\"color\":\"rgb(25,205,140)\",\"width\":0.5},\"mode\":\"lines\",\"name\":\"Libya\",\"showlegend\":true,\"x\":[\"1990\",\"1991\",\"1992\",\"1993\",\"1994\",\"1995\",\"1996\",\"1997\",\"1998\",\"1999\",\"2000\",\"2001\",\"2002\",\"2003\",\"2004\",\"2005\",\"2006\",\"2007\",\"2008\",\"2009\",\"2010\",\"2011\",\"2012\",\"2013\",\"2014\",\"2015\",\"2016\",\"2017\",\"2018\",\"2019\",\"2020\",\"2021\"],\"y\":[0.666,0.677,0.681,0.684,0.689,0.694,0.699,0.704,0.706,0.709,0.712,0.716,0.716,0.724,0.731,0.735,0.739,0.741,0.741,0.738,0.739,0.69,0.726,0.716,0.699,0.699,0.696,0.714,0.722,0.722,0.703,0.718],\"type\":\"scatter\",\"hovertemplate\":\"Year: %{x}\\u003cbr\\u003eHDI: %{y}\"},{\"line\":{\"color\":\"rgb(1,162,169)\",\"width\":0.5},\"mode\":\"lines\",\"name\":\"Lithuania\",\"showlegend\":true,\"x\":[\"1990\",\"1991\",\"1992\",\"1993\",\"1994\",\"1995\",\"1996\",\"1997\",\"1998\",\"1999\",\"2000\",\"2001\",\"2002\",\"2003\",\"2004\",\"2005\",\"2006\",\"2007\",\"2008\",\"2009\",\"2010\",\"2011\",\"2012\",\"2013\",\"2014\",\"2015\",\"2016\",\"2017\",\"2018\",\"2019\",\"2020\",\"2021\"],\"y\":[0.734,0.729,0.714,0.697,0.693,0.701,0.717,0.732,0.744,0.753,0.766,0.776,0.786,0.8,0.809,0.817,0.823,0.83,0.84,0.839,0.842,0.849,0.851,0.854,0.861,0.862,0.868,0.876,0.88,0.884,0.879,0.875],\"type\":\"scatter\",\"hovertemplate\":\"Year: %{x}\\u003cbr\\u003eHDI: %{y}\"},{\"line\":{\"color\":\"rgb(1,92,209)\",\"width\":0.5},\"mode\":\"lines\",\"name\":\"Luxembourg\",\"showlegend\":true,\"x\":[\"1990\",\"1991\",\"1992\",\"1993\",\"1994\",\"1995\",\"1996\",\"1997\",\"1998\",\"1999\",\"2000\",\"2001\",\"2002\",\"2003\",\"2004\",\"2005\",\"2006\",\"2007\",\"2008\",\"2009\",\"2010\",\"2011\",\"2012\",\"2013\",\"2014\",\"2015\",\"2016\",\"2017\",\"2018\",\"2019\",\"2020\",\"2021\"],\"y\":[0.786,0.796,0.8,0.81,0.819,0.824,0.832,0.839,0.846,0.861,0.864,0.869,0.874,0.873,0.882,0.884,0.885,0.887,0.9,0.905,0.912,0.913,0.916,0.921,0.926,0.915,0.923,0.919,0.922,0.927,0.924,0.93],\"type\":\"scatter\",\"hovertemplate\":\"Year: %{x}\\u003cbr\\u003eHDI: %{y}\"},{\"line\":{\"color\":\"rgb(198,106,6)\",\"width\":0.5},\"mode\":\"lines\",\"name\":\"Malawi\",\"showlegend\":true,\"x\":[\"1990\",\"1991\",\"1992\",\"1993\",\"1994\",\"1995\",\"1996\",\"1997\",\"1998\",\"1999\",\"2000\",\"2001\",\"2002\",\"2003\",\"2004\",\"2005\",\"2006\",\"2007\",\"2008\",\"2009\",\"2010\",\"2011\",\"2012\",\"2013\",\"2014\",\"2015\",\"2016\",\"2017\",\"2018\",\"2019\",\"2020\",\"2021\"],\"y\":[0.303,0.309,0.319,0.327,0.326,0.367,0.368,0.369,0.369,0.375,0.374,0.38,0.386,0.393,0.4,0.406,0.415,0.423,0.433,0.445,0.456,0.463,0.47,0.478,0.487,0.491,0.498,0.505,0.51,0.519,0.516,0.512],\"type\":\"scatter\",\"hovertemplate\":\"Year: %{x}\\u003cbr\\u003eHDI: %{y}\"},{\"line\":{\"color\":\"rgb(47,223,125)\",\"width\":0.5},\"mode\":\"lines\",\"name\":\"Malaysia\",\"showlegend\":true,\"x\":[\"1990\",\"1991\",\"1992\",\"1993\",\"1994\",\"1995\",\"1996\",\"1997\",\"1998\",\"1999\",\"2000\",\"2001\",\"2002\",\"2003\",\"2004\",\"2005\",\"2006\",\"2007\",\"2008\",\"2009\",\"2010\",\"2011\",\"2012\",\"2013\",\"2014\",\"2015\",\"2016\",\"2017\",\"2018\",\"2019\",\"2020\",\"2021\"],\"y\":[0.64,0.648,0.656,0.663,0.671,0.679,0.689,0.7,0.703,0.709,0.721,0.722,0.724,0.732,0.735,0.732,0.736,0.747,0.756,0.762,0.769,0.773,0.78,0.785,0.792,0.797,0.803,0.805,0.807,0.81,0.806,0.803],\"type\":\"scatter\",\"hovertemplate\":\"Year: %{x}\\u003cbr\\u003eHDI: %{y}\"},{\"line\":{\"color\":\"rgb(148,31,1)\",\"width\":0.5},\"mode\":\"lines\",\"name\":\"Mali\",\"showlegend\":true,\"x\":[\"1990\",\"1991\",\"1992\",\"1993\",\"1994\",\"1995\",\"1996\",\"1997\",\"1998\",\"1999\",\"2000\",\"2001\",\"2002\",\"2003\",\"2004\",\"2005\",\"2006\",\"2007\",\"2008\",\"2009\",\"2010\",\"2011\",\"2012\",\"2013\",\"2014\",\"2015\",\"2016\",\"2017\",\"2018\",\"2019\",\"2020\",\"2021\"],\"y\":[0.237,0.245,0.249,0.257,0.264,0.27,0.277,0.289,0.299,0.311,0.317,0.329,0.338,0.35,0.357,0.366,0.375,0.382,0.39,0.397,0.404,0.409,0.407,0.407,0.415,0.416,0.421,0.426,0.43,0.433,0.427,0.428],\"type\":\"scatter\",\"hovertemplate\":\"Year: %{x}\\u003cbr\\u003eHDI: %{y}\"},{\"line\":{\"color\":\"rgb(1,157,172)\",\"width\":0.5},\"mode\":\"lines\",\"name\":\"Malta\",\"showlegend\":true,\"x\":[\"1990\",\"1991\",\"1992\",\"1993\",\"1994\",\"1995\",\"1996\",\"1997\",\"1998\",\"1999\",\"2000\",\"2001\",\"2002\",\"2003\",\"2004\",\"2005\",\"2006\",\"2007\",\"2008\",\"2009\",\"2010\",\"2011\",\"2012\",\"2013\",\"2014\",\"2015\",\"2016\",\"2017\",\"2018\",\"2019\",\"2020\",\"2021\"],\"y\":[0.73,0.733,0.737,0.747,0.751,0.758,0.756,0.766,0.776,0.78,0.779,0.796,0.8,0.812,0.825,0.832,0.831,0.837,0.841,0.847,0.861,0.857,0.864,0.872,0.881,0.889,0.891,0.901,0.91,0.915,0.911,0.918],\"type\":\"scatter\",\"hovertemplate\":\"Year: %{x}\\u003cbr\\u003eHDI: %{y}\"},{\"line\":{\"color\":\"rgb(241,195,25)\",\"width\":0.5},\"mode\":\"lines\",\"name\":\"Mauritania\",\"showlegend\":true,\"x\":[\"1990\",\"1991\",\"1992\",\"1993\",\"1994\",\"1995\",\"1996\",\"1997\",\"1998\",\"1999\",\"2000\",\"2001\",\"2002\",\"2003\",\"2004\",\"2005\",\"2006\",\"2007\",\"2008\",\"2009\",\"2010\",\"2011\",\"2012\",\"2013\",\"2014\",\"2015\",\"2016\",\"2017\",\"2018\",\"2019\",\"2020\",\"2021\"],\"y\":[0.397,0.402,0.411,0.423,0.435,0.441,0.449,0.45,0.459,0.465,0.465,0.466,0.47,0.475,0.486,0.49,0.5,0.499,0.499,0.508,0.51,0.515,0.523,0.531,0.537,0.544,0.541,0.545,0.556,0.563,0.556,0.556],\"type\":\"scatter\",\"hovertemplate\":\"Year: %{x}\\u003cbr\\u003eHDI: %{y}\"},{\"line\":{\"color\":\"rgb(59,232,117)\",\"width\":0.5},\"mode\":\"lines\",\"name\":\"Mauritius\",\"showlegend\":true,\"x\":[\"1990\",\"1991\",\"1992\",\"1993\",\"1994\",\"1995\",\"1996\",\"1997\",\"1998\",\"1999\",\"2000\",\"2001\",\"2002\",\"2003\",\"2004\",\"2005\",\"2006\",\"2007\",\"2008\",\"2009\",\"2010\",\"2011\",\"2012\",\"2013\",\"2014\",\"2015\",\"2016\",\"2017\",\"2018\",\"2019\",\"2020\",\"2021\"],\"y\":[0.626,0.633,0.639,0.643,0.646,0.651,0.654,0.66,0.667,0.674,0.681,0.69,0.694,0.703,0.71,0.719,0.726,0.734,0.741,0.749,0.755,0.762,0.775,0.782,0.793,0.795,0.801,0.805,0.811,0.817,0.804,0.802],\"type\":\"scatter\",\"hovertemplate\":\"Year: %{x}\\u003cbr\\u003eHDI: %{y}\"},{\"line\":{\"color\":\"rgb(35,214,133)\",\"width\":0.5},\"mode\":\"lines\",\"name\":\"Mexico\",\"showlegend\":true,\"x\":[\"1990\",\"1991\",\"1992\",\"1993\",\"1994\",\"1995\",\"1996\",\"1997\",\"1998\",\"1999\",\"2000\",\"2001\",\"2002\",\"2003\",\"2004\",\"2005\",\"2006\",\"2007\",\"2008\",\"2009\",\"2010\",\"2011\",\"2012\",\"2013\",\"2014\",\"2015\",\"2016\",\"2017\",\"2018\",\"2019\",\"2020\",\"2021\"],\"y\":[0.662,0.664,0.667,0.669,0.674,0.674,0.681,0.688,0.696,0.702,0.709,0.712,0.719,0.725,0.73,0.733,0.741,0.743,0.745,0.745,0.746,0.752,0.76,0.76,0.764,0.768,0.772,0.775,0.777,0.779,0.756,0.758],\"type\":\"scatter\",\"hovertemplate\":\"Year: %{x}\\u003cbr\\u003eHDI: %{y}\"},{\"line\":{\"color\":\"rgb(51,226,123)\",\"width\":0.5},\"mode\":\"lines\",\"name\":\"Moldova\",\"showlegend\":true,\"x\":[\"1990\",\"1991\",\"1992\",\"1993\",\"1994\",\"1995\",\"1996\",\"1997\",\"1998\",\"1999\",\"2000\",\"2001\",\"2002\",\"2003\",\"2004\",\"2005\",\"2006\",\"2007\",\"2008\",\"2009\",\"2010\",\"2011\",\"2012\",\"2013\",\"2014\",\"2015\",\"2016\",\"2017\",\"2018\",\"2019\",\"2020\",\"2021\"],\"y\":[0.653,0.644,0.632,0.634,0.614,0.618,0.617,0.626,0.628,0.631,0.641,0.652,0.663,0.674,0.685,0.695,0.704,0.713,0.723,0.723,0.73,0.736,0.741,0.746,0.75,0.749,0.756,0.765,0.768,0.774,0.766,0.767],\"type\":\"scatter\",\"hovertemplate\":\"Year: %{x}\\u003cbr\\u003eHDI: %{y}\"},{\"line\":{\"color\":\"rgb(105,252,88)\",\"width\":0.5},\"mode\":\"lines\",\"name\":\"Mongolia\",\"showlegend\":true,\"x\":[\"1990\",\"1991\",\"1992\",\"1993\",\"1994\",\"1995\",\"1996\",\"1997\",\"1998\",\"1999\",\"2000\",\"2001\",\"2002\",\"2003\",\"2004\",\"2005\",\"2006\",\"2007\",\"2008\",\"2009\",\"2010\",\"2011\",\"2012\",\"2013\",\"2014\",\"2015\",\"2016\",\"2017\",\"2018\",\"2019\",\"2020\",\"2021\"],\"y\":[0.579,0.575,0.564,0.551,0.555,0.56,0.564,0.572,0.583,0.591,0.598,0.609,0.617,0.631,0.647,0.658,0.669,0.68,0.691,0.695,0.701,0.709,0.718,0.726,0.729,0.732,0.733,0.732,0.743,0.746,0.745,0.739],\"type\":\"scatter\",\"hovertemplate\":\"Year: %{x}\\u003cbr\\u003eHDI: %{y}\"},{\"line\":{\"color\":\"rgb(201,229,40)\",\"width\":0.5},\"mode\":\"lines\",\"name\":\"Morocco\",\"showlegend\":true,\"x\":[\"1990\",\"1991\",\"1992\",\"1993\",\"1994\",\"1995\",\"1996\",\"1997\",\"1998\",\"1999\",\"2000\",\"2001\",\"2002\",\"2003\",\"2004\",\"2005\",\"2006\",\"2007\",\"2008\",\"2009\",\"2010\",\"2011\",\"2012\",\"2013\",\"2014\",\"2015\",\"2016\",\"2017\",\"2018\",\"2019\",\"2020\",\"2021\"],\"y\":[0.447,0.453,0.457,0.463,0.475,0.478,0.49,0.494,0.501,0.511,0.521,0.532,0.542,0.552,0.56,0.567,0.573,0.581,0.588,0.594,0.603,0.614,0.624,0.635,0.644,0.654,0.661,0.67,0.676,0.682,0.679,0.683],\"type\":\"scatter\",\"hovertemplate\":\"Year: %{x}\\u003cbr\\u003eHDI: %{y}\"},{\"line\":{\"color\":\"rgb(144,25,1)\",\"width\":0.5},\"mode\":\"lines\",\"name\":\"Mozambique\",\"showlegend\":true,\"x\":[\"1990\",\"1991\",\"1992\",\"1993\",\"1994\",\"1995\",\"1996\",\"1997\",\"1998\",\"1999\",\"2000\",\"2001\",\"2002\",\"2003\",\"2004\",\"2005\",\"2006\",\"2007\",\"2008\",\"2009\",\"2010\",\"2011\",\"2012\",\"2013\",\"2014\",\"2015\",\"2016\",\"2017\",\"2018\",\"2019\",\"2020\",\"2021\"],\"y\":[0.238,0.24,0.234,0.239,0.242,0.247,0.259,0.272,0.283,0.296,0.303,0.316,0.324,0.337,0.347,0.357,0.364,0.377,0.387,0.395,0.402,0.407,0.413,0.427,0.433,0.44,0.443,0.445,0.451,0.456,0.453,0.446],\"type\":\"scatter\",\"hovertemplate\":\"Year: %{x}\\u003cbr\\u003eHDI: %{y}\"},{\"line\":{\"color\":\"rgb(224,142,12)\",\"width\":0.5},\"mode\":\"lines\",\"name\":\"Myanmar\",\"showlegend\":true,\"x\":[\"1990\",\"1991\",\"1992\",\"1993\",\"1994\",\"1995\",\"1996\",\"1997\",\"1998\",\"1999\",\"2000\",\"2001\",\"2002\",\"2003\",\"2004\",\"2005\",\"2006\",\"2007\",\"2008\",\"2009\",\"2010\",\"2011\",\"2012\",\"2013\",\"2014\",\"2015\",\"2016\",\"2017\",\"2018\",\"2019\",\"2020\",\"2021\"],\"y\":[0.333,0.343,0.356,0.363,0.369,0.374,0.381,0.385,0.392,0.401,0.41,0.42,0.43,0.44,0.45,0.46,0.47,0.48,0.465,0.501,0.51,0.521,0.531,0.543,0.553,0.562,0.572,0.58,0.59,0.598,0.6,0.585],\"type\":\"scatter\",\"hovertemplate\":\"Year: %{x}\\u003cbr\\u003eHDI: %{y}\"},{\"line\":{\"color\":\"rgb(97,250,93)\",\"width\":0.5},\"mode\":\"lines\",\"name\":\"Namibia\",\"showlegend\":true,\"x\":[\"1990\",\"1991\",\"1992\",\"1993\",\"1994\",\"1995\",\"1996\",\"1997\",\"1998\",\"1999\",\"2000\",\"2001\",\"2002\",\"2003\",\"2004\",\"2005\",\"2006\",\"2007\",\"2008\",\"2009\",\"2010\",\"2011\",\"2012\",\"2013\",\"2014\",\"2015\",\"2016\",\"2017\",\"2018\",\"2019\",\"2020\",\"2021\"],\"y\":[0.579,0.585,0.588,0.588,0.587,0.582,0.571,0.562,0.557,0.548,0.546,0.543,0.545,0.548,0.552,0.555,0.561,0.569,0.576,0.581,0.585,0.592,0.601,0.611,0.621,0.628,0.632,0.635,0.636,0.639,0.633,0.615],\"type\":\"scatter\",\"hovertemplate\":\"Year: %{x}\\u003cbr\\u003eHDI: %{y}\"},{\"line\":{\"color\":\"rgb(235,201,27)\",\"width\":0.5},\"mode\":\"lines\",\"name\":\"Nepal\",\"showlegend\":true,\"x\":[\"1990\",\"1991\",\"1992\",\"1993\",\"1994\",\"1995\",\"1996\",\"1997\",\"1998\",\"1999\",\"2000\",\"2001\",\"2002\",\"2003\",\"2004\",\"2005\",\"2006\",\"2007\",\"2008\",\"2009\",\"2010\",\"2011\",\"2012\",\"2013\",\"2014\",\"2015\",\"2016\",\"2017\",\"2018\",\"2019\",\"2020\",\"2021\"],\"y\":[0.399,0.408,0.416,0.421,0.428,0.433,0.442,0.449,0.455,0.461,0.467,0.469,0.476,0.482,0.489,0.495,0.505,0.509,0.518,0.53,0.543,0.553,0.561,0.57,0.576,0.579,0.586,0.594,0.601,0.611,0.604,0.602],\"type\":\"scatter\",\"hovertemplate\":\"Year: %{x}\\u003cbr\\u003eHDI: %{y}\"},{\"line\":{\"color\":\"rgb(1,25,243)\",\"width\":0.5},\"mode\":\"lines\",\"name\":\"Netherlands\",\"showlegend\":true,\"x\":[\"1990\",\"1991\",\"1992\",\"1993\",\"1994\",\"1995\",\"1996\",\"1997\",\"1998\",\"1999\",\"2000\",\"2001\",\"2002\",\"2003\",\"2004\",\"2005\",\"2006\",\"2007\",\"2008\",\"2009\",\"2010\",\"2011\",\"2012\",\"2013\",\"2014\",\"2015\",\"2016\",\"2017\",\"2018\",\"2019\",\"2020\",\"2021\"],\"y\":[0.847,0.852,0.853,0.855,0.881,0.878,0.882,0.883,0.886,0.888,0.893,0.895,0.892,0.894,0.897,0.899,0.906,0.912,0.912,0.913,0.917,0.927,0.927,0.929,0.931,0.932,0.933,0.937,0.939,0.943,0.939,0.941],\"type\":\"scatter\",\"hovertemplate\":\"Year: %{x}\\u003cbr\\u003eHDI: %{y}\"},{\"line\":{\"color\":\"rgb(1,74,218)\",\"width\":0.5},\"mode\":\"lines\",\"name\":\"New Zealand\",\"showlegend\":true,\"x\":[\"1990\",\"1991\",\"1992\",\"1993\",\"1994\",\"1995\",\"1996\",\"1997\",\"1998\",\"1999\",\"2000\",\"2001\",\"2002\",\"2003\",\"2004\",\"2005\",\"2006\",\"2007\",\"2008\",\"2009\",\"2010\",\"2011\",\"2012\",\"2013\",\"2014\",\"2015\",\"2016\",\"2017\",\"2018\",\"2019\",\"2020\",\"2021\"],\"y\":[0.806,0.811,0.818,0.833,0.846,0.853,0.857,0.865,0.874,0.878,0.887,0.894,0.897,0.903,0.906,0.912,0.913,0.916,0.915,0.919,0.922,0.922,0.924,0.929,0.93,0.931,0.934,0.935,0.936,0.937,0.936,0.937],\"type\":\"scatter\",\"hovertemplate\":\"Year: %{x}\\u003cbr\\u003eHDI: %{y}\"},{\"line\":{\"color\":\"rgb(163,249,57)\",\"width\":0.5},\"mode\":\"lines\",\"name\":\"Nicaragua\",\"showlegend\":true,\"x\":[\"1990\",\"1991\",\"1992\",\"1993\",\"1994\",\"1995\",\"1996\",\"1997\",\"1998\",\"1999\",\"2000\",\"2001\",\"2002\",\"2003\",\"2004\",\"2005\",\"2006\",\"2007\",\"2008\",\"2009\",\"2010\",\"2011\",\"2012\",\"2013\",\"2014\",\"2015\",\"2016\",\"2017\",\"2018\",\"2019\",\"2020\",\"2021\"],\"y\":[0.49,0.5,0.505,0.508,0.513,0.522,0.532,0.542,0.544,0.559,0.566,0.571,0.575,0.578,0.582,0.588,0.593,0.599,0.605,0.606,0.614,0.622,0.629,0.634,0.641,0.647,0.653,0.659,0.662,0.664,0.654,0.667],\"type\":\"scatter\",\"hovertemplate\":\"Year: %{x}\\u003cbr\\u003eHDI: %{y}\"},{\"line\":{\"color\":\"rgb(128,0,1)\",\"width\":0.5},\"mode\":\"lines\",\"name\":\"Niger\",\"showlegend\":true,\"x\":[\"1990\",\"1991\",\"1992\",\"1993\",\"1994\",\"1995\",\"1996\",\"1997\",\"1998\",\"1999\",\"2000\",\"2001\",\"2002\",\"2003\",\"2004\",\"2005\",\"2006\",\"2007\",\"2008\",\"2009\",\"2010\",\"2011\",\"2012\",\"2013\",\"2014\",\"2015\",\"2016\",\"2017\",\"2018\",\"2019\",\"2020\",\"2021\"],\"y\":[0.216,0.218,0.222,0.227,0.232,0.238,0.243,0.248,0.256,0.259,0.262,0.268,0.274,0.278,0.289,0.298,0.306,0.311,0.32,0.327,0.338,0.346,0.354,0.362,0.37,0.376,0.383,0.39,0.399,0.406,0.401,0.4],\"type\":\"scatter\",\"hovertemplate\":\"Year: %{x}\\u003cbr\\u003eHDI: %{y}\"},{\"line\":{\"color\":\"rgb(1,31,240)\",\"width\":0.5},\"mode\":\"lines\",\"name\":\"Norway\",\"showlegend\":true,\"x\":[\"1990\",\"1991\",\"1992\",\"1993\",\"1994\",\"1995\",\"1996\",\"1997\",\"1998\",\"1999\",\"2000\",\"2001\",\"2002\",\"2003\",\"2004\",\"2005\",\"2006\",\"2007\",\"2008\",\"2009\",\"2010\",\"2011\",\"2012\",\"2013\",\"2014\",\"2015\",\"2016\",\"2017\",\"2018\",\"2019\",\"2020\",\"2021\"],\"y\":[0.838,0.845,0.851,0.858,0.873,0.871,0.879,0.885,0.895,0.901,0.913,0.911,0.912,0.919,0.927,0.931,0.937,0.938,0.94,0.936,0.941,0.944,0.946,0.949,0.952,0.953,0.955,0.959,0.962,0.961,0.959,0.961],\"type\":\"scatter\",\"hovertemplate\":\"Year: %{x}\\u003cbr\\u003eHDI: %{y}\"},{\"line\":{\"color\":\"rgb(239,197,25)\",\"width\":0.5},\"mode\":\"lines\",\"name\":\"Pakistan\",\"showlegend\":true,\"x\":[\"1990\",\"1991\",\"1992\",\"1993\",\"1994\",\"1995\",\"1996\",\"1997\",\"1998\",\"1999\",\"2000\",\"2001\",\"2002\",\"2003\",\"2004\",\"2005\",\"2006\",\"2007\",\"2008\",\"2009\",\"2010\",\"2011\",\"2012\",\"2013\",\"2014\",\"2015\",\"2016\",\"2017\",\"2018\",\"2019\",\"2020\",\"2021\"],\"y\":[0.4,0.404,0.409,0.41,0.414,0.417,0.423,0.425,0.43,0.435,0.441,0.448,0.454,0.462,0.475,0.484,0.493,0.499,0.498,0.502,0.505,0.508,0.513,0.518,0.527,0.534,0.541,0.543,0.545,0.546,0.543,0.544],\"type\":\"scatter\",\"hovertemplate\":\"Year: %{x}\\u003cbr\\u003eHDI: %{y}\"},{\"line\":{\"color\":\"rgb(29,209,138)\",\"width\":0.5},\"mode\":\"lines\",\"name\":\"Panama\",\"showlegend\":true,\"x\":[\"1990\",\"1991\",\"1992\",\"1993\",\"1994\",\"1995\",\"1996\",\"1997\",\"1998\",\"1999\",\"2000\",\"2001\",\"2002\",\"2003\",\"2004\",\"2005\",\"2006\",\"2007\",\"2008\",\"2009\",\"2010\",\"2011\",\"2012\",\"2013\",\"2014\",\"2015\",\"2016\",\"2017\",\"2018\",\"2019\",\"2020\",\"2021\"],\"y\":[0.669,0.672,0.678,0.685,0.687,0.69,0.697,0.703,0.71,0.715,0.721,0.726,0.733,0.737,0.743,0.749,0.754,0.763,0.767,0.769,0.773,0.779,0.785,0.79,0.794,0.8,0.805,0.811,0.814,0.817,0.801,0.805],\"type\":\"scatter\",\"hovertemplate\":\"Year: %{x}\\u003cbr\\u003eHDI: %{y}\"},{\"line\":{\"color\":\"rgb(254,178,19)\",\"width\":0.5},\"mode\":\"lines\",\"name\":\"Papua New Guinea\",\"showlegend\":true,\"x\":[\"1990\",\"1991\",\"1992\",\"1993\",\"1994\",\"1995\",\"1996\",\"1997\",\"1998\",\"1999\",\"2000\",\"2001\",\"2002\",\"2003\",\"2004\",\"2005\",\"2006\",\"2007\",\"2008\",\"2009\",\"2010\",\"2011\",\"2012\",\"2013\",\"2014\",\"2015\",\"2016\",\"2017\",\"2018\",\"2019\",\"2020\",\"2021\"],\"y\":[0.37,0.38,0.391,0.405,0.419,0.423,0.43,0.432,0.435,0.444,0.447,0.451,0.455,0.461,0.461,0.466,0.469,0.478,0.484,0.49,0.499,0.504,0.513,0.518,0.533,0.541,0.547,0.552,0.554,0.56,0.56,0.558],\"type\":\"scatter\",\"hovertemplate\":\"Year: %{x}\\u003cbr\\u003eHDI: %{y}\"},{\"line\":{\"color\":\"rgb(85,246,101)\",\"width\":0.5},\"mode\":\"lines\",\"name\":\"Paraguay\",\"showlegend\":true,\"x\":[\"1990\",\"1991\",\"1992\",\"1993\",\"1994\",\"1995\",\"1996\",\"1997\",\"1998\",\"1999\",\"2000\",\"2001\",\"2002\",\"2003\",\"2004\",\"2005\",\"2006\",\"2007\",\"2008\",\"2009\",\"2010\",\"2011\",\"2012\",\"2013\",\"2014\",\"2015\",\"2016\",\"2017\",\"2018\",\"2019\",\"2020\",\"2021\"],\"y\":[0.595,0.6,0.605,0.612,0.617,0.623,0.632,0.638,0.644,0.649,0.649,0.655,0.662,0.655,0.662,0.664,0.664,0.669,0.679,0.677,0.685,0.696,0.702,0.715,0.716,0.723,0.721,0.724,0.727,0.732,0.73,0.717],\"type\":\"scatter\",\"hovertemplate\":\"Year: %{x}\\u003cbr\\u003eHDI: %{y}\"},{\"line\":{\"color\":\"rgb(65,236,113)\",\"width\":0.5},\"mode\":\"lines\",\"name\":\"Peru\",\"showlegend\":true,\"x\":[\"1990\",\"1991\",\"1992\",\"1993\",\"1994\",\"1995\",\"1996\",\"1997\",\"1998\",\"1999\",\"2000\",\"2001\",\"2002\",\"2003\",\"2004\",\"2005\",\"2006\",\"2007\",\"2008\",\"2009\",\"2010\",\"2011\",\"2012\",\"2013\",\"2014\",\"2015\",\"2016\",\"2017\",\"2018\",\"2019\",\"2020\",\"2021\"],\"y\":[0.621,0.625,0.625,0.629,0.639,0.647,0.651,0.656,0.664,0.673,0.676,0.684,0.685,0.684,0.69,0.686,0.691,0.7,0.708,0.711,0.725,0.732,0.742,0.75,0.755,0.759,0.765,0.77,0.776,0.78,0.762,0.762],\"type\":\"scatter\",\"hovertemplate\":\"Year: %{x}\\u003cbr\\u003eHDI: %{y}\"},{\"line\":{\"color\":\"rgb(87,246,99)\",\"width\":0.5},\"mode\":\"lines\",\"name\":\"Philippines\",\"showlegend\":true,\"x\":[\"1990\",\"1991\",\"1992\",\"1993\",\"1994\",\"1995\",\"1996\",\"1997\",\"1998\",\"1999\",\"2000\",\"2001\",\"2002\",\"2003\",\"2004\",\"2005\",\"2006\",\"2007\",\"2008\",\"2009\",\"2010\",\"2011\",\"2012\",\"2013\",\"2014\",\"2015\",\"2016\",\"2017\",\"2018\",\"2019\",\"2020\",\"2021\"],\"y\":[0.598,0.599,0.603,0.606,0.609,0.612,0.62,0.625,0.63,0.633,0.633,0.638,0.645,0.65,0.657,0.658,0.659,0.664,0.668,0.667,0.674,0.679,0.685,0.692,0.696,0.698,0.7,0.704,0.71,0.718,0.71,0.699],\"type\":\"scatter\",\"hovertemplate\":\"Year: %{x}\\u003cbr\\u003eHDI: %{y}\"},{\"line\":{\"color\":\"rgb(1,176,160)\",\"width\":0.5},\"mode\":\"lines\",\"name\":\"Poland\",\"showlegend\":true,\"x\":[\"1990\",\"1991\",\"1992\",\"1993\",\"1994\",\"1995\",\"1996\",\"1997\",\"1998\",\"1999\",\"2000\",\"2001\",\"2002\",\"2003\",\"2004\",\"2005\",\"2006\",\"2007\",\"2008\",\"2009\",\"2010\",\"2011\",\"2012\",\"2013\",\"2014\",\"2015\",\"2016\",\"2017\",\"2018\",\"2019\",\"2020\",\"2021\"],\"y\":[0.716,0.713,0.718,0.731,0.741,0.746,0.755,0.766,0.776,0.783,0.793,0.799,0.806,0.811,0.809,0.815,0.82,0.825,0.831,0.835,0.841,0.847,0.852,0.863,0.865,0.868,0.872,0.875,0.877,0.881,0.876,0.876],\"type\":\"scatter\",\"hovertemplate\":\"Year: %{x}\\u003cbr\\u003eHDI: %{y}\"},{\"line\":{\"color\":\"rgb(1,178,159)\",\"width\":0.5},\"mode\":\"lines\",\"name\":\"Portugal\",\"showlegend\":true,\"x\":[\"1990\",\"1991\",\"1992\",\"1993\",\"1994\",\"1995\",\"1996\",\"1997\",\"1998\",\"1999\",\"2000\",\"2001\",\"2002\",\"2003\",\"2004\",\"2005\",\"2006\",\"2007\",\"2008\",\"2009\",\"2010\",\"2011\",\"2012\",\"2013\",\"2014\",\"2015\",\"2016\",\"2017\",\"2018\",\"2019\",\"2020\",\"2021\"],\"y\":[0.701,0.711,0.727,0.741,0.754,0.761,0.769,0.778,0.786,0.785,0.791,0.797,0.798,0.802,0.805,0.806,0.811,0.818,0.822,0.825,0.829,0.835,0.836,0.845,0.848,0.85,0.853,0.859,0.86,0.867,0.863,0.866],\"type\":\"scatter\",\"hovertemplate\":\"Year: %{x}\\u003cbr\\u003eHDI: %{y}\"},{\"line\":{\"color\":\"rgb(1,136,184)\",\"width\":0.5},\"mode\":\"lines\",\"name\":\"Qatar\",\"showlegend\":true,\"x\":[\"1990\",\"1991\",\"1992\",\"1993\",\"1994\",\"1995\",\"1996\",\"1997\",\"1998\",\"1999\",\"2000\",\"2001\",\"2002\",\"2003\",\"2004\",\"2005\",\"2006\",\"2007\",\"2008\",\"2009\",\"2010\",\"2011\",\"2012\",\"2013\",\"2014\",\"2015\",\"2016\",\"2017\",\"2018\",\"2019\",\"2020\",\"2021\"],\"y\":[0.758,0.754,0.756,0.763,0.77,0.775,0.782,0.795,0.799,0.802,0.801,0.803,0.809,0.819,0.822,0.827,0.825,0.834,0.84,0.838,0.834,0.844,0.829,0.834,0.839,0.846,0.85,0.849,0.853,0.859,0.854,0.855],\"type\":\"scatter\",\"hovertemplate\":\"Year: %{x}\\u003cbr\\u003eHDI: %{y}\"},{\"line\":{\"color\":\"rgb(15,195,147)\",\"width\":0.5},\"mode\":\"lines\",\"name\":\"Romania\",\"showlegend\":true,\"x\":[\"1990\",\"1991\",\"1992\",\"1993\",\"1994\",\"1995\",\"1996\",\"1997\",\"1998\",\"1999\",\"2000\",\"2001\",\"2002\",\"2003\",\"2004\",\"2005\",\"2006\",\"2007\",\"2008\",\"2009\",\"2010\",\"2011\",\"2012\",\"2013\",\"2014\",\"2015\",\"2016\",\"2017\",\"2018\",\"2019\",\"2020\",\"2021\"],\"y\":[0.703,0.689,0.679,0.68,0.682,0.688,0.693,0.696,0.7,0.708,0.715,0.722,0.729,0.732,0.742,0.756,0.77,0.786,0.806,0.809,0.807,0.808,0.805,0.81,0.811,0.813,0.816,0.823,0.827,0.832,0.824,0.821],\"type\":\"scatter\",\"hovertemplate\":\"Year: %{x}\\u003cbr\\u003eHDI: %{y}\"},{\"line\":{\"color\":\"rgb(1,149,177)\",\"width\":0.5},\"mode\":\"lines\",\"name\":\"Russian Federation\",\"showlegend\":true,\"x\":[\"1990\",\"1991\",\"1992\",\"1993\",\"1994\",\"1995\",\"1996\",\"1997\",\"1998\",\"1999\",\"2000\",\"2001\",\"2002\",\"2003\",\"2004\",\"2005\",\"2006\",\"2007\",\"2008\",\"2009\",\"2010\",\"2011\",\"2012\",\"2013\",\"2014\",\"2015\",\"2016\",\"2017\",\"2018\",\"2019\",\"2020\",\"2021\"],\"y\":[0.743,0.741,0.728,0.71,0.698,0.698,0.708,0.716,0.719,0.721,0.732,0.74,0.746,0.754,0.761,0.764,0.775,0.786,0.791,0.789,0.796,0.808,0.811,0.817,0.818,0.824,0.828,0.833,0.841,0.845,0.83,0.822],\"type\":\"scatter\",\"hovertemplate\":\"Year: %{x}\\u003cbr\\u003eHDI: %{y}\"},{\"line\":{\"color\":\"rgb(15,195,147)\",\"width\":0.5},\"mode\":\"lines\",\"name\":\"Saint Lucia\",\"showlegend\":true,\"x\":[\"1990\",\"1991\",\"1992\",\"1993\",\"1994\",\"1995\",\"1996\",\"1997\",\"1998\",\"1999\",\"2000\",\"2001\",\"2002\",\"2003\",\"2004\",\"2005\",\"2006\",\"2007\",\"2008\",\"2009\",\"2010\",\"2011\",\"2012\",\"2013\",\"2014\",\"2015\",\"2016\",\"2017\",\"2018\",\"2019\",\"2020\",\"2021\"],\"y\":[0.69,0.691,0.695,0.695,0.695,0.694,0.696,0.695,0.697,0.698,0.698,0.697,0.699,0.701,0.704,0.709,0.718,0.718,0.723,0.725,0.728,0.734,0.734,0.734,0.735,0.737,0.744,0.744,0.746,0.735,0.723,0.715],\"type\":\"scatter\",\"hovertemplate\":\"Year: %{x}\\u003cbr\\u003eHDI: %{y}\"},{\"line\":{\"color\":\"rgb(177,243,50)\",\"width\":0.5},\"mode\":\"lines\",\"name\":\"Sao Tome and Principe\",\"showlegend\":true,\"x\":[\"1990\",\"1991\",\"1992\",\"1993\",\"1994\",\"1995\",\"1996\",\"1997\",\"1998\",\"1999\",\"2000\",\"2001\",\"2002\",\"2003\",\"2004\",\"2005\",\"2006\",\"2007\",\"2008\",\"2009\",\"2010\",\"2011\",\"2012\",\"2013\",\"2014\",\"2015\",\"2016\",\"2017\",\"2018\",\"2019\",\"2020\",\"2021\"],\"y\":[0.485,0.484,0.485,0.485,0.487,0.488,0.491,0.492,0.494,0.498,0.501,0.507,0.511,0.519,0.525,0.531,0.542,0.545,0.546,0.552,0.554,0.556,0.562,0.573,0.584,0.596,0.603,0.612,0.617,0.622,0.619,0.618],\"type\":\"scatter\",\"hovertemplate\":\"Year: %{x}\\u003cbr\\u003eHDI: %{y}\"},{\"line\":{\"color\":\"rgb(17,197,146)\",\"width\":0.5},\"mode\":\"lines\",\"name\":\"Saudi Arabia\",\"showlegend\":true,\"x\":[\"1990\",\"1991\",\"1992\",\"1993\",\"1994\",\"1995\",\"1996\",\"1997\",\"1998\",\"1999\",\"2000\",\"2001\",\"2002\",\"2003\",\"2004\",\"2005\",\"2006\",\"2007\",\"2008\",\"2009\",\"2010\",\"2011\",\"2012\",\"2013\",\"2014\",\"2015\",\"2016\",\"2017\",\"2018\",\"2019\",\"2020\",\"2021\"],\"y\":[0.678,0.688,0.694,0.699,0.704,0.709,0.715,0.72,0.727,0.73,0.737,0.744,0.75,0.76,0.77,0.78,0.787,0.794,0.802,0.807,0.816,0.828,0.837,0.845,0.852,0.859,0.864,0.86,0.865,0.873,0.87,0.875],\"type\":\"scatter\",\"hovertemplate\":\"Year: %{x}\\u003cbr\\u003eHDI: %{y}\"},{\"line\":{\"color\":\"rgb(248,171,18)\",\"width\":0.5},\"mode\":\"lines\",\"name\":\"Senegal\",\"showlegend\":true,\"x\":[\"1990\",\"1991\",\"1992\",\"1993\",\"1994\",\"1995\",\"1996\",\"1997\",\"1998\",\"1999\",\"2000\",\"2001\",\"2002\",\"2003\",\"2004\",\"2005\",\"2006\",\"2007\",\"2008\",\"2009\",\"2010\",\"2011\",\"2012\",\"2013\",\"2014\",\"2015\",\"2016\",\"2017\",\"2018\",\"2019\",\"2020\",\"2021\"],\"y\":[0.373,0.374,0.375,0.374,0.374,0.375,0.376,0.377,0.379,0.382,0.388,0.394,0.398,0.405,0.412,0.419,0.427,0.439,0.451,0.459,0.468,0.482,0.49,0.496,0.502,0.505,0.507,0.509,0.512,0.513,0.513,0.511],\"type\":\"scatter\",\"hovertemplate\":\"Year: %{x}\\u003cbr\\u003eHDI: %{y}\"},{\"line\":{\"color\":\"rgb(196,103,6)\",\"width\":0.5},\"mode\":\"lines\",\"name\":\"Sierra Leone\",\"showlegend\":true,\"x\":[\"1990\",\"1991\",\"1992\",\"1993\",\"1994\",\"1995\",\"1996\",\"1997\",\"1998\",\"1999\",\"2000\",\"2001\",\"2002\",\"2003\",\"2004\",\"2005\",\"2006\",\"2007\",\"2008\",\"2009\",\"2010\",\"2011\",\"2012\",\"2013\",\"2014\",\"2015\",\"2016\",\"2017\",\"2018\",\"2019\",\"2020\",\"2021\"],\"y\":[0.312,0.305,0.305,0.312,0.312,0.314,0.312,0.307,0.305,0.301,0.318,0.331,0.347,0.357,0.364,0.372,0.382,0.397,0.409,0.42,0.427,0.433,0.447,0.459,0.461,0.453,0.457,0.466,0.47,0.48,0.475,0.477],\"type\":\"scatter\",\"hovertemplate\":\"Year: %{x}\\u003cbr\\u003eHDI: %{y}\"},{\"line\":{\"color\":\"rgb(1,154,174)\",\"width\":0.5},\"mode\":\"lines\",\"name\":\"Singapore\",\"showlegend\":true,\"x\":[\"1990\",\"1991\",\"1992\",\"1993\",\"1994\",\"1995\",\"1996\",\"1997\",\"1998\",\"1999\",\"2000\",\"2001\",\"2002\",\"2003\",\"2004\",\"2005\",\"2006\",\"2007\",\"2008\",\"2009\",\"2010\",\"2011\",\"2012\",\"2013\",\"2014\",\"2015\",\"2016\",\"2017\",\"2018\",\"2019\",\"2020\",\"2021\"],\"y\":[0.727,0.737,0.748,0.758,0.77,0.779,0.789,0.802,0.81,0.82,0.831,0.833,0.84,0.845,0.851,0.875,0.881,0.887,0.892,0.892,0.91,0.915,0.92,0.923,0.928,0.93,0.934,0.935,0.94,0.943,0.939,0.939],\"type\":\"scatter\",\"hovertemplate\":\"Year: %{x}\\u003cbr\\u003eHDI: %{y}\"},{\"line\":{\"color\":\"rgb(15,195,147)\",\"width\":0.5},\"mode\":\"lines\",\"name\":\"Slovakia\",\"showlegend\":true,\"x\":[\"1990\",\"1991\",\"1992\",\"1993\",\"1994\",\"1995\",\"1996\",\"1997\",\"1998\",\"1999\",\"2000\",\"2001\",\"2002\",\"2003\",\"2004\",\"2005\",\"2006\",\"2007\",\"2008\",\"2009\",\"2010\",\"2011\",\"2012\",\"2013\",\"2014\",\"2015\",\"2016\",\"2017\",\"2018\",\"2019\",\"2020\",\"2021\"],\"y\":[0.692,0.69,0.694,0.701,0.711,0.72,0.73,0.738,0.748,0.755,0.763,0.77,0.779,0.784,0.794,0.803,0.812,0.823,0.831,0.833,0.84,0.844,0.845,0.848,0.849,0.851,0.854,0.856,0.859,0.862,0.857,0.848],\"type\":\"scatter\",\"hovertemplate\":\"Year: %{x}\\u003cbr\\u003eHDI: %{y}\"},{\"line\":{\"color\":\"rgb(53,228,121)\",\"width\":0.5},\"mode\":\"lines\",\"name\":\"South Africa\",\"showlegend\":true,\"x\":[\"1990\",\"1991\",\"1992\",\"1993\",\"1994\",\"1995\",\"1996\",\"1997\",\"1998\",\"1999\",\"2000\",\"2001\",\"2002\",\"2003\",\"2004\",\"2005\",\"2006\",\"2007\",\"2008\",\"2009\",\"2010\",\"2011\",\"2012\",\"2013\",\"2014\",\"2015\",\"2016\",\"2017\",\"2018\",\"2019\",\"2020\",\"2021\"],\"y\":[0.632,0.641,0.647,0.652,0.658,0.661,0.656,0.651,0.644,0.638,0.633,0.629,0.633,0.629,0.63,0.632,0.637,0.644,0.653,0.665,0.675,0.686,0.696,0.704,0.712,0.716,0.719,0.72,0.726,0.736,0.727,0.713],\"type\":\"scatter\",\"hovertemplate\":\"Year: %{x}\\u003cbr\\u003eHDI: %{y}\"},{\"line\":{\"color\":\"rgb(1,144,180)\",\"width\":0.5},\"mode\":\"lines\",\"name\":\"South Korea\",\"showlegend\":true,\"x\":[\"1990\",\"1991\",\"1992\",\"1993\",\"1994\",\"1995\",\"1996\",\"1997\",\"1998\",\"1999\",\"2000\",\"2001\",\"2002\",\"2003\",\"2004\",\"2005\",\"2006\",\"2007\",\"2008\",\"2009\",\"2010\",\"2011\",\"2012\",\"2013\",\"2014\",\"2015\",\"2016\",\"2017\",\"2018\",\"2019\",\"2020\",\"2021\"],\"y\":[0.737,0.747,0.754,0.763,0.773,0.783,0.793,0.806,0.804,0.815,0.825,0.833,0.84,0.844,0.852,0.86,0.866,0.871,0.875,0.877,0.89,0.896,0.897,0.901,0.906,0.909,0.912,0.916,0.919,0.923,0.922,0.925],\"type\":\"scatter\",\"hovertemplate\":\"Year: %{x}\\u003cbr\\u003eHDI: %{y}\"},{\"line\":{\"color\":\"rgb(1,126,190)\",\"width\":0.5},\"mode\":\"lines\",\"name\":\"Spain\",\"showlegend\":true,\"x\":[\"1990\",\"1991\",\"1992\",\"1993\",\"1994\",\"1995\",\"1996\",\"1997\",\"1998\",\"1999\",\"2000\",\"2001\",\"2002\",\"2003\",\"2004\",\"2005\",\"2006\",\"2007\",\"2008\",\"2009\",\"2010\",\"2011\",\"2012\",\"2013\",\"2014\",\"2015\",\"2016\",\"2017\",\"2018\",\"2019\",\"2020\",\"2021\"],\"y\":[0.757,0.764,0.772,0.781,0.789,0.796,0.802,0.808,0.813,0.818,0.825,0.83,0.834,0.837,0.844,0.85,0.856,0.858,0.86,0.861,0.868,0.872,0.874,0.88,0.884,0.889,0.895,0.897,0.901,0.908,0.899,0.905],\"type\":\"scatter\",\"hovertemplate\":\"Year: %{x}\\u003cbr\\u003eHDI: %{y}\"},{\"line\":{\"color\":\"rgb(53,228,121)\",\"width\":0.5},\"mode\":\"lines\",\"name\":\"Sri Lanka\",\"showlegend\":true,\"x\":[\"1990\",\"1991\",\"1992\",\"1993\",\"1994\",\"1995\",\"1996\",\"1997\",\"1998\",\"1999\",\"2000\",\"2001\",\"2002\",\"2003\",\"2004\",\"2005\",\"2006\",\"2007\",\"2008\",\"2009\",\"2010\",\"2011\",\"2012\",\"2013\",\"2014\",\"2015\",\"2016\",\"2017\",\"2018\",\"2019\",\"2020\",\"2021\"],\"y\":[0.636,0.641,0.65,0.658,0.663,0.666,0.672,0.678,0.683,0.691,0.688,0.69,0.694,0.699,0.683,0.71,0.714,0.719,0.721,0.713,0.737,0.744,0.751,0.756,0.76,0.764,0.767,0.771,0.776,0.778,0.78,0.782],\"type\":\"scatter\",\"hovertemplate\":\"Year: %{x}\\u003cbr\\u003eHDI: %{y}\"},{\"line\":{\"color\":\"rgb(224,142,12)\",\"width\":0.5},\"mode\":\"lines\",\"name\":\"Sudan\",\"showlegend\":true,\"x\":[\"1990\",\"1991\",\"1992\",\"1993\",\"1994\",\"1995\",\"1996\",\"1997\",\"1998\",\"1999\",\"2000\",\"2001\",\"2002\",\"2003\",\"2004\",\"2005\",\"2006\",\"2007\",\"2008\",\"2009\",\"2010\",\"2011\",\"2012\",\"2013\",\"2014\",\"2015\",\"2016\",\"2017\",\"2018\",\"2019\",\"2020\",\"2021\"],\"y\":[0.336,0.342,0.331,0.34,0.383,0.371,0.379,0.388,0.376,0.413,0.424,0.431,0.436,0.439,0.441,0.448,0.465,0.47,0.478,0.486,0.486,0.487,0.493,0.497,0.504,0.508,0.511,0.514,0.514,0.514,0.51,0.508],\"type\":\"scatter\",\"hovertemplate\":\"Year: %{x}\\u003cbr\\u003eHDI: %{y}\"},{\"line\":{\"color\":\"rgb(1,71,219)\",\"width\":0.5},\"mode\":\"lines\",\"name\":\"Sweden\",\"showlegend\":true,\"x\":[\"1990\",\"1991\",\"1992\",\"1993\",\"1994\",\"1995\",\"1996\",\"1997\",\"1998\",\"1999\",\"2000\",\"2001\",\"2002\",\"2003\",\"2004\",\"2005\",\"2006\",\"2007\",\"2008\",\"2009\",\"2010\",\"2011\",\"2012\",\"2013\",\"2014\",\"2015\",\"2016\",\"2017\",\"2018\",\"2019\",\"2020\",\"2021\"],\"y\":[0.81,0.813,0.82,0.84,0.851,0.86,0.868,0.879,0.894,0.899,0.904,0.907,0.91,0.915,0.9,0.902,0.906,0.908,0.905,0.904,0.91,0.911,0.911,0.932,0.935,0.937,0.939,0.941,0.942,0.947,0.942,0.947],\"type\":\"scatter\",\"hovertemplate\":\"Year: %{x}\\u003cbr\\u003eHDI: %{y}\"},{\"line\":{\"color\":\"rgb(1,21,245)\",\"width\":0.5},\"mode\":\"lines\",\"name\":\"Switzerland\",\"showlegend\":true,\"x\":[\"1990\",\"1991\",\"1992\",\"1993\",\"1994\",\"1995\",\"1996\",\"1997\",\"1998\",\"1999\",\"2000\",\"2001\",\"2002\",\"2003\",\"2004\",\"2005\",\"2006\",\"2007\",\"2008\",\"2009\",\"2010\",\"2011\",\"2012\",\"2013\",\"2014\",\"2015\",\"2016\",\"2017\",\"2018\",\"2019\",\"2020\",\"2021\"],\"y\":[0.851,0.853,0.856,0.861,0.863,0.865,0.87,0.875,0.88,0.884,0.887,0.89,0.89,0.895,0.901,0.905,0.914,0.92,0.926,0.936,0.942,0.943,0.945,0.948,0.952,0.954,0.956,0.957,0.959,0.962,0.956,0.962],\"type\":\"scatter\",\"hovertemplate\":\"Year: %{x}\\u003cbr\\u003eHDI: %{y}\"},{\"line\":{\"color\":\"rgb(111,253,85)\",\"width\":0.5},\"mode\":\"lines\",\"name\":\"Syrian Arab Republic\",\"showlegend\":true,\"x\":[\"1990\",\"1991\",\"1992\",\"1993\",\"1994\",\"1995\",\"1996\",\"1997\",\"1998\",\"1999\",\"2000\",\"2001\",\"2002\",\"2003\",\"2004\",\"2005\",\"2006\",\"2007\",\"2008\",\"2009\",\"2010\",\"2011\",\"2012\",\"2013\",\"2014\",\"2015\",\"2016\",\"2017\",\"2018\",\"2019\",\"2020\",\"2021\"],\"y\":[0.562,0.567,0.573,0.574,0.577,0.579,0.582,0.585,0.587,0.586,0.587,0.596,0.603,0.615,0.627,0.64,0.65,0.659,0.653,0.659,0.66,0.691,0.65,0.573,0.553,0.556,0.56,0.572,0.58,0.584,0.577,0.577],\"type\":\"scatter\",\"hovertemplate\":\"Year: %{x}\\u003cbr\\u003eHDI: %{y}\"},{\"line\":{\"color\":\"rgb(69,238,111)\",\"width\":0.5},\"mode\":\"lines\",\"name\":\"Tajikistan\",\"showlegend\":true,\"x\":[\"1990\",\"1991\",\"1992\",\"1993\",\"1994\",\"1995\",\"1996\",\"1997\",\"1998\",\"1999\",\"2000\",\"2001\",\"2002\",\"2003\",\"2004\",\"2005\",\"2006\",\"2007\",\"2008\",\"2009\",\"2010\",\"2011\",\"2012\",\"2013\",\"2014\",\"2015\",\"2016\",\"2017\",\"2018\",\"2019\",\"2020\",\"2021\"],\"y\":[0.628,0.622,0.57,0.542,0.547,0.547,0.531,0.54,0.547,0.553,0.56,0.569,0.579,0.594,0.606,0.612,0.622,0.625,0.639,0.633,0.636,0.635,0.643,0.656,0.656,0.657,0.66,0.665,0.671,0.676,0.664,0.685],\"type\":\"scatter\",\"hovertemplate\":\"Year: %{x}\\u003cbr\\u003eHDI: %{y}\"},{\"line\":{\"color\":\"rgb(246,169,17)\",\"width\":0.5},\"mode\":\"lines\",\"name\":\"Tanzania\",\"showlegend\":true,\"x\":[\"1990\",\"1991\",\"1992\",\"1993\",\"1994\",\"1995\",\"1996\",\"1997\",\"1998\",\"1999\",\"2000\",\"2001\",\"2002\",\"2003\",\"2004\",\"2005\",\"2006\",\"2007\",\"2008\",\"2009\",\"2010\",\"2011\",\"2012\",\"2013\",\"2014\",\"2015\",\"2016\",\"2017\",\"2018\",\"2019\",\"2020\",\"2021\"],\"y\":[0.371,0.371,0.369,0.369,0.369,0.37,0.372,0.373,0.38,0.39,0.398,0.406,0.416,0.426,0.436,0.446,0.456,0.465,0.473,0.482,0.493,0.499,0.504,0.51,0.515,0.52,0.524,0.528,0.538,0.548,0.548,0.549],\"type\":\"scatter\",\"hovertemplate\":\"Year: %{x}\\u003cbr\\u003eHDI: %{y}\"},{\"line\":{\"color\":\"rgb(97,250,93)\",\"width\":0.5},\"mode\":\"lines\",\"name\":\"Thailand\",\"showlegend\":true,\"x\":[\"1990\",\"1991\",\"1992\",\"1993\",\"1994\",\"1995\",\"1996\",\"1997\",\"1998\",\"1999\",\"2000\",\"2001\",\"2002\",\"2003\",\"2004\",\"2005\",\"2006\",\"2007\",\"2008\",\"2009\",\"2010\",\"2011\",\"2012\",\"2013\",\"2014\",\"2015\",\"2016\",\"2017\",\"2018\",\"2019\",\"2020\",\"2021\"],\"y\":[0.576,0.585,0.595,0.604,0.613,0.619,0.628,0.635,0.64,0.646,0.653,0.664,0.676,0.687,0.697,0.706,0.712,0.724,0.727,0.73,0.737,0.743,0.746,0.747,0.778,0.781,0.785,0.79,0.795,0.804,0.802,0.8],\"type\":\"scatter\",\"hovertemplate\":\"Year: %{x}\\u003cbr\\u003eHDI: %{y}\"},{\"line\":{\"color\":\"rgb(255,180,20)\",\"width\":0.5},\"mode\":\"lines\",\"name\":\"DRC\",\"showlegend\":true,\"x\":[\"1990\",\"1991\",\"1992\",\"1993\",\"1994\",\"1995\",\"1996\",\"1997\",\"1998\",\"1999\",\"2000\",\"2001\",\"2002\",\"2003\",\"2004\",\"2005\",\"2006\",\"2007\",\"2008\",\"2009\",\"2010\",\"2011\",\"2012\",\"2013\",\"2014\",\"2015\",\"2016\",\"2017\",\"2018\",\"2019\",\"2020\",\"2021\"],\"y\":[0.386,0.384,0.38,0.375,0.371,0.373,0.372,0.374,0.371,0.368,0.376,0.374,0.378,0.384,0.39,0.395,0.401,0.406,0.416,0.421,0.429,0.438,0.44,0.446,0.455,0.463,0.472,0.475,0.48,0.482,0.479,0.479],\"type\":\"scatter\",\"hovertemplate\":\"Year: %{x}\\u003cbr\\u003eHDI: %{y}\"},{\"line\":{\"color\":\"rgb(231,205,28)\",\"width\":0.5},\"mode\":\"lines\",\"name\":\"Togo\",\"showlegend\":true,\"x\":[\"1990\",\"1991\",\"1992\",\"1993\",\"1994\",\"1995\",\"1996\",\"1997\",\"1998\",\"1999\",\"2000\",\"2001\",\"2002\",\"2003\",\"2004\",\"2005\",\"2006\",\"2007\",\"2008\",\"2009\",\"2010\",\"2011\",\"2012\",\"2013\",\"2014\",\"2015\",\"2016\",\"2017\",\"2018\",\"2019\",\"2020\",\"2021\"],\"y\":[0.41,0.414,0.406,0.398,0.404,0.419,0.429,0.438,0.439,0.443,0.446,0.449,0.454,0.46,0.459,0.458,0.464,0.457,0.464,0.472,0.477,0.487,0.491,0.499,0.505,0.514,0.518,0.524,0.528,0.535,0.535,0.539],\"type\":\"scatter\",\"hovertemplate\":\"Year: %{x}\\u003cbr\\u003eHDI: %{y}\"},{\"line\":{\"color\":\"rgb(45,222,127)\",\"width\":0.5},\"mode\":\"lines\",\"name\":\"Tonga\",\"showlegend\":true,\"x\":[\"1990\",\"1991\",\"1992\",\"1993\",\"1994\",\"1995\",\"1996\",\"1997\",\"1998\",\"1999\",\"2000\",\"2001\",\"2002\",\"2003\",\"2004\",\"2005\",\"2006\",\"2007\",\"2008\",\"2009\",\"2010\",\"2011\",\"2012\",\"2013\",\"2014\",\"2015\",\"2016\",\"2017\",\"2018\",\"2019\",\"2020\",\"2021\"],\"y\":[0.645,0.652,0.656,0.663,0.672,0.676,0.678,0.68,0.685,0.688,0.685,0.688,0.694,0.701,0.702,0.702,0.703,0.704,0.709,0.708,0.713,0.72,0.723,0.725,0.727,0.73,0.735,0.74,0.742,0.744,0.745,0.745],\"type\":\"scatter\",\"hovertemplate\":\"Year: %{x}\\u003cbr\\u003eHDI: %{y}\"},{\"line\":{\"color\":\"rgb(35,214,133)\",\"width\":0.5},\"mode\":\"lines\",\"name\":\"Trinidad and Tobago\",\"showlegend\":true,\"x\":[\"1990\",\"1991\",\"1992\",\"1993\",\"1994\",\"1995\",\"1996\",\"1997\",\"1998\",\"1999\",\"2000\",\"2001\",\"2002\",\"2003\",\"2004\",\"2005\",\"2006\",\"2007\",\"2008\",\"2009\",\"2010\",\"2011\",\"2012\",\"2013\",\"2014\",\"2015\",\"2016\",\"2017\",\"2018\",\"2019\",\"2020\",\"2021\"],\"y\":[0.66,0.665,0.663,0.667,0.67,0.678,0.684,0.69,0.7,0.703,0.712,0.721,0.732,0.737,0.752,0.758,0.767,0.773,0.777,0.787,0.79,0.794,0.8,0.806,0.809,0.816,0.815,0.817,0.815,0.821,0.818,0.81],\"type\":\"scatter\",\"hovertemplate\":\"Year: %{x}\\u003cbr\\u003eHDI: %{y}\"},{\"line\":{\"color\":\"rgb(101,251,91)\",\"width\":0.5},\"mode\":\"lines\",\"name\":\"Tunisia\",\"showlegend\":true,\"x\":[\"1990\",\"1991\",\"1992\",\"1993\",\"1994\",\"1995\",\"1996\",\"1997\",\"1998\",\"1999\",\"2000\",\"2001\",\"2002\",\"2003\",\"2004\",\"2005\",\"2006\",\"2007\",\"2008\",\"2009\",\"2010\",\"2011\",\"2012\",\"2013\",\"2014\",\"2015\",\"2016\",\"2017\",\"2018\",\"2019\",\"2020\",\"2021\"],\"y\":[0.576,0.581,0.588,0.594,0.604,0.611,0.62,0.627,0.639,0.65,0.658,0.665,0.67,0.677,0.687,0.694,0.7,0.706,0.711,0.715,0.72,0.722,0.724,0.727,0.73,0.733,0.737,0.74,0.743,0.745,0.737,0.731],\"type\":\"scatter\",\"hovertemplate\":\"Year: %{x}\\u003cbr\\u003eHDI: %{y}\"},{\"line\":{\"color\":\"rgb(83,245,102)\",\"width\":0.5},\"mode\":\"lines\",\"name\":\"Turkey\",\"showlegend\":true,\"x\":[\"1990\",\"1991\",\"1992\",\"1993\",\"1994\",\"1995\",\"1996\",\"1997\",\"1998\",\"1999\",\"2000\",\"2001\",\"2002\",\"2003\",\"2004\",\"2005\",\"2006\",\"2007\",\"2008\",\"2009\",\"2010\",\"2011\",\"2012\",\"2013\",\"2014\",\"2015\",\"2016\",\"2017\",\"2018\",\"2019\",\"2020\",\"2021\"],\"y\":[0.6,0.604,0.61,0.617,0.618,0.625,0.633,0.641,0.652,0.655,0.67,0.674,0.684,0.69,0.695,0.7,0.71,0.717,0.721,0.728,0.749,0.762,0.769,0.799,0.809,0.817,0.823,0.833,0.839,0.842,0.833,0.838],\"type\":\"scatter\",\"hovertemplate\":\"Year: %{x}\\u003cbr\\u003eHDI: %{y}\"},{\"line\":{\"color\":\"rgb(115,254,83)\",\"width\":0.5},\"mode\":\"lines\",\"name\":\"Tuvalu\",\"showlegend\":true,\"x\":[\"1990\",\"1991\",\"1992\",\"1993\",\"1994\",\"1995\",\"1996\",\"1997\",\"1998\",\"1999\",\"2000\",\"2001\",\"2002\",\"2003\",\"2004\",\"2005\",\"2006\",\"2007\",\"2008\",\"2009\",\"2010\",\"2011\",\"2012\",\"2013\",\"2014\",\"2015\",\"2016\",\"2017\",\"2018\",\"2019\",\"2020\",\"2021\"],\"y\":[0.559,0.562,0.558,0.57,0.577,0.575,0.573,0.579,0.589,0.592,0.597,0.61,0.62,0.605,0.61,0.61,0.611,0.613,0.618,0.615,0.616,0.616,0.624,0.628,0.627,0.643,0.636,0.634,0.642,0.635,0.639,0.641],\"type\":\"scatter\",\"hovertemplate\":\"Year: %{x}\\u003cbr\\u003eHDI: %{y}\"},{\"line\":{\"color\":\"rgb(216,131,10)\",\"width\":0.5},\"mode\":\"lines\",\"name\":\"Uganda\",\"showlegend\":true,\"x\":[\"1990\",\"1991\",\"1992\",\"1993\",\"1994\",\"1995\",\"1996\",\"1997\",\"1998\",\"1999\",\"2000\",\"2001\",\"2002\",\"2003\",\"2004\",\"2005\",\"2006\",\"2007\",\"2008\",\"2009\",\"2010\",\"2011\",\"2012\",\"2013\",\"2014\",\"2015\",\"2016\",\"2017\",\"2018\",\"2019\",\"2020\",\"2021\"],\"y\":[0.329,0.331,0.325,0.332,0.336,0.342,0.354,0.364,0.373,0.385,0.394,0.404,0.417,0.429,0.444,0.454,0.466,0.476,0.484,0.494,0.502,0.506,0.504,0.509,0.512,0.517,0.519,0.52,0.522,0.525,0.524,0.525],\"type\":\"scatter\",\"hovertemplate\":\"Year: %{x}\\u003cbr\\u003eHDI: %{y}\"},{\"line\":{\"color\":\"rgb(1,167,166)\",\"width\":0.5},\"mode\":\"lines\",\"name\":\"Ukraine\",\"showlegend\":true,\"x\":[\"1990\",\"1991\",\"1992\",\"1993\",\"1994\",\"1995\",\"1996\",\"1997\",\"1998\",\"1999\",\"2000\",\"2001\",\"2002\",\"2003\",\"2004\",\"2005\",\"2006\",\"2007\",\"2008\",\"2009\",\"2010\",\"2011\",\"2012\",\"2013\",\"2014\",\"2015\",\"2016\",\"2017\",\"2018\",\"2019\",\"2020\",\"2021\"],\"y\":[0.729,0.723,0.715,0.703,0.689,0.684,0.685,0.689,0.696,0.698,0.7,0.715,0.722,0.732,0.74,0.743,0.751,0.757,0.761,0.758,0.764,0.769,0.773,0.773,0.773,0.774,0.779,0.782,0.783,0.786,0.775,0.773],\"type\":\"scatter\",\"hovertemplate\":\"Year: %{x}\\u003cbr\\u003eHDI: %{y}\"},{\"line\":{\"color\":\"rgb(1,152,175)\",\"width\":0.5},\"mode\":\"lines\",\"name\":\"United Arab Emirates\",\"showlegend\":true,\"x\":[\"1990\",\"1991\",\"1992\",\"1993\",\"1994\",\"1995\",\"1996\",\"1997\",\"1998\",\"1999\",\"2000\",\"2001\",\"2002\",\"2003\",\"2004\",\"2005\",\"2006\",\"2007\",\"2008\",\"2009\",\"2010\",\"2011\",\"2012\",\"2013\",\"2014\",\"2015\",\"2016\",\"2017\",\"2018\",\"2019\",\"2020\",\"2021\"],\"y\":[0.728,0.739,0.742,0.748,0.755,0.762,0.767,0.773,0.779,0.787,0.796,0.8,0.804,0.814,0.818,0.822,0.827,0.831,0.834,0.833,0.835,0.84,0.846,0.852,0.859,0.865,0.87,0.897,0.909,0.92,0.912,0.911],\"type\":\"scatter\",\"hovertemplate\":\"Year: %{x}\\u003cbr\\u003eHDI: %{y}\"},{\"line\":{\"color\":\"rgb(1,77,216)\",\"width\":0.5},\"mode\":\"lines\",\"name\":\"United Kingdom\",\"showlegend\":true,\"x\":[\"1990\",\"1991\",\"1992\",\"1993\",\"1994\",\"1995\",\"1996\",\"1997\",\"1998\",\"1999\",\"2000\",\"2001\",\"2002\",\"2003\",\"2004\",\"2005\",\"2006\",\"2007\",\"2008\",\"2009\",\"2010\",\"2011\",\"2012\",\"2013\",\"2014\",\"2015\",\"2016\",\"2017\",\"2018\",\"2019\",\"2020\",\"2021\"],\"y\":[0.804,0.809,0.816,0.82,0.828,0.828,0.834,0.842,0.848,0.855,0.862,0.868,0.873,0.878,0.889,0.895,0.894,0.897,0.9,0.906,0.912,0.908,0.909,0.922,0.924,0.924,0.927,0.93,0.929,0.935,0.924,0.929],\"type\":\"scatter\",\"hovertemplate\":\"Year: %{x}\\u003cbr\\u003eHDI: %{y}\"},{\"line\":{\"color\":\"rgb(1,0,255)\",\"width\":0.5},\"mode\":\"lines\",\"name\":\"United States\",\"showlegend\":true,\"x\":[\"1990\",\"1991\",\"1992\",\"1993\",\"1994\",\"1995\",\"1996\",\"1997\",\"1998\",\"1999\",\"2000\",\"2001\",\"2002\",\"2003\",\"2004\",\"2005\",\"2006\",\"2007\",\"2008\",\"2009\",\"2010\",\"2011\",\"2012\",\"2013\",\"2014\",\"2015\",\"2016\",\"2017\",\"2018\",\"2019\",\"2020\",\"2021\"],\"y\":[0.872,0.873,0.878,0.88,0.884,0.885,0.887,0.89,0.893,0.889,0.891,0.892,0.893,0.895,0.898,0.9,0.904,0.906,0.906,0.908,0.911,0.913,0.916,0.917,0.919,0.92,0.922,0.924,0.927,0.93,0.92,0.921],\"type\":\"scatter\",\"hovertemplate\":\"Year: %{x}\\u003cbr\\u003eHDI: %{y}\"},{\"line\":{\"color\":\"rgb(3,183,156)\",\"width\":0.5},\"mode\":\"lines\",\"name\":\"Uruguay\",\"showlegend\":true,\"x\":[\"1990\",\"1991\",\"1992\",\"1993\",\"1994\",\"1995\",\"1996\",\"1997\",\"1998\",\"1999\",\"2000\",\"2001\",\"2002\",\"2003\",\"2004\",\"2005\",\"2006\",\"2007\",\"2008\",\"2009\",\"2010\",\"2011\",\"2012\",\"2013\",\"2014\",\"2015\",\"2016\",\"2017\",\"2018\",\"2019\",\"2020\",\"2021\"],\"y\":[0.701,0.705,0.708,0.711,0.716,0.717,0.723,0.735,0.744,0.747,0.753,0.76,0.764,0.77,0.77,0.768,0.768,0.771,0.774,0.78,0.787,0.794,0.798,0.805,0.808,0.811,0.815,0.819,0.819,0.821,0.821,0.809],\"type\":\"scatter\",\"hovertemplate\":\"Year: %{x}\\u003cbr\\u003eHDI: %{y}\"},{\"line\":{\"color\":\"rgb(31,210,136)\",\"width\":0.5},\"mode\":\"lines\",\"name\":\"Venezuela\",\"showlegend\":true,\"x\":[\"1990\",\"1991\",\"1992\",\"1993\",\"1994\",\"1995\",\"1996\",\"1997\",\"1998\",\"1999\",\"2000\",\"2001\",\"2002\",\"2003\",\"2004\",\"2005\",\"2006\",\"2007\",\"2008\",\"2009\",\"2010\",\"2011\",\"2012\",\"2013\",\"2014\",\"2015\",\"2016\",\"2017\",\"2018\",\"2019\",\"2020\",\"2021\"],\"y\":[0.659,0.669,0.675,0.676,0.675,0.679,0.679,0.685,0.686,0.682,0.684,0.689,0.699,0.693,0.707,0.721,0.732,0.749,0.756,0.756,0.755,0.762,0.767,0.774,0.77,0.767,0.757,0.744,0.738,0.721,0.695,0.691],\"type\":\"scatter\",\"hovertemplate\":\"Year: %{x}\\u003cbr\\u003eHDI: %{y}\"},{\"line\":{\"color\":\"rgb(169,246,54)\",\"width\":0.5},\"mode\":\"lines\",\"name\":\"Viet Nam\",\"showlegend\":true,\"x\":[\"1990\",\"1991\",\"1992\",\"1993\",\"1994\",\"1995\",\"1996\",\"1997\",\"1998\",\"1999\",\"2000\",\"2001\",\"2002\",\"2003\",\"2004\",\"2005\",\"2006\",\"2007\",\"2008\",\"2009\",\"2010\",\"2011\",\"2012\",\"2013\",\"2014\",\"2015\",\"2016\",\"2017\",\"2018\",\"2019\",\"2020\",\"2021\"],\"y\":[0.482,0.493,0.504,0.515,0.526,0.539,0.55,0.56,0.569,0.578,0.588,0.598,0.608,0.617,0.625,0.633,0.641,0.648,0.653,0.658,0.663,0.668,0.672,0.676,0.68,0.684,0.688,0.692,0.697,0.703,0.71,0.703],\"type\":\"scatter\",\"hovertemplate\":\"Year: %{x}\\u003cbr\\u003eHDI: %{y}\"},{\"line\":{\"color\":\"rgb(253,183,21)\",\"width\":0.5},\"mode\":\"lines\",\"name\":\"Yemen\",\"showlegend\":true,\"x\":[\"1990\",\"1991\",\"1992\",\"1993\",\"1994\",\"1995\",\"1996\",\"1997\",\"1998\",\"1999\",\"2000\",\"2001\",\"2002\",\"2003\",\"2004\",\"2005\",\"2006\",\"2007\",\"2008\",\"2009\",\"2010\",\"2011\",\"2012\",\"2013\",\"2014\",\"2015\",\"2016\",\"2017\",\"2018\",\"2019\",\"2020\",\"2021\"],\"y\":[0.383,0.386,0.391,0.397,0.399,0.409,0.419,0.427,0.435,0.441,0.45,0.46,0.468,0.476,0.483,0.489,0.494,0.498,0.501,0.506,0.51,0.509,0.512,0.513,0.505,0.477,0.467,0.459,0.459,0.461,0.46,0.455],\"type\":\"scatter\",\"hovertemplate\":\"Year: %{x}\\u003cbr\\u003eHDI: %{y}\"},{\"line\":{\"color\":\"rgb(235,201,27)\",\"width\":0.5},\"mode\":\"lines\",\"name\":\"Zambia\",\"showlegend\":true,\"x\":[\"1990\",\"1991\",\"1992\",\"1993\",\"1994\",\"1995\",\"1996\",\"1997\",\"1998\",\"1999\",\"2000\",\"2001\",\"2002\",\"2003\",\"2004\",\"2005\",\"2006\",\"2007\",\"2008\",\"2009\",\"2010\",\"2011\",\"2012\",\"2013\",\"2014\",\"2015\",\"2016\",\"2017\",\"2018\",\"2019\",\"2020\",\"2021\"],\"y\":[0.412,0.408,0.408,0.414,0.411,0.413,0.414,0.413,0.411,0.413,0.418,0.425,0.434,0.448,0.459,0.472,0.484,0.495,0.506,0.519,0.529,0.534,0.548,0.554,0.557,0.562,0.564,0.568,0.572,0.575,0.57,0.565],\"type\":\"scatter\",\"hovertemplate\":\"Year: %{x}\\u003cbr\\u003eHDI: %{y}\"},{\"line\":{\"color\":\"rgb(155,251,61)\",\"width\":0.5},\"mode\":\"lines\",\"name\":\"Zimbabwe\",\"showlegend\":true,\"x\":[\"1990\",\"1991\",\"1992\",\"1993\",\"1994\",\"1995\",\"1996\",\"1997\",\"1998\",\"1999\",\"2000\",\"2001\",\"2002\",\"2003\",\"2004\",\"2005\",\"2006\",\"2007\",\"2008\",\"2009\",\"2010\",\"2011\",\"2012\",\"2013\",\"2014\",\"2015\",\"2016\",\"2017\",\"2018\",\"2019\",\"2020\",\"2021\"],\"y\":[0.509,0.512,0.498,0.491,0.486,0.477,0.476,0.472,0.466,0.457,0.452,0.441,0.452,0.439,0.446,0.448,0.452,0.454,0.454,0.486,0.512,0.535,0.557,0.567,0.576,0.582,0.588,0.594,0.602,0.601,0.6,0.593],\"type\":\"scatter\",\"hovertemplate\":\"Year: %{x}\\u003cbr\\u003eHDI: %{y}\"},{\"line\":{\"color\":\"black\",\"width\":3},\"mode\":\"lines\",\"name\":\"World Mean\",\"x\":[\"1990\",\"1991\",\"1992\",\"1993\",\"1994\",\"1995\",\"1996\",\"1997\",\"1998\",\"1999\",\"2000\",\"2001\",\"2002\",\"2003\",\"2004\",\"2005\",\"2006\",\"2007\",\"2008\",\"2009\",\"2010\",\"2011\",\"2012\",\"2013\",\"2014\",\"2015\",\"2016\",\"2017\",\"2018\",\"2019\",\"2020\",\"2021\"],\"y\":[0.5992765957446803,0.6019787234042552,0.6045248226950357,0.6085035460992905,0.6134113475177297,0.6181773049645392,0.6237801418439717,0.6290638297872341,0.634489361702128,0.6395248226950355,0.6448226950354614,0.6504822695035464,0.6561489361702125,0.6616170212765954,0.6679929078014183,0.6742340425531912,0.680631205673759,0.6869007092198584,0.6922127659574472,0.6961702127659577,0.7014822695035459,0.7073404255319148,0.7124468085106382,0.7174397163120565,0.7220000000000002,0.7260354609929075,0.7299361702127657,0.7337659574468085,0.7374042553191488,0.7411489361702133,0.7356241134751772,0.7346312056737591],\"type\":\"scatter\",\"hovertemplate\":\"Year: %{x}\\u003cbr\\u003eHDI: %{y}\"}],                        {\"template\":{\"data\":{\"histogram2dcontour\":[{\"type\":\"histogram2dcontour\",\"colorbar\":{\"outlinewidth\":0,\"ticks\":\"\"},\"colorscale\":[[0.0,\"#0d0887\"],[0.1111111111111111,\"#46039f\"],[0.2222222222222222,\"#7201a8\"],[0.3333333333333333,\"#9c179e\"],[0.4444444444444444,\"#bd3786\"],[0.5555555555555556,\"#d8576b\"],[0.6666666666666666,\"#ed7953\"],[0.7777777777777778,\"#fb9f3a\"],[0.8888888888888888,\"#fdca26\"],[1.0,\"#f0f921\"]]}],\"choropleth\":[{\"type\":\"choropleth\",\"colorbar\":{\"outlinewidth\":0,\"ticks\":\"\"}}],\"histogram2d\":[{\"type\":\"histogram2d\",\"colorbar\":{\"outlinewidth\":0,\"ticks\":\"\"},\"colorscale\":[[0.0,\"#0d0887\"],[0.1111111111111111,\"#46039f\"],[0.2222222222222222,\"#7201a8\"],[0.3333333333333333,\"#9c179e\"],[0.4444444444444444,\"#bd3786\"],[0.5555555555555556,\"#d8576b\"],[0.6666666666666666,\"#ed7953\"],[0.7777777777777778,\"#fb9f3a\"],[0.8888888888888888,\"#fdca26\"],[1.0,\"#f0f921\"]]}],\"heatmap\":[{\"type\":\"heatmap\",\"colorbar\":{\"outlinewidth\":0,\"ticks\":\"\"},\"colorscale\":[[0.0,\"#0d0887\"],[0.1111111111111111,\"#46039f\"],[0.2222222222222222,\"#7201a8\"],[0.3333333333333333,\"#9c179e\"],[0.4444444444444444,\"#bd3786\"],[0.5555555555555556,\"#d8576b\"],[0.6666666666666666,\"#ed7953\"],[0.7777777777777778,\"#fb9f3a\"],[0.8888888888888888,\"#fdca26\"],[1.0,\"#f0f921\"]]}],\"heatmapgl\":[{\"type\":\"heatmapgl\",\"colorbar\":{\"outlinewidth\":0,\"ticks\":\"\"},\"colorscale\":[[0.0,\"#0d0887\"],[0.1111111111111111,\"#46039f\"],[0.2222222222222222,\"#7201a8\"],[0.3333333333333333,\"#9c179e\"],[0.4444444444444444,\"#bd3786\"],[0.5555555555555556,\"#d8576b\"],[0.6666666666666666,\"#ed7953\"],[0.7777777777777778,\"#fb9f3a\"],[0.8888888888888888,\"#fdca26\"],[1.0,\"#f0f921\"]]}],\"contourcarpet\":[{\"type\":\"contourcarpet\",\"colorbar\":{\"outlinewidth\":0,\"ticks\":\"\"}}],\"contour\":[{\"type\":\"contour\",\"colorbar\":{\"outlinewidth\":0,\"ticks\":\"\"},\"colorscale\":[[0.0,\"#0d0887\"],[0.1111111111111111,\"#46039f\"],[0.2222222222222222,\"#7201a8\"],[0.3333333333333333,\"#9c179e\"],[0.4444444444444444,\"#bd3786\"],[0.5555555555555556,\"#d8576b\"],[0.6666666666666666,\"#ed7953\"],[0.7777777777777778,\"#fb9f3a\"],[0.8888888888888888,\"#fdca26\"],[1.0,\"#f0f921\"]]}],\"surface\":[{\"type\":\"surface\",\"colorbar\":{\"outlinewidth\":0,\"ticks\":\"\"},\"colorscale\":[[0.0,\"#0d0887\"],[0.1111111111111111,\"#46039f\"],[0.2222222222222222,\"#7201a8\"],[0.3333333333333333,\"#9c179e\"],[0.4444444444444444,\"#bd3786\"],[0.5555555555555556,\"#d8576b\"],[0.6666666666666666,\"#ed7953\"],[0.7777777777777778,\"#fb9f3a\"],[0.8888888888888888,\"#fdca26\"],[1.0,\"#f0f921\"]]}],\"mesh3d\":[{\"type\":\"mesh3d\",\"colorbar\":{\"outlinewidth\":0,\"ticks\":\"\"}}],\"scatter\":[{\"fillpattern\":{\"fillmode\":\"overlay\",\"size\":10,\"solidity\":0.2},\"type\":\"scatter\"}],\"parcoords\":[{\"type\":\"parcoords\",\"line\":{\"colorbar\":{\"outlinewidth\":0,\"ticks\":\"\"}}}],\"scatterpolargl\":[{\"type\":\"scatterpolargl\",\"marker\":{\"colorbar\":{\"outlinewidth\":0,\"ticks\":\"\"}}}],\"bar\":[{\"error_x\":{\"color\":\"#2a3f5f\"},\"error_y\":{\"color\":\"#2a3f5f\"},\"marker\":{\"line\":{\"color\":\"#E5ECF6\",\"width\":0.5},\"pattern\":{\"fillmode\":\"overlay\",\"size\":10,\"solidity\":0.2}},\"type\":\"bar\"}],\"scattergeo\":[{\"type\":\"scattergeo\",\"marker\":{\"colorbar\":{\"outlinewidth\":0,\"ticks\":\"\"}}}],\"scatterpolar\":[{\"type\":\"scatterpolar\",\"marker\":{\"colorbar\":{\"outlinewidth\":0,\"ticks\":\"\"}}}],\"histogram\":[{\"marker\":{\"pattern\":{\"fillmode\":\"overlay\",\"size\":10,\"solidity\":0.2}},\"type\":\"histogram\"}],\"scattergl\":[{\"type\":\"scattergl\",\"marker\":{\"colorbar\":{\"outlinewidth\":0,\"ticks\":\"\"}}}],\"scatter3d\":[{\"type\":\"scatter3d\",\"line\":{\"colorbar\":{\"outlinewidth\":0,\"ticks\":\"\"}},\"marker\":{\"colorbar\":{\"outlinewidth\":0,\"ticks\":\"\"}}}],\"scattermapbox\":[{\"type\":\"scattermapbox\",\"marker\":{\"colorbar\":{\"outlinewidth\":0,\"ticks\":\"\"}}}],\"scatterternary\":[{\"type\":\"scatterternary\",\"marker\":{\"colorbar\":{\"outlinewidth\":0,\"ticks\":\"\"}}}],\"scattercarpet\":[{\"type\":\"scattercarpet\",\"marker\":{\"colorbar\":{\"outlinewidth\":0,\"ticks\":\"\"}}}],\"carpet\":[{\"aaxis\":{\"endlinecolor\":\"#2a3f5f\",\"gridcolor\":\"white\",\"linecolor\":\"white\",\"minorgridcolor\":\"white\",\"startlinecolor\":\"#2a3f5f\"},\"baxis\":{\"endlinecolor\":\"#2a3f5f\",\"gridcolor\":\"white\",\"linecolor\":\"white\",\"minorgridcolor\":\"white\",\"startlinecolor\":\"#2a3f5f\"},\"type\":\"carpet\"}],\"table\":[{\"cells\":{\"fill\":{\"color\":\"#EBF0F8\"},\"line\":{\"color\":\"white\"}},\"header\":{\"fill\":{\"color\":\"#C8D4E3\"},\"line\":{\"color\":\"white\"}},\"type\":\"table\"}],\"barpolar\":[{\"marker\":{\"line\":{\"color\":\"#E5ECF6\",\"width\":0.5},\"pattern\":{\"fillmode\":\"overlay\",\"size\":10,\"solidity\":0.2}},\"type\":\"barpolar\"}],\"pie\":[{\"automargin\":true,\"type\":\"pie\"}]},\"layout\":{\"autotypenumbers\":\"strict\",\"colorway\":[\"#636efa\",\"#EF553B\",\"#00cc96\",\"#ab63fa\",\"#FFA15A\",\"#19d3f3\",\"#FF6692\",\"#B6E880\",\"#FF97FF\",\"#FECB52\"],\"font\":{\"color\":\"#2a3f5f\"},\"hovermode\":\"closest\",\"hoverlabel\":{\"align\":\"left\"},\"paper_bgcolor\":\"white\",\"plot_bgcolor\":\"#E5ECF6\",\"polar\":{\"bgcolor\":\"#E5ECF6\",\"angularaxis\":{\"gridcolor\":\"white\",\"linecolor\":\"white\",\"ticks\":\"\"},\"radialaxis\":{\"gridcolor\":\"white\",\"linecolor\":\"white\",\"ticks\":\"\"}},\"ternary\":{\"bgcolor\":\"#E5ECF6\",\"aaxis\":{\"gridcolor\":\"white\",\"linecolor\":\"white\",\"ticks\":\"\"},\"baxis\":{\"gridcolor\":\"white\",\"linecolor\":\"white\",\"ticks\":\"\"},\"caxis\":{\"gridcolor\":\"white\",\"linecolor\":\"white\",\"ticks\":\"\"}},\"coloraxis\":{\"colorbar\":{\"outlinewidth\":0,\"ticks\":\"\"}},\"colorscale\":{\"sequential\":[[0.0,\"#0d0887\"],[0.1111111111111111,\"#46039f\"],[0.2222222222222222,\"#7201a8\"],[0.3333333333333333,\"#9c179e\"],[0.4444444444444444,\"#bd3786\"],[0.5555555555555556,\"#d8576b\"],[0.6666666666666666,\"#ed7953\"],[0.7777777777777778,\"#fb9f3a\"],[0.8888888888888888,\"#fdca26\"],[1.0,\"#f0f921\"]],\"sequentialminus\":[[0.0,\"#0d0887\"],[0.1111111111111111,\"#46039f\"],[0.2222222222222222,\"#7201a8\"],[0.3333333333333333,\"#9c179e\"],[0.4444444444444444,\"#bd3786\"],[0.5555555555555556,\"#d8576b\"],[0.6666666666666666,\"#ed7953\"],[0.7777777777777778,\"#fb9f3a\"],[0.8888888888888888,\"#fdca26\"],[1.0,\"#f0f921\"]],\"diverging\":[[0,\"#8e0152\"],[0.1,\"#c51b7d\"],[0.2,\"#de77ae\"],[0.3,\"#f1b6da\"],[0.4,\"#fde0ef\"],[0.5,\"#f7f7f7\"],[0.6,\"#e6f5d0\"],[0.7,\"#b8e186\"],[0.8,\"#7fbc41\"],[0.9,\"#4d9221\"],[1,\"#276419\"]]},\"xaxis\":{\"gridcolor\":\"white\",\"linecolor\":\"white\",\"ticks\":\"\",\"title\":{\"standoff\":15},\"zerolinecolor\":\"white\",\"automargin\":true,\"zerolinewidth\":2},\"yaxis\":{\"gridcolor\":\"white\",\"linecolor\":\"white\",\"ticks\":\"\",\"title\":{\"standoff\":15},\"zerolinecolor\":\"white\",\"automargin\":true,\"zerolinewidth\":2},\"scene\":{\"xaxis\":{\"backgroundcolor\":\"#E5ECF6\",\"gridcolor\":\"white\",\"linecolor\":\"white\",\"showbackground\":true,\"ticks\":\"\",\"zerolinecolor\":\"white\",\"gridwidth\":2},\"yaxis\":{\"backgroundcolor\":\"#E5ECF6\",\"gridcolor\":\"white\",\"linecolor\":\"white\",\"showbackground\":true,\"ticks\":\"\",\"zerolinecolor\":\"white\",\"gridwidth\":2},\"zaxis\":{\"backgroundcolor\":\"#E5ECF6\",\"gridcolor\":\"white\",\"linecolor\":\"white\",\"showbackground\":true,\"ticks\":\"\",\"zerolinecolor\":\"white\",\"gridwidth\":2}},\"shapedefaults\":{\"line\":{\"color\":\"#2a3f5f\"}},\"annotationdefaults\":{\"arrowcolor\":\"#2a3f5f\",\"arrowhead\":0,\"arrowwidth\":1},\"geo\":{\"bgcolor\":\"white\",\"landcolor\":\"#E5ECF6\",\"subunitcolor\":\"white\",\"showland\":true,\"showlakes\":true,\"lakecolor\":\"white\"},\"title\":{\"x\":0.05},\"mapbox\":{\"style\":\"light\"}}},\"legend\":{\"orientation\":\"v\",\"yanchor\":\"top\",\"y\":0.99,\"xanchor\":\"left\",\"x\":1},\"title\":{\"text\":\"Human Development Index (1990-2021)\"},\"xaxis\":{\"title\":{\"text\":\"Year\"},\"showgrid\":true,\"gridwidth\":1,\"gridcolor\":\"lightgrey\"},\"yaxis\":{\"title\":{\"text\":\"HDI\"},\"showgrid\":true,\"gridwidth\":1,\"gridcolor\":\"lightgrey\"},\"showlegend\":true,\"plot_bgcolor\":\"white\",\"autosize\":true,\"height\":800},                        {\"responsive\": true}                    ).then(function(){\n",
       "                            \n",
       "var gd = document.getElementById('e6bb33c2-4e70-486e-9311-df6f8bc5db3c');\n",
       "var x = new MutationObserver(function (mutations, observer) {{\n",
       "        var display = window.getComputedStyle(gd).display;\n",
       "        if (!display || display === 'none') {{\n",
       "            console.log([gd, 'removed!']);\n",
       "            Plotly.purge(gd);\n",
       "            observer.disconnect();\n",
       "        }}\n",
       "}});\n",
       "\n",
       "// Listen for the removal of the full notebook cells\n",
       "var notebookContainer = gd.closest('#notebook-container');\n",
       "if (notebookContainer) {{\n",
       "    x.observe(notebookContainer, {childList: true});\n",
       "}}\n",
       "\n",
       "// Listen for the clearing of the current output cell\n",
       "var outputEl = gd.closest('.output');\n",
       "if (outputEl) {{\n",
       "    x.observe(outputEl, {childList: true});\n",
       "}}\n",
       "\n",
       "                        })                };                });            </script>        </div>"
      ]
     },
     "metadata": {},
     "output_type": "display_data"
    }
   ],
   "source": [
    "HDI_full = pd.read_csv(\"datasets/Human Development Index.csv\")\n",
    "\n",
    "HDI_full = HDI_full.groupby('Country').first()\n",
    "\n",
    "columns = [\"Human Development Index (\" + str(i) + \")\" for i in range(1990, 2022)]\n",
    "\n",
    "# filter data 2021\n",
    "HDI = HDI_full[columns]\n",
    "\n",
    "# Rename some countries for clarity\n",
    "HDI.rename({'The Democratic Republic of the Congo':'DRC'}, inplace = True)\n",
    "\n",
    "# Identify the columns related to the Human Development Index from 1990 to 2022\n",
    "hdi_columns = [col for col in HDI.columns]\n",
    "\n",
    "# Filter the dataframe to include only the required columns\n",
    "filtered_HDI = HDI.dropna()\n",
    "\n",
    "hdi_data = filtered_HDI\n",
    "\n",
    "# Normalize the first year's HDI values for color mapping\n",
    "first_year = hdi_data.columns[1]\n",
    "first_year_values = hdi_data[first_year].values\n",
    "norm = plt.Normalize(first_year_values.min(), first_year_values.max())\n",
    "colors = plt.cm.rainbow(norm(first_year_values))\n",
    "\n",
    "# Create the plotly figure\n",
    "fig = go.Figure()\n",
    "\n",
    "# year legend\n",
    "years = [str(year) for year in range(1990, 2022)]\n",
    "\n",
    "# Add traces for each country with color mapping based on the first year's HDI value\n",
    "for i in range(len(hdi_data.index)):\n",
    "    index = i\n",
    "    row = hdi_data.iloc[i]\n",
    "    country_color = 'rgb(' + str(int(256 - (colors[index][0] * 255)))\\\n",
    "    + \",\" + str(int((colors[index][1] * 255))) + \",\" + str(int(256 - (colors[index][2] * 255))) + \")\"\n",
    "    country_data = row[:].dropna()\n",
    "    fig.add_trace(go.Scatter(\n",
    "        x=years,\n",
    "        y=country_data,\n",
    "        mode='lines',\n",
    "        line=dict(width=0.5, color=country_color),\n",
    "        showlegend=True,\n",
    "        name = hdi_data.index[i]\n",
    "    ))\n",
    "\n",
    "\n",
    "# Calculate and plot the world average HDI\n",
    "world_avg = hdi_data.iloc[:, :].mean(axis=0)\n",
    "fig.add_trace(go.Scatter(\n",
    "    x=years,\n",
    "    y=world_avg,\n",
    "    mode='lines',\n",
    "    line=dict(width=3, color='black'),\n",
    "    name='World Mean'\n",
    "))\n",
    "\n",
    "# Update layout\n",
    "fig.update_layout(\n",
    "    title='Human Development Index (1990-2021)',\n",
    "    xaxis_title='Year',\n",
    "    yaxis_title='HDI',\n",
    "    showlegend=True,\n",
    "    legend=dict(orientation=\"v\", yanchor=\"top\", y=0.99, xanchor=\"left\", x=1),\n",
    "    plot_bgcolor='white',\n",
    "    autosize = True,\n",
    "    height = 800\n",
    ")\n",
    "\n",
    "# Customize hover label formatting\n",
    "fig.update_traces(\n",
    "    hovertemplate='Year: %{x}<br>HDI: %{y}'\n",
    ")\n",
    "\n",
    "# Add gridlines\n",
    "fig.update_xaxes(showgrid=True, gridwidth=1, gridcolor='lightgrey')\n",
    "fig.update_yaxes(showgrid=True, gridwidth=1, gridcolor='lightgrey')\n",
    "\n",
    "# Show the figure\n",
    "fig.show()\n"
   ]
  },
  {
   "cell_type": "markdown",
   "id": "8e552d66-20ae-466c-a39e-dfe790af0e69",
   "metadata": {
    "editable": true,
    "slideshow": {
     "slide_type": ""
    },
    "tags": []
   },
   "source": [
    "## Analysis of Human Development Index and Crime Index\n",
    "\n",
    "The graph below somewhat displays the correlation between the HDI index and the crime index. As you can see, both the indexes are divided into meaningful subsections. To explain those in detail, the values ‘Low’, ‘Medium’ and ‘High’ correspond to crime indices under 40, 40-60 and above 60, respectively. The HDI index is also divided into equal parts. "
   ]
  },
  {
   "cell_type": "code",
   "execution_count": 3,
   "id": "ced71427-585b-47c2-bfe1-33c38ab81236",
   "metadata": {
    "editable": true,
    "slideshow": {
     "slide_type": ""
    },
    "tags": [
     "remove-input"
    ]
   },
   "outputs": [
    {
     "data": {
      "application/vnd.plotly.v1+json": {
       "config": {
        "plotlyServerURL": "https://plot.ly"
       },
       "data": [
        {
         "dimensions": [
          {
           "categoryarray": [
            "Low",
            "Medium",
            "High"
           ],
           "categoryorder": "array",
           "label": "Human Development Index (2021)",
           "values": [
            "Low",
            "Low",
            "Low",
            "Low",
            "Low",
            "Low",
            "Medium",
            "Low",
            "Medium",
            "Low",
            "Low",
            "Low",
            "Low",
            "Low",
            "Medium",
            "Medium",
            "Low",
            "Medium",
            "Low",
            "Medium",
            "Low",
            "Low",
            "Low",
            "Medium",
            "Medium",
            "Medium",
            "Low",
            "Low",
            "Medium",
            "Low",
            "Medium",
            "Medium",
            "Medium",
            "Medium",
            "Medium",
            "High",
            "Low",
            "Medium",
            "High",
            "Medium",
            "Low",
            "Low",
            "Medium",
            "Low",
            "Low",
            "Medium",
            "Low",
            "Low",
            "High",
            "Low",
            "High",
            "Medium",
            "Low",
            "Medium",
            "Low",
            "Low",
            "Medium",
            "High",
            "Low",
            "High",
            "High",
            "Medium",
            "High",
            "High",
            "Low",
            "Medium",
            "Low",
            "High",
            "High",
            "Medium",
            "Low",
            "Low",
            "Low",
            "High",
            "Medium",
            "Medium",
            "High",
            "Low",
            "Medium",
            "Medium",
            "Medium",
            "High",
            "Medium",
            "Medium",
            "Low",
            "High",
            "High",
            "High",
            "High",
            "Low",
            "Medium",
            "High",
            "High",
            "Medium",
            "High",
            "High",
            "High",
            "High",
            "Medium",
            "High",
            "Medium",
            "Medium",
            "Medium",
            "High",
            "High",
            "High",
            "High",
            "High",
            "High",
            "High",
            "High",
            "Low",
            "High",
            "High",
            "High",
            "Medium",
            "Medium",
            "High",
            "High",
            "High",
            "High",
            "Medium",
            "High",
            "High"
           ]
          },
          {
           "categoryarray": [
            "Low",
            "Medium",
            "High"
           ],
           "categoryorder": "array",
           "label": "crimeIndex",
           "values": [
            "High",
            "High",
            "High",
            "High",
            "High",
            "High",
            "High",
            "High",
            "High",
            "High",
            "High",
            "High",
            "High",
            "High",
            "High",
            "High",
            "High",
            "High",
            "High",
            "Medium",
            "Medium",
            "Medium",
            "Medium",
            "Medium",
            "Medium",
            "Medium",
            "Medium",
            "Medium",
            "Medium",
            "Medium",
            "Medium",
            "Medium",
            "Medium",
            "Medium",
            "Medium",
            "Medium",
            "Medium",
            "Medium",
            "Medium",
            "Medium",
            "Medium",
            "Medium",
            "Medium",
            "Medium",
            "Medium",
            "Medium",
            "Medium",
            "Medium",
            "Medium",
            "Medium",
            "Medium",
            "Medium",
            "Medium",
            "Medium",
            "Medium",
            "Medium",
            "Medium",
            "Medium",
            "Medium",
            "Medium",
            "Medium",
            "Medium",
            "Medium",
            "Medium",
            "Medium",
            "Medium",
            "Medium",
            "Medium",
            "Medium",
            "Medium",
            "Medium",
            "Medium",
            "Medium",
            "Medium",
            "Medium",
            "Medium",
            "Medium",
            "Low",
            "Low",
            "Low",
            "Low",
            "Low",
            "Low",
            "Low",
            "Low",
            "Low",
            "Low",
            "Low",
            "Low",
            "Low",
            "Low",
            "Low",
            "Low",
            "Low",
            "Low",
            "Low",
            "Low",
            "Low",
            "Low",
            "Low",
            "Low",
            "Low",
            "Low",
            "Low",
            "Low",
            "Low",
            "Low",
            "Low",
            "Low",
            "Low",
            "Low",
            "Low",
            "Low",
            "Low",
            "Low",
            "Low",
            "Low",
            "Low",
            "Low",
            "Low",
            "Low",
            "Low",
            "Low",
            "Low"
           ]
          }
         ],
         "line": {
          "color": [
           "#f673b0",
           "#f673b0",
           "#f673b0",
           "#f673b0",
           "#f673b0",
           "#f673b0",
           "#f673b0",
           "#f673b0",
           "#f673b0",
           "#f673b0",
           "#f673b0",
           "#f673b0",
           "#f673b0",
           "#f673b0",
           "#f673b0",
           "#f673b0",
           "#f673b0",
           "#f673b0",
           "#f673b0",
           "#fecb52",
           "#fecb52",
           "#fecb52",
           "#fecb52",
           "#fecb52",
           "#fecb52",
           "#fecb52",
           "#fecb52",
           "#fecb52",
           "#fecb52",
           "#fecb52",
           "#fecb52",
           "#fecb52",
           "#fecb52",
           "#fecb52",
           "#fecb52",
           "#fecb52",
           "#fecb52",
           "#fecb52",
           "#fecb52",
           "#fecb52",
           "#fecb52",
           "#fecb52",
           "#fecb52",
           "#fecb52",
           "#fecb52",
           "#fecb52",
           "#fecb52",
           "#fecb52",
           "#fecb52",
           "#fecb52",
           "#fecb52",
           "#fecb52",
           "#fecb52",
           "#fecb52",
           "#fecb52",
           "#fecb52",
           "#fecb52",
           "#fecb52",
           "#fecb52",
           "#fecb52",
           "#fecb52",
           "#fecb52",
           "#fecb52",
           "#fecb52",
           "#fecb52",
           "#fecb52",
           "#fecb52",
           "#fecb52",
           "#fecb52",
           "#fecb52",
           "#fecb52",
           "#fecb52",
           "#fecb52",
           "#fecb52",
           "#fecb52",
           "#fecb52",
           "#fecb52",
           "#00cc96",
           "#00cc96",
           "#00cc96",
           "#00cc96",
           "#00cc96",
           "#00cc96",
           "#00cc96",
           "#00cc96",
           "#00cc96",
           "#00cc96",
           "#00cc96",
           "#00cc96",
           "#00cc96",
           "#00cc96",
           "#00cc96",
           "#00cc96",
           "#00cc96",
           "#00cc96",
           "#00cc96",
           "#00cc96",
           "#00cc96",
           "#00cc96",
           "#00cc96",
           "#00cc96",
           "#00cc96",
           "#00cc96",
           "#00cc96",
           "#00cc96",
           "#00cc96",
           "#00cc96",
           "#00cc96",
           "#00cc96",
           "#00cc96",
           "#00cc96",
           "#00cc96",
           "#00cc96",
           "#00cc96",
           "#00cc96",
           "#00cc96",
           "#00cc96",
           "#00cc96",
           "#00cc96",
           "#00cc96",
           "#00cc96",
           "#00cc96",
           "#00cc96",
           "#00cc96"
          ]
         },
         "type": "parcats"
        }
       ],
       "layout": {
        "autosize": true,
        "template": {
         "data": {
          "bar": [
           {
            "error_x": {
             "color": "#2a3f5f"
            },
            "error_y": {
             "color": "#2a3f5f"
            },
            "marker": {
             "line": {
              "color": "#E5ECF6",
              "width": 0.5
             },
             "pattern": {
              "fillmode": "overlay",
              "size": 10,
              "solidity": 0.2
             }
            },
            "type": "bar"
           }
          ],
          "barpolar": [
           {
            "marker": {
             "line": {
              "color": "#E5ECF6",
              "width": 0.5
             },
             "pattern": {
              "fillmode": "overlay",
              "size": 10,
              "solidity": 0.2
             }
            },
            "type": "barpolar"
           }
          ],
          "carpet": [
           {
            "aaxis": {
             "endlinecolor": "#2a3f5f",
             "gridcolor": "white",
             "linecolor": "white",
             "minorgridcolor": "white",
             "startlinecolor": "#2a3f5f"
            },
            "baxis": {
             "endlinecolor": "#2a3f5f",
             "gridcolor": "white",
             "linecolor": "white",
             "minorgridcolor": "white",
             "startlinecolor": "#2a3f5f"
            },
            "type": "carpet"
           }
          ],
          "choropleth": [
           {
            "colorbar": {
             "outlinewidth": 0,
             "ticks": ""
            },
            "type": "choropleth"
           }
          ],
          "contour": [
           {
            "colorbar": {
             "outlinewidth": 0,
             "ticks": ""
            },
            "colorscale": [
             [
              0,
              "#0d0887"
             ],
             [
              0.1111111111111111,
              "#46039f"
             ],
             [
              0.2222222222222222,
              "#7201a8"
             ],
             [
              0.3333333333333333,
              "#9c179e"
             ],
             [
              0.4444444444444444,
              "#bd3786"
             ],
             [
              0.5555555555555556,
              "#d8576b"
             ],
             [
              0.6666666666666666,
              "#ed7953"
             ],
             [
              0.7777777777777778,
              "#fb9f3a"
             ],
             [
              0.8888888888888888,
              "#fdca26"
             ],
             [
              1,
              "#f0f921"
             ]
            ],
            "type": "contour"
           }
          ],
          "contourcarpet": [
           {
            "colorbar": {
             "outlinewidth": 0,
             "ticks": ""
            },
            "type": "contourcarpet"
           }
          ],
          "heatmap": [
           {
            "colorbar": {
             "outlinewidth": 0,
             "ticks": ""
            },
            "colorscale": [
             [
              0,
              "#0d0887"
             ],
             [
              0.1111111111111111,
              "#46039f"
             ],
             [
              0.2222222222222222,
              "#7201a8"
             ],
             [
              0.3333333333333333,
              "#9c179e"
             ],
             [
              0.4444444444444444,
              "#bd3786"
             ],
             [
              0.5555555555555556,
              "#d8576b"
             ],
             [
              0.6666666666666666,
              "#ed7953"
             ],
             [
              0.7777777777777778,
              "#fb9f3a"
             ],
             [
              0.8888888888888888,
              "#fdca26"
             ],
             [
              1,
              "#f0f921"
             ]
            ],
            "type": "heatmap"
           }
          ],
          "heatmapgl": [
           {
            "colorbar": {
             "outlinewidth": 0,
             "ticks": ""
            },
            "colorscale": [
             [
              0,
              "#0d0887"
             ],
             [
              0.1111111111111111,
              "#46039f"
             ],
             [
              0.2222222222222222,
              "#7201a8"
             ],
             [
              0.3333333333333333,
              "#9c179e"
             ],
             [
              0.4444444444444444,
              "#bd3786"
             ],
             [
              0.5555555555555556,
              "#d8576b"
             ],
             [
              0.6666666666666666,
              "#ed7953"
             ],
             [
              0.7777777777777778,
              "#fb9f3a"
             ],
             [
              0.8888888888888888,
              "#fdca26"
             ],
             [
              1,
              "#f0f921"
             ]
            ],
            "type": "heatmapgl"
           }
          ],
          "histogram": [
           {
            "marker": {
             "pattern": {
              "fillmode": "overlay",
              "size": 10,
              "solidity": 0.2
             }
            },
            "type": "histogram"
           }
          ],
          "histogram2d": [
           {
            "colorbar": {
             "outlinewidth": 0,
             "ticks": ""
            },
            "colorscale": [
             [
              0,
              "#0d0887"
             ],
             [
              0.1111111111111111,
              "#46039f"
             ],
             [
              0.2222222222222222,
              "#7201a8"
             ],
             [
              0.3333333333333333,
              "#9c179e"
             ],
             [
              0.4444444444444444,
              "#bd3786"
             ],
             [
              0.5555555555555556,
              "#d8576b"
             ],
             [
              0.6666666666666666,
              "#ed7953"
             ],
             [
              0.7777777777777778,
              "#fb9f3a"
             ],
             [
              0.8888888888888888,
              "#fdca26"
             ],
             [
              1,
              "#f0f921"
             ]
            ],
            "type": "histogram2d"
           }
          ],
          "histogram2dcontour": [
           {
            "colorbar": {
             "outlinewidth": 0,
             "ticks": ""
            },
            "colorscale": [
             [
              0,
              "#0d0887"
             ],
             [
              0.1111111111111111,
              "#46039f"
             ],
             [
              0.2222222222222222,
              "#7201a8"
             ],
             [
              0.3333333333333333,
              "#9c179e"
             ],
             [
              0.4444444444444444,
              "#bd3786"
             ],
             [
              0.5555555555555556,
              "#d8576b"
             ],
             [
              0.6666666666666666,
              "#ed7953"
             ],
             [
              0.7777777777777778,
              "#fb9f3a"
             ],
             [
              0.8888888888888888,
              "#fdca26"
             ],
             [
              1,
              "#f0f921"
             ]
            ],
            "type": "histogram2dcontour"
           }
          ],
          "mesh3d": [
           {
            "colorbar": {
             "outlinewidth": 0,
             "ticks": ""
            },
            "type": "mesh3d"
           }
          ],
          "parcoords": [
           {
            "line": {
             "colorbar": {
              "outlinewidth": 0,
              "ticks": ""
             }
            },
            "type": "parcoords"
           }
          ],
          "pie": [
           {
            "automargin": true,
            "type": "pie"
           }
          ],
          "scatter": [
           {
            "fillpattern": {
             "fillmode": "overlay",
             "size": 10,
             "solidity": 0.2
            },
            "type": "scatter"
           }
          ],
          "scatter3d": [
           {
            "line": {
             "colorbar": {
              "outlinewidth": 0,
              "ticks": ""
             }
            },
            "marker": {
             "colorbar": {
              "outlinewidth": 0,
              "ticks": ""
             }
            },
            "type": "scatter3d"
           }
          ],
          "scattercarpet": [
           {
            "marker": {
             "colorbar": {
              "outlinewidth": 0,
              "ticks": ""
             }
            },
            "type": "scattercarpet"
           }
          ],
          "scattergeo": [
           {
            "marker": {
             "colorbar": {
              "outlinewidth": 0,
              "ticks": ""
             }
            },
            "type": "scattergeo"
           }
          ],
          "scattergl": [
           {
            "marker": {
             "colorbar": {
              "outlinewidth": 0,
              "ticks": ""
             }
            },
            "type": "scattergl"
           }
          ],
          "scattermapbox": [
           {
            "marker": {
             "colorbar": {
              "outlinewidth": 0,
              "ticks": ""
             }
            },
            "type": "scattermapbox"
           }
          ],
          "scatterpolar": [
           {
            "marker": {
             "colorbar": {
              "outlinewidth": 0,
              "ticks": ""
             }
            },
            "type": "scatterpolar"
           }
          ],
          "scatterpolargl": [
           {
            "marker": {
             "colorbar": {
              "outlinewidth": 0,
              "ticks": ""
             }
            },
            "type": "scatterpolargl"
           }
          ],
          "scatterternary": [
           {
            "marker": {
             "colorbar": {
              "outlinewidth": 0,
              "ticks": ""
             }
            },
            "type": "scatterternary"
           }
          ],
          "surface": [
           {
            "colorbar": {
             "outlinewidth": 0,
             "ticks": ""
            },
            "colorscale": [
             [
              0,
              "#0d0887"
             ],
             [
              0.1111111111111111,
              "#46039f"
             ],
             [
              0.2222222222222222,
              "#7201a8"
             ],
             [
              0.3333333333333333,
              "#9c179e"
             ],
             [
              0.4444444444444444,
              "#bd3786"
             ],
             [
              0.5555555555555556,
              "#d8576b"
             ],
             [
              0.6666666666666666,
              "#ed7953"
             ],
             [
              0.7777777777777778,
              "#fb9f3a"
             ],
             [
              0.8888888888888888,
              "#fdca26"
             ],
             [
              1,
              "#f0f921"
             ]
            ],
            "type": "surface"
           }
          ],
          "table": [
           {
            "cells": {
             "fill": {
              "color": "#EBF0F8"
             },
             "line": {
              "color": "white"
             }
            },
            "header": {
             "fill": {
              "color": "#C8D4E3"
             },
             "line": {
              "color": "white"
             }
            },
            "type": "table"
           }
          ]
         },
         "layout": {
          "annotationdefaults": {
           "arrowcolor": "#2a3f5f",
           "arrowhead": 0,
           "arrowwidth": 1
          },
          "autotypenumbers": "strict",
          "coloraxis": {
           "colorbar": {
            "outlinewidth": 0,
            "ticks": ""
           }
          },
          "colorscale": {
           "diverging": [
            [
             0,
             "#8e0152"
            ],
            [
             0.1,
             "#c51b7d"
            ],
            [
             0.2,
             "#de77ae"
            ],
            [
             0.3,
             "#f1b6da"
            ],
            [
             0.4,
             "#fde0ef"
            ],
            [
             0.5,
             "#f7f7f7"
            ],
            [
             0.6,
             "#e6f5d0"
            ],
            [
             0.7,
             "#b8e186"
            ],
            [
             0.8,
             "#7fbc41"
            ],
            [
             0.9,
             "#4d9221"
            ],
            [
             1,
             "#276419"
            ]
           ],
           "sequential": [
            [
             0,
             "#0d0887"
            ],
            [
             0.1111111111111111,
             "#46039f"
            ],
            [
             0.2222222222222222,
             "#7201a8"
            ],
            [
             0.3333333333333333,
             "#9c179e"
            ],
            [
             0.4444444444444444,
             "#bd3786"
            ],
            [
             0.5555555555555556,
             "#d8576b"
            ],
            [
             0.6666666666666666,
             "#ed7953"
            ],
            [
             0.7777777777777778,
             "#fb9f3a"
            ],
            [
             0.8888888888888888,
             "#fdca26"
            ],
            [
             1,
             "#f0f921"
            ]
           ],
           "sequentialminus": [
            [
             0,
             "#0d0887"
            ],
            [
             0.1111111111111111,
             "#46039f"
            ],
            [
             0.2222222222222222,
             "#7201a8"
            ],
            [
             0.3333333333333333,
             "#9c179e"
            ],
            [
             0.4444444444444444,
             "#bd3786"
            ],
            [
             0.5555555555555556,
             "#d8576b"
            ],
            [
             0.6666666666666666,
             "#ed7953"
            ],
            [
             0.7777777777777778,
             "#fb9f3a"
            ],
            [
             0.8888888888888888,
             "#fdca26"
            ],
            [
             1,
             "#f0f921"
            ]
           ]
          },
          "colorway": [
           "#636efa",
           "#EF553B",
           "#00cc96",
           "#ab63fa",
           "#FFA15A",
           "#19d3f3",
           "#FF6692",
           "#B6E880",
           "#FF97FF",
           "#FECB52"
          ],
          "font": {
           "color": "#2a3f5f"
          },
          "geo": {
           "bgcolor": "white",
           "lakecolor": "white",
           "landcolor": "#E5ECF6",
           "showlakes": true,
           "showland": true,
           "subunitcolor": "white"
          },
          "hoverlabel": {
           "align": "left"
          },
          "hovermode": "closest",
          "mapbox": {
           "style": "light"
          },
          "paper_bgcolor": "white",
          "plot_bgcolor": "#E5ECF6",
          "polar": {
           "angularaxis": {
            "gridcolor": "white",
            "linecolor": "white",
            "ticks": ""
           },
           "bgcolor": "#E5ECF6",
           "radialaxis": {
            "gridcolor": "white",
            "linecolor": "white",
            "ticks": ""
           }
          },
          "scene": {
           "xaxis": {
            "backgroundcolor": "#E5ECF6",
            "gridcolor": "white",
            "gridwidth": 2,
            "linecolor": "white",
            "showbackground": true,
            "ticks": "",
            "zerolinecolor": "white"
           },
           "yaxis": {
            "backgroundcolor": "#E5ECF6",
            "gridcolor": "white",
            "gridwidth": 2,
            "linecolor": "white",
            "showbackground": true,
            "ticks": "",
            "zerolinecolor": "white"
           },
           "zaxis": {
            "backgroundcolor": "#E5ECF6",
            "gridcolor": "white",
            "gridwidth": 2,
            "linecolor": "white",
            "showbackground": true,
            "ticks": "",
            "zerolinecolor": "white"
           }
          },
          "shapedefaults": {
           "line": {
            "color": "#2a3f5f"
           }
          },
          "ternary": {
           "aaxis": {
            "gridcolor": "white",
            "linecolor": "white",
            "ticks": ""
           },
           "baxis": {
            "gridcolor": "white",
            "linecolor": "white",
            "ticks": ""
           },
           "bgcolor": "#E5ECF6",
           "caxis": {
            "gridcolor": "white",
            "linecolor": "white",
            "ticks": ""
           }
          },
          "title": {
           "x": 0.05
          },
          "xaxis": {
           "automargin": true,
           "gridcolor": "white",
           "linecolor": "white",
           "ticks": "",
           "title": {
            "standoff": 15
           },
           "zerolinecolor": "white",
           "zerolinewidth": 2
          },
          "yaxis": {
           "automargin": true,
           "gridcolor": "white",
           "linecolor": "white",
           "ticks": "",
           "title": {
            "standoff": 15
           },
           "zerolinecolor": "white",
           "zerolinewidth": 2
          }
         }
        },
        "title": {
         "text": "Analysis of Crime Index and Human Development Index (2021)"
        }
       }
      },
      "text/html": [
       "<div>                            <div id=\"fd0e021e-f716-4474-a368-e9e1af045f19\" class=\"plotly-graph-div\" style=\"height:500px; width:100%;\"></div>            <script type=\"text/javascript\">                require([\"plotly\"], function(Plotly) {                    window.PLOTLYENV=window.PLOTLYENV || {};                                    if (document.getElementById(\"fd0e021e-f716-4474-a368-e9e1af045f19\")) {                    Plotly.newPlot(                        \"fd0e021e-f716-4474-a368-e9e1af045f19\",                        [{\"dimensions\":[{\"categoryarray\":[\"Low\",\"Medium\",\"High\"],\"categoryorder\":\"array\",\"label\":\"Human Development Index (2021)\",\"values\":[\"Low\",\"Low\",\"Low\",\"Low\",\"Low\",\"Low\",\"Medium\",\"Low\",\"Medium\",\"Low\",\"Low\",\"Low\",\"Low\",\"Low\",\"Medium\",\"Medium\",\"Low\",\"Medium\",\"Low\",\"Medium\",\"Low\",\"Low\",\"Low\",\"Medium\",\"Medium\",\"Medium\",\"Low\",\"Low\",\"Medium\",\"Low\",\"Medium\",\"Medium\",\"Medium\",\"Medium\",\"Medium\",\"High\",\"Low\",\"Medium\",\"High\",\"Medium\",\"Low\",\"Low\",\"Medium\",\"Low\",\"Low\",\"Medium\",\"Low\",\"Low\",\"High\",\"Low\",\"High\",\"Medium\",\"Low\",\"Medium\",\"Low\",\"Low\",\"Medium\",\"High\",\"Low\",\"High\",\"High\",\"Medium\",\"High\",\"High\",\"Low\",\"Medium\",\"Low\",\"High\",\"High\",\"Medium\",\"Low\",\"Low\",\"Low\",\"High\",\"Medium\",\"Medium\",\"High\",\"Low\",\"Medium\",\"Medium\",\"Medium\",\"High\",\"Medium\",\"Medium\",\"Low\",\"High\",\"High\",\"High\",\"High\",\"Low\",\"Medium\",\"High\",\"High\",\"Medium\",\"High\",\"High\",\"High\",\"High\",\"Medium\",\"High\",\"Medium\",\"Medium\",\"Medium\",\"High\",\"High\",\"High\",\"High\",\"High\",\"High\",\"High\",\"High\",\"Low\",\"High\",\"High\",\"High\",\"Medium\",\"Medium\",\"High\",\"High\",\"High\",\"High\",\"Medium\",\"High\",\"High\"]},{\"categoryarray\":[\"Low\",\"Medium\",\"High\"],\"categoryorder\":\"array\",\"label\":\"crimeIndex\",\"values\":[\"High\",\"High\",\"High\",\"High\",\"High\",\"High\",\"High\",\"High\",\"High\",\"High\",\"High\",\"High\",\"High\",\"High\",\"High\",\"High\",\"High\",\"High\",\"High\",\"Medium\",\"Medium\",\"Medium\",\"Medium\",\"Medium\",\"Medium\",\"Medium\",\"Medium\",\"Medium\",\"Medium\",\"Medium\",\"Medium\",\"Medium\",\"Medium\",\"Medium\",\"Medium\",\"Medium\",\"Medium\",\"Medium\",\"Medium\",\"Medium\",\"Medium\",\"Medium\",\"Medium\",\"Medium\",\"Medium\",\"Medium\",\"Medium\",\"Medium\",\"Medium\",\"Medium\",\"Medium\",\"Medium\",\"Medium\",\"Medium\",\"Medium\",\"Medium\",\"Medium\",\"Medium\",\"Medium\",\"Medium\",\"Medium\",\"Medium\",\"Medium\",\"Medium\",\"Medium\",\"Medium\",\"Medium\",\"Medium\",\"Medium\",\"Medium\",\"Medium\",\"Medium\",\"Medium\",\"Medium\",\"Medium\",\"Medium\",\"Medium\",\"Low\",\"Low\",\"Low\",\"Low\",\"Low\",\"Low\",\"Low\",\"Low\",\"Low\",\"Low\",\"Low\",\"Low\",\"Low\",\"Low\",\"Low\",\"Low\",\"Low\",\"Low\",\"Low\",\"Low\",\"Low\",\"Low\",\"Low\",\"Low\",\"Low\",\"Low\",\"Low\",\"Low\",\"Low\",\"Low\",\"Low\",\"Low\",\"Low\",\"Low\",\"Low\",\"Low\",\"Low\",\"Low\",\"Low\",\"Low\",\"Low\",\"Low\",\"Low\",\"Low\",\"Low\",\"Low\",\"Low\"]}],\"line\":{\"color\":[\"#f673b0\",\"#f673b0\",\"#f673b0\",\"#f673b0\",\"#f673b0\",\"#f673b0\",\"#f673b0\",\"#f673b0\",\"#f673b0\",\"#f673b0\",\"#f673b0\",\"#f673b0\",\"#f673b0\",\"#f673b0\",\"#f673b0\",\"#f673b0\",\"#f673b0\",\"#f673b0\",\"#f673b0\",\"#fecb52\",\"#fecb52\",\"#fecb52\",\"#fecb52\",\"#fecb52\",\"#fecb52\",\"#fecb52\",\"#fecb52\",\"#fecb52\",\"#fecb52\",\"#fecb52\",\"#fecb52\",\"#fecb52\",\"#fecb52\",\"#fecb52\",\"#fecb52\",\"#fecb52\",\"#fecb52\",\"#fecb52\",\"#fecb52\",\"#fecb52\",\"#fecb52\",\"#fecb52\",\"#fecb52\",\"#fecb52\",\"#fecb52\",\"#fecb52\",\"#fecb52\",\"#fecb52\",\"#fecb52\",\"#fecb52\",\"#fecb52\",\"#fecb52\",\"#fecb52\",\"#fecb52\",\"#fecb52\",\"#fecb52\",\"#fecb52\",\"#fecb52\",\"#fecb52\",\"#fecb52\",\"#fecb52\",\"#fecb52\",\"#fecb52\",\"#fecb52\",\"#fecb52\",\"#fecb52\",\"#fecb52\",\"#fecb52\",\"#fecb52\",\"#fecb52\",\"#fecb52\",\"#fecb52\",\"#fecb52\",\"#fecb52\",\"#fecb52\",\"#fecb52\",\"#fecb52\",\"#00cc96\",\"#00cc96\",\"#00cc96\",\"#00cc96\",\"#00cc96\",\"#00cc96\",\"#00cc96\",\"#00cc96\",\"#00cc96\",\"#00cc96\",\"#00cc96\",\"#00cc96\",\"#00cc96\",\"#00cc96\",\"#00cc96\",\"#00cc96\",\"#00cc96\",\"#00cc96\",\"#00cc96\",\"#00cc96\",\"#00cc96\",\"#00cc96\",\"#00cc96\",\"#00cc96\",\"#00cc96\",\"#00cc96\",\"#00cc96\",\"#00cc96\",\"#00cc96\",\"#00cc96\",\"#00cc96\",\"#00cc96\",\"#00cc96\",\"#00cc96\",\"#00cc96\",\"#00cc96\",\"#00cc96\",\"#00cc96\",\"#00cc96\",\"#00cc96\",\"#00cc96\",\"#00cc96\",\"#00cc96\",\"#00cc96\",\"#00cc96\",\"#00cc96\",\"#00cc96\"]},\"type\":\"parcats\"}],                        {\"template\":{\"data\":{\"histogram2dcontour\":[{\"type\":\"histogram2dcontour\",\"colorbar\":{\"outlinewidth\":0,\"ticks\":\"\"},\"colorscale\":[[0.0,\"#0d0887\"],[0.1111111111111111,\"#46039f\"],[0.2222222222222222,\"#7201a8\"],[0.3333333333333333,\"#9c179e\"],[0.4444444444444444,\"#bd3786\"],[0.5555555555555556,\"#d8576b\"],[0.6666666666666666,\"#ed7953\"],[0.7777777777777778,\"#fb9f3a\"],[0.8888888888888888,\"#fdca26\"],[1.0,\"#f0f921\"]]}],\"choropleth\":[{\"type\":\"choropleth\",\"colorbar\":{\"outlinewidth\":0,\"ticks\":\"\"}}],\"histogram2d\":[{\"type\":\"histogram2d\",\"colorbar\":{\"outlinewidth\":0,\"ticks\":\"\"},\"colorscale\":[[0.0,\"#0d0887\"],[0.1111111111111111,\"#46039f\"],[0.2222222222222222,\"#7201a8\"],[0.3333333333333333,\"#9c179e\"],[0.4444444444444444,\"#bd3786\"],[0.5555555555555556,\"#d8576b\"],[0.6666666666666666,\"#ed7953\"],[0.7777777777777778,\"#fb9f3a\"],[0.8888888888888888,\"#fdca26\"],[1.0,\"#f0f921\"]]}],\"heatmap\":[{\"type\":\"heatmap\",\"colorbar\":{\"outlinewidth\":0,\"ticks\":\"\"},\"colorscale\":[[0.0,\"#0d0887\"],[0.1111111111111111,\"#46039f\"],[0.2222222222222222,\"#7201a8\"],[0.3333333333333333,\"#9c179e\"],[0.4444444444444444,\"#bd3786\"],[0.5555555555555556,\"#d8576b\"],[0.6666666666666666,\"#ed7953\"],[0.7777777777777778,\"#fb9f3a\"],[0.8888888888888888,\"#fdca26\"],[1.0,\"#f0f921\"]]}],\"heatmapgl\":[{\"type\":\"heatmapgl\",\"colorbar\":{\"outlinewidth\":0,\"ticks\":\"\"},\"colorscale\":[[0.0,\"#0d0887\"],[0.1111111111111111,\"#46039f\"],[0.2222222222222222,\"#7201a8\"],[0.3333333333333333,\"#9c179e\"],[0.4444444444444444,\"#bd3786\"],[0.5555555555555556,\"#d8576b\"],[0.6666666666666666,\"#ed7953\"],[0.7777777777777778,\"#fb9f3a\"],[0.8888888888888888,\"#fdca26\"],[1.0,\"#f0f921\"]]}],\"contourcarpet\":[{\"type\":\"contourcarpet\",\"colorbar\":{\"outlinewidth\":0,\"ticks\":\"\"}}],\"contour\":[{\"type\":\"contour\",\"colorbar\":{\"outlinewidth\":0,\"ticks\":\"\"},\"colorscale\":[[0.0,\"#0d0887\"],[0.1111111111111111,\"#46039f\"],[0.2222222222222222,\"#7201a8\"],[0.3333333333333333,\"#9c179e\"],[0.4444444444444444,\"#bd3786\"],[0.5555555555555556,\"#d8576b\"],[0.6666666666666666,\"#ed7953\"],[0.7777777777777778,\"#fb9f3a\"],[0.8888888888888888,\"#fdca26\"],[1.0,\"#f0f921\"]]}],\"surface\":[{\"type\":\"surface\",\"colorbar\":{\"outlinewidth\":0,\"ticks\":\"\"},\"colorscale\":[[0.0,\"#0d0887\"],[0.1111111111111111,\"#46039f\"],[0.2222222222222222,\"#7201a8\"],[0.3333333333333333,\"#9c179e\"],[0.4444444444444444,\"#bd3786\"],[0.5555555555555556,\"#d8576b\"],[0.6666666666666666,\"#ed7953\"],[0.7777777777777778,\"#fb9f3a\"],[0.8888888888888888,\"#fdca26\"],[1.0,\"#f0f921\"]]}],\"mesh3d\":[{\"type\":\"mesh3d\",\"colorbar\":{\"outlinewidth\":0,\"ticks\":\"\"}}],\"scatter\":[{\"fillpattern\":{\"fillmode\":\"overlay\",\"size\":10,\"solidity\":0.2},\"type\":\"scatter\"}],\"parcoords\":[{\"type\":\"parcoords\",\"line\":{\"colorbar\":{\"outlinewidth\":0,\"ticks\":\"\"}}}],\"scatterpolargl\":[{\"type\":\"scatterpolargl\",\"marker\":{\"colorbar\":{\"outlinewidth\":0,\"ticks\":\"\"}}}],\"bar\":[{\"error_x\":{\"color\":\"#2a3f5f\"},\"error_y\":{\"color\":\"#2a3f5f\"},\"marker\":{\"line\":{\"color\":\"#E5ECF6\",\"width\":0.5},\"pattern\":{\"fillmode\":\"overlay\",\"size\":10,\"solidity\":0.2}},\"type\":\"bar\"}],\"scattergeo\":[{\"type\":\"scattergeo\",\"marker\":{\"colorbar\":{\"outlinewidth\":0,\"ticks\":\"\"}}}],\"scatterpolar\":[{\"type\":\"scatterpolar\",\"marker\":{\"colorbar\":{\"outlinewidth\":0,\"ticks\":\"\"}}}],\"histogram\":[{\"marker\":{\"pattern\":{\"fillmode\":\"overlay\",\"size\":10,\"solidity\":0.2}},\"type\":\"histogram\"}],\"scattergl\":[{\"type\":\"scattergl\",\"marker\":{\"colorbar\":{\"outlinewidth\":0,\"ticks\":\"\"}}}],\"scatter3d\":[{\"type\":\"scatter3d\",\"line\":{\"colorbar\":{\"outlinewidth\":0,\"ticks\":\"\"}},\"marker\":{\"colorbar\":{\"outlinewidth\":0,\"ticks\":\"\"}}}],\"scattermapbox\":[{\"type\":\"scattermapbox\",\"marker\":{\"colorbar\":{\"outlinewidth\":0,\"ticks\":\"\"}}}],\"scatterternary\":[{\"type\":\"scatterternary\",\"marker\":{\"colorbar\":{\"outlinewidth\":0,\"ticks\":\"\"}}}],\"scattercarpet\":[{\"type\":\"scattercarpet\",\"marker\":{\"colorbar\":{\"outlinewidth\":0,\"ticks\":\"\"}}}],\"carpet\":[{\"aaxis\":{\"endlinecolor\":\"#2a3f5f\",\"gridcolor\":\"white\",\"linecolor\":\"white\",\"minorgridcolor\":\"white\",\"startlinecolor\":\"#2a3f5f\"},\"baxis\":{\"endlinecolor\":\"#2a3f5f\",\"gridcolor\":\"white\",\"linecolor\":\"white\",\"minorgridcolor\":\"white\",\"startlinecolor\":\"#2a3f5f\"},\"type\":\"carpet\"}],\"table\":[{\"cells\":{\"fill\":{\"color\":\"#EBF0F8\"},\"line\":{\"color\":\"white\"}},\"header\":{\"fill\":{\"color\":\"#C8D4E3\"},\"line\":{\"color\":\"white\"}},\"type\":\"table\"}],\"barpolar\":[{\"marker\":{\"line\":{\"color\":\"#E5ECF6\",\"width\":0.5},\"pattern\":{\"fillmode\":\"overlay\",\"size\":10,\"solidity\":0.2}},\"type\":\"barpolar\"}],\"pie\":[{\"automargin\":true,\"type\":\"pie\"}]},\"layout\":{\"autotypenumbers\":\"strict\",\"colorway\":[\"#636efa\",\"#EF553B\",\"#00cc96\",\"#ab63fa\",\"#FFA15A\",\"#19d3f3\",\"#FF6692\",\"#B6E880\",\"#FF97FF\",\"#FECB52\"],\"font\":{\"color\":\"#2a3f5f\"},\"hovermode\":\"closest\",\"hoverlabel\":{\"align\":\"left\"},\"paper_bgcolor\":\"white\",\"plot_bgcolor\":\"#E5ECF6\",\"polar\":{\"bgcolor\":\"#E5ECF6\",\"angularaxis\":{\"gridcolor\":\"white\",\"linecolor\":\"white\",\"ticks\":\"\"},\"radialaxis\":{\"gridcolor\":\"white\",\"linecolor\":\"white\",\"ticks\":\"\"}},\"ternary\":{\"bgcolor\":\"#E5ECF6\",\"aaxis\":{\"gridcolor\":\"white\",\"linecolor\":\"white\",\"ticks\":\"\"},\"baxis\":{\"gridcolor\":\"white\",\"linecolor\":\"white\",\"ticks\":\"\"},\"caxis\":{\"gridcolor\":\"white\",\"linecolor\":\"white\",\"ticks\":\"\"}},\"coloraxis\":{\"colorbar\":{\"outlinewidth\":0,\"ticks\":\"\"}},\"colorscale\":{\"sequential\":[[0.0,\"#0d0887\"],[0.1111111111111111,\"#46039f\"],[0.2222222222222222,\"#7201a8\"],[0.3333333333333333,\"#9c179e\"],[0.4444444444444444,\"#bd3786\"],[0.5555555555555556,\"#d8576b\"],[0.6666666666666666,\"#ed7953\"],[0.7777777777777778,\"#fb9f3a\"],[0.8888888888888888,\"#fdca26\"],[1.0,\"#f0f921\"]],\"sequentialminus\":[[0.0,\"#0d0887\"],[0.1111111111111111,\"#46039f\"],[0.2222222222222222,\"#7201a8\"],[0.3333333333333333,\"#9c179e\"],[0.4444444444444444,\"#bd3786\"],[0.5555555555555556,\"#d8576b\"],[0.6666666666666666,\"#ed7953\"],[0.7777777777777778,\"#fb9f3a\"],[0.8888888888888888,\"#fdca26\"],[1.0,\"#f0f921\"]],\"diverging\":[[0,\"#8e0152\"],[0.1,\"#c51b7d\"],[0.2,\"#de77ae\"],[0.3,\"#f1b6da\"],[0.4,\"#fde0ef\"],[0.5,\"#f7f7f7\"],[0.6,\"#e6f5d0\"],[0.7,\"#b8e186\"],[0.8,\"#7fbc41\"],[0.9,\"#4d9221\"],[1,\"#276419\"]]},\"xaxis\":{\"gridcolor\":\"white\",\"linecolor\":\"white\",\"ticks\":\"\",\"title\":{\"standoff\":15},\"zerolinecolor\":\"white\",\"automargin\":true,\"zerolinewidth\":2},\"yaxis\":{\"gridcolor\":\"white\",\"linecolor\":\"white\",\"ticks\":\"\",\"title\":{\"standoff\":15},\"zerolinecolor\":\"white\",\"automargin\":true,\"zerolinewidth\":2},\"scene\":{\"xaxis\":{\"backgroundcolor\":\"#E5ECF6\",\"gridcolor\":\"white\",\"linecolor\":\"white\",\"showbackground\":true,\"ticks\":\"\",\"zerolinecolor\":\"white\",\"gridwidth\":2},\"yaxis\":{\"backgroundcolor\":\"#E5ECF6\",\"gridcolor\":\"white\",\"linecolor\":\"white\",\"showbackground\":true,\"ticks\":\"\",\"zerolinecolor\":\"white\",\"gridwidth\":2},\"zaxis\":{\"backgroundcolor\":\"#E5ECF6\",\"gridcolor\":\"white\",\"linecolor\":\"white\",\"showbackground\":true,\"ticks\":\"\",\"zerolinecolor\":\"white\",\"gridwidth\":2}},\"shapedefaults\":{\"line\":{\"color\":\"#2a3f5f\"}},\"annotationdefaults\":{\"arrowcolor\":\"#2a3f5f\",\"arrowhead\":0,\"arrowwidth\":1},\"geo\":{\"bgcolor\":\"white\",\"landcolor\":\"#E5ECF6\",\"subunitcolor\":\"white\",\"showland\":true,\"showlakes\":true,\"lakecolor\":\"white\"},\"title\":{\"x\":0.05},\"mapbox\":{\"style\":\"light\"}}},\"title\":{\"text\":\"Analysis of Crime Index and Human Development Index (2021)\"},\"height\":500},                        {\"responsive\": true}                    ).then(function(){\n",
       "                            \n",
       "var gd = document.getElementById('fd0e021e-f716-4474-a368-e9e1af045f19');\n",
       "var x = new MutationObserver(function (mutations, observer) {{\n",
       "        var display = window.getComputedStyle(gd).display;\n",
       "        if (!display || display === 'none') {{\n",
       "            console.log([gd, 'removed!']);\n",
       "            Plotly.purge(gd);\n",
       "            observer.disconnect();\n",
       "        }}\n",
       "}});\n",
       "\n",
       "// Listen for the removal of the full notebook cells\n",
       "var notebookContainer = gd.closest('#notebook-container');\n",
       "if (notebookContainer) {{\n",
       "    x.observe(notebookContainer, {childList: true});\n",
       "}}\n",
       "\n",
       "// Listen for the clearing of the current output cell\n",
       "var outputEl = gd.closest('.output');\n",
       "if (outputEl) {{\n",
       "    x.observe(outputEl, {childList: true});\n",
       "}}\n",
       "\n",
       "                        })                };                });            </script>        </div>"
      ]
     },
     "metadata": {},
     "output_type": "display_data"
    }
   ],
   "source": [
    "df_development = pd.read_csv('datasets/Human Development Index.csv')\n",
    "df_world = pd.read_csv('datasets/crime-rate-by-country-2023.csv')\n",
    "\n",
    "color_map = {'Low': '#00cc96', 'Medium': '#fecb52', 'High': '#f673b0'}\n",
    "\n",
    "# Filter and rename columns\n",
    "df_development_filtered = df_development[['Country', 'HDI Rank (2021)', 'Human Development Index (2021)', 'Inequality in income (2021)']]\n",
    "df_development_filtered = df_development_filtered.rename(columns={'Country': 'country'})\n",
    "\n",
    "# Merge dataframes\n",
    "hdi_df = df_development_filtered[['country', 'Human Development Index (2021)']]\n",
    "merged_hdi_df = pd.merge(df_world, hdi_df, on='country', how='inner')\n",
    "\n",
    "# Define bins and labels for crimeIndex and Human Development Index (2021)\n",
    "bins_crime = [-float('inf'), 40, 60, float('inf')]\n",
    "labels_crime = ['Low', 'Medium', 'High']\n",
    "bins_hdi = [merged_hdi_df['Human Development Index (2021)'].min(), \n",
    "            merged_hdi_df['Human Development Index (2021)'].quantile(1/3), \n",
    "            merged_hdi_df['Human Development Index (2021)'].quantile(2/3), \n",
    "            merged_hdi_df['Human Development Index (2021)'].max()]\n",
    "labels_hdi = ['Low', 'Medium', 'High']\n",
    "\n",
    "# Apply binning\n",
    "merged_hdi_df['crimeIndex'], bins_cut_crime = pd.cut(merged_hdi_df['crimeIndex'], bins=bins_crime, labels=labels_crime, retbins=True)\n",
    "merged_hdi_df['Human Development Index (2021)'], bins_cut_hdi = pd.cut(merged_hdi_df['Human Development Index (2021)'], bins=bins_hdi, labels=labels_hdi, retbins=True)\n",
    "\n",
    "# Drop NaN values if any\n",
    "merged_hdi_df = merged_hdi_df.dropna(subset=['crimeIndex', 'Human Development Index (2021)'])\n",
    "\n",
    "# Create parallel categories plot\n",
    "parcat = go.Parcats(dimensions=[\n",
    "                    {'label': 'Human Development Index (2021)', 'values': merged_hdi_df['Human Development Index (2021)'], 'categoryorder': 'array', 'categoryarray': ['Low', 'Medium', 'High']},\n",
    "                    {'label': 'crimeIndex', 'values': merged_hdi_df['crimeIndex'], 'categoryorder': 'array', 'categoryarray': ['Low', 'Medium', 'High']}\n",
    "                    ],\n",
    "                    line=dict(color=merged_hdi_df['crimeIndex'].map(color_map)))\n",
    "\n",
    "gdi_figure = go.Figure(parcat)\n",
    "gdi_figure.update_layout(title='Analysis of Crime Index and Human Development Index (2021)',\n",
    "                        height = 500)\n",
    "gdi_figure.show()"
   ]
  },
  {
   "cell_type": "markdown",
   "id": "c37a77e9-36a4-430a-b7ba-653093863368",
   "metadata": {
    "editable": true,
    "slideshow": {
     "slide_type": ""
    },
    "tags": []
   },
   "source": [
    "A noticeable trend emerging from this graph, is that countries with a low crime index most likely have higher rates of HDI, and high crime rates correspond with a lower HDI. So for example, the countries with relatively low HDI index in the previous figure would here primarily correspond to the ‘High’ section of crime index.\n",
    "\n",
    "This shows how structural and demographic dimensions can be assessed as predictors of the opportunity to commit crime. Further, assessing these international trends in structural predictors forward the importance of crime perceptions as a global issue in addition to a localized issue.\n"
   ]
  },
  {
   "cell_type": "markdown",
   "id": "cdef18e8-c9f6-47bf-9fef-880af9832eac",
   "metadata": {
    "editable": true,
    "slideshow": {
     "slide_type": ""
    },
    "tags": []
   },
   "source": [
    "## A Cross-National Comparison of Crime and the Human Development Index\n",
    "\n",
    "Below is shown a heatmap of standardized indicators of HDI that are higher or lower compared to the countries. On the x-axis, ten countries are put into perspective: the 5 most left indicating the countries with the lowest crime index, and the 5 most right indicating the countries with the highest crime index."
   ]
  },
  {
   "cell_type": "code",
   "execution_count": 7,
   "id": "59ddc53b-0d26-4262-a90a-a9c91b4bde93",
   "metadata": {
    "editable": true,
    "slideshow": {
     "slide_type": ""
    },
    "tags": [
     "remove-input",
     "full-width"
    ]
   },
   "outputs": [
    {
     "data": {
      "application/vnd.plotly.v1+json": {
       "config": {
        "plotlyServerURL": "https://plot.ly"
       },
       "data": [
        {
         "colorbar": {
          "title": {
           "side": "right",
           "text": "values"
          }
         },
         "colorscale": [
          [
           0,
           "rgb(103,0,31)"
          ],
          [
           0.1,
           "rgb(178,24,43)"
          ],
          [
           0.2,
           "rgb(214,96,77)"
          ],
          [
           0.3,
           "rgb(244,165,130)"
          ],
          [
           0.4,
           "rgb(253,219,199)"
          ],
          [
           0.5,
           "rgb(247,247,247)"
          ],
          [
           0.6,
           "rgb(209,229,240)"
          ],
          [
           0.7,
           "rgb(146,197,222)"
          ],
          [
           0.8,
           "rgb(67,147,195)"
          ],
          [
           0.9,
           "rgb(33,102,172)"
          ],
          [
           1,
           "rgb(5,48,97)"
          ]
         ],
         "type": "heatmap",
         "x": [
          "Qatar",
          "United Arab Emirates",
          "Oman",
          "Switzerland",
          "Hong Kong",
          "Venezuela",
          "Papua New Guinea",
          "South Africa",
          "Afghanistan",
          "Honduras"
         ],
         "y": [
          "Human Development Index (2021)",
          "Life Expectancy at Birth (2021)",
          "HDI female (2021)",
          "Life Expectancy at Birth, female (2021)",
          "Gross National Income Per Capita, female (2021)",
          "HDI male (2021)",
          "Life Expectancy at Birth, male (2021)",
          "Gross National Income Per Capita, male (2021)",
          "Inequality-adjusted Human Development Index (2021)",
          "Coefficient of human inequality (2021)",
          "Overall loss (%) (2021)",
          "Inequality in life expectancy (2021)",
          "Inequality in income (2021)",
          "GII Rank (2021)",
          "Gender Inequality Index (2021)",
          "Adolescent Birth Rate"
         ],
         "z": [
          [
           0.4659413648860782,
           0.6600488172257665,
           0.3307593891495096,
           0.836825247035125,
           0.8021632019744663,
           -0.10251617410872266,
           -0.5635213734154815,
           -0.026259674975273706,
           -0.8408177339007503,
           -0.34515048953333255
          ],
          [
           0.47845927210755906,
           0.44487549668559256,
           0.07565743254010218,
           0.7606539466974113,
           0.8495923056284991,
           -0.04325019711678887,
           -0.35461224900647487,
           -0.5347151187676124,
           -0.5561747443312568,
           -0.06902448805449561
          ],
          [
           0.4769312581985436,
           0.5097825869926008,
           0.14520184525370483,
           0.7035090731958872,
           0.6958510659895143,
           -0.06610881975967224,
           -0.47721987214113104,
           -0.04677029069109346,
           -0.9808895920518577,
           -0.27501351180386036
          ],
          [
           0.3916136254476834,
           0.3915966068747477,
           0.03865409561412556,
           0.6729022717903921,
           0.8107413668561405,
           0.06654753665611574,
           -0.3187586274710019,
           -0.5125377717771543,
           -0.49665944322793104,
           -0.08509362106067281
          ],
          [
           0.7356614800727006,
           0.38381775364117954,
           -0.1968691759112708,
           1.0692538730853889,
           0.9928604849743233,
           -0.3117527037017056,
           -0.2936867452549546,
           -0.12304441577307794,
           -0.3740298745584762,
           -0.27423475048972695
          ],
          [
           0.40751986436625226,
           0.6587815222877753,
           0.35589524598106725,
           0.8543166130594284,
           0.81412674709401,
           -0.15814064532642907,
           -0.560736685812472,
           -0.030420314561560073,
           -0.7105390120959221,
           -0.3640210192395918
          ],
          [
           0.5689177254689554,
           0.5043003662141002,
           0.13736208094391458,
           0.7856611283162401,
           0.8248790080425805,
           -0.14082521813878338,
           -0.3357841809639315,
           -0.5412879902970918,
           -0.5732463525782171,
           -0.04454388092742799
          ],
          [
           1.5292281324766526,
           1.0175469663990255,
           0.2982747313830923,
           1.058346622154638,
           0.9790831409218056,
           -0.33148968674842855,
           -0.3764579478347445,
           -0.15294643145851888,
           -0.4023944163495132,
           -0.34089209104657203
          ],
          [
           null,
           null,
           0.32491927825261135,
           0.8760303893637226,
           0.6804748338081669,
           -0.0187844254510923,
           -0.5965622032288699,
           -0.3773029439696108,
           null,
           -0.35359924026590706
          ],
          [
           null,
           null,
           -0.2661579996738906,
           -0.5839540231082556,
           -0.2981457118569485,
           -0.20863863626364978,
           0.5311604084429562,
           0.6642431042420551,
           null,
           0.20777956709761805
          ],
          [
           null,
           null,
           -0.2686887998070441,
           -0.5763528603208119,
           -0.27917016658648125,
           -0.21421906474767025,
           0.5105012419901858,
           0.7643505623904138,
           null,
           0.2118168714327517
          ],
          [
           -0.4807880536873763,
           -0.44611558102273824,
           -0.308851768803031,
           -0.5216226670874685,
           -0.5772815112130489,
           -0.005767144604600074,
           0.4224747608986494,
           0.31550756969384114,
           0.7033814026790519,
           -0.14820754779871975
          ],
          [
           null,
           null,
           -0.11169731499672615,
           -0.2968304659272107,
           0.11314463571425062,
           -0.07427160671039013,
           0.2501973479742358,
           1.404284078187525,
           null,
           0.4971520473874305
          ],
          [
           -0.37131917855899754,
           -0.880194918203968,
           -0.1583014270797076,
           -0.9748694744169857,
           null,
           0.44524886877828057,
           0.9896275670031326,
           0.13755656108597286,
           0.9659589279498781,
           0.25589975635224504
          ],
          [
           -0.3082440411108681,
           -0.7320358626722064,
           -0.10997886143304907,
           -0.8088636197973613,
           null,
           0.36585756979371675,
           0.9433049056053648,
           0.15024418689408858,
           0.8268241125446463,
           0.21468037028937972
          ],
          [
           -0.44442770247433966,
           -0.4916096918394435,
           -0.41037945462678105,
           -0.5019485163162847,
           -0.5093858379330731,
           0.4514379520218056,
           0.12617355997547622,
           0.1967096866468011,
           0.4496615216993242,
           0.32421001232569346
          ]
         ],
         "zmid": 0
        }
       ],
       "layout": {
        "height": 500,
        "template": {
         "data": {
          "bar": [
           {
            "error_x": {
             "color": "#2a3f5f"
            },
            "error_y": {
             "color": "#2a3f5f"
            },
            "marker": {
             "line": {
              "color": "#E5ECF6",
              "width": 0.5
             },
             "pattern": {
              "fillmode": "overlay",
              "size": 10,
              "solidity": 0.2
             }
            },
            "type": "bar"
           }
          ],
          "barpolar": [
           {
            "marker": {
             "line": {
              "color": "#E5ECF6",
              "width": 0.5
             },
             "pattern": {
              "fillmode": "overlay",
              "size": 10,
              "solidity": 0.2
             }
            },
            "type": "barpolar"
           }
          ],
          "carpet": [
           {
            "aaxis": {
             "endlinecolor": "#2a3f5f",
             "gridcolor": "white",
             "linecolor": "white",
             "minorgridcolor": "white",
             "startlinecolor": "#2a3f5f"
            },
            "baxis": {
             "endlinecolor": "#2a3f5f",
             "gridcolor": "white",
             "linecolor": "white",
             "minorgridcolor": "white",
             "startlinecolor": "#2a3f5f"
            },
            "type": "carpet"
           }
          ],
          "choropleth": [
           {
            "colorbar": {
             "outlinewidth": 0,
             "ticks": ""
            },
            "type": "choropleth"
           }
          ],
          "contour": [
           {
            "colorbar": {
             "outlinewidth": 0,
             "ticks": ""
            },
            "colorscale": [
             [
              0,
              "#0d0887"
             ],
             [
              0.1111111111111111,
              "#46039f"
             ],
             [
              0.2222222222222222,
              "#7201a8"
             ],
             [
              0.3333333333333333,
              "#9c179e"
             ],
             [
              0.4444444444444444,
              "#bd3786"
             ],
             [
              0.5555555555555556,
              "#d8576b"
             ],
             [
              0.6666666666666666,
              "#ed7953"
             ],
             [
              0.7777777777777778,
              "#fb9f3a"
             ],
             [
              0.8888888888888888,
              "#fdca26"
             ],
             [
              1,
              "#f0f921"
             ]
            ],
            "type": "contour"
           }
          ],
          "contourcarpet": [
           {
            "colorbar": {
             "outlinewidth": 0,
             "ticks": ""
            },
            "type": "contourcarpet"
           }
          ],
          "heatmap": [
           {
            "colorbar": {
             "outlinewidth": 0,
             "ticks": ""
            },
            "colorscale": [
             [
              0,
              "#0d0887"
             ],
             [
              0.1111111111111111,
              "#46039f"
             ],
             [
              0.2222222222222222,
              "#7201a8"
             ],
             [
              0.3333333333333333,
              "#9c179e"
             ],
             [
              0.4444444444444444,
              "#bd3786"
             ],
             [
              0.5555555555555556,
              "#d8576b"
             ],
             [
              0.6666666666666666,
              "#ed7953"
             ],
             [
              0.7777777777777778,
              "#fb9f3a"
             ],
             [
              0.8888888888888888,
              "#fdca26"
             ],
             [
              1,
              "#f0f921"
             ]
            ],
            "type": "heatmap"
           }
          ],
          "heatmapgl": [
           {
            "colorbar": {
             "outlinewidth": 0,
             "ticks": ""
            },
            "colorscale": [
             [
              0,
              "#0d0887"
             ],
             [
              0.1111111111111111,
              "#46039f"
             ],
             [
              0.2222222222222222,
              "#7201a8"
             ],
             [
              0.3333333333333333,
              "#9c179e"
             ],
             [
              0.4444444444444444,
              "#bd3786"
             ],
             [
              0.5555555555555556,
              "#d8576b"
             ],
             [
              0.6666666666666666,
              "#ed7953"
             ],
             [
              0.7777777777777778,
              "#fb9f3a"
             ],
             [
              0.8888888888888888,
              "#fdca26"
             ],
             [
              1,
              "#f0f921"
             ]
            ],
            "type": "heatmapgl"
           }
          ],
          "histogram": [
           {
            "marker": {
             "pattern": {
              "fillmode": "overlay",
              "size": 10,
              "solidity": 0.2
             }
            },
            "type": "histogram"
           }
          ],
          "histogram2d": [
           {
            "colorbar": {
             "outlinewidth": 0,
             "ticks": ""
            },
            "colorscale": [
             [
              0,
              "#0d0887"
             ],
             [
              0.1111111111111111,
              "#46039f"
             ],
             [
              0.2222222222222222,
              "#7201a8"
             ],
             [
              0.3333333333333333,
              "#9c179e"
             ],
             [
              0.4444444444444444,
              "#bd3786"
             ],
             [
              0.5555555555555556,
              "#d8576b"
             ],
             [
              0.6666666666666666,
              "#ed7953"
             ],
             [
              0.7777777777777778,
              "#fb9f3a"
             ],
             [
              0.8888888888888888,
              "#fdca26"
             ],
             [
              1,
              "#f0f921"
             ]
            ],
            "type": "histogram2d"
           }
          ],
          "histogram2dcontour": [
           {
            "colorbar": {
             "outlinewidth": 0,
             "ticks": ""
            },
            "colorscale": [
             [
              0,
              "#0d0887"
             ],
             [
              0.1111111111111111,
              "#46039f"
             ],
             [
              0.2222222222222222,
              "#7201a8"
             ],
             [
              0.3333333333333333,
              "#9c179e"
             ],
             [
              0.4444444444444444,
              "#bd3786"
             ],
             [
              0.5555555555555556,
              "#d8576b"
             ],
             [
              0.6666666666666666,
              "#ed7953"
             ],
             [
              0.7777777777777778,
              "#fb9f3a"
             ],
             [
              0.8888888888888888,
              "#fdca26"
             ],
             [
              1,
              "#f0f921"
             ]
            ],
            "type": "histogram2dcontour"
           }
          ],
          "mesh3d": [
           {
            "colorbar": {
             "outlinewidth": 0,
             "ticks": ""
            },
            "type": "mesh3d"
           }
          ],
          "parcoords": [
           {
            "line": {
             "colorbar": {
              "outlinewidth": 0,
              "ticks": ""
             }
            },
            "type": "parcoords"
           }
          ],
          "pie": [
           {
            "automargin": true,
            "type": "pie"
           }
          ],
          "scatter": [
           {
            "fillpattern": {
             "fillmode": "overlay",
             "size": 10,
             "solidity": 0.2
            },
            "type": "scatter"
           }
          ],
          "scatter3d": [
           {
            "line": {
             "colorbar": {
              "outlinewidth": 0,
              "ticks": ""
             }
            },
            "marker": {
             "colorbar": {
              "outlinewidth": 0,
              "ticks": ""
             }
            },
            "type": "scatter3d"
           }
          ],
          "scattercarpet": [
           {
            "marker": {
             "colorbar": {
              "outlinewidth": 0,
              "ticks": ""
             }
            },
            "type": "scattercarpet"
           }
          ],
          "scattergeo": [
           {
            "marker": {
             "colorbar": {
              "outlinewidth": 0,
              "ticks": ""
             }
            },
            "type": "scattergeo"
           }
          ],
          "scattergl": [
           {
            "marker": {
             "colorbar": {
              "outlinewidth": 0,
              "ticks": ""
             }
            },
            "type": "scattergl"
           }
          ],
          "scattermapbox": [
           {
            "marker": {
             "colorbar": {
              "outlinewidth": 0,
              "ticks": ""
             }
            },
            "type": "scattermapbox"
           }
          ],
          "scatterpolar": [
           {
            "marker": {
             "colorbar": {
              "outlinewidth": 0,
              "ticks": ""
             }
            },
            "type": "scatterpolar"
           }
          ],
          "scatterpolargl": [
           {
            "marker": {
             "colorbar": {
              "outlinewidth": 0,
              "ticks": ""
             }
            },
            "type": "scatterpolargl"
           }
          ],
          "scatterternary": [
           {
            "marker": {
             "colorbar": {
              "outlinewidth": 0,
              "ticks": ""
             }
            },
            "type": "scatterternary"
           }
          ],
          "surface": [
           {
            "colorbar": {
             "outlinewidth": 0,
             "ticks": ""
            },
            "colorscale": [
             [
              0,
              "#0d0887"
             ],
             [
              0.1111111111111111,
              "#46039f"
             ],
             [
              0.2222222222222222,
              "#7201a8"
             ],
             [
              0.3333333333333333,
              "#9c179e"
             ],
             [
              0.4444444444444444,
              "#bd3786"
             ],
             [
              0.5555555555555556,
              "#d8576b"
             ],
             [
              0.6666666666666666,
              "#ed7953"
             ],
             [
              0.7777777777777778,
              "#fb9f3a"
             ],
             [
              0.8888888888888888,
              "#fdca26"
             ],
             [
              1,
              "#f0f921"
             ]
            ],
            "type": "surface"
           }
          ],
          "table": [
           {
            "cells": {
             "fill": {
              "color": "#EBF0F8"
             },
             "line": {
              "color": "white"
             }
            },
            "header": {
             "fill": {
              "color": "#C8D4E3"
             },
             "line": {
              "color": "white"
             }
            },
            "type": "table"
           }
          ]
         },
         "layout": {
          "annotationdefaults": {
           "arrowcolor": "#2a3f5f",
           "arrowhead": 0,
           "arrowwidth": 1
          },
          "autotypenumbers": "strict",
          "coloraxis": {
           "colorbar": {
            "outlinewidth": 0,
            "ticks": ""
           }
          },
          "colorscale": {
           "diverging": [
            [
             0,
             "#8e0152"
            ],
            [
             0.1,
             "#c51b7d"
            ],
            [
             0.2,
             "#de77ae"
            ],
            [
             0.3,
             "#f1b6da"
            ],
            [
             0.4,
             "#fde0ef"
            ],
            [
             0.5,
             "#f7f7f7"
            ],
            [
             0.6,
             "#e6f5d0"
            ],
            [
             0.7,
             "#b8e186"
            ],
            [
             0.8,
             "#7fbc41"
            ],
            [
             0.9,
             "#4d9221"
            ],
            [
             1,
             "#276419"
            ]
           ],
           "sequential": [
            [
             0,
             "#0d0887"
            ],
            [
             0.1111111111111111,
             "#46039f"
            ],
            [
             0.2222222222222222,
             "#7201a8"
            ],
            [
             0.3333333333333333,
             "#9c179e"
            ],
            [
             0.4444444444444444,
             "#bd3786"
            ],
            [
             0.5555555555555556,
             "#d8576b"
            ],
            [
             0.6666666666666666,
             "#ed7953"
            ],
            [
             0.7777777777777778,
             "#fb9f3a"
            ],
            [
             0.8888888888888888,
             "#fdca26"
            ],
            [
             1,
             "#f0f921"
            ]
           ],
           "sequentialminus": [
            [
             0,
             "#0d0887"
            ],
            [
             0.1111111111111111,
             "#46039f"
            ],
            [
             0.2222222222222222,
             "#7201a8"
            ],
            [
             0.3333333333333333,
             "#9c179e"
            ],
            [
             0.4444444444444444,
             "#bd3786"
            ],
            [
             0.5555555555555556,
             "#d8576b"
            ],
            [
             0.6666666666666666,
             "#ed7953"
            ],
            [
             0.7777777777777778,
             "#fb9f3a"
            ],
            [
             0.8888888888888888,
             "#fdca26"
            ],
            [
             1,
             "#f0f921"
            ]
           ]
          },
          "colorway": [
           "#636efa",
           "#EF553B",
           "#00cc96",
           "#ab63fa",
           "#FFA15A",
           "#19d3f3",
           "#FF6692",
           "#B6E880",
           "#FF97FF",
           "#FECB52"
          ],
          "font": {
           "color": "#2a3f5f"
          },
          "geo": {
           "bgcolor": "white",
           "lakecolor": "white",
           "landcolor": "#E5ECF6",
           "showlakes": true,
           "showland": true,
           "subunitcolor": "white"
          },
          "hoverlabel": {
           "align": "left"
          },
          "hovermode": "closest",
          "mapbox": {
           "style": "light"
          },
          "paper_bgcolor": "white",
          "plot_bgcolor": "#E5ECF6",
          "polar": {
           "angularaxis": {
            "gridcolor": "white",
            "linecolor": "white",
            "ticks": ""
           },
           "bgcolor": "#E5ECF6",
           "radialaxis": {
            "gridcolor": "white",
            "linecolor": "white",
            "ticks": ""
           }
          },
          "scene": {
           "xaxis": {
            "backgroundcolor": "#E5ECF6",
            "gridcolor": "white",
            "gridwidth": 2,
            "linecolor": "white",
            "showbackground": true,
            "ticks": "",
            "zerolinecolor": "white"
           },
           "yaxis": {
            "backgroundcolor": "#E5ECF6",
            "gridcolor": "white",
            "gridwidth": 2,
            "linecolor": "white",
            "showbackground": true,
            "ticks": "",
            "zerolinecolor": "white"
           },
           "zaxis": {
            "backgroundcolor": "#E5ECF6",
            "gridcolor": "white",
            "gridwidth": 2,
            "linecolor": "white",
            "showbackground": true,
            "ticks": "",
            "zerolinecolor": "white"
           }
          },
          "shapedefaults": {
           "line": {
            "color": "#2a3f5f"
           }
          },
          "ternary": {
           "aaxis": {
            "gridcolor": "white",
            "linecolor": "white",
            "ticks": ""
           },
           "baxis": {
            "gridcolor": "white",
            "linecolor": "white",
            "ticks": ""
           },
           "bgcolor": "#E5ECF6",
           "caxis": {
            "gridcolor": "white",
            "linecolor": "white",
            "ticks": ""
           }
          },
          "title": {
           "x": 0.05
          },
          "xaxis": {
           "automargin": true,
           "gridcolor": "white",
           "linecolor": "white",
           "ticks": "",
           "title": {
            "standoff": 15
           },
           "zerolinecolor": "white",
           "zerolinewidth": 2
          },
          "yaxis": {
           "automargin": true,
           "gridcolor": "white",
           "linecolor": "white",
           "ticks": "",
           "title": {
            "standoff": 15
           },
           "zerolinecolor": "white",
           "zerolinewidth": 2
          }
         }
        },
        "title": {
         "text": "HDI and low/high crime rates"
        },
        "width": 1100,
        "xaxis": {
         "autorange": true,
         "range": [
          -0.5,
          9.5
         ],
         "tickmode": "array",
         "ticktext": [
          "Qatar",
          "United Arab Emirates",
          "Oman",
          "Switzerland",
          "Hong Kong",
          "Venezuela",
          "Papua New Guinea",
          "South Africa",
          "Afghanistan",
          "Honduras"
         ],
         "tickvals": [
          0,
          1,
          2,
          3,
          4,
          5,
          6,
          7,
          8,
          9
         ],
         "title": {
          "text": "Countries with lowest and highest crime rates"
         },
         "type": "category"
        },
        "yaxis": {
         "autorange": true,
         "range": [
          -0.5,
          15.5
         ],
         "tickmode": "array",
         "ticktext": [
          "Human Development Index (2021)",
          "Life Expectancy at Birth (2021)",
          "HDI female (2021)",
          "Life Expectancy at Birth, female (2021)",
          "Gross National Income Per Capita, female (2021)",
          "HDI male (2021)",
          "Life Expectancy at Birth, male (2021)",
          "Gross National Income Per Capita, male (2021)",
          "Inequality-adjusted Human Development Index (2021)",
          "Coefficient of human inequality (2021)",
          "Overall loss (%) (2021)",
          "Inequality in life expectancy (2021)",
          "Inequality in income (2021)",
          "GII Rank (2021)",
          "Gender Inequality Index (2021)",
          "Adolescent Birth Rate"
         ],
         "tickvals": [
          0,
          1,
          2,
          3,
          4,
          5,
          6,
          7,
          8,
          9,
          10,
          11,
          12,
          13,
          14,
          15
         ],
         "title": {
          "text": "Crime predictors"
         },
         "type": "category"
        }
       }
      },
      "image/png": "[encoded data removed]",
      "text/html": [
       "<div>                            <div id=\"3f1f609d-93b3-47ce-b72b-1fc9891c38cf\" class=\"plotly-graph-div\" style=\"height:500px; width:1100px;\"></div>            <script type=\"text/javascript\">                require([\"plotly\"], function(Plotly) {                    window.PLOTLYENV=window.PLOTLYENV || {};                                    if (document.getElementById(\"3f1f609d-93b3-47ce-b72b-1fc9891c38cf\")) {                    Plotly.newPlot(                        \"3f1f609d-93b3-47ce-b72b-1fc9891c38cf\",                        [{\"colorbar\":{\"title\":{\"side\":\"right\",\"text\":\"values\"}},\"colorscale\":[[0.0,\"rgb(103,0,31)\"],[0.1,\"rgb(178,24,43)\"],[0.2,\"rgb(214,96,77)\"],[0.3,\"rgb(244,165,130)\"],[0.4,\"rgb(253,219,199)\"],[0.5,\"rgb(247,247,247)\"],[0.6,\"rgb(209,229,240)\"],[0.7,\"rgb(146,197,222)\"],[0.8,\"rgb(67,147,195)\"],[0.9,\"rgb(33,102,172)\"],[1.0,\"rgb(5,48,97)\"]],\"x\":[\"Qatar\",\"United Arab Emirates\",\"Oman\",\"Switzerland\",\"Hong Kong\",\"Venezuela\",\"Papua New Guinea\",\"South Africa\",\"Afghanistan\",\"Honduras\"],\"y\":[\"Human Development Index (2021)\",\"Life Expectancy at Birth (2021)\",\"HDI female (2021)\",\"Life Expectancy at Birth, female (2021)\",\"Gross National Income Per Capita, female (2021)\",\"HDI male (2021)\",\"Life Expectancy at Birth, male (2021)\",\"Gross National Income Per Capita, male (2021)\",\"Inequality-adjusted Human Development Index (2021)\",\"Coefficient of human inequality (2021)\",\"Overall loss (%) (2021)\",\"Inequality in life expectancy (2021)\",\"Inequality in income (2021)\",\"GII Rank (2021)\",\"Gender Inequality Index (2021)\",\"Adolescent Birth Rate\"],\"z\":[[0.4659413648860782,0.6600488172257665,0.3307593891495096,0.836825247035125,0.8021632019744663,-0.10251617410872266,-0.5635213734154815,-0.026259674975273706,-0.8408177339007503,-0.34515048953333255],[0.47845927210755906,0.44487549668559256,0.07565743254010218,0.7606539466974113,0.8495923056284991,-0.04325019711678887,-0.35461224900647487,-0.5347151187676124,-0.5561747443312568,-0.06902448805449561],[0.4769312581985436,0.5097825869926008,0.14520184525370483,0.7035090731958872,0.6958510659895143,-0.06610881975967224,-0.47721987214113104,-0.04677029069109346,-0.9808895920518577,-0.27501351180386036],[0.3916136254476834,0.3915966068747477,0.03865409561412556,0.6729022717903921,0.8107413668561405,0.06654753665611574,-0.3187586274710019,-0.5125377717771543,-0.49665944322793104,-0.08509362106067281],[0.7356614800727006,0.38381775364117954,-0.1968691759112708,1.0692538730853889,0.9928604849743233,-0.3117527037017056,-0.2936867452549546,-0.12304441577307794,-0.3740298745584762,-0.27423475048972695],[0.40751986436625226,0.6587815222877753,0.35589524598106725,0.8543166130594284,0.81412674709401,-0.15814064532642907,-0.560736685812472,-0.030420314561560073,-0.7105390120959221,-0.3640210192395918],[0.5689177254689554,0.5043003662141002,0.13736208094391458,0.7856611283162401,0.8248790080425805,-0.14082521813878338,-0.3357841809639315,-0.5412879902970918,-0.5732463525782171,-0.04454388092742799],[1.5292281324766526,1.0175469663990255,0.2982747313830923,1.058346622154638,0.9790831409218056,-0.33148968674842855,-0.3764579478347445,-0.15294643145851888,-0.4023944163495132,-0.34089209104657203],[null,null,0.32491927825261135,0.8760303893637226,0.6804748338081669,-0.0187844254510923,-0.5965622032288699,-0.3773029439696108,null,-0.35359924026590706],[null,null,-0.2661579996738906,-0.5839540231082556,-0.2981457118569485,-0.20863863626364978,0.5311604084429562,0.6642431042420551,null,0.20777956709761805],[null,null,-0.2686887998070441,-0.5763528603208119,-0.27917016658648125,-0.21421906474767025,0.5105012419901858,0.7643505623904138,null,0.2118168714327517],[-0.4807880536873763,-0.44611558102273824,-0.308851768803031,-0.5216226670874685,-0.5772815112130489,-0.005767144604600074,0.4224747608986494,0.31550756969384114,0.7033814026790519,-0.14820754779871975],[null,null,-0.11169731499672615,-0.2968304659272107,0.11314463571425062,-0.07427160671039013,0.2501973479742358,1.404284078187525,null,0.4971520473874305],[-0.37131917855899754,-0.880194918203968,-0.1583014270797076,-0.9748694744169857,null,0.44524886877828057,0.9896275670031326,0.13755656108597286,0.9659589279498781,0.25589975635224504],[-0.3082440411108681,-0.7320358626722064,-0.10997886143304907,-0.8088636197973613,null,0.36585756979371675,0.9433049056053648,0.15024418689408858,0.8268241125446463,0.21468037028937972],[-0.44442770247433966,-0.4916096918394435,-0.41037945462678105,-0.5019485163162847,-0.5093858379330731,0.4514379520218056,0.12617355997547622,0.1967096866468011,0.4496615216993242,0.32421001232569346]],\"zmid\":0,\"type\":\"heatmap\"}],                        {\"template\":{\"data\":{\"histogram2dcontour\":[{\"type\":\"histogram2dcontour\",\"colorbar\":{\"outlinewidth\":0,\"ticks\":\"\"},\"colorscale\":[[0.0,\"#0d0887\"],[0.1111111111111111,\"#46039f\"],[0.2222222222222222,\"#7201a8\"],[0.3333333333333333,\"#9c179e\"],[0.4444444444444444,\"#bd3786\"],[0.5555555555555556,\"#d8576b\"],[0.6666666666666666,\"#ed7953\"],[0.7777777777777778,\"#fb9f3a\"],[0.8888888888888888,\"#fdca26\"],[1.0,\"#f0f921\"]]}],\"choropleth\":[{\"type\":\"choropleth\",\"colorbar\":{\"outlinewidth\":0,\"ticks\":\"\"}}],\"histogram2d\":[{\"type\":\"histogram2d\",\"colorbar\":{\"outlinewidth\":0,\"ticks\":\"\"},\"colorscale\":[[0.0,\"#0d0887\"],[0.1111111111111111,\"#46039f\"],[0.2222222222222222,\"#7201a8\"],[0.3333333333333333,\"#9c179e\"],[0.4444444444444444,\"#bd3786\"],[0.5555555555555556,\"#d8576b\"],[0.6666666666666666,\"#ed7953\"],[0.7777777777777778,\"#fb9f3a\"],[0.8888888888888888,\"#fdca26\"],[1.0,\"#f0f921\"]]}],\"heatmap\":[{\"type\":\"heatmap\",\"colorbar\":{\"outlinewidth\":0,\"ticks\":\"\"},\"colorscale\":[[0.0,\"#0d0887\"],[0.1111111111111111,\"#46039f\"],[0.2222222222222222,\"#7201a8\"],[0.3333333333333333,\"#9c179e\"],[0.4444444444444444,\"#bd3786\"],[0.5555555555555556,\"#d8576b\"],[0.6666666666666666,\"#ed7953\"],[0.7777777777777778,\"#fb9f3a\"],[0.8888888888888888,\"#fdca26\"],[1.0,\"#f0f921\"]]}],\"heatmapgl\":[{\"type\":\"heatmapgl\",\"colorbar\":{\"outlinewidth\":0,\"ticks\":\"\"},\"colorscale\":[[0.0,\"#0d0887\"],[0.1111111111111111,\"#46039f\"],[0.2222222222222222,\"#7201a8\"],[0.3333333333333333,\"#9c179e\"],[0.4444444444444444,\"#bd3786\"],[0.5555555555555556,\"#d8576b\"],[0.6666666666666666,\"#ed7953\"],[0.7777777777777778,\"#fb9f3a\"],[0.8888888888888888,\"#fdca26\"],[1.0,\"#f0f921\"]]}],\"contourcarpet\":[{\"type\":\"contourcarpet\",\"colorbar\":{\"outlinewidth\":0,\"ticks\":\"\"}}],\"contour\":[{\"type\":\"contour\",\"colorbar\":{\"outlinewidth\":0,\"ticks\":\"\"},\"colorscale\":[[0.0,\"#0d0887\"],[0.1111111111111111,\"#46039f\"],[0.2222222222222222,\"#7201a8\"],[0.3333333333333333,\"#9c179e\"],[0.4444444444444444,\"#bd3786\"],[0.5555555555555556,\"#d8576b\"],[0.6666666666666666,\"#ed7953\"],[0.7777777777777778,\"#fb9f3a\"],[0.8888888888888888,\"#fdca26\"],[1.0,\"#f0f921\"]]}],\"surface\":[{\"type\":\"surface\",\"colorbar\":{\"outlinewidth\":0,\"ticks\":\"\"},\"colorscale\":[[0.0,\"#0d0887\"],[0.1111111111111111,\"#46039f\"],[0.2222222222222222,\"#7201a8\"],[0.3333333333333333,\"#9c179e\"],[0.4444444444444444,\"#bd3786\"],[0.5555555555555556,\"#d8576b\"],[0.6666666666666666,\"#ed7953\"],[0.7777777777777778,\"#fb9f3a\"],[0.8888888888888888,\"#fdca26\"],[1.0,\"#f0f921\"]]}],\"mesh3d\":[{\"type\":\"mesh3d\",\"colorbar\":{\"outlinewidth\":0,\"ticks\":\"\"}}],\"scatter\":[{\"fillpattern\":{\"fillmode\":\"overlay\",\"size\":10,\"solidity\":0.2},\"type\":\"scatter\"}],\"parcoords\":[{\"type\":\"parcoords\",\"line\":{\"colorbar\":{\"outlinewidth\":0,\"ticks\":\"\"}}}],\"scatterpolargl\":[{\"type\":\"scatterpolargl\",\"marker\":{\"colorbar\":{\"outlinewidth\":0,\"ticks\":\"\"}}}],\"bar\":[{\"error_x\":{\"color\":\"#2a3f5f\"},\"error_y\":{\"color\":\"#2a3f5f\"},\"marker\":{\"line\":{\"color\":\"#E5ECF6\",\"width\":0.5},\"pattern\":{\"fillmode\":\"overlay\",\"size\":10,\"solidity\":0.2}},\"type\":\"bar\"}],\"scattergeo\":[{\"type\":\"scattergeo\",\"marker\":{\"colorbar\":{\"outlinewidth\":0,\"ticks\":\"\"}}}],\"scatterpolar\":[{\"type\":\"scatterpolar\",\"marker\":{\"colorbar\":{\"outlinewidth\":0,\"ticks\":\"\"}}}],\"histogram\":[{\"marker\":{\"pattern\":{\"fillmode\":\"overlay\",\"size\":10,\"solidity\":0.2}},\"type\":\"histogram\"}],\"scattergl\":[{\"type\":\"scattergl\",\"marker\":{\"colorbar\":{\"outlinewidth\":0,\"ticks\":\"\"}}}],\"scatter3d\":[{\"type\":\"scatter3d\",\"line\":{\"colorbar\":{\"outlinewidth\":0,\"ticks\":\"\"}},\"marker\":{\"colorbar\":{\"outlinewidth\":0,\"ticks\":\"\"}}}],\"scattermapbox\":[{\"type\":\"scattermapbox\",\"marker\":{\"colorbar\":{\"outlinewidth\":0,\"ticks\":\"\"}}}],\"scatterternary\":[{\"type\":\"scatterternary\",\"marker\":{\"colorbar\":{\"outlinewidth\":0,\"ticks\":\"\"}}}],\"scattercarpet\":[{\"type\":\"scattercarpet\",\"marker\":{\"colorbar\":{\"outlinewidth\":0,\"ticks\":\"\"}}}],\"carpet\":[{\"aaxis\":{\"endlinecolor\":\"#2a3f5f\",\"gridcolor\":\"white\",\"linecolor\":\"white\",\"minorgridcolor\":\"white\",\"startlinecolor\":\"#2a3f5f\"},\"baxis\":{\"endlinecolor\":\"#2a3f5f\",\"gridcolor\":\"white\",\"linecolor\":\"white\",\"minorgridcolor\":\"white\",\"startlinecolor\":\"#2a3f5f\"},\"type\":\"carpet\"}],\"table\":[{\"cells\":{\"fill\":{\"color\":\"#EBF0F8\"},\"line\":{\"color\":\"white\"}},\"header\":{\"fill\":{\"color\":\"#C8D4E3\"},\"line\":{\"color\":\"white\"}},\"type\":\"table\"}],\"barpolar\":[{\"marker\":{\"line\":{\"color\":\"#E5ECF6\",\"width\":0.5},\"pattern\":{\"fillmode\":\"overlay\",\"size\":10,\"solidity\":0.2}},\"type\":\"barpolar\"}],\"pie\":[{\"automargin\":true,\"type\":\"pie\"}]},\"layout\":{\"autotypenumbers\":\"strict\",\"colorway\":[\"#636efa\",\"#EF553B\",\"#00cc96\",\"#ab63fa\",\"#FFA15A\",\"#19d3f3\",\"#FF6692\",\"#B6E880\",\"#FF97FF\",\"#FECB52\"],\"font\":{\"color\":\"#2a3f5f\"},\"hovermode\":\"closest\",\"hoverlabel\":{\"align\":\"left\"},\"paper_bgcolor\":\"white\",\"plot_bgcolor\":\"#E5ECF6\",\"polar\":{\"bgcolor\":\"#E5ECF6\",\"angularaxis\":{\"gridcolor\":\"white\",\"linecolor\":\"white\",\"ticks\":\"\"},\"radialaxis\":{\"gridcolor\":\"white\",\"linecolor\":\"white\",\"ticks\":\"\"}},\"ternary\":{\"bgcolor\":\"#E5ECF6\",\"aaxis\":{\"gridcolor\":\"white\",\"linecolor\":\"white\",\"ticks\":\"\"},\"baxis\":{\"gridcolor\":\"white\",\"linecolor\":\"white\",\"ticks\":\"\"},\"caxis\":{\"gridcolor\":\"white\",\"linecolor\":\"white\",\"ticks\":\"\"}},\"coloraxis\":{\"colorbar\":{\"outlinewidth\":0,\"ticks\":\"\"}},\"colorscale\":{\"sequential\":[[0.0,\"#0d0887\"],[0.1111111111111111,\"#46039f\"],[0.2222222222222222,\"#7201a8\"],[0.3333333333333333,\"#9c179e\"],[0.4444444444444444,\"#bd3786\"],[0.5555555555555556,\"#d8576b\"],[0.6666666666666666,\"#ed7953\"],[0.7777777777777778,\"#fb9f3a\"],[0.8888888888888888,\"#fdca26\"],[1.0,\"#f0f921\"]],\"sequentialminus\":[[0.0,\"#0d0887\"],[0.1111111111111111,\"#46039f\"],[0.2222222222222222,\"#7201a8\"],[0.3333333333333333,\"#9c179e\"],[0.4444444444444444,\"#bd3786\"],[0.5555555555555556,\"#d8576b\"],[0.6666666666666666,\"#ed7953\"],[0.7777777777777778,\"#fb9f3a\"],[0.8888888888888888,\"#fdca26\"],[1.0,\"#f0f921\"]],\"diverging\":[[0,\"#8e0152\"],[0.1,\"#c51b7d\"],[0.2,\"#de77ae\"],[0.3,\"#f1b6da\"],[0.4,\"#fde0ef\"],[0.5,\"#f7f7f7\"],[0.6,\"#e6f5d0\"],[0.7,\"#b8e186\"],[0.8,\"#7fbc41\"],[0.9,\"#4d9221\"],[1,\"#276419\"]]},\"xaxis\":{\"gridcolor\":\"white\",\"linecolor\":\"white\",\"ticks\":\"\",\"title\":{\"standoff\":15},\"zerolinecolor\":\"white\",\"automargin\":true,\"zerolinewidth\":2},\"yaxis\":{\"gridcolor\":\"white\",\"linecolor\":\"white\",\"ticks\":\"\",\"title\":{\"standoff\":15},\"zerolinecolor\":\"white\",\"automargin\":true,\"zerolinewidth\":2},\"scene\":{\"xaxis\":{\"backgroundcolor\":\"#E5ECF6\",\"gridcolor\":\"white\",\"linecolor\":\"white\",\"showbackground\":true,\"ticks\":\"\",\"zerolinecolor\":\"white\",\"gridwidth\":2},\"yaxis\":{\"backgroundcolor\":\"#E5ECF6\",\"gridcolor\":\"white\",\"linecolor\":\"white\",\"showbackground\":true,\"ticks\":\"\",\"zerolinecolor\":\"white\",\"gridwidth\":2},\"zaxis\":{\"backgroundcolor\":\"#E5ECF6\",\"gridcolor\":\"white\",\"linecolor\":\"white\",\"showbackground\":true,\"ticks\":\"\",\"zerolinecolor\":\"white\",\"gridwidth\":2}},\"shapedefaults\":{\"line\":{\"color\":\"#2a3f5f\"}},\"annotationdefaults\":{\"arrowcolor\":\"#2a3f5f\",\"arrowhead\":0,\"arrowwidth\":1},\"geo\":{\"bgcolor\":\"white\",\"landcolor\":\"#E5ECF6\",\"subunitcolor\":\"white\",\"showland\":true,\"showlakes\":true,\"lakecolor\":\"white\"},\"title\":{\"x\":0.05},\"mapbox\":{\"style\":\"light\"}}},\"xaxis\":{\"title\":{\"text\":\"Countries with lowest and highest crime rates\"},\"tickmode\":\"array\",\"tickvals\":[0,1,2,3,4,5,6,7,8,9],\"ticktext\":[\"Qatar\",\"United Arab Emirates\",\"Oman\",\"Switzerland\",\"Hong Kong\",\"Venezuela\",\"Papua New Guinea\",\"South Africa\",\"Afghanistan\",\"Honduras\"]},\"yaxis\":{\"title\":{\"text\":\"Crime predictors\"},\"tickmode\":\"array\",\"tickvals\":[0,1,2,3,4,5,6,7,8,9,10,11,12,13,14,15],\"ticktext\":[\"Human Development Index (2021)\",\"Life Expectancy at Birth (2021)\",\"HDI female (2021)\",\"Life Expectancy at Birth, female (2021)\",\"Gross National Income Per Capita, female (2021)\",\"HDI male (2021)\",\"Life Expectancy at Birth, male (2021)\",\"Gross National Income Per Capita, male (2021)\",\"Inequality-adjusted Human Development Index (2021)\",\"Coefficient of human inequality (2021)\",\"Overall loss (%) (2021)\",\"Inequality in life expectancy (2021)\",\"Inequality in income (2021)\",\"GII Rank (2021)\",\"Gender Inequality Index (2021)\",\"Adolescent Birth Rate\"]},\"title\":{\"text\":\"HDI and low\\u002fhigh crime rates\"},\"height\":500,\"width\":1100},                        {\"responsive\": true}                    ).then(function(){\n",
       "                            \n",
       "var gd = document.getElementById('3f1f609d-93b3-47ce-b72b-1fc9891c38cf');\n",
       "var x = new MutationObserver(function (mutations, observer) {{\n",
       "        var display = window.getComputedStyle(gd).display;\n",
       "        if (!display || display === 'none') {{\n",
       "            console.log([gd, 'removed!']);\n",
       "            Plotly.purge(gd);\n",
       "            observer.disconnect();\n",
       "        }}\n",
       "}});\n",
       "\n",
       "// Listen for the removal of the full notebook cells\n",
       "var notebookContainer = gd.closest('#notebook-container');\n",
       "if (notebookContainer) {{\n",
       "    x.observe(notebookContainer, {childList: true});\n",
       "}}\n",
       "\n",
       "// Listen for the clearing of the current output cell\n",
       "var outputEl = gd.closest('.output');\n",
       "if (outputEl) {{\n",
       "    x.observe(outputEl, {childList: true});\n",
       "}}\n",
       "\n",
       "                        })                };                });            </script>        </div>"
      ]
     },
     "metadata": {},
     "output_type": "display_data"
    }
   ],
   "source": [
    "crime = pd.read_csv(\"datasets/crime-rate-by-country-2023.csv\")\n",
    "HDI = pd.read_csv(\"datasets/Human Development Index.csv\")\n",
    "\n",
    "# index = country\n",
    "crime = crime.groupby('country').first()\n",
    "HDI = HDI.groupby('Country').first()\n",
    "\n",
    "# filter data 2021\n",
    "stats_2021 = [col for col in HDI.columns if '2021' in col]\n",
    "HDI_2021 = HDI[stats_2021]\n",
    "\n",
    "HC = HDI_2021.copy()\n",
    "HC = HC.loc[:, [#'HDI Rank (2021)',\n",
    "             'Human Development Index (2021)',\n",
    "             'Life Expectancy at Birth (2021)',\n",
    "             'HDI female (2021)',\n",
    "             'Life Expectancy at Birth, female (2021)',\n",
    "             'Gross National Income Per Capita, female (2021)',\n",
    "             'HDI male (2021)',\n",
    "             'Life Expectancy at Birth, male (2021)',\n",
    "             'Gross National Income Per Capita, male (2021)',\n",
    "             'Inequality-adjusted Human Development Index (2021)',\n",
    "             'Coefficient of human inequality (2021)',\n",
    "             'Overall loss (%) (2021)',\n",
    "             'Inequality in life expectancy (2021)',\n",
    "             'Inequality in income (2021)',\n",
    "             'GII Rank (2021)',\n",
    "             'Gender Inequality Index (2021)',\n",
    "             'Adolescent Birth Rate (births per 1,000 women ages 15-19) (2021)']]\n",
    "\n",
    "HC.rename(columns = {'Adolescent Birth Rate (births per 1,000 women ages 15-19) (2021)' : 'Adolescent Birth Rate'}, inplace=True)\n",
    "\n",
    "# standardize data\n",
    "HC_standardized = 2 * (HC - HC.mean()) / (HC.max() - HC.min())\n",
    "\n",
    "HCC = crime.join(HC_standardized)\n",
    "HCC = HCC.drop(columns=['rank', 'pop2023'])\n",
    "\n",
    "low5 = HCC.nsmallest(6, 'crimeIndex')\n",
    "high5 = HCC.nlargest(5, 'crimeIndex')\n",
    "\n",
    "df = pd.concat([low5, high5])\n",
    "df = df.drop(\"Taiwan\", axis='index')\n",
    "\n",
    "df = df.drop(columns=['crimeIndex'])\n",
    "\n",
    "df = df.T\n",
    "\n",
    "HDIfig = go.Figure(data=go.Heatmap(z=df.values,\n",
    "                                   x=df.columns,\n",
    "                                   y=df.index,\n",
    "                                   colorscale='RdBu',\n",
    "                                   zmid=0,\n",
    "                                   colorbar=dict(title='values', titleside='right')))\n",
    "\n",
    "# Update layout for better visualization\n",
    "HDIfig.update_layout(\n",
    "    title='HDI and low/high crime rates',\n",
    "    xaxis_title='Countries with lowest and highest crime rates',\n",
    "    yaxis_title='Crime predictors',\n",
    "    xaxis=dict(tickmode='array', tickvals=list(range(len(df.columns))), ticktext=df.columns),\n",
    "    yaxis=dict(tickmode='array', tickvals=list(range(len(df.index))), ticktext=df.index)\n",
    ")\n",
    "\n",
    "HDIfig.update_layout(\n",
    "    height=500,\n",
    "    width=1100\n",
    ")\n",
    "\n",
    "# Show the interactive heatmap\n",
    "HDIfig.show()"
   ]
  },
  {
   "cell_type": "markdown",
   "id": "6b20dad6-f0a3-4489-a978-36a28ff1f7a5",
   "metadata": {
    "editable": true,
    "slideshow": {
     "slide_type": ""
    },
    "tags": []
   },
   "source": [
    "The clear color-coordination of this map visualizes how countries with lower crime rates score higher on overall gross national income per capita, gross national income for females, gross national income for males, overall life expectancy at birth, life expectancy for males, and life expectancy for females. Lower crime rates also correlate with lower values of inequality of human development, overall loss,  inequality of life expectancy, income inequality, gender inequality, and adolescent birth rates of women aged 15-19.\n",
    "\n",
    "Some of these points can be explained by the fact that a much higher or a much lower score on this index is a result of poverty, which can be a cause for crime. For example, A low life expectancy is most likely the cause of insufficient access to healthcare. If someone doesn’t have sufficient funds for healthcare, it is likely they do not have money for other basic needs either, and are forced to perform illegal activities.\n",
    "\n",
    "These cross-national patterns of crime rate prediction show how combating these structural issues might help combat crime. This implies how the prevention of illegal activity cannot be encountered by surveillance technologies only, as the pressure of unfortunate demographic dimensions outweigh the potential risk one might take for getting caught."
   ]
  },
  {
   "cell_type": "markdown",
   "id": "cbc67ef7-90cf-4797-b6f4-45693485d394",
   "metadata": {
    "editable": true,
    "slideshow": {
     "slide_type": ""
    },
    "tags": []
   },
   "source": [
    "## Analysis of Legal Enforcement and Crime\n",
    "\n",
    "To further understand crime rates in relation to the human development index, there is a need to consider whether every country reacts upon crime the same way. This consideration is illustrated by the Rule of Law metric, which encapsulates the question whether all laws are transparently, independently, impartially and equally enforced."
   ]
  },
  {
   "cell_type": "code",
   "execution_count": 5,
   "id": "97f19413-2d21-413d-acaf-58806635e02c",
   "metadata": {
    "editable": true,
    "slideshow": {
     "slide_type": ""
    },
    "tags": [
     "remove-input"
    ]
   },
   "outputs": [
    {
     "data": {
      "application/vnd.plotly.v1+json": {
       "config": {
        "plotlyServerURL": "https://plot.ly"
       },
       "data": [
        {
         "hovertemplate": "<b>%{hovertext}</b><br><br>Crime Index=%{x}<br>Legal Enforcement=%{y}<br>GDP=%{marker.size}<br>HDI=%{marker.color}<extra></extra>",
         "hovertext": [
          "Papua New Guinea",
          "South Africa",
          "Honduras",
          "Guyana",
          "El Salvador",
          "Brazil",
          "Jamaica",
          "Peru",
          "Angola",
          "Cameroon",
          "Namibia",
          "Nigeria",
          "Bangladesh",
          "Argentina",
          "Libya",
          "Dominican Republic",
          "Kenya",
          "Belarus",
          "Zimbabwe",
          "Guatemala",
          "Bolivia",
          "Fiji",
          "Malaysia",
          "Colombia",
          "Uganda",
          "Mongolia",
          "Tanzania",
          "Ecuador",
          "Costa Rica",
          "Mexico",
          "Kazakhstan",
          "Chile",
          "Botswana",
          "Algeria",
          "France",
          "Uruguay",
          "Cambodia",
          "Belize",
          "Paraguay",
          "Ethiopia",
          "Mauritius",
          "Morocco",
          "Iraq",
          "Sweden",
          "Nicaragua",
          "United States",
          "Ukraine",
          "Ghana",
          "Lebanon",
          "Myanmar",
          "Moldova",
          "United Kingdom",
          "Indonesia",
          "Greece",
          "Ireland",
          "Panama",
          "Italy",
          "Belgium",
          "India",
          "Tunisia",
          "Zambia",
          "Australia",
          "New Zealand",
          "Albania",
          "Pakistan",
          "Philippines",
          "Sudan",
          "Canada",
          "Sri Lanka",
          "Montenegro",
          "Malta",
          "Jordan",
          "Turkey",
          "Thailand",
          "North Macedonia",
          "Latvia",
          "Bulgaria",
          "Serbia",
          "Nepal",
          "Germany",
          "Hungary",
          "Luxembourg",
          "Norway",
          "Kuwait",
          "Lithuania",
          "Spain",
          "Azerbaijan",
          "Israel",
          "Cyprus",
          "Poland",
          "China",
          "Portugal",
          "Romania",
          "Singapore",
          "Finland",
          "Netherlands",
          "Denmark",
          "Bahrain",
          "Austria",
          "Saudi Arabia",
          "Rwanda",
          "Croatia",
          "Iceland",
          "Estonia",
          "Georgia",
          "Armenia",
          "Slovenia",
          "Japan",
          "Switzerland",
          "Oman",
          "United Arab Emirates",
          "Qatar"
         ],
         "legendgroup": "",
         "marker": {
          "color": [
           0.558,
           0.713,
           0.621,
           0.714,
           0.675,
           0.754,
           0.709,
           0.762,
           0.586,
           0.576,
           0.615,
           0.535,
           0.661,
           0.842,
           0.718,
           0.767,
           0.575,
           0.808,
           0.593,
           0.627,
           0.692,
           0.73,
           0.803,
           0.752,
           0.525,
           0.739,
           0.549,
           0.74,
           0.809,
           0.758,
           0.811,
           0.855,
           0.693,
           0.745,
           0.903,
           0.809,
           0.593,
           0.683,
           0.717,
           0.498,
           0.802,
           0.683,
           0.686,
           0.947,
           0.667,
           0.921,
           0.773,
           0.632,
           0.706,
           0.585,
           0.767,
           0.929,
           0.705,
           0.887,
           0.945,
           0.805,
           0.895,
           0.937,
           0.633,
           0.731,
           0.565,
           0.951,
           0.937,
           0.796,
           0.544,
           0.699,
           0.508,
           0.936,
           0.782,
           0.832,
           0.918,
           0.72,
           0.838,
           0.8,
           0.77,
           0.863,
           0.795,
           0.802,
           0.602,
           0.942,
           0.846,
           0.93,
           0.961,
           0.831,
           0.875,
           0.905,
           0.745,
           0.919,
           0.896,
           0.876,
           0.768,
           0.866,
           0.821,
           0.939,
           0.94,
           0.941,
           0.948,
           0.875,
           0.916,
           0.875,
           0.534,
           0.858,
           0.959,
           0.89,
           0.802,
           0.759,
           0.918,
           0.925,
           0.962,
           0.816,
           0.911,
           0.855
          ],
          "coloraxis": "coloraxis",
          "size": [
           4008.623573,
           12948.37325,
           5297.955301,
           22464.65734,
           8295.665889,
           14369.88848,
           8834.47567,
           12245.89366,
           5465.617791,
           3620.932408,
           8633.504452,
           4790.284425,
           5472.104781,
           20925.26814,
           15335.712,
           17989.60037,
           4473.570344,
           18848.96704,
           3809.887158,
           8723.285317,
           8111.190194,
           9980.110866,
           26657.94355,
           14384.35666,
           2181.43651,
           10588.22532,
           2664.329096,
           10311.63273,
           19974.27358,
           17896.29498,
           23942.81837,
           24563.24486,
           16198.31841,
           10800.22546,
           45937.05273,
           21268.88122,
           4078.697154,
           6309.099778,
           12349.286,
           2361.069604,
           22025.34631,
           7302.81917,
           9977.249073,
           54489.37401,
           5624.793595,
           64765.21509,
           13255.50977,
           5744.504017,
           9525.831467,
           3850.524234,
           14875.33189,
           45224.76564,
           11466.06836,
           29002.48545,
           76168.98443,
           26956.83707,
           42839.51441,
           52293.39977,
           6589.980037,
           10257.54477,
           3217.767739,
           49238.43335,
           44057.31394,
           14131.11039,
           4623.70543,
           8920.428468,
           3575.19084,
           46807.98619,
           12578.22055,
           20838.80129,
           38884.45623,
           9923.714974,
           31032.80106,
           17030.15352,
           15917.75283,
           32803.23423,
           23078.95595,
           19123.02747,
           3877.315444,
           54534.21682,
           32789.01063,
           84649.47467,
           64660.10622,
           52919.76137,
           37931.30359,
           38353.60164,
           14256.74456,
           41523.74319,
           38188.42152,
           33033.96081,
           17504.39969,
           33154.53343,
           30027.29131,
           90918.64471,
           49452.16672,
           55979.411,
           60364.78595,
           39497.24788,
           53618.67138,
           46111.55135,
           2209.795202,
           30132.28814,
           55782.04981,
           38048.26372,
           14664.16825,
           13157.9939,
           39746.01987,
           42274.29134,
           66933.00454,
           27054.32505,
           62573.59181,
           87134.13469
          ],
          "sizemode": "area",
          "sizeref": 227.29661177499997,
          "symbol": "circle"
         },
         "mode": "markers",
         "name": "",
         "orientation": "v",
         "showlegend": false,
         "type": "scatter",
         "x": [
          80.79,
          76.86,
          74.54,
          68.74,
          67.79,
          67.49,
          67.42,
          66.72,
          66.48,
          65.24,
          65.21,
          64.06,
          63.9,
          63.82,
          61.78,
          61.02,
          60.14,
          59.58,
          59.3,
          58.67,
          57.77,
          57.62,
          57.29,
          56.87,
          56.12,
          56.01,
          56,
          55.23,
          54.22,
          54.19,
          53.77,
          53.42,
          52.98,
          52.03,
          51.99,
          51.73,
          51.13,
          50.39,
          49.37,
          49.3,
          48.88,
          48.66,
          48.42,
          48,
          47.89,
          47.81,
          47.42,
          46.98,
          46.77,
          46.51,
          46.35,
          46.07,
          45.93,
          45.85,
          45.51,
          45.15,
          44.85,
          44.58,
          44.43,
          43.69,
          43.62,
          43.03,
          42.88,
          42.53,
          42.51,
          42.46,
          42.34,
          41.89,
          41.39,
          41.18,
          40.39,
          39.96,
          39.62,
          39.35,
          39.12,
          38.77,
          38.21,
          38.1,
          36.01,
          35.79,
          34.36,
          34.13,
          33.72,
          33.42,
          33.42,
          33.32,
          32.02,
          31.47,
          31.28,
          30.5,
          30.14,
          29.91,
          28.3,
          27.96,
          27.59,
          27.16,
          26.22,
          25.64,
          25.54,
          25.23,
          24.89,
          24.59,
          23.75,
          23.71,
          23.38,
          22.79,
          22.28,
          22.19,
          21.62,
          20.34,
          15.23,
          12.13
         ],
         "xaxis": "x",
         "y": [
          4.79,
          5.76,
          3.98,
          4.84,
          3.95,
          5.19,
          5.8,
          5.23,
          3.37,
          3.73,
          5.9,
          3.77,
          3.06,
          5.29,
          2.94,
          5.1,
          4.96,
          4.54,
          3.4,
          4.62,
          3.95,
          4.73,
          6.92,
          5.06,
          4.66,
          6.05,
          5.38,
          4.66,
          6.84,
          4.46,
          5.84,
          7.53,
          6.28,
          4.48,
          7.48,
          6.05,
          3.78,
          4.13,
          4.35,
          4.68,
          7.06,
          5.94,
          3.12,
          8.34,
          3.49,
          7.86,
          5.03,
          5.36,
          3.77,
          3.21,
          5.96,
          7.99,
          5.02,
          6.13,
          7.88,
          5.97,
          6.52,
          7.69,
          5.62,
          5.65,
          4.91,
          8.61,
          9.09,
          5.28,
          4.26,
          4.92,
          3.18,
          8.3,
          5.14,
          5.81,
          6.98,
          5.92,
          4.97,
          5.36,
          4.88,
          7.17,
          5.81,
          5.44,
          5.05,
          8.15,
          6.4,
          8.64,
          9,
          6.97,
          7.4,
          7.42,
          5.27,
          6.6,
          6.94,
          6.38,
          5.07,
          7.38,
          6.78,
          8.43,
          8.9,
          8.64,
          9.08,
          6.29,
          8.55,
          7.12,
          5.88,
          6.04,
          8.77,
          7.95,
          6.33,
          5.92,
          7.04,
          8.18,
          8.96,
          7.01,
          7.47,
          7.05
         ],
         "yaxis": "y"
        },
        {
         "hovertemplate": "<b>OLS trendline</b><br>ef_legal = -0.0640219 * crimeIndex + 8.82109<br>R<sup>2</sup>=0.330519<br><br>Crime Index=%{x}<br>Legal Enforcement=%{y} <b>(trend)</b><extra></extra>",
         "legendgroup": "",
         "marker": {
          "symbol": "circle"
         },
         "mode": "lines",
         "name": "",
         "showlegend": false,
         "type": "scatter",
         "x": [
          12.13,
          15.23,
          20.34,
          21.62,
          22.19,
          22.28,
          22.79,
          23.38,
          23.71,
          23.75,
          24.59,
          24.89,
          25.23,
          25.54,
          25.64,
          26.22,
          27.16,
          27.59,
          27.96,
          28.3,
          29.91,
          30.14,
          30.5,
          31.28,
          31.47,
          32.02,
          33.32,
          33.42,
          33.42,
          33.72,
          34.13,
          34.36,
          35.79,
          36.01,
          38.1,
          38.21,
          38.77,
          39.12,
          39.35,
          39.62,
          39.96,
          40.39,
          41.18,
          41.39,
          41.89,
          42.34,
          42.46,
          42.51,
          42.53,
          42.88,
          43.03,
          43.62,
          43.69,
          44.43,
          44.58,
          44.85,
          45.15,
          45.51,
          45.85,
          45.93,
          46.07,
          46.35,
          46.51,
          46.77,
          46.98,
          47.42,
          47.81,
          47.89,
          48,
          48.42,
          48.66,
          48.88,
          49.3,
          49.37,
          50.39,
          51.13,
          51.73,
          51.99,
          52.03,
          52.98,
          53.42,
          53.77,
          54.19,
          54.22,
          55.23,
          56,
          56.01,
          56.12,
          56.87,
          57.29,
          57.62,
          57.77,
          58.67,
          59.3,
          59.58,
          60.14,
          61.02,
          61.78,
          63.82,
          63.9,
          64.06,
          65.21,
          65.24,
          66.48,
          66.72,
          67.42,
          67.49,
          67.79,
          68.74,
          74.54,
          76.86,
          80.79
         ],
         "xaxis": "x",
         "y": [
          8.044506940767974,
          7.846039085880918,
          7.518887234760641,
          7.436939217258888,
          7.4004467407151395,
          7.394684770734547,
          7.362033607511193,
          7.324260693193978,
          7.303133469931808,
          7.300572594384878,
          7.246794207899353,
          7.227587641297379,
          7.2058201991484765,
          7.185973413659771,
          7.179571224792447,
          7.142438529361965,
          7.0822579540091155,
          7.054728541879621,
          7.031040443070521,
          7.009273000921618,
          6.906197760157695,
          6.891472725762848,
          6.86842484584048,
          6.8184877726753506,
          6.806323613827434,
          6.77111157505715,
          6.687883119781932,
          6.681480930914608,
          6.681480930914608,
          6.662274364312634,
          6.636025389956604,
          6.621300355561758,
          6.529749054759019,
          6.515664239250905,
          6.3818584919238255,
          6.374816084169769,
          6.338963826512751,
          6.316556165477117,
          6.30183113108227,
          6.284545221140494,
          6.262777778991591,
          6.235248366862097,
          6.184671074810233,
          6.171226478188852,
          6.13921553385223,
          6.110405683949271,
          6.102723057308481,
          6.099521962874819,
          6.098241525101354,
          6.075833864065718,
          6.066230580764731,
          6.028457666447518,
          6.023976134240391,
          5.97659993662219,
          5.966996653321203,
          5.949710743379427,
          5.930504176777454,
          5.907456296855086,
          5.885688854706183,
          5.880567103612323,
          5.87160403919807,
          5.853677910369561,
          5.843434408181842,
          5.8267887171267985,
          5.813344120505418,
          5.78517448948919,
          5.760205952906625,
          5.755084201812766,
          5.748041794058708,
          5.721152600815946,
          5.7057873475343674,
          5.6917025320262535,
          5.664813338783491,
          5.660331806576364,
          5.595029480129655,
          5.547653282511455,
          5.509240149307509,
          5.492594458252464,
          5.490033582705535,
          5.429212788465954,
          5.401043157449726,
          5.3786354964140894,
          5.3517463031713275,
          5.34982564651113,
          5.285163538951154,
          5.2358666846727555,
          5.235226465786024,
          5.2281840580319665,
          5.180167641527033,
          5.15327844828427,
          5.132151225022101,
          5.1225479417211135,
          5.064928241915194,
          5.02459445205105,
          5.0066683232225415,
          4.970816065565526,
          4.91447680353307,
          4.865820168141404,
          4.735215515247987,
          4.730093764154128,
          4.719850261966408,
          4.6462250899921775,
          4.64430443333198,
          4.564917291377157,
          4.5495520380955785,
          4.504736716024308,
          4.500255183817181,
          4.481048617215207,
          4.420227822975626,
          4.04890086867081,
          3.9003700869488833,
          3.648764064463034
         ],
         "yaxis": "y"
        }
       ],
       "layout": {
        "autosize": true,
        "coloraxis": {
         "colorbar": {
          "title": {
           "text": "HDI"
          }
         },
         "colorscale": [
          [
           0,
           "rgb(103,0,31)"
          ],
          [
           0.1,
           "rgb(178,24,43)"
          ],
          [
           0.2,
           "rgb(214,96,77)"
          ],
          [
           0.3,
           "rgb(244,165,130)"
          ],
          [
           0.4,
           "rgb(253,219,199)"
          ],
          [
           0.5,
           "rgb(247,247,247)"
          ],
          [
           0.6,
           "rgb(209,229,240)"
          ],
          [
           0.7,
           "rgb(146,197,222)"
          ],
          [
           0.8,
           "rgb(67,147,195)"
          ],
          [
           0.9,
           "rgb(33,102,172)"
          ],
          [
           1,
           "rgb(5,48,97)"
          ]
         ]
        },
        "legend": {
         "itemsizing": "constant",
         "tracegroupgap": 0
        },
        "template": {
         "data": {
          "bar": [
           {
            "error_x": {
             "color": "#2a3f5f"
            },
            "error_y": {
             "color": "#2a3f5f"
            },
            "marker": {
             "line": {
              "color": "#E5ECF6",
              "width": 0.5
             },
             "pattern": {
              "fillmode": "overlay",
              "size": 10,
              "solidity": 0.2
             }
            },
            "type": "bar"
           }
          ],
          "barpolar": [
           {
            "marker": {
             "line": {
              "color": "#E5ECF6",
              "width": 0.5
             },
             "pattern": {
              "fillmode": "overlay",
              "size": 10,
              "solidity": 0.2
             }
            },
            "type": "barpolar"
           }
          ],
          "carpet": [
           {
            "aaxis": {
             "endlinecolor": "#2a3f5f",
             "gridcolor": "white",
             "linecolor": "white",
             "minorgridcolor": "white",
             "startlinecolor": "#2a3f5f"
            },
            "baxis": {
             "endlinecolor": "#2a3f5f",
             "gridcolor": "white",
             "linecolor": "white",
             "minorgridcolor": "white",
             "startlinecolor": "#2a3f5f"
            },
            "type": "carpet"
           }
          ],
          "choropleth": [
           {
            "colorbar": {
             "outlinewidth": 0,
             "ticks": ""
            },
            "type": "choropleth"
           }
          ],
          "contour": [
           {
            "colorbar": {
             "outlinewidth": 0,
             "ticks": ""
            },
            "colorscale": [
             [
              0,
              "#0d0887"
             ],
             [
              0.1111111111111111,
              "#46039f"
             ],
             [
              0.2222222222222222,
              "#7201a8"
             ],
             [
              0.3333333333333333,
              "#9c179e"
             ],
             [
              0.4444444444444444,
              "#bd3786"
             ],
             [
              0.5555555555555556,
              "#d8576b"
             ],
             [
              0.6666666666666666,
              "#ed7953"
             ],
             [
              0.7777777777777778,
              "#fb9f3a"
             ],
             [
              0.8888888888888888,
              "#fdca26"
             ],
             [
              1,
              "#f0f921"
             ]
            ],
            "type": "contour"
           }
          ],
          "contourcarpet": [
           {
            "colorbar": {
             "outlinewidth": 0,
             "ticks": ""
            },
            "type": "contourcarpet"
           }
          ],
          "heatmap": [
           {
            "colorbar": {
             "outlinewidth": 0,
             "ticks": ""
            },
            "colorscale": [
             [
              0,
              "#0d0887"
             ],
             [
              0.1111111111111111,
              "#46039f"
             ],
             [
              0.2222222222222222,
              "#7201a8"
             ],
             [
              0.3333333333333333,
              "#9c179e"
             ],
             [
              0.4444444444444444,
              "#bd3786"
             ],
             [
              0.5555555555555556,
              "#d8576b"
             ],
             [
              0.6666666666666666,
              "#ed7953"
             ],
             [
              0.7777777777777778,
              "#fb9f3a"
             ],
             [
              0.8888888888888888,
              "#fdca26"
             ],
             [
              1,
              "#f0f921"
             ]
            ],
            "type": "heatmap"
           }
          ],
          "heatmapgl": [
           {
            "colorbar": {
             "outlinewidth": 0,
             "ticks": ""
            },
            "colorscale": [
             [
              0,
              "#0d0887"
             ],
             [
              0.1111111111111111,
              "#46039f"
             ],
             [
              0.2222222222222222,
              "#7201a8"
             ],
             [
              0.3333333333333333,
              "#9c179e"
             ],
             [
              0.4444444444444444,
              "#bd3786"
             ],
             [
              0.5555555555555556,
              "#d8576b"
             ],
             [
              0.6666666666666666,
              "#ed7953"
             ],
             [
              0.7777777777777778,
              "#fb9f3a"
             ],
             [
              0.8888888888888888,
              "#fdca26"
             ],
             [
              1,
              "#f0f921"
             ]
            ],
            "type": "heatmapgl"
           }
          ],
          "histogram": [
           {
            "marker": {
             "pattern": {
              "fillmode": "overlay",
              "size": 10,
              "solidity": 0.2
             }
            },
            "type": "histogram"
           }
          ],
          "histogram2d": [
           {
            "colorbar": {
             "outlinewidth": 0,
             "ticks": ""
            },
            "colorscale": [
             [
              0,
              "#0d0887"
             ],
             [
              0.1111111111111111,
              "#46039f"
             ],
             [
              0.2222222222222222,
              "#7201a8"
             ],
             [
              0.3333333333333333,
              "#9c179e"
             ],
             [
              0.4444444444444444,
              "#bd3786"
             ],
             [
              0.5555555555555556,
              "#d8576b"
             ],
             [
              0.6666666666666666,
              "#ed7953"
             ],
             [
              0.7777777777777778,
              "#fb9f3a"
             ],
             [
              0.8888888888888888,
              "#fdca26"
             ],
             [
              1,
              "#f0f921"
             ]
            ],
            "type": "histogram2d"
           }
          ],
          "histogram2dcontour": [
           {
            "colorbar": {
             "outlinewidth": 0,
             "ticks": ""
            },
            "colorscale": [
             [
              0,
              "#0d0887"
             ],
             [
              0.1111111111111111,
              "#46039f"
             ],
             [
              0.2222222222222222,
              "#7201a8"
             ],
             [
              0.3333333333333333,
              "#9c179e"
             ],
             [
              0.4444444444444444,
              "#bd3786"
             ],
             [
              0.5555555555555556,
              "#d8576b"
             ],
             [
              0.6666666666666666,
              "#ed7953"
             ],
             [
              0.7777777777777778,
              "#fb9f3a"
             ],
             [
              0.8888888888888888,
              "#fdca26"
             ],
             [
              1,
              "#f0f921"
             ]
            ],
            "type": "histogram2dcontour"
           }
          ],
          "mesh3d": [
           {
            "colorbar": {
             "outlinewidth": 0,
             "ticks": ""
            },
            "type": "mesh3d"
           }
          ],
          "parcoords": [
           {
            "line": {
             "colorbar": {
              "outlinewidth": 0,
              "ticks": ""
             }
            },
            "type": "parcoords"
           }
          ],
          "pie": [
           {
            "automargin": true,
            "type": "pie"
           }
          ],
          "scatter": [
           {
            "fillpattern": {
             "fillmode": "overlay",
             "size": 10,
             "solidity": 0.2
            },
            "type": "scatter"
           }
          ],
          "scatter3d": [
           {
            "line": {
             "colorbar": {
              "outlinewidth": 0,
              "ticks": ""
             }
            },
            "marker": {
             "colorbar": {
              "outlinewidth": 0,
              "ticks": ""
             }
            },
            "type": "scatter3d"
           }
          ],
          "scattercarpet": [
           {
            "marker": {
             "colorbar": {
              "outlinewidth": 0,
              "ticks": ""
             }
            },
            "type": "scattercarpet"
           }
          ],
          "scattergeo": [
           {
            "marker": {
             "colorbar": {
              "outlinewidth": 0,
              "ticks": ""
             }
            },
            "type": "scattergeo"
           }
          ],
          "scattergl": [
           {
            "marker": {
             "colorbar": {
              "outlinewidth": 0,
              "ticks": ""
             }
            },
            "type": "scattergl"
           }
          ],
          "scattermapbox": [
           {
            "marker": {
             "colorbar": {
              "outlinewidth": 0,
              "ticks": ""
             }
            },
            "type": "scattermapbox"
           }
          ],
          "scatterpolar": [
           {
            "marker": {
             "colorbar": {
              "outlinewidth": 0,
              "ticks": ""
             }
            },
            "type": "scatterpolar"
           }
          ],
          "scatterpolargl": [
           {
            "marker": {
             "colorbar": {
              "outlinewidth": 0,
              "ticks": ""
             }
            },
            "type": "scatterpolargl"
           }
          ],
          "scatterternary": [
           {
            "marker": {
             "colorbar": {
              "outlinewidth": 0,
              "ticks": ""
             }
            },
            "type": "scatterternary"
           }
          ],
          "surface": [
           {
            "colorbar": {
             "outlinewidth": 0,
             "ticks": ""
            },
            "colorscale": [
             [
              0,
              "#0d0887"
             ],
             [
              0.1111111111111111,
              "#46039f"
             ],
             [
              0.2222222222222222,
              "#7201a8"
             ],
             [
              0.3333333333333333,
              "#9c179e"
             ],
             [
              0.4444444444444444,
              "#bd3786"
             ],
             [
              0.5555555555555556,
              "#d8576b"
             ],
             [
              0.6666666666666666,
              "#ed7953"
             ],
             [
              0.7777777777777778,
              "#fb9f3a"
             ],
             [
              0.8888888888888888,
              "#fdca26"
             ],
             [
              1,
              "#f0f921"
             ]
            ],
            "type": "surface"
           }
          ],
          "table": [
           {
            "cells": {
             "fill": {
              "color": "#EBF0F8"
             },
             "line": {
              "color": "white"
             }
            },
            "header": {
             "fill": {
              "color": "#C8D4E3"
             },
             "line": {
              "color": "white"
             }
            },
            "type": "table"
           }
          ]
         },
         "layout": {
          "annotationdefaults": {
           "arrowcolor": "#2a3f5f",
           "arrowhead": 0,
           "arrowwidth": 1
          },
          "autotypenumbers": "strict",
          "coloraxis": {
           "colorbar": {
            "outlinewidth": 0,
            "ticks": ""
           }
          },
          "colorscale": {
           "diverging": [
            [
             0,
             "#8e0152"
            ],
            [
             0.1,
             "#c51b7d"
            ],
            [
             0.2,
             "#de77ae"
            ],
            [
             0.3,
             "#f1b6da"
            ],
            [
             0.4,
             "#fde0ef"
            ],
            [
             0.5,
             "#f7f7f7"
            ],
            [
             0.6,
             "#e6f5d0"
            ],
            [
             0.7,
             "#b8e186"
            ],
            [
             0.8,
             "#7fbc41"
            ],
            [
             0.9,
             "#4d9221"
            ],
            [
             1,
             "#276419"
            ]
           ],
           "sequential": [
            [
             0,
             "#0d0887"
            ],
            [
             0.1111111111111111,
             "#46039f"
            ],
            [
             0.2222222222222222,
             "#7201a8"
            ],
            [
             0.3333333333333333,
             "#9c179e"
            ],
            [
             0.4444444444444444,
             "#bd3786"
            ],
            [
             0.5555555555555556,
             "#d8576b"
            ],
            [
             0.6666666666666666,
             "#ed7953"
            ],
            [
             0.7777777777777778,
             "#fb9f3a"
            ],
            [
             0.8888888888888888,
             "#fdca26"
            ],
            [
             1,
             "#f0f921"
            ]
           ],
           "sequentialminus": [
            [
             0,
             "#0d0887"
            ],
            [
             0.1111111111111111,
             "#46039f"
            ],
            [
             0.2222222222222222,
             "#7201a8"
            ],
            [
             0.3333333333333333,
             "#9c179e"
            ],
            [
             0.4444444444444444,
             "#bd3786"
            ],
            [
             0.5555555555555556,
             "#d8576b"
            ],
            [
             0.6666666666666666,
             "#ed7953"
            ],
            [
             0.7777777777777778,
             "#fb9f3a"
            ],
            [
             0.8888888888888888,
             "#fdca26"
            ],
            [
             1,
             "#f0f921"
            ]
           ]
          },
          "colorway": [
           "#636efa",
           "#EF553B",
           "#00cc96",
           "#ab63fa",
           "#FFA15A",
           "#19d3f3",
           "#FF6692",
           "#B6E880",
           "#FF97FF",
           "#FECB52"
          ],
          "font": {
           "color": "#2a3f5f"
          },
          "geo": {
           "bgcolor": "white",
           "lakecolor": "white",
           "landcolor": "#E5ECF6",
           "showlakes": true,
           "showland": true,
           "subunitcolor": "white"
          },
          "hoverlabel": {
           "align": "left"
          },
          "hovermode": "closest",
          "mapbox": {
           "style": "light"
          },
          "paper_bgcolor": "white",
          "plot_bgcolor": "#E5ECF6",
          "polar": {
           "angularaxis": {
            "gridcolor": "white",
            "linecolor": "white",
            "ticks": ""
           },
           "bgcolor": "#E5ECF6",
           "radialaxis": {
            "gridcolor": "white",
            "linecolor": "white",
            "ticks": ""
           }
          },
          "scene": {
           "xaxis": {
            "backgroundcolor": "#E5ECF6",
            "gridcolor": "white",
            "gridwidth": 2,
            "linecolor": "white",
            "showbackground": true,
            "ticks": "",
            "zerolinecolor": "white"
           },
           "yaxis": {
            "backgroundcolor": "#E5ECF6",
            "gridcolor": "white",
            "gridwidth": 2,
            "linecolor": "white",
            "showbackground": true,
            "ticks": "",
            "zerolinecolor": "white"
           },
           "zaxis": {
            "backgroundcolor": "#E5ECF6",
            "gridcolor": "white",
            "gridwidth": 2,
            "linecolor": "white",
            "showbackground": true,
            "ticks": "",
            "zerolinecolor": "white"
           }
          },
          "shapedefaults": {
           "line": {
            "color": "#2a3f5f"
           }
          },
          "ternary": {
           "aaxis": {
            "gridcolor": "white",
            "linecolor": "white",
            "ticks": ""
           },
           "baxis": {
            "gridcolor": "white",
            "linecolor": "white",
            "ticks": ""
           },
           "bgcolor": "#E5ECF6",
           "caxis": {
            "gridcolor": "white",
            "linecolor": "white",
            "ticks": ""
           }
          },
          "title": {
           "x": 0.05
          },
          "xaxis": {
           "automargin": true,
           "gridcolor": "white",
           "linecolor": "white",
           "ticks": "",
           "title": {
            "standoff": 15
           },
           "zerolinecolor": "white",
           "zerolinewidth": 2
          },
          "yaxis": {
           "automargin": true,
           "gridcolor": "white",
           "linecolor": "white",
           "ticks": "",
           "title": {
            "standoff": 15
           },
           "zerolinecolor": "white",
           "zerolinewidth": 2
          }
         }
        },
        "title": {
         "text": "Scatterplot of Crime Index vs. Legal Enforcement"
        },
        "xaxis": {
         "anchor": "y",
         "autorange": true,
         "domain": [
          0,
          1
         ],
         "range": [
          5.789999957075534,
          85.27153964685759
         ],
         "title": {
          "text": "Crime Index"
         },
         "type": "linear"
        },
        "yaxis": {
         "anchor": "x",
         "autorange": true,
         "domain": [
          0,
          1
         ],
         "range": [
          2.4258527754245187,
          9.74020093842745
         ],
         "title": {
          "text": "Legal Enforcement"
         },
         "type": "linear"
        }
       }
      },
      "text/html": [
       "<div>                            <div id=\"bfe5a598-b49b-4a38-a845-6c688debbe2d\" class=\"plotly-graph-div\" style=\"height:500px; width:100%;\"></div>            <script type=\"text/javascript\">                require([\"plotly\"], function(Plotly) {                    window.PLOTLYENV=window.PLOTLYENV || {};                                    if (document.getElementById(\"bfe5a598-b49b-4a38-a845-6c688debbe2d\")) {                    Plotly.newPlot(                        \"bfe5a598-b49b-4a38-a845-6c688debbe2d\",                        [{\"hovertemplate\":\"\\u003cb\\u003e%{hovertext}\\u003c\\u002fb\\u003e\\u003cbr\\u003e\\u003cbr\\u003eCrime Index=%{x}\\u003cbr\\u003eLegal Enforcement=%{y}\\u003cbr\\u003eGDP=%{marker.size}\\u003cbr\\u003eHDI=%{marker.color}\\u003cextra\\u003e\\u003c\\u002fextra\\u003e\",\"hovertext\":[\"Papua New Guinea\",\"South Africa\",\"Honduras\",\"Guyana\",\"El Salvador\",\"Brazil\",\"Jamaica\",\"Peru\",\"Angola\",\"Cameroon\",\"Namibia\",\"Nigeria\",\"Bangladesh\",\"Argentina\",\"Libya\",\"Dominican Republic\",\"Kenya\",\"Belarus\",\"Zimbabwe\",\"Guatemala\",\"Bolivia\",\"Fiji\",\"Malaysia\",\"Colombia\",\"Uganda\",\"Mongolia\",\"Tanzania\",\"Ecuador\",\"Costa Rica\",\"Mexico\",\"Kazakhstan\",\"Chile\",\"Botswana\",\"Algeria\",\"France\",\"Uruguay\",\"Cambodia\",\"Belize\",\"Paraguay\",\"Ethiopia\",\"Mauritius\",\"Morocco\",\"Iraq\",\"Sweden\",\"Nicaragua\",\"United States\",\"Ukraine\",\"Ghana\",\"Lebanon\",\"Myanmar\",\"Moldova\",\"United Kingdom\",\"Indonesia\",\"Greece\",\"Ireland\",\"Panama\",\"Italy\",\"Belgium\",\"India\",\"Tunisia\",\"Zambia\",\"Australia\",\"New Zealand\",\"Albania\",\"Pakistan\",\"Philippines\",\"Sudan\",\"Canada\",\"Sri Lanka\",\"Montenegro\",\"Malta\",\"Jordan\",\"Turkey\",\"Thailand\",\"North Macedonia\",\"Latvia\",\"Bulgaria\",\"Serbia\",\"Nepal\",\"Germany\",\"Hungary\",\"Luxembourg\",\"Norway\",\"Kuwait\",\"Lithuania\",\"Spain\",\"Azerbaijan\",\"Israel\",\"Cyprus\",\"Poland\",\"China\",\"Portugal\",\"Romania\",\"Singapore\",\"Finland\",\"Netherlands\",\"Denmark\",\"Bahrain\",\"Austria\",\"Saudi Arabia\",\"Rwanda\",\"Croatia\",\"Iceland\",\"Estonia\",\"Georgia\",\"Armenia\",\"Slovenia\",\"Japan\",\"Switzerland\",\"Oman\",\"United Arab Emirates\",\"Qatar\"],\"legendgroup\":\"\",\"marker\":{\"color\":[0.558,0.713,0.621,0.714,0.675,0.754,0.709,0.762,0.586,0.576,0.615,0.535,0.661,0.842,0.718,0.767,0.575,0.808,0.593,0.627,0.692,0.73,0.803,0.752,0.525,0.739,0.549,0.74,0.809,0.758,0.811,0.855,0.693,0.745,0.903,0.809,0.593,0.683,0.717,0.498,0.802,0.683,0.686,0.947,0.667,0.921,0.773,0.632,0.706,0.585,0.767,0.929,0.705,0.887,0.945,0.805,0.895,0.937,0.633,0.731,0.565,0.951,0.937,0.796,0.544,0.699,0.508,0.936,0.782,0.832,0.918,0.72,0.838,0.8,0.77,0.863,0.795,0.802,0.602,0.942,0.846,0.93,0.961,0.831,0.875,0.905,0.745,0.919,0.896,0.876,0.768,0.866,0.821,0.939,0.94,0.941,0.948,0.875,0.916,0.875,0.534,0.858,0.959,0.89,0.802,0.759,0.918,0.925,0.962,0.816,0.911,0.855],\"coloraxis\":\"coloraxis\",\"size\":[4008.623573,12948.37325,5297.955301,22464.65734,8295.665889,14369.88848,8834.47567,12245.89366,5465.617791,3620.932408,8633.504452,4790.284425,5472.104781,20925.26814,15335.712,17989.60037,4473.570344,18848.96704,3809.887158,8723.285317,8111.190194,9980.110866,26657.94355,14384.35666,2181.43651,10588.22532,2664.329096,10311.63273,19974.27358,17896.29498,23942.81837,24563.24486,16198.31841,10800.22546,45937.05273,21268.88122,4078.697154,6309.099778,12349.286,2361.069604,22025.34631,7302.81917,9977.249073,54489.37401,5624.793595,64765.21509,13255.50977,5744.504017,9525.831467,3850.524234,14875.33189,45224.76564,11466.06836,29002.48545,76168.98443,26956.83707,42839.51441,52293.39977,6589.980037,10257.54477,3217.767739,49238.43335,44057.31394,14131.11039,4623.70543,8920.428468,3575.19084,46807.98619,12578.22055,20838.80129,38884.45623,9923.714974,31032.80106,17030.15352,15917.75283,32803.23423,23078.95595,19123.02747,3877.315444,54534.21682,32789.01063,84649.47467,64660.10622,52919.76137,37931.30359,38353.60164,14256.74456,41523.74319,38188.42152,33033.96081,17504.39969,33154.53343,30027.29131,90918.64471,49452.16672,55979.411,60364.78595,39497.24788,53618.67138,46111.55135,2209.795202,30132.28814,55782.04981,38048.26372,14664.16825,13157.9939,39746.01987,42274.29134,66933.00454,27054.32505,62573.59181,87134.13469],\"sizemode\":\"area\",\"sizeref\":227.29661177499997,\"symbol\":\"circle\"},\"mode\":\"markers\",\"name\":\"\",\"orientation\":\"v\",\"showlegend\":false,\"x\":[80.79,76.86,74.54,68.74,67.79,67.49,67.42,66.72,66.48,65.24,65.21,64.06,63.9,63.82,61.78,61.02,60.14,59.58,59.3,58.67,57.77,57.62,57.29,56.87,56.12,56.01,56.0,55.23,54.22,54.19,53.77,53.42,52.98,52.03,51.99,51.73,51.13,50.39,49.37,49.3,48.88,48.66,48.42,48.0,47.89,47.81,47.42,46.98,46.77,46.51,46.35,46.07,45.93,45.85,45.51,45.15,44.85,44.58,44.43,43.69,43.62,43.03,42.88,42.53,42.51,42.46,42.34,41.89,41.39,41.18,40.39,39.96,39.62,39.35,39.12,38.77,38.21,38.1,36.01,35.79,34.36,34.13,33.72,33.42,33.42,33.32,32.02,31.47,31.28,30.5,30.14,29.91,28.3,27.96,27.59,27.16,26.22,25.64,25.54,25.23,24.89,24.59,23.75,23.71,23.38,22.79,22.28,22.19,21.62,20.34,15.23,12.13],\"xaxis\":\"x\",\"y\":[4.79,5.76,3.98,4.84,3.95,5.19,5.8,5.23,3.37,3.73,5.9,3.77,3.06,5.29,2.94,5.1,4.96,4.54,3.4,4.62,3.95,4.73,6.92,5.06,4.66,6.05,5.38,4.66,6.84,4.46,5.84,7.53,6.28,4.48,7.48,6.05,3.78,4.13,4.35,4.68,7.06,5.94,3.12,8.34,3.49,7.86,5.03,5.36,3.77,3.21,5.96,7.99,5.02,6.13,7.88,5.97,6.52,7.69,5.62,5.65,4.91,8.61,9.09,5.28,4.26,4.92,3.18,8.3,5.14,5.81,6.98,5.92,4.97,5.36,4.88,7.17,5.81,5.44,5.05,8.15,6.4,8.64,9.0,6.97,7.4,7.42,5.27,6.6,6.94,6.38,5.07,7.38,6.78,8.43,8.9,8.64,9.08,6.29,8.55,7.12,5.88,6.04,8.77,7.95,6.33,5.92,7.04,8.18,8.96,7.01,7.47,7.05],\"yaxis\":\"y\",\"type\":\"scatter\"},{\"hovertemplate\":\"\\u003cb\\u003eOLS trendline\\u003c\\u002fb\\u003e\\u003cbr\\u003eef_legal = -0.0640219 * crimeIndex + 8.82109\\u003cbr\\u003eR\\u003csup\\u003e2\\u003c\\u002fsup\\u003e=0.330519\\u003cbr\\u003e\\u003cbr\\u003eCrime Index=%{x}\\u003cbr\\u003eLegal Enforcement=%{y} \\u003cb\\u003e(trend)\\u003c\\u002fb\\u003e\\u003cextra\\u003e\\u003c\\u002fextra\\u003e\",\"legendgroup\":\"\",\"marker\":{\"symbol\":\"circle\"},\"mode\":\"lines\",\"name\":\"\",\"showlegend\":false,\"x\":[12.13,15.23,20.34,21.62,22.19,22.28,22.79,23.38,23.71,23.75,24.59,24.89,25.23,25.54,25.64,26.22,27.16,27.59,27.96,28.3,29.91,30.14,30.5,31.28,31.47,32.02,33.32,33.42,33.42,33.72,34.13,34.36,35.79,36.01,38.1,38.21,38.77,39.12,39.35,39.62,39.96,40.39,41.18,41.39,41.89,42.34,42.46,42.51,42.53,42.88,43.03,43.62,43.69,44.43,44.58,44.85,45.15,45.51,45.85,45.93,46.07,46.35,46.51,46.77,46.98,47.42,47.81,47.89,48.0,48.42,48.66,48.88,49.3,49.37,50.39,51.13,51.73,51.99,52.03,52.98,53.42,53.77,54.19,54.22,55.23,56.0,56.01,56.12,56.87,57.29,57.62,57.77,58.67,59.3,59.58,60.14,61.02,61.78,63.82,63.9,64.06,65.21,65.24,66.48,66.72,67.42,67.49,67.79,68.74,74.54,76.86,80.79],\"xaxis\":\"x\",\"y\":[8.044506940767974,7.846039085880918,7.518887234760641,7.436939217258888,7.4004467407151395,7.394684770734547,7.362033607511193,7.324260693193978,7.303133469931808,7.300572594384878,7.246794207899353,7.227587641297379,7.2058201991484765,7.185973413659771,7.179571224792447,7.142438529361965,7.0822579540091155,7.054728541879621,7.031040443070521,7.009273000921618,6.906197760157695,6.891472725762848,6.86842484584048,6.8184877726753506,6.806323613827434,6.77111157505715,6.687883119781932,6.681480930914608,6.681480930914608,6.662274364312634,6.636025389956604,6.621300355561758,6.529749054759019,6.515664239250905,6.3818584919238255,6.374816084169769,6.338963826512751,6.316556165477117,6.30183113108227,6.284545221140494,6.262777778991591,6.235248366862097,6.184671074810233,6.171226478188852,6.13921553385223,6.110405683949271,6.102723057308481,6.099521962874819,6.098241525101354,6.075833864065718,6.066230580764731,6.028457666447518,6.023976134240391,5.97659993662219,5.966996653321203,5.949710743379427,5.930504176777454,5.907456296855086,5.885688854706183,5.880567103612323,5.87160403919807,5.853677910369561,5.843434408181842,5.8267887171267985,5.813344120505418,5.78517448948919,5.760205952906625,5.755084201812766,5.748041794058708,5.721152600815946,5.7057873475343674,5.6917025320262535,5.664813338783491,5.660331806576364,5.595029480129655,5.547653282511455,5.509240149307509,5.492594458252464,5.490033582705535,5.429212788465954,5.401043157449726,5.3786354964140894,5.3517463031713275,5.34982564651113,5.285163538951154,5.2358666846727555,5.235226465786024,5.2281840580319665,5.180167641527033,5.15327844828427,5.132151225022101,5.1225479417211135,5.064928241915194,5.02459445205105,5.0066683232225415,4.970816065565526,4.91447680353307,4.865820168141404,4.735215515247987,4.730093764154128,4.719850261966408,4.6462250899921775,4.64430443333198,4.564917291377157,4.5495520380955785,4.504736716024308,4.500255183817181,4.481048617215207,4.420227822975626,4.04890086867081,3.9003700869488833,3.648764064463034],\"yaxis\":\"y\",\"type\":\"scatter\"}],                        {\"template\":{\"data\":{\"histogram2dcontour\":[{\"type\":\"histogram2dcontour\",\"colorbar\":{\"outlinewidth\":0,\"ticks\":\"\"},\"colorscale\":[[0.0,\"#0d0887\"],[0.1111111111111111,\"#46039f\"],[0.2222222222222222,\"#7201a8\"],[0.3333333333333333,\"#9c179e\"],[0.4444444444444444,\"#bd3786\"],[0.5555555555555556,\"#d8576b\"],[0.6666666666666666,\"#ed7953\"],[0.7777777777777778,\"#fb9f3a\"],[0.8888888888888888,\"#fdca26\"],[1.0,\"#f0f921\"]]}],\"choropleth\":[{\"type\":\"choropleth\",\"colorbar\":{\"outlinewidth\":0,\"ticks\":\"\"}}],\"histogram2d\":[{\"type\":\"histogram2d\",\"colorbar\":{\"outlinewidth\":0,\"ticks\":\"\"},\"colorscale\":[[0.0,\"#0d0887\"],[0.1111111111111111,\"#46039f\"],[0.2222222222222222,\"#7201a8\"],[0.3333333333333333,\"#9c179e\"],[0.4444444444444444,\"#bd3786\"],[0.5555555555555556,\"#d8576b\"],[0.6666666666666666,\"#ed7953\"],[0.7777777777777778,\"#fb9f3a\"],[0.8888888888888888,\"#fdca26\"],[1.0,\"#f0f921\"]]}],\"heatmap\":[{\"type\":\"heatmap\",\"colorbar\":{\"outlinewidth\":0,\"ticks\":\"\"},\"colorscale\":[[0.0,\"#0d0887\"],[0.1111111111111111,\"#46039f\"],[0.2222222222222222,\"#7201a8\"],[0.3333333333333333,\"#9c179e\"],[0.4444444444444444,\"#bd3786\"],[0.5555555555555556,\"#d8576b\"],[0.6666666666666666,\"#ed7953\"],[0.7777777777777778,\"#fb9f3a\"],[0.8888888888888888,\"#fdca26\"],[1.0,\"#f0f921\"]]}],\"heatmapgl\":[{\"type\":\"heatmapgl\",\"colorbar\":{\"outlinewidth\":0,\"ticks\":\"\"},\"colorscale\":[[0.0,\"#0d0887\"],[0.1111111111111111,\"#46039f\"],[0.2222222222222222,\"#7201a8\"],[0.3333333333333333,\"#9c179e\"],[0.4444444444444444,\"#bd3786\"],[0.5555555555555556,\"#d8576b\"],[0.6666666666666666,\"#ed7953\"],[0.7777777777777778,\"#fb9f3a\"],[0.8888888888888888,\"#fdca26\"],[1.0,\"#f0f921\"]]}],\"contourcarpet\":[{\"type\":\"contourcarpet\",\"colorbar\":{\"outlinewidth\":0,\"ticks\":\"\"}}],\"contour\":[{\"type\":\"contour\",\"colorbar\":{\"outlinewidth\":0,\"ticks\":\"\"},\"colorscale\":[[0.0,\"#0d0887\"],[0.1111111111111111,\"#46039f\"],[0.2222222222222222,\"#7201a8\"],[0.3333333333333333,\"#9c179e\"],[0.4444444444444444,\"#bd3786\"],[0.5555555555555556,\"#d8576b\"],[0.6666666666666666,\"#ed7953\"],[0.7777777777777778,\"#fb9f3a\"],[0.8888888888888888,\"#fdca26\"],[1.0,\"#f0f921\"]]}],\"surface\":[{\"type\":\"surface\",\"colorbar\":{\"outlinewidth\":0,\"ticks\":\"\"},\"colorscale\":[[0.0,\"#0d0887\"],[0.1111111111111111,\"#46039f\"],[0.2222222222222222,\"#7201a8\"],[0.3333333333333333,\"#9c179e\"],[0.4444444444444444,\"#bd3786\"],[0.5555555555555556,\"#d8576b\"],[0.6666666666666666,\"#ed7953\"],[0.7777777777777778,\"#fb9f3a\"],[0.8888888888888888,\"#fdca26\"],[1.0,\"#f0f921\"]]}],\"mesh3d\":[{\"type\":\"mesh3d\",\"colorbar\":{\"outlinewidth\":0,\"ticks\":\"\"}}],\"scatter\":[{\"fillpattern\":{\"fillmode\":\"overlay\",\"size\":10,\"solidity\":0.2},\"type\":\"scatter\"}],\"parcoords\":[{\"type\":\"parcoords\",\"line\":{\"colorbar\":{\"outlinewidth\":0,\"ticks\":\"\"}}}],\"scatterpolargl\":[{\"type\":\"scatterpolargl\",\"marker\":{\"colorbar\":{\"outlinewidth\":0,\"ticks\":\"\"}}}],\"bar\":[{\"error_x\":{\"color\":\"#2a3f5f\"},\"error_y\":{\"color\":\"#2a3f5f\"},\"marker\":{\"line\":{\"color\":\"#E5ECF6\",\"width\":0.5},\"pattern\":{\"fillmode\":\"overlay\",\"size\":10,\"solidity\":0.2}},\"type\":\"bar\"}],\"scattergeo\":[{\"type\":\"scattergeo\",\"marker\":{\"colorbar\":{\"outlinewidth\":0,\"ticks\":\"\"}}}],\"scatterpolar\":[{\"type\":\"scatterpolar\",\"marker\":{\"colorbar\":{\"outlinewidth\":0,\"ticks\":\"\"}}}],\"histogram\":[{\"marker\":{\"pattern\":{\"fillmode\":\"overlay\",\"size\":10,\"solidity\":0.2}},\"type\":\"histogram\"}],\"scattergl\":[{\"type\":\"scattergl\",\"marker\":{\"colorbar\":{\"outlinewidth\":0,\"ticks\":\"\"}}}],\"scatter3d\":[{\"type\":\"scatter3d\",\"line\":{\"colorbar\":{\"outlinewidth\":0,\"ticks\":\"\"}},\"marker\":{\"colorbar\":{\"outlinewidth\":0,\"ticks\":\"\"}}}],\"scattermapbox\":[{\"type\":\"scattermapbox\",\"marker\":{\"colorbar\":{\"outlinewidth\":0,\"ticks\":\"\"}}}],\"scatterternary\":[{\"type\":\"scatterternary\",\"marker\":{\"colorbar\":{\"outlinewidth\":0,\"ticks\":\"\"}}}],\"scattercarpet\":[{\"type\":\"scattercarpet\",\"marker\":{\"colorbar\":{\"outlinewidth\":0,\"ticks\":\"\"}}}],\"carpet\":[{\"aaxis\":{\"endlinecolor\":\"#2a3f5f\",\"gridcolor\":\"white\",\"linecolor\":\"white\",\"minorgridcolor\":\"white\",\"startlinecolor\":\"#2a3f5f\"},\"baxis\":{\"endlinecolor\":\"#2a3f5f\",\"gridcolor\":\"white\",\"linecolor\":\"white\",\"minorgridcolor\":\"white\",\"startlinecolor\":\"#2a3f5f\"},\"type\":\"carpet\"}],\"table\":[{\"cells\":{\"fill\":{\"color\":\"#EBF0F8\"},\"line\":{\"color\":\"white\"}},\"header\":{\"fill\":{\"color\":\"#C8D4E3\"},\"line\":{\"color\":\"white\"}},\"type\":\"table\"}],\"barpolar\":[{\"marker\":{\"line\":{\"color\":\"#E5ECF6\",\"width\":0.5},\"pattern\":{\"fillmode\":\"overlay\",\"size\":10,\"solidity\":0.2}},\"type\":\"barpolar\"}],\"pie\":[{\"automargin\":true,\"type\":\"pie\"}]},\"layout\":{\"autotypenumbers\":\"strict\",\"colorway\":[\"#636efa\",\"#EF553B\",\"#00cc96\",\"#ab63fa\",\"#FFA15A\",\"#19d3f3\",\"#FF6692\",\"#B6E880\",\"#FF97FF\",\"#FECB52\"],\"font\":{\"color\":\"#2a3f5f\"},\"hovermode\":\"closest\",\"hoverlabel\":{\"align\":\"left\"},\"paper_bgcolor\":\"white\",\"plot_bgcolor\":\"#E5ECF6\",\"polar\":{\"bgcolor\":\"#E5ECF6\",\"angularaxis\":{\"gridcolor\":\"white\",\"linecolor\":\"white\",\"ticks\":\"\"},\"radialaxis\":{\"gridcolor\":\"white\",\"linecolor\":\"white\",\"ticks\":\"\"}},\"ternary\":{\"bgcolor\":\"#E5ECF6\",\"aaxis\":{\"gridcolor\":\"white\",\"linecolor\":\"white\",\"ticks\":\"\"},\"baxis\":{\"gridcolor\":\"white\",\"linecolor\":\"white\",\"ticks\":\"\"},\"caxis\":{\"gridcolor\":\"white\",\"linecolor\":\"white\",\"ticks\":\"\"}},\"coloraxis\":{\"colorbar\":{\"outlinewidth\":0,\"ticks\":\"\"}},\"colorscale\":{\"sequential\":[[0.0,\"#0d0887\"],[0.1111111111111111,\"#46039f\"],[0.2222222222222222,\"#7201a8\"],[0.3333333333333333,\"#9c179e\"],[0.4444444444444444,\"#bd3786\"],[0.5555555555555556,\"#d8576b\"],[0.6666666666666666,\"#ed7953\"],[0.7777777777777778,\"#fb9f3a\"],[0.8888888888888888,\"#fdca26\"],[1.0,\"#f0f921\"]],\"sequentialminus\":[[0.0,\"#0d0887\"],[0.1111111111111111,\"#46039f\"],[0.2222222222222222,\"#7201a8\"],[0.3333333333333333,\"#9c179e\"],[0.4444444444444444,\"#bd3786\"],[0.5555555555555556,\"#d8576b\"],[0.6666666666666666,\"#ed7953\"],[0.7777777777777778,\"#fb9f3a\"],[0.8888888888888888,\"#fdca26\"],[1.0,\"#f0f921\"]],\"diverging\":[[0,\"#8e0152\"],[0.1,\"#c51b7d\"],[0.2,\"#de77ae\"],[0.3,\"#f1b6da\"],[0.4,\"#fde0ef\"],[0.5,\"#f7f7f7\"],[0.6,\"#e6f5d0\"],[0.7,\"#b8e186\"],[0.8,\"#7fbc41\"],[0.9,\"#4d9221\"],[1,\"#276419\"]]},\"xaxis\":{\"gridcolor\":\"white\",\"linecolor\":\"white\",\"ticks\":\"\",\"title\":{\"standoff\":15},\"zerolinecolor\":\"white\",\"automargin\":true,\"zerolinewidth\":2},\"yaxis\":{\"gridcolor\":\"white\",\"linecolor\":\"white\",\"ticks\":\"\",\"title\":{\"standoff\":15},\"zerolinecolor\":\"white\",\"automargin\":true,\"zerolinewidth\":2},\"scene\":{\"xaxis\":{\"backgroundcolor\":\"#E5ECF6\",\"gridcolor\":\"white\",\"linecolor\":\"white\",\"showbackground\":true,\"ticks\":\"\",\"zerolinecolor\":\"white\",\"gridwidth\":2},\"yaxis\":{\"backgroundcolor\":\"#E5ECF6\",\"gridcolor\":\"white\",\"linecolor\":\"white\",\"showbackground\":true,\"ticks\":\"\",\"zerolinecolor\":\"white\",\"gridwidth\":2},\"zaxis\":{\"backgroundcolor\":\"#E5ECF6\",\"gridcolor\":\"white\",\"linecolor\":\"white\",\"showbackground\":true,\"ticks\":\"\",\"zerolinecolor\":\"white\",\"gridwidth\":2}},\"shapedefaults\":{\"line\":{\"color\":\"#2a3f5f\"}},\"annotationdefaults\":{\"arrowcolor\":\"#2a3f5f\",\"arrowhead\":0,\"arrowwidth\":1},\"geo\":{\"bgcolor\":\"white\",\"landcolor\":\"#E5ECF6\",\"subunitcolor\":\"white\",\"showland\":true,\"showlakes\":true,\"lakecolor\":\"white\"},\"title\":{\"x\":0.05},\"mapbox\":{\"style\":\"light\"}}},\"xaxis\":{\"anchor\":\"y\",\"domain\":[0.0,1.0],\"title\":{\"text\":\"Crime Index\"}},\"yaxis\":{\"anchor\":\"x\",\"domain\":[0.0,1.0],\"title\":{\"text\":\"Legal Enforcement\"}},\"coloraxis\":{\"colorbar\":{\"title\":{\"text\":\"HDI\"}},\"colorscale\":[[0.0,\"rgb(103,0,31)\"],[0.1,\"rgb(178,24,43)\"],[0.2,\"rgb(214,96,77)\"],[0.3,\"rgb(244,165,130)\"],[0.4,\"rgb(253,219,199)\"],[0.5,\"rgb(247,247,247)\"],[0.6,\"rgb(209,229,240)\"],[0.7,\"rgb(146,197,222)\"],[0.8,\"rgb(67,147,195)\"],[0.9,\"rgb(33,102,172)\"],[1.0,\"rgb(5,48,97)\"]]},\"legend\":{\"tracegroupgap\":0,\"itemsizing\":\"constant\"},\"title\":{\"text\":\"Scatterplot of Crime Index vs. Legal Enforcement\"},\"height\":500},                        {\"responsive\": true}                    ).then(function(){\n",
       "                            \n",
       "var gd = document.getElementById('bfe5a598-b49b-4a38-a845-6c688debbe2d');\n",
       "var x = new MutationObserver(function (mutations, observer) {{\n",
       "        var display = window.getComputedStyle(gd).display;\n",
       "        if (!display || display === 'none') {{\n",
       "            console.log([gd, 'removed!']);\n",
       "            Plotly.purge(gd);\n",
       "            observer.disconnect();\n",
       "        }}\n",
       "}});\n",
       "\n",
       "// Listen for the removal of the full notebook cells\n",
       "var notebookContainer = gd.closest('#notebook-container');\n",
       "if (notebookContainer) {{\n",
       "    x.observe(notebookContainer, {childList: true});\n",
       "}}\n",
       "\n",
       "// Listen for the clearing of the current output cell\n",
       "var outputEl = gd.closest('.output');\n",
       "if (outputEl) {{\n",
       "    x.observe(outputEl, {childList: true});\n",
       "}}\n",
       "\n",
       "                        })                };                });            </script>        </div>"
      ]
     },
     "metadata": {},
     "output_type": "display_data"
    }
   ],
   "source": [
    "hfi = pd.read_csv(\"datasets/hfi-2023.csv\")\n",
    "crime = pd.read_csv(\"datasets/crime-rate-by-country-2023.csv\")\n",
    "\n",
    "hfi2021 = hfi[hfi[\"year\"] == 2021]\n",
    "hfi2021.rename(columns = {'countries': 'country'}, inplace = True)\n",
    "crimehfi = crime.join(hfi2021.set_index('country'), on='country', how = \"inner\")\n",
    "\n",
    "HDI = pd.read_csv(\"datasets/Human Development Index.csv\")\n",
    "HDI_score = HDI[[\"Country\", 'Human Development Index (2021)', 'Gross National Income Per Capita (2021)']].dropna()\n",
    "HDI_score.rename(columns = {'Country': 'country', 'Human Development Index (2021)' : 'HDI', 'Gross National Income Per Capita (2021)': 'GDP'}, inplace = True)\n",
    "\n",
    "crimehdfi = crimehfi.join(HDI_score.set_index('country'), on='country', how = \"inner\")\n",
    "\n",
    "# Create scatterplot\n",
    "fig = px.scatter(crimehdfi, \n",
    "                 x='crimeIndex', \n",
    "                 y='ef_legal', \n",
    "                 color='HDI',\n",
    "                size='GDP',  # Use GDP_per_capita for dot sizes\n",
    "                 size_max=20,  # Maximum size of the dots\n",
    "                 color_continuous_scale='RdBu',  # You can choose any color scale\n",
    "                 title='Scatterplot of Crime Index vs. Legal Enforcement',\n",
    "                 labels={'crimeIndex': 'Crime Index', 'ef_legal': 'Legal Enforcement'},\n",
    "                 trendline='ols',\n",
    "                 hover_name='country')\n",
    "\n",
    "fig.update_layout(\n",
    "    height=500,\n",
    ")\n",
    "\n",
    "# Show the figure\n",
    "fig.show()"
   ]
  },
  {
   "cell_type": "markdown",
   "id": "f5eaca86-bfcb-4f20-a589-b23a54189218",
   "metadata": {
    "editable": true,
    "slideshow": {
     "slide_type": ""
    },
    "tags": []
   },
   "source": [
    "The above graph shows how higher scores on the Human Development Index correspond with fairer law enforcement. These high enforcement rates imply the fact that crime is more likely to be acted upon, since it’s less likely that law enforcement is corrupt. Interestingly, the countries that score high on both measures are more likely to have higher rates of national income - as indicated by the size of the bubbles in the plot. It is likely that countries with a high national income have more money to provide basic needs for its citizens, including better law enforcement. "
   ]
  }
 ],
 "metadata": {
  "kernelspec": {
   "display_name": "Python 3 (ipykernel)",
   "language": "python",
   "name": "python3"
  },
  "language_info": {
   "codemirror_mode": {
    "name": "ipython",
    "version": 3
   },
   "file_extension": ".py",
   "mimetype": "text/x-python",
   "name": "python",
   "nbconvert_exporter": "python",
   "pygments_lexer": "ipython3",
   "version": "3.10.14"
  }
 },
 "nbformat": 4,
 "nbformat_minor": 5
}

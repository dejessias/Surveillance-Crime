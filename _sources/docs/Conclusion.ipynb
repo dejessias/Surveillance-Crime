{
 "cells": [
  {
   "cell_type": "markdown",
   "id": "a2eddf78-c31f-4a18-b668-a7d774d864b3",
   "metadata": {},
   "source": [
    "# Conclusion & Reflection\n",
    "\n",
    "## Conclusion\n",
    "The question whether surveillance as crime prevention is effective in combating illegal activity highly depends on a variety of developmental dimensions of a nation. Despite globally developed economies portraying heightened investments in legal enforcement while having lower crime rates, evidence is present that the increase of surveillance cameras do not prevent illegal activity solely. Even though it could be a useful tool for post-scenery crime detection, it does not tackle the structural issue of global inequalities causing crime.\n",
    "\n",
    "As various HDI-measures seem to predict crime rates, the following question can be forwarded: Should national governments aim for more surveillance technologies to lower their crime rates, or should there be a global effort to reduce the cross-national dimensions of inequality that cause crime rates in the first place? In sum, there is a global need for a collective, structural approach to lower inequalities within the dimensions of life expectancy, years of schooling, and gross national income, instead of promoting a single ubiquitous technology as an efficient fix to societal issues. By giving citizens around the world mobile and satisfactory life prospects, high quality education, and stability of income, national and cross-national crime rates could significantly reduce - and surveillance cameras might even lose their policy-imposed meaning within civil and criminal discourse.\n",
    "\n",
    "## Bronnen"
   ]
  }
 ],
 "metadata": {
  "kernelspec": {
   "display_name": "Python 3 (ipykernel)",
   "language": "python",
   "name": "python3"
  },
  "language_info": {
   "codemirror_mode": {
    "name": "ipython",
    "version": 3
   },
   "file_extension": ".py",
   "mimetype": "text/x-python",
   "name": "python",
   "nbconvert_exporter": "python",
   "pygments_lexer": "ipython3",
   "version": "3.10.14"
  }
 },
 "nbformat": 4,
 "nbformat_minor": 5
}

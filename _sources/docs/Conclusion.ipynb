{
 "cells": [
  {
   "cell_type": "markdown",
   "id": "a2eddf78-c31f-4a18-b668-a7d774d864b3",
   "metadata": {},
   "source": [
    "# Conclusion & Reflection\n",
    "\n",
    "## Conclusion\n",
    "The question whether surveillance as crime prevention is effective in combating illegal activity highly depends on a variety of developmental dimensions of a nation. Despite globally developed economies portraying heightened investments in legal enforcement while having lower crime rates, evidence is present that the increase of surveillance cameras do not prevent illegal activity solely. Even though it could be a useful tool for post-scenery crime detection, it does not tackle the structural issue of global inequalities causing crime.\n",
    "\n",
    "As various HDI-measures seem to predict crime rates, the following question can be forwarded: Should national governments aim for more surveillance technologies to lower their crime rates, or should there be a global effort to reduce the cross-national dimensions of inequality that cause crime rates in the first place? In sum, there is a global need for a collective, structural approach to lower inequalities within the dimensions of life expectancy, years of schooling, and gross national income, instead of promoting a single ubiquitous technology as an efficient fix to societal issues. By giving citizens around the world mobile and satisfactory life prospects, high quality education, and stability of income, national and cross-national crime rates could significantly reduce - and surveillance cameras might even lose their policy-imposed meaning within civil and criminal discourse.\n",
    "\n",
    "## Bronnen\n",
    "Dear, K., Dutton, K., & Fox, E. (2019). Do ‘watching eyes’ influence antisocial behavior? A systematic review & meta-analysis. Evolution and Human Behavior, 40(3), 269-280. 30 https://doi.org/10.1016/j.evolhumbehav.2019.01.006\n",
    "\n",
    "Ezzat, M. A., Abd El Ghany, M. A., Almotairi, S., & Salem, M. A. M. (2021). Horizontal  review on video surveillance for smart cities: Edge devices, applications, datasets, and  future trends. Sensors, 21(9), 3222. https://doi.org/10.3390/s21093222\n",
    "\n",
    "Elharrouss, O., Almaadeed, N., & Al-Maadeed, S. (2021). A review of video surveillance systems. Journal of Visual Communication and Image Representation, 77, 103116. https://doi.org/10.1016/j.jvcir.2021.103116\n",
    "\n",
    "Foucault, M. (2012). Discipline and punish: The birth of the prison. Vintage.\n",
    "\n",
    "La Vigne, N. G., Lowry, S. S., Markman, J. A., & Dwyer, A. M. (2011). Evaluating the Use of Public Surveillance Cameras for Crime Control and Prevention [Dataset]. In PsycEXTRA Dataset. https://doi.org/10.1037/e718202011-001 \n",
    "\n",
    "Elharrouss, O., Almaadeed, N., & Al-Maadeed, S. (2021). A review of video\n",
    "surveillance systems. Journal of Visual Communication and Image Representation, 77, 103116. https://doi.org/10.1016/j.jvcir.2021.103116\n",
    "\n",
    "Galič, M., Timan, T., & Koops, B. J. (2017). Bentham, Deleuze and beyond: An overview of\n",
    "surveillance theories from the panopticon to participation. Philosophy & Technology, 30, 9-37. https://doi.org/10.1007/s13347-016-0219-1\n",
    "\n",
    "Lyon, D. (2003). Surveillance as social sorting: Privacy, risk, and digital discrimination. Psychology Press.\n",
    "\n",
    "Lyon, D. (2005). Surveillance as social sorting: Privacy risk, and automated discrimination. Routledge.\n",
    "\n",
    "Marx, G. T. (2015). Surveillance studies. International Encyclopedia of the Social & Behavioral Sciences, 23(2), 733-741.https://doi.org/10.1016/B978-0-08-097086-8.64025-4\n",
    "\n",
    "Norris, C. (2005). From personal to digital: CCTV, the panopticon, and the technological mediation of suspicion and social control. In Surveillance as Social Sorting, 263-295,\n",
    "\n",
    "Pavone, V., & Esposti, S. D. (2012). Public assessment of new surveillance-oriented security technologies: Beyond the trade-off between privacy and security. Public\n",
    "\n",
    "Ratcliffe, J. (2006). Video surveillance of public places. Washington, DC: US Department of Justice, Office of Community Oriented Policing Services\n",
    "\n",
    "Zabłocki, M., Gościewska, K., Frejlichowski, D., & Hofman, R. (2014). Intelligent video surveillance systems for public spaces–a survey. Journal of Theoretical and Applied Computer Science, 8(4), 13-27. Retrieved from https://www.researchgate.net/publication/301298281_Intelligent_video_surveillance_s ystems_for_public_spaces_-_a_survey"
   ]
  }
 ],
 "metadata": {
  "kernelspec": {
   "display_name": "Python 3 (ipykernel)",
   "language": "python",
   "name": "python3"
  },
  "language_info": {
   "codemirror_mode": {
    "name": "ipython",
    "version": 3
   },
   "file_extension": ".py",
   "mimetype": "text/x-python",
   "name": "python",
   "nbconvert_exporter": "python",
   "pygments_lexer": "ipython3",
   "version": "3.10.14"
  }
 },
 "nbformat": 4,
 "nbformat_minor": 5
}

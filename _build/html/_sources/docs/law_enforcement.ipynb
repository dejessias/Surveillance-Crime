{
 "cells": [
  {
   "cell_type": "code",
   "execution_count": 2,
   "id": "00b18086-21e4-481a-a1cd-7d75c4dbaaed",
   "metadata": {},
   "outputs": [
    {
     "data": {
      "text/html": [
       "        <script type=\"text/javascript\">\n",
       "        window.PlotlyConfig = {MathJaxConfig: 'local'};\n",
       "        if (window.MathJax && window.MathJax.Hub && window.MathJax.Hub.Config) {window.MathJax.Hub.Config({SVG: {font: \"STIX-Web\"}});}\n",
       "        if (typeof require !== 'undefined') {\n",
       "        require.undef(\"plotly\");\n",
       "        requirejs.config({\n",
       "            paths: {\n",
       "                'plotly': ['https://cdn.plot.ly/plotly-2.32.0.min']\n",
       "            }\n",
       "        });\n",
       "        require(['plotly'], function(Plotly) {\n",
       "            window._Plotly = Plotly;\n",
       "        });\n",
       "        }\n",
       "        </script>\n",
       "        "
      ]
     },
     "metadata": {},
     "output_type": "display_data"
    }
   ],
   "source": [
    "import numpy as np\n",
    "import pandas as pd\n",
    "pd.options.mode.chained_assignment = None  \n",
    "import plotly.graph_objs as go\n",
    "import plotly.express as px\n",
    "from plotly.offline import init_notebook_mode\n",
    "init_notebook_mode(connected=True)"
   ]
  },
  {
   "cell_type": "code",
   "execution_count": 3,
   "id": "4b5dd599-9441-49c0-bb44-4c6b0a69da13",
   "metadata": {},
   "outputs": [
    {
     "data": {
      "application/vnd.plotly.v1+json": {
       "config": {
        "plotlyServerURL": "https://plot.ly"
       },
       "data": [
        {
         "hovertemplate": "<b>%{hovertext}</b><br><br>Crime Index=%{x}<br>Legal Enforcement=%{y}<br>GDP=%{marker.size}<br>HDI=%{marker.color}<extra></extra>",
         "hovertext": [
          "Papua New Guinea",
          "South Africa",
          "Honduras",
          "Guyana",
          "El Salvador",
          "Brazil",
          "Jamaica",
          "Peru",
          "Angola",
          "Cameroon",
          "Namibia",
          "Nigeria",
          "Bangladesh",
          "Argentina",
          "Libya",
          "Dominican Republic",
          "Kenya",
          "Belarus",
          "Zimbabwe",
          "Guatemala",
          "Bolivia",
          "Fiji",
          "Malaysia",
          "Colombia",
          "Uganda",
          "Mongolia",
          "Tanzania",
          "Ecuador",
          "Costa Rica",
          "Mexico",
          "Kazakhstan",
          "Chile",
          "Botswana",
          "Algeria",
          "France",
          "Uruguay",
          "Cambodia",
          "Belize",
          "Paraguay",
          "Ethiopia",
          "Mauritius",
          "Morocco",
          "Iraq",
          "Sweden",
          "Nicaragua",
          "United States",
          "Ukraine",
          "Ghana",
          "Lebanon",
          "Myanmar",
          "Moldova",
          "United Kingdom",
          "Indonesia",
          "Greece",
          "Ireland",
          "Panama",
          "Italy",
          "Belgium",
          "India",
          "Tunisia",
          "Zambia",
          "Australia",
          "New Zealand",
          "Albania",
          "Pakistan",
          "Philippines",
          "Sudan",
          "Canada",
          "Sri Lanka",
          "Montenegro",
          "Malta",
          "Jordan",
          "Turkey",
          "Thailand",
          "North Macedonia",
          "Latvia",
          "Bulgaria",
          "Serbia",
          "Nepal",
          "Germany",
          "Hungary",
          "Luxembourg",
          "Norway",
          "Kuwait",
          "Lithuania",
          "Spain",
          "Azerbaijan",
          "Israel",
          "Cyprus",
          "Poland",
          "China",
          "Portugal",
          "Romania",
          "Singapore",
          "Finland",
          "Netherlands",
          "Denmark",
          "Bahrain",
          "Austria",
          "Saudi Arabia",
          "Rwanda",
          "Croatia",
          "Iceland",
          "Estonia",
          "Georgia",
          "Armenia",
          "Slovenia",
          "Japan",
          "Switzerland",
          "Oman",
          "United Arab Emirates",
          "Qatar"
         ],
         "legendgroup": "",
         "marker": {
          "color": [
           0.558,
           0.713,
           0.621,
           0.714,
           0.675,
           0.754,
           0.709,
           0.762,
           0.586,
           0.576,
           0.615,
           0.535,
           0.661,
           0.842,
           0.718,
           0.767,
           0.575,
           0.808,
           0.593,
           0.627,
           0.692,
           0.73,
           0.803,
           0.752,
           0.525,
           0.739,
           0.549,
           0.74,
           0.809,
           0.758,
           0.811,
           0.855,
           0.693,
           0.745,
           0.903,
           0.809,
           0.593,
           0.683,
           0.717,
           0.498,
           0.802,
           0.683,
           0.686,
           0.947,
           0.667,
           0.921,
           0.773,
           0.632,
           0.706,
           0.585,
           0.767,
           0.929,
           0.705,
           0.887,
           0.945,
           0.805,
           0.895,
           0.937,
           0.633,
           0.731,
           0.565,
           0.951,
           0.937,
           0.796,
           0.544,
           0.699,
           0.508,
           0.936,
           0.782,
           0.832,
           0.918,
           0.72,
           0.838,
           0.8,
           0.77,
           0.863,
           0.795,
           0.802,
           0.602,
           0.942,
           0.846,
           0.93,
           0.961,
           0.831,
           0.875,
           0.905,
           0.745,
           0.919,
           0.896,
           0.876,
           0.768,
           0.866,
           0.821,
           0.939,
           0.94,
           0.941,
           0.948,
           0.875,
           0.916,
           0.875,
           0.534,
           0.858,
           0.959,
           0.89,
           0.802,
           0.759,
           0.918,
           0.925,
           0.962,
           0.816,
           0.911,
           0.855
          ],
          "coloraxis": "coloraxis",
          "size": [
           4008.623573,
           12948.37325,
           5297.955301,
           22464.65734,
           8295.665889,
           14369.88848,
           8834.47567,
           12245.89366,
           5465.617791,
           3620.932408,
           8633.504452,
           4790.284425,
           5472.104781,
           20925.26814,
           15335.712,
           17989.60037,
           4473.570344,
           18848.96704,
           3809.887158,
           8723.285317,
           8111.190194,
           9980.110866,
           26657.94355,
           14384.35666,
           2181.43651,
           10588.22532,
           2664.329096,
           10311.63273,
           19974.27358,
           17896.29498,
           23942.81837,
           24563.24486,
           16198.31841,
           10800.22546,
           45937.05273,
           21268.88122,
           4078.697154,
           6309.099778,
           12349.286,
           2361.069604,
           22025.34631,
           7302.81917,
           9977.249073,
           54489.37401,
           5624.793595,
           64765.21509,
           13255.50977,
           5744.504017,
           9525.831467,
           3850.524234,
           14875.33189,
           45224.76564,
           11466.06836,
           29002.48545,
           76168.98443,
           26956.83707,
           42839.51441,
           52293.39977,
           6589.980037,
           10257.54477,
           3217.767739,
           49238.43335,
           44057.31394,
           14131.11039,
           4623.70543,
           8920.428468,
           3575.19084,
           46807.98619,
           12578.22055,
           20838.80129,
           38884.45623,
           9923.714974,
           31032.80106,
           17030.15352,
           15917.75283,
           32803.23423,
           23078.95595,
           19123.02747,
           3877.315444,
           54534.21682,
           32789.01063,
           84649.47467,
           64660.10622,
           52919.76137,
           37931.30359,
           38353.60164,
           14256.74456,
           41523.74319,
           38188.42152,
           33033.96081,
           17504.39969,
           33154.53343,
           30027.29131,
           90918.64471,
           49452.16672,
           55979.411,
           60364.78595,
           39497.24788,
           53618.67138,
           46111.55135,
           2209.795202,
           30132.28814,
           55782.04981,
           38048.26372,
           14664.16825,
           13157.9939,
           39746.01987,
           42274.29134,
           66933.00454,
           27054.32505,
           62573.59181,
           87134.13469
          ],
          "sizemode": "area",
          "sizeref": 227.29661177499997,
          "symbol": "circle"
         },
         "mode": "markers",
         "name": "",
         "orientation": "v",
         "showlegend": false,
         "type": "scatter",
         "x": [
          80.79,
          76.86,
          74.54,
          68.74,
          67.79,
          67.49,
          67.42,
          66.72,
          66.48,
          65.24,
          65.21,
          64.06,
          63.9,
          63.82,
          61.78,
          61.02,
          60.14,
          59.58,
          59.3,
          58.67,
          57.77,
          57.62,
          57.29,
          56.87,
          56.12,
          56.01,
          56,
          55.23,
          54.22,
          54.19,
          53.77,
          53.42,
          52.98,
          52.03,
          51.99,
          51.73,
          51.13,
          50.39,
          49.37,
          49.3,
          48.88,
          48.66,
          48.42,
          48,
          47.89,
          47.81,
          47.42,
          46.98,
          46.77,
          46.51,
          46.35,
          46.07,
          45.93,
          45.85,
          45.51,
          45.15,
          44.85,
          44.58,
          44.43,
          43.69,
          43.62,
          43.03,
          42.88,
          42.53,
          42.51,
          42.46,
          42.34,
          41.89,
          41.39,
          41.18,
          40.39,
          39.96,
          39.62,
          39.35,
          39.12,
          38.77,
          38.21,
          38.1,
          36.01,
          35.79,
          34.36,
          34.13,
          33.72,
          33.42,
          33.42,
          33.32,
          32.02,
          31.47,
          31.28,
          30.5,
          30.14,
          29.91,
          28.3,
          27.96,
          27.59,
          27.16,
          26.22,
          25.64,
          25.54,
          25.23,
          24.89,
          24.59,
          23.75,
          23.71,
          23.38,
          22.79,
          22.28,
          22.19,
          21.62,
          20.34,
          15.23,
          12.13
         ],
         "xaxis": "x",
         "y": [
          4.79,
          5.76,
          3.98,
          4.84,
          3.95,
          5.19,
          5.8,
          5.23,
          3.37,
          3.73,
          5.9,
          3.77,
          3.06,
          5.29,
          2.94,
          5.1,
          4.96,
          4.54,
          3.4,
          4.62,
          3.95,
          4.73,
          6.92,
          5.06,
          4.66,
          6.05,
          5.38,
          4.66,
          6.84,
          4.46,
          5.84,
          7.53,
          6.28,
          4.48,
          7.48,
          6.05,
          3.78,
          4.13,
          4.35,
          4.68,
          7.06,
          5.94,
          3.12,
          8.34,
          3.49,
          7.86,
          5.03,
          5.36,
          3.77,
          3.21,
          5.96,
          7.99,
          5.02,
          6.13,
          7.88,
          5.97,
          6.52,
          7.69,
          5.62,
          5.65,
          4.91,
          8.61,
          9.09,
          5.28,
          4.26,
          4.92,
          3.18,
          8.3,
          5.14,
          5.81,
          6.98,
          5.92,
          4.97,
          5.36,
          4.88,
          7.17,
          5.81,
          5.44,
          5.05,
          8.15,
          6.4,
          8.64,
          9,
          6.97,
          7.4,
          7.42,
          5.27,
          6.6,
          6.94,
          6.38,
          5.07,
          7.38,
          6.78,
          8.43,
          8.9,
          8.64,
          9.08,
          6.29,
          8.55,
          7.12,
          5.88,
          6.04,
          8.77,
          7.95,
          6.33,
          5.92,
          7.04,
          8.18,
          8.96,
          7.01,
          7.47,
          7.05
         ],
         "yaxis": "y"
        },
        {
         "hovertemplate": "<b>OLS trendline</b><br>ef_legal = -0.0640219 * crimeIndex + 8.82109<br>R<sup>2</sup>=0.330519<br><br>Crime Index=%{x}<br>Legal Enforcement=%{y} <b>(trend)</b><extra></extra>",
         "legendgroup": "",
         "marker": {
          "symbol": "circle"
         },
         "mode": "lines",
         "name": "",
         "showlegend": false,
         "type": "scatter",
         "x": [
          12.13,
          15.23,
          20.34,
          21.62,
          22.19,
          22.28,
          22.79,
          23.38,
          23.71,
          23.75,
          24.59,
          24.89,
          25.23,
          25.54,
          25.64,
          26.22,
          27.16,
          27.59,
          27.96,
          28.3,
          29.91,
          30.14,
          30.5,
          31.28,
          31.47,
          32.02,
          33.32,
          33.42,
          33.42,
          33.72,
          34.13,
          34.36,
          35.79,
          36.01,
          38.1,
          38.21,
          38.77,
          39.12,
          39.35,
          39.62,
          39.96,
          40.39,
          41.18,
          41.39,
          41.89,
          42.34,
          42.46,
          42.51,
          42.53,
          42.88,
          43.03,
          43.62,
          43.69,
          44.43,
          44.58,
          44.85,
          45.15,
          45.51,
          45.85,
          45.93,
          46.07,
          46.35,
          46.51,
          46.77,
          46.98,
          47.42,
          47.81,
          47.89,
          48,
          48.42,
          48.66,
          48.88,
          49.3,
          49.37,
          50.39,
          51.13,
          51.73,
          51.99,
          52.03,
          52.98,
          53.42,
          53.77,
          54.19,
          54.22,
          55.23,
          56,
          56.01,
          56.12,
          56.87,
          57.29,
          57.62,
          57.77,
          58.67,
          59.3,
          59.58,
          60.14,
          61.02,
          61.78,
          63.82,
          63.9,
          64.06,
          65.21,
          65.24,
          66.48,
          66.72,
          67.42,
          67.49,
          67.79,
          68.74,
          74.54,
          76.86,
          80.79
         ],
         "xaxis": "x",
         "y": [
          8.044506940767974,
          7.846039085880918,
          7.518887234760641,
          7.436939217258888,
          7.4004467407151395,
          7.394684770734547,
          7.362033607511193,
          7.324260693193978,
          7.303133469931808,
          7.300572594384878,
          7.246794207899353,
          7.227587641297379,
          7.2058201991484765,
          7.185973413659771,
          7.179571224792447,
          7.142438529361965,
          7.0822579540091155,
          7.054728541879621,
          7.031040443070521,
          7.009273000921618,
          6.906197760157695,
          6.891472725762848,
          6.86842484584048,
          6.8184877726753506,
          6.806323613827434,
          6.77111157505715,
          6.687883119781932,
          6.681480930914608,
          6.681480930914608,
          6.662274364312634,
          6.636025389956604,
          6.621300355561758,
          6.529749054759019,
          6.515664239250905,
          6.3818584919238255,
          6.374816084169769,
          6.338963826512751,
          6.316556165477117,
          6.30183113108227,
          6.284545221140494,
          6.262777778991591,
          6.235248366862097,
          6.184671074810233,
          6.171226478188852,
          6.13921553385223,
          6.110405683949271,
          6.102723057308481,
          6.099521962874819,
          6.098241525101354,
          6.075833864065718,
          6.066230580764731,
          6.028457666447518,
          6.023976134240391,
          5.97659993662219,
          5.966996653321203,
          5.949710743379427,
          5.930504176777454,
          5.907456296855086,
          5.885688854706183,
          5.880567103612323,
          5.87160403919807,
          5.853677910369561,
          5.843434408181842,
          5.8267887171267985,
          5.813344120505418,
          5.78517448948919,
          5.760205952906625,
          5.755084201812766,
          5.748041794058708,
          5.721152600815946,
          5.7057873475343674,
          5.6917025320262535,
          5.664813338783491,
          5.660331806576364,
          5.595029480129655,
          5.547653282511455,
          5.509240149307509,
          5.492594458252464,
          5.490033582705535,
          5.429212788465954,
          5.401043157449726,
          5.3786354964140894,
          5.3517463031713275,
          5.34982564651113,
          5.285163538951154,
          5.2358666846727555,
          5.235226465786024,
          5.2281840580319665,
          5.180167641527033,
          5.15327844828427,
          5.132151225022101,
          5.1225479417211135,
          5.064928241915194,
          5.02459445205105,
          5.0066683232225415,
          4.970816065565526,
          4.91447680353307,
          4.865820168141404,
          4.735215515247987,
          4.730093764154128,
          4.719850261966408,
          4.6462250899921775,
          4.64430443333198,
          4.564917291377157,
          4.5495520380955785,
          4.504736716024308,
          4.500255183817181,
          4.481048617215207,
          4.420227822975626,
          4.04890086867081,
          3.9003700869488833,
          3.648764064463034
         ],
         "yaxis": "y"
        }
       ],
       "layout": {
        "autosize": true,
        "coloraxis": {
         "colorbar": {
          "title": {
           "text": "HDI"
          }
         },
         "colorscale": [
          [
           0,
           "rgb(103,0,31)"
          ],
          [
           0.1,
           "rgb(178,24,43)"
          ],
          [
           0.2,
           "rgb(214,96,77)"
          ],
          [
           0.3,
           "rgb(244,165,130)"
          ],
          [
           0.4,
           "rgb(253,219,199)"
          ],
          [
           0.5,
           "rgb(247,247,247)"
          ],
          [
           0.6,
           "rgb(209,229,240)"
          ],
          [
           0.7,
           "rgb(146,197,222)"
          ],
          [
           0.8,
           "rgb(67,147,195)"
          ],
          [
           0.9,
           "rgb(33,102,172)"
          ],
          [
           1,
           "rgb(5,48,97)"
          ]
         ]
        },
        "legend": {
         "itemsizing": "constant",
         "tracegroupgap": 0
        },
        "template": {
         "data": {
          "bar": [
           {
            "error_x": {
             "color": "#2a3f5f"
            },
            "error_y": {
             "color": "#2a3f5f"
            },
            "marker": {
             "line": {
              "color": "#E5ECF6",
              "width": 0.5
             },
             "pattern": {
              "fillmode": "overlay",
              "size": 10,
              "solidity": 0.2
             }
            },
            "type": "bar"
           }
          ],
          "barpolar": [
           {
            "marker": {
             "line": {
              "color": "#E5ECF6",
              "width": 0.5
             },
             "pattern": {
              "fillmode": "overlay",
              "size": 10,
              "solidity": 0.2
             }
            },
            "type": "barpolar"
           }
          ],
          "carpet": [
           {
            "aaxis": {
             "endlinecolor": "#2a3f5f",
             "gridcolor": "white",
             "linecolor": "white",
             "minorgridcolor": "white",
             "startlinecolor": "#2a3f5f"
            },
            "baxis": {
             "endlinecolor": "#2a3f5f",
             "gridcolor": "white",
             "linecolor": "white",
             "minorgridcolor": "white",
             "startlinecolor": "#2a3f5f"
            },
            "type": "carpet"
           }
          ],
          "choropleth": [
           {
            "colorbar": {
             "outlinewidth": 0,
             "ticks": ""
            },
            "type": "choropleth"
           }
          ],
          "contour": [
           {
            "colorbar": {
             "outlinewidth": 0,
             "ticks": ""
            },
            "colorscale": [
             [
              0,
              "#0d0887"
             ],
             [
              0.1111111111111111,
              "#46039f"
             ],
             [
              0.2222222222222222,
              "#7201a8"
             ],
             [
              0.3333333333333333,
              "#9c179e"
             ],
             [
              0.4444444444444444,
              "#bd3786"
             ],
             [
              0.5555555555555556,
              "#d8576b"
             ],
             [
              0.6666666666666666,
              "#ed7953"
             ],
             [
              0.7777777777777778,
              "#fb9f3a"
             ],
             [
              0.8888888888888888,
              "#fdca26"
             ],
             [
              1,
              "#f0f921"
             ]
            ],
            "type": "contour"
           }
          ],
          "contourcarpet": [
           {
            "colorbar": {
             "outlinewidth": 0,
             "ticks": ""
            },
            "type": "contourcarpet"
           }
          ],
          "heatmap": [
           {
            "colorbar": {
             "outlinewidth": 0,
             "ticks": ""
            },
            "colorscale": [
             [
              0,
              "#0d0887"
             ],
             [
              0.1111111111111111,
              "#46039f"
             ],
             [
              0.2222222222222222,
              "#7201a8"
             ],
             [
              0.3333333333333333,
              "#9c179e"
             ],
             [
              0.4444444444444444,
              "#bd3786"
             ],
             [
              0.5555555555555556,
              "#d8576b"
             ],
             [
              0.6666666666666666,
              "#ed7953"
             ],
             [
              0.7777777777777778,
              "#fb9f3a"
             ],
             [
              0.8888888888888888,
              "#fdca26"
             ],
             [
              1,
              "#f0f921"
             ]
            ],
            "type": "heatmap"
           }
          ],
          "heatmapgl": [
           {
            "colorbar": {
             "outlinewidth": 0,
             "ticks": ""
            },
            "colorscale": [
             [
              0,
              "#0d0887"
             ],
             [
              0.1111111111111111,
              "#46039f"
             ],
             [
              0.2222222222222222,
              "#7201a8"
             ],
             [
              0.3333333333333333,
              "#9c179e"
             ],
             [
              0.4444444444444444,
              "#bd3786"
             ],
             [
              0.5555555555555556,
              "#d8576b"
             ],
             [
              0.6666666666666666,
              "#ed7953"
             ],
             [
              0.7777777777777778,
              "#fb9f3a"
             ],
             [
              0.8888888888888888,
              "#fdca26"
             ],
             [
              1,
              "#f0f921"
             ]
            ],
            "type": "heatmapgl"
           }
          ],
          "histogram": [
           {
            "marker": {
             "pattern": {
              "fillmode": "overlay",
              "size": 10,
              "solidity": 0.2
             }
            },
            "type": "histogram"
           }
          ],
          "histogram2d": [
           {
            "colorbar": {
             "outlinewidth": 0,
             "ticks": ""
            },
            "colorscale": [
             [
              0,
              "#0d0887"
             ],
             [
              0.1111111111111111,
              "#46039f"
             ],
             [
              0.2222222222222222,
              "#7201a8"
             ],
             [
              0.3333333333333333,
              "#9c179e"
             ],
             [
              0.4444444444444444,
              "#bd3786"
             ],
             [
              0.5555555555555556,
              "#d8576b"
             ],
             [
              0.6666666666666666,
              "#ed7953"
             ],
             [
              0.7777777777777778,
              "#fb9f3a"
             ],
             [
              0.8888888888888888,
              "#fdca26"
             ],
             [
              1,
              "#f0f921"
             ]
            ],
            "type": "histogram2d"
           }
          ],
          "histogram2dcontour": [
           {
            "colorbar": {
             "outlinewidth": 0,
             "ticks": ""
            },
            "colorscale": [
             [
              0,
              "#0d0887"
             ],
             [
              0.1111111111111111,
              "#46039f"
             ],
             [
              0.2222222222222222,
              "#7201a8"
             ],
             [
              0.3333333333333333,
              "#9c179e"
             ],
             [
              0.4444444444444444,
              "#bd3786"
             ],
             [
              0.5555555555555556,
              "#d8576b"
             ],
             [
              0.6666666666666666,
              "#ed7953"
             ],
             [
              0.7777777777777778,
              "#fb9f3a"
             ],
             [
              0.8888888888888888,
              "#fdca26"
             ],
             [
              1,
              "#f0f921"
             ]
            ],
            "type": "histogram2dcontour"
           }
          ],
          "mesh3d": [
           {
            "colorbar": {
             "outlinewidth": 0,
             "ticks": ""
            },
            "type": "mesh3d"
           }
          ],
          "parcoords": [
           {
            "line": {
             "colorbar": {
              "outlinewidth": 0,
              "ticks": ""
             }
            },
            "type": "parcoords"
           }
          ],
          "pie": [
           {
            "automargin": true,
            "type": "pie"
           }
          ],
          "scatter": [
           {
            "fillpattern": {
             "fillmode": "overlay",
             "size": 10,
             "solidity": 0.2
            },
            "type": "scatter"
           }
          ],
          "scatter3d": [
           {
            "line": {
             "colorbar": {
              "outlinewidth": 0,
              "ticks": ""
             }
            },
            "marker": {
             "colorbar": {
              "outlinewidth": 0,
              "ticks": ""
             }
            },
            "type": "scatter3d"
           }
          ],
          "scattercarpet": [
           {
            "marker": {
             "colorbar": {
              "outlinewidth": 0,
              "ticks": ""
             }
            },
            "type": "scattercarpet"
           }
          ],
          "scattergeo": [
           {
            "marker": {
             "colorbar": {
              "outlinewidth": 0,
              "ticks": ""
             }
            },
            "type": "scattergeo"
           }
          ],
          "scattergl": [
           {
            "marker": {
             "colorbar": {
              "outlinewidth": 0,
              "ticks": ""
             }
            },
            "type": "scattergl"
           }
          ],
          "scattermapbox": [
           {
            "marker": {
             "colorbar": {
              "outlinewidth": 0,
              "ticks": ""
             }
            },
            "type": "scattermapbox"
           }
          ],
          "scatterpolar": [
           {
            "marker": {
             "colorbar": {
              "outlinewidth": 0,
              "ticks": ""
             }
            },
            "type": "scatterpolar"
           }
          ],
          "scatterpolargl": [
           {
            "marker": {
             "colorbar": {
              "outlinewidth": 0,
              "ticks": ""
             }
            },
            "type": "scatterpolargl"
           }
          ],
          "scatterternary": [
           {
            "marker": {
             "colorbar": {
              "outlinewidth": 0,
              "ticks": ""
             }
            },
            "type": "scatterternary"
           }
          ],
          "surface": [
           {
            "colorbar": {
             "outlinewidth": 0,
             "ticks": ""
            },
            "colorscale": [
             [
              0,
              "#0d0887"
             ],
             [
              0.1111111111111111,
              "#46039f"
             ],
             [
              0.2222222222222222,
              "#7201a8"
             ],
             [
              0.3333333333333333,
              "#9c179e"
             ],
             [
              0.4444444444444444,
              "#bd3786"
             ],
             [
              0.5555555555555556,
              "#d8576b"
             ],
             [
              0.6666666666666666,
              "#ed7953"
             ],
             [
              0.7777777777777778,
              "#fb9f3a"
             ],
             [
              0.8888888888888888,
              "#fdca26"
             ],
             [
              1,
              "#f0f921"
             ]
            ],
            "type": "surface"
           }
          ],
          "table": [
           {
            "cells": {
             "fill": {
              "color": "#EBF0F8"
             },
             "line": {
              "color": "white"
             }
            },
            "header": {
             "fill": {
              "color": "#C8D4E3"
             },
             "line": {
              "color": "white"
             }
            },
            "type": "table"
           }
          ]
         },
         "layout": {
          "annotationdefaults": {
           "arrowcolor": "#2a3f5f",
           "arrowhead": 0,
           "arrowwidth": 1
          },
          "autotypenumbers": "strict",
          "coloraxis": {
           "colorbar": {
            "outlinewidth": 0,
            "ticks": ""
           }
          },
          "colorscale": {
           "diverging": [
            [
             0,
             "#8e0152"
            ],
            [
             0.1,
             "#c51b7d"
            ],
            [
             0.2,
             "#de77ae"
            ],
            [
             0.3,
             "#f1b6da"
            ],
            [
             0.4,
             "#fde0ef"
            ],
            [
             0.5,
             "#f7f7f7"
            ],
            [
             0.6,
             "#e6f5d0"
            ],
            [
             0.7,
             "#b8e186"
            ],
            [
             0.8,
             "#7fbc41"
            ],
            [
             0.9,
             "#4d9221"
            ],
            [
             1,
             "#276419"
            ]
           ],
           "sequential": [
            [
             0,
             "#0d0887"
            ],
            [
             0.1111111111111111,
             "#46039f"
            ],
            [
             0.2222222222222222,
             "#7201a8"
            ],
            [
             0.3333333333333333,
             "#9c179e"
            ],
            [
             0.4444444444444444,
             "#bd3786"
            ],
            [
             0.5555555555555556,
             "#d8576b"
            ],
            [
             0.6666666666666666,
             "#ed7953"
            ],
            [
             0.7777777777777778,
             "#fb9f3a"
            ],
            [
             0.8888888888888888,
             "#fdca26"
            ],
            [
             1,
             "#f0f921"
            ]
           ],
           "sequentialminus": [
            [
             0,
             "#0d0887"
            ],
            [
             0.1111111111111111,
             "#46039f"
            ],
            [
             0.2222222222222222,
             "#7201a8"
            ],
            [
             0.3333333333333333,
             "#9c179e"
            ],
            [
             0.4444444444444444,
             "#bd3786"
            ],
            [
             0.5555555555555556,
             "#d8576b"
            ],
            [
             0.6666666666666666,
             "#ed7953"
            ],
            [
             0.7777777777777778,
             "#fb9f3a"
            ],
            [
             0.8888888888888888,
             "#fdca26"
            ],
            [
             1,
             "#f0f921"
            ]
           ]
          },
          "colorway": [
           "#636efa",
           "#EF553B",
           "#00cc96",
           "#ab63fa",
           "#FFA15A",
           "#19d3f3",
           "#FF6692",
           "#B6E880",
           "#FF97FF",
           "#FECB52"
          ],
          "font": {
           "color": "#2a3f5f"
          },
          "geo": {
           "bgcolor": "white",
           "lakecolor": "white",
           "landcolor": "#E5ECF6",
           "showlakes": true,
           "showland": true,
           "subunitcolor": "white"
          },
          "hoverlabel": {
           "align": "left"
          },
          "hovermode": "closest",
          "mapbox": {
           "style": "light"
          },
          "paper_bgcolor": "white",
          "plot_bgcolor": "#E5ECF6",
          "polar": {
           "angularaxis": {
            "gridcolor": "white",
            "linecolor": "white",
            "ticks": ""
           },
           "bgcolor": "#E5ECF6",
           "radialaxis": {
            "gridcolor": "white",
            "linecolor": "white",
            "ticks": ""
           }
          },
          "scene": {
           "xaxis": {
            "backgroundcolor": "#E5ECF6",
            "gridcolor": "white",
            "gridwidth": 2,
            "linecolor": "white",
            "showbackground": true,
            "ticks": "",
            "zerolinecolor": "white"
           },
           "yaxis": {
            "backgroundcolor": "#E5ECF6",
            "gridcolor": "white",
            "gridwidth": 2,
            "linecolor": "white",
            "showbackground": true,
            "ticks": "",
            "zerolinecolor": "white"
           },
           "zaxis": {
            "backgroundcolor": "#E5ECF6",
            "gridcolor": "white",
            "gridwidth": 2,
            "linecolor": "white",
            "showbackground": true,
            "ticks": "",
            "zerolinecolor": "white"
           }
          },
          "shapedefaults": {
           "line": {
            "color": "#2a3f5f"
           }
          },
          "ternary": {
           "aaxis": {
            "gridcolor": "white",
            "linecolor": "white",
            "ticks": ""
           },
           "baxis": {
            "gridcolor": "white",
            "linecolor": "white",
            "ticks": ""
           },
           "bgcolor": "#E5ECF6",
           "caxis": {
            "gridcolor": "white",
            "linecolor": "white",
            "ticks": ""
           }
          },
          "title": {
           "x": 0.05
          },
          "xaxis": {
           "automargin": true,
           "gridcolor": "white",
           "linecolor": "white",
           "ticks": "",
           "title": {
            "standoff": 15
           },
           "zerolinecolor": "white",
           "zerolinewidth": 2
          },
          "yaxis": {
           "automargin": true,
           "gridcolor": "white",
           "linecolor": "white",
           "ticks": "",
           "title": {
            "standoff": 15
           },
           "zerolinecolor": "white",
           "zerolinewidth": 2
          }
         }
        },
        "title": {
         "text": "Scatterplot of Crime Index vs. Legal Enforcement"
        },
        "xaxis": {
         "anchor": "y",
         "autorange": true,
         "domain": [
          0,
          1
         ],
         "range": [
          6.902576519754866,
          84.97766589973938
         ],
         "title": {
          "text": "Crime Index"
         },
         "type": "linear"
        },
        "yaxis": {
         "anchor": "x",
         "autorange": true,
         "domain": [
          0,
          1
         ],
         "range": [
          2.4258527754245187,
          9.74020093842745
         ],
         "title": {
          "text": "Legal Enforcement"
         },
         "type": "linear"
        }
       }
      },
      "image/png": "[encoded data removed]",
      "text/html": [
       "<div>                            <div id=\"73bd4c8b-a19a-453b-be6c-580e45bd6789\" class=\"plotly-graph-div\" style=\"height:500px; width:100%;\"></div>            <script type=\"text/javascript\">                require([\"plotly\"], function(Plotly) {                    window.PLOTLYENV=window.PLOTLYENV || {};                                    if (document.getElementById(\"73bd4c8b-a19a-453b-be6c-580e45bd6789\")) {                    Plotly.newPlot(                        \"73bd4c8b-a19a-453b-be6c-580e45bd6789\",                        [{\"hovertemplate\":\"\\u003cb\\u003e%{hovertext}\\u003c\\u002fb\\u003e\\u003cbr\\u003e\\u003cbr\\u003eCrime Index=%{x}\\u003cbr\\u003eLegal Enforcement=%{y}\\u003cbr\\u003eGDP=%{marker.size}\\u003cbr\\u003eHDI=%{marker.color}\\u003cextra\\u003e\\u003c\\u002fextra\\u003e\",\"hovertext\":[\"Papua New Guinea\",\"South Africa\",\"Honduras\",\"Guyana\",\"El Salvador\",\"Brazil\",\"Jamaica\",\"Peru\",\"Angola\",\"Cameroon\",\"Namibia\",\"Nigeria\",\"Bangladesh\",\"Argentina\",\"Libya\",\"Dominican Republic\",\"Kenya\",\"Belarus\",\"Zimbabwe\",\"Guatemala\",\"Bolivia\",\"Fiji\",\"Malaysia\",\"Colombia\",\"Uganda\",\"Mongolia\",\"Tanzania\",\"Ecuador\",\"Costa Rica\",\"Mexico\",\"Kazakhstan\",\"Chile\",\"Botswana\",\"Algeria\",\"France\",\"Uruguay\",\"Cambodia\",\"Belize\",\"Paraguay\",\"Ethiopia\",\"Mauritius\",\"Morocco\",\"Iraq\",\"Sweden\",\"Nicaragua\",\"United States\",\"Ukraine\",\"Ghana\",\"Lebanon\",\"Myanmar\",\"Moldova\",\"United Kingdom\",\"Indonesia\",\"Greece\",\"Ireland\",\"Panama\",\"Italy\",\"Belgium\",\"India\",\"Tunisia\",\"Zambia\",\"Australia\",\"New Zealand\",\"Albania\",\"Pakistan\",\"Philippines\",\"Sudan\",\"Canada\",\"Sri Lanka\",\"Montenegro\",\"Malta\",\"Jordan\",\"Turkey\",\"Thailand\",\"North Macedonia\",\"Latvia\",\"Bulgaria\",\"Serbia\",\"Nepal\",\"Germany\",\"Hungary\",\"Luxembourg\",\"Norway\",\"Kuwait\",\"Lithuania\",\"Spain\",\"Azerbaijan\",\"Israel\",\"Cyprus\",\"Poland\",\"China\",\"Portugal\",\"Romania\",\"Singapore\",\"Finland\",\"Netherlands\",\"Denmark\",\"Bahrain\",\"Austria\",\"Saudi Arabia\",\"Rwanda\",\"Croatia\",\"Iceland\",\"Estonia\",\"Georgia\",\"Armenia\",\"Slovenia\",\"Japan\",\"Switzerland\",\"Oman\",\"United Arab Emirates\",\"Qatar\"],\"legendgroup\":\"\",\"marker\":{\"color\":[0.558,0.713,0.621,0.714,0.675,0.754,0.709,0.762,0.586,0.576,0.615,0.535,0.661,0.842,0.718,0.767,0.575,0.808,0.593,0.627,0.692,0.73,0.803,0.752,0.525,0.739,0.549,0.74,0.809,0.758,0.811,0.855,0.693,0.745,0.903,0.809,0.593,0.683,0.717,0.498,0.802,0.683,0.686,0.947,0.667,0.921,0.773,0.632,0.706,0.585,0.767,0.929,0.705,0.887,0.945,0.805,0.895,0.937,0.633,0.731,0.565,0.951,0.937,0.796,0.544,0.699,0.508,0.936,0.782,0.832,0.918,0.72,0.838,0.8,0.77,0.863,0.795,0.802,0.602,0.942,0.846,0.93,0.961,0.831,0.875,0.905,0.745,0.919,0.896,0.876,0.768,0.866,0.821,0.939,0.94,0.941,0.948,0.875,0.916,0.875,0.534,0.858,0.959,0.89,0.802,0.759,0.918,0.925,0.962,0.816,0.911,0.855],\"coloraxis\":\"coloraxis\",\"size\":[4008.623573,12948.37325,5297.955301,22464.65734,8295.665889,14369.88848,8834.47567,12245.89366,5465.617791,3620.932408,8633.504452,4790.284425,5472.104781,20925.26814,15335.712,17989.60037,4473.570344,18848.96704,3809.887158,8723.285317,8111.190194,9980.110866,26657.94355,14384.35666,2181.43651,10588.22532,2664.329096,10311.63273,19974.27358,17896.29498,23942.81837,24563.24486,16198.31841,10800.22546,45937.05273,21268.88122,4078.697154,6309.099778,12349.286,2361.069604,22025.34631,7302.81917,9977.249073,54489.37401,5624.793595,64765.21509,13255.50977,5744.504017,9525.831467,3850.524234,14875.33189,45224.76564,11466.06836,29002.48545,76168.98443,26956.83707,42839.51441,52293.39977,6589.980037,10257.54477,3217.767739,49238.43335,44057.31394,14131.11039,4623.70543,8920.428468,3575.19084,46807.98619,12578.22055,20838.80129,38884.45623,9923.714974,31032.80106,17030.15352,15917.75283,32803.23423,23078.95595,19123.02747,3877.315444,54534.21682,32789.01063,84649.47467,64660.10622,52919.76137,37931.30359,38353.60164,14256.74456,41523.74319,38188.42152,33033.96081,17504.39969,33154.53343,30027.29131,90918.64471,49452.16672,55979.411,60364.78595,39497.24788,53618.67138,46111.55135,2209.795202,30132.28814,55782.04981,38048.26372,14664.16825,13157.9939,39746.01987,42274.29134,66933.00454,27054.32505,62573.59181,87134.13469],\"sizemode\":\"area\",\"sizeref\":227.29661177499997,\"symbol\":\"circle\"},\"mode\":\"markers\",\"name\":\"\",\"orientation\":\"v\",\"showlegend\":false,\"x\":[80.79,76.86,74.54,68.74,67.79,67.49,67.42,66.72,66.48,65.24,65.21,64.06,63.9,63.82,61.78,61.02,60.14,59.58,59.3,58.67,57.77,57.62,57.29,56.87,56.12,56.01,56.0,55.23,54.22,54.19,53.77,53.42,52.98,52.03,51.99,51.73,51.13,50.39,49.37,49.3,48.88,48.66,48.42,48.0,47.89,47.81,47.42,46.98,46.77,46.51,46.35,46.07,45.93,45.85,45.51,45.15,44.85,44.58,44.43,43.69,43.62,43.03,42.88,42.53,42.51,42.46,42.34,41.89,41.39,41.18,40.39,39.96,39.62,39.35,39.12,38.77,38.21,38.1,36.01,35.79,34.36,34.13,33.72,33.42,33.42,33.32,32.02,31.47,31.28,30.5,30.14,29.91,28.3,27.96,27.59,27.16,26.22,25.64,25.54,25.23,24.89,24.59,23.75,23.71,23.38,22.79,22.28,22.19,21.62,20.34,15.23,12.13],\"xaxis\":\"x\",\"y\":[4.79,5.76,3.98,4.84,3.95,5.19,5.8,5.23,3.37,3.73,5.9,3.77,3.06,5.29,2.94,5.1,4.96,4.54,3.4,4.62,3.95,4.73,6.92,5.06,4.66,6.05,5.38,4.66,6.84,4.46,5.84,7.53,6.28,4.48,7.48,6.05,3.78,4.13,4.35,4.68,7.06,5.94,3.12,8.34,3.49,7.86,5.03,5.36,3.77,3.21,5.96,7.99,5.02,6.13,7.88,5.97,6.52,7.69,5.62,5.65,4.91,8.61,9.09,5.28,4.26,4.92,3.18,8.3,5.14,5.81,6.98,5.92,4.97,5.36,4.88,7.17,5.81,5.44,5.05,8.15,6.4,8.64,9.0,6.97,7.4,7.42,5.27,6.6,6.94,6.38,5.07,7.38,6.78,8.43,8.9,8.64,9.08,6.29,8.55,7.12,5.88,6.04,8.77,7.95,6.33,5.92,7.04,8.18,8.96,7.01,7.47,7.05],\"yaxis\":\"y\",\"type\":\"scatter\"},{\"hovertemplate\":\"\\u003cb\\u003eOLS trendline\\u003c\\u002fb\\u003e\\u003cbr\\u003eef_legal = -0.0640219 * crimeIndex + 8.82109\\u003cbr\\u003eR\\u003csup\\u003e2\\u003c\\u002fsup\\u003e=0.330519\\u003cbr\\u003e\\u003cbr\\u003eCrime Index=%{x}\\u003cbr\\u003eLegal Enforcement=%{y} \\u003cb\\u003e(trend)\\u003c\\u002fb\\u003e\\u003cextra\\u003e\\u003c\\u002fextra\\u003e\",\"legendgroup\":\"\",\"marker\":{\"symbol\":\"circle\"},\"mode\":\"lines\",\"name\":\"\",\"showlegend\":false,\"x\":[12.13,15.23,20.34,21.62,22.19,22.28,22.79,23.38,23.71,23.75,24.59,24.89,25.23,25.54,25.64,26.22,27.16,27.59,27.96,28.3,29.91,30.14,30.5,31.28,31.47,32.02,33.32,33.42,33.42,33.72,34.13,34.36,35.79,36.01,38.1,38.21,38.77,39.12,39.35,39.62,39.96,40.39,41.18,41.39,41.89,42.34,42.46,42.51,42.53,42.88,43.03,43.62,43.69,44.43,44.58,44.85,45.15,45.51,45.85,45.93,46.07,46.35,46.51,46.77,46.98,47.42,47.81,47.89,48.0,48.42,48.66,48.88,49.3,49.37,50.39,51.13,51.73,51.99,52.03,52.98,53.42,53.77,54.19,54.22,55.23,56.0,56.01,56.12,56.87,57.29,57.62,57.77,58.67,59.3,59.58,60.14,61.02,61.78,63.82,63.9,64.06,65.21,65.24,66.48,66.72,67.42,67.49,67.79,68.74,74.54,76.86,80.79],\"xaxis\":\"x\",\"y\":[8.044506940767974,7.846039085880918,7.518887234760641,7.436939217258888,7.4004467407151395,7.394684770734547,7.362033607511193,7.324260693193978,7.303133469931808,7.300572594384878,7.246794207899353,7.227587641297379,7.2058201991484765,7.185973413659771,7.179571224792447,7.142438529361965,7.0822579540091155,7.054728541879621,7.031040443070521,7.009273000921618,6.906197760157695,6.891472725762848,6.86842484584048,6.8184877726753506,6.806323613827434,6.77111157505715,6.687883119781932,6.681480930914608,6.681480930914608,6.662274364312634,6.636025389956604,6.621300355561758,6.529749054759019,6.515664239250905,6.3818584919238255,6.374816084169769,6.338963826512751,6.316556165477117,6.30183113108227,6.284545221140494,6.262777778991591,6.235248366862097,6.184671074810233,6.171226478188852,6.13921553385223,6.110405683949271,6.102723057308481,6.099521962874819,6.098241525101354,6.075833864065718,6.066230580764731,6.028457666447518,6.023976134240391,5.97659993662219,5.966996653321203,5.949710743379427,5.930504176777454,5.907456296855086,5.885688854706183,5.880567103612323,5.87160403919807,5.853677910369561,5.843434408181842,5.8267887171267985,5.813344120505418,5.78517448948919,5.760205952906625,5.755084201812766,5.748041794058708,5.721152600815946,5.7057873475343674,5.6917025320262535,5.664813338783491,5.660331806576364,5.595029480129655,5.547653282511455,5.509240149307509,5.492594458252464,5.490033582705535,5.429212788465954,5.401043157449726,5.3786354964140894,5.3517463031713275,5.34982564651113,5.285163538951154,5.2358666846727555,5.235226465786024,5.2281840580319665,5.180167641527033,5.15327844828427,5.132151225022101,5.1225479417211135,5.064928241915194,5.02459445205105,5.0066683232225415,4.970816065565526,4.91447680353307,4.865820168141404,4.735215515247987,4.730093764154128,4.719850261966408,4.6462250899921775,4.64430443333198,4.564917291377157,4.5495520380955785,4.504736716024308,4.500255183817181,4.481048617215207,4.420227822975626,4.04890086867081,3.9003700869488833,3.648764064463034],\"yaxis\":\"y\",\"type\":\"scatter\"}],                        {\"template\":{\"data\":{\"histogram2dcontour\":[{\"type\":\"histogram2dcontour\",\"colorbar\":{\"outlinewidth\":0,\"ticks\":\"\"},\"colorscale\":[[0.0,\"#0d0887\"],[0.1111111111111111,\"#46039f\"],[0.2222222222222222,\"#7201a8\"],[0.3333333333333333,\"#9c179e\"],[0.4444444444444444,\"#bd3786\"],[0.5555555555555556,\"#d8576b\"],[0.6666666666666666,\"#ed7953\"],[0.7777777777777778,\"#fb9f3a\"],[0.8888888888888888,\"#fdca26\"],[1.0,\"#f0f921\"]]}],\"choropleth\":[{\"type\":\"choropleth\",\"colorbar\":{\"outlinewidth\":0,\"ticks\":\"\"}}],\"histogram2d\":[{\"type\":\"histogram2d\",\"colorbar\":{\"outlinewidth\":0,\"ticks\":\"\"},\"colorscale\":[[0.0,\"#0d0887\"],[0.1111111111111111,\"#46039f\"],[0.2222222222222222,\"#7201a8\"],[0.3333333333333333,\"#9c179e\"],[0.4444444444444444,\"#bd3786\"],[0.5555555555555556,\"#d8576b\"],[0.6666666666666666,\"#ed7953\"],[0.7777777777777778,\"#fb9f3a\"],[0.8888888888888888,\"#fdca26\"],[1.0,\"#f0f921\"]]}],\"heatmap\":[{\"type\":\"heatmap\",\"colorbar\":{\"outlinewidth\":0,\"ticks\":\"\"},\"colorscale\":[[0.0,\"#0d0887\"],[0.1111111111111111,\"#46039f\"],[0.2222222222222222,\"#7201a8\"],[0.3333333333333333,\"#9c179e\"],[0.4444444444444444,\"#bd3786\"],[0.5555555555555556,\"#d8576b\"],[0.6666666666666666,\"#ed7953\"],[0.7777777777777778,\"#fb9f3a\"],[0.8888888888888888,\"#fdca26\"],[1.0,\"#f0f921\"]]}],\"heatmapgl\":[{\"type\":\"heatmapgl\",\"colorbar\":{\"outlinewidth\":0,\"ticks\":\"\"},\"colorscale\":[[0.0,\"#0d0887\"],[0.1111111111111111,\"#46039f\"],[0.2222222222222222,\"#7201a8\"],[0.3333333333333333,\"#9c179e\"],[0.4444444444444444,\"#bd3786\"],[0.5555555555555556,\"#d8576b\"],[0.6666666666666666,\"#ed7953\"],[0.7777777777777778,\"#fb9f3a\"],[0.8888888888888888,\"#fdca26\"],[1.0,\"#f0f921\"]]}],\"contourcarpet\":[{\"type\":\"contourcarpet\",\"colorbar\":{\"outlinewidth\":0,\"ticks\":\"\"}}],\"contour\":[{\"type\":\"contour\",\"colorbar\":{\"outlinewidth\":0,\"ticks\":\"\"},\"colorscale\":[[0.0,\"#0d0887\"],[0.1111111111111111,\"#46039f\"],[0.2222222222222222,\"#7201a8\"],[0.3333333333333333,\"#9c179e\"],[0.4444444444444444,\"#bd3786\"],[0.5555555555555556,\"#d8576b\"],[0.6666666666666666,\"#ed7953\"],[0.7777777777777778,\"#fb9f3a\"],[0.8888888888888888,\"#fdca26\"],[1.0,\"#f0f921\"]]}],\"surface\":[{\"type\":\"surface\",\"colorbar\":{\"outlinewidth\":0,\"ticks\":\"\"},\"colorscale\":[[0.0,\"#0d0887\"],[0.1111111111111111,\"#46039f\"],[0.2222222222222222,\"#7201a8\"],[0.3333333333333333,\"#9c179e\"],[0.4444444444444444,\"#bd3786\"],[0.5555555555555556,\"#d8576b\"],[0.6666666666666666,\"#ed7953\"],[0.7777777777777778,\"#fb9f3a\"],[0.8888888888888888,\"#fdca26\"],[1.0,\"#f0f921\"]]}],\"mesh3d\":[{\"type\":\"mesh3d\",\"colorbar\":{\"outlinewidth\":0,\"ticks\":\"\"}}],\"scatter\":[{\"fillpattern\":{\"fillmode\":\"overlay\",\"size\":10,\"solidity\":0.2},\"type\":\"scatter\"}],\"parcoords\":[{\"type\":\"parcoords\",\"line\":{\"colorbar\":{\"outlinewidth\":0,\"ticks\":\"\"}}}],\"scatterpolargl\":[{\"type\":\"scatterpolargl\",\"marker\":{\"colorbar\":{\"outlinewidth\":0,\"ticks\":\"\"}}}],\"bar\":[{\"error_x\":{\"color\":\"#2a3f5f\"},\"error_y\":{\"color\":\"#2a3f5f\"},\"marker\":{\"line\":{\"color\":\"#E5ECF6\",\"width\":0.5},\"pattern\":{\"fillmode\":\"overlay\",\"size\":10,\"solidity\":0.2}},\"type\":\"bar\"}],\"scattergeo\":[{\"type\":\"scattergeo\",\"marker\":{\"colorbar\":{\"outlinewidth\":0,\"ticks\":\"\"}}}],\"scatterpolar\":[{\"type\":\"scatterpolar\",\"marker\":{\"colorbar\":{\"outlinewidth\":0,\"ticks\":\"\"}}}],\"histogram\":[{\"marker\":{\"pattern\":{\"fillmode\":\"overlay\",\"size\":10,\"solidity\":0.2}},\"type\":\"histogram\"}],\"scattergl\":[{\"type\":\"scattergl\",\"marker\":{\"colorbar\":{\"outlinewidth\":0,\"ticks\":\"\"}}}],\"scatter3d\":[{\"type\":\"scatter3d\",\"line\":{\"colorbar\":{\"outlinewidth\":0,\"ticks\":\"\"}},\"marker\":{\"colorbar\":{\"outlinewidth\":0,\"ticks\":\"\"}}}],\"scattermapbox\":[{\"type\":\"scattermapbox\",\"marker\":{\"colorbar\":{\"outlinewidth\":0,\"ticks\":\"\"}}}],\"scatterternary\":[{\"type\":\"scatterternary\",\"marker\":{\"colorbar\":{\"outlinewidth\":0,\"ticks\":\"\"}}}],\"scattercarpet\":[{\"type\":\"scattercarpet\",\"marker\":{\"colorbar\":{\"outlinewidth\":0,\"ticks\":\"\"}}}],\"carpet\":[{\"aaxis\":{\"endlinecolor\":\"#2a3f5f\",\"gridcolor\":\"white\",\"linecolor\":\"white\",\"minorgridcolor\":\"white\",\"startlinecolor\":\"#2a3f5f\"},\"baxis\":{\"endlinecolor\":\"#2a3f5f\",\"gridcolor\":\"white\",\"linecolor\":\"white\",\"minorgridcolor\":\"white\",\"startlinecolor\":\"#2a3f5f\"},\"type\":\"carpet\"}],\"table\":[{\"cells\":{\"fill\":{\"color\":\"#EBF0F8\"},\"line\":{\"color\":\"white\"}},\"header\":{\"fill\":{\"color\":\"#C8D4E3\"},\"line\":{\"color\":\"white\"}},\"type\":\"table\"}],\"barpolar\":[{\"marker\":{\"line\":{\"color\":\"#E5ECF6\",\"width\":0.5},\"pattern\":{\"fillmode\":\"overlay\",\"size\":10,\"solidity\":0.2}},\"type\":\"barpolar\"}],\"pie\":[{\"automargin\":true,\"type\":\"pie\"}]},\"layout\":{\"autotypenumbers\":\"strict\",\"colorway\":[\"#636efa\",\"#EF553B\",\"#00cc96\",\"#ab63fa\",\"#FFA15A\",\"#19d3f3\",\"#FF6692\",\"#B6E880\",\"#FF97FF\",\"#FECB52\"],\"font\":{\"color\":\"#2a3f5f\"},\"hovermode\":\"closest\",\"hoverlabel\":{\"align\":\"left\"},\"paper_bgcolor\":\"white\",\"plot_bgcolor\":\"#E5ECF6\",\"polar\":{\"bgcolor\":\"#E5ECF6\",\"angularaxis\":{\"gridcolor\":\"white\",\"linecolor\":\"white\",\"ticks\":\"\"},\"radialaxis\":{\"gridcolor\":\"white\",\"linecolor\":\"white\",\"ticks\":\"\"}},\"ternary\":{\"bgcolor\":\"#E5ECF6\",\"aaxis\":{\"gridcolor\":\"white\",\"linecolor\":\"white\",\"ticks\":\"\"},\"baxis\":{\"gridcolor\":\"white\",\"linecolor\":\"white\",\"ticks\":\"\"},\"caxis\":{\"gridcolor\":\"white\",\"linecolor\":\"white\",\"ticks\":\"\"}},\"coloraxis\":{\"colorbar\":{\"outlinewidth\":0,\"ticks\":\"\"}},\"colorscale\":{\"sequential\":[[0.0,\"#0d0887\"],[0.1111111111111111,\"#46039f\"],[0.2222222222222222,\"#7201a8\"],[0.3333333333333333,\"#9c179e\"],[0.4444444444444444,\"#bd3786\"],[0.5555555555555556,\"#d8576b\"],[0.6666666666666666,\"#ed7953\"],[0.7777777777777778,\"#fb9f3a\"],[0.8888888888888888,\"#fdca26\"],[1.0,\"#f0f921\"]],\"sequentialminus\":[[0.0,\"#0d0887\"],[0.1111111111111111,\"#46039f\"],[0.2222222222222222,\"#7201a8\"],[0.3333333333333333,\"#9c179e\"],[0.4444444444444444,\"#bd3786\"],[0.5555555555555556,\"#d8576b\"],[0.6666666666666666,\"#ed7953\"],[0.7777777777777778,\"#fb9f3a\"],[0.8888888888888888,\"#fdca26\"],[1.0,\"#f0f921\"]],\"diverging\":[[0,\"#8e0152\"],[0.1,\"#c51b7d\"],[0.2,\"#de77ae\"],[0.3,\"#f1b6da\"],[0.4,\"#fde0ef\"],[0.5,\"#f7f7f7\"],[0.6,\"#e6f5d0\"],[0.7,\"#b8e186\"],[0.8,\"#7fbc41\"],[0.9,\"#4d9221\"],[1,\"#276419\"]]},\"xaxis\":{\"gridcolor\":\"white\",\"linecolor\":\"white\",\"ticks\":\"\",\"title\":{\"standoff\":15},\"zerolinecolor\":\"white\",\"automargin\":true,\"zerolinewidth\":2},\"yaxis\":{\"gridcolor\":\"white\",\"linecolor\":\"white\",\"ticks\":\"\",\"title\":{\"standoff\":15},\"zerolinecolor\":\"white\",\"automargin\":true,\"zerolinewidth\":2},\"scene\":{\"xaxis\":{\"backgroundcolor\":\"#E5ECF6\",\"gridcolor\":\"white\",\"linecolor\":\"white\",\"showbackground\":true,\"ticks\":\"\",\"zerolinecolor\":\"white\",\"gridwidth\":2},\"yaxis\":{\"backgroundcolor\":\"#E5ECF6\",\"gridcolor\":\"white\",\"linecolor\":\"white\",\"showbackground\":true,\"ticks\":\"\",\"zerolinecolor\":\"white\",\"gridwidth\":2},\"zaxis\":{\"backgroundcolor\":\"#E5ECF6\",\"gridcolor\":\"white\",\"linecolor\":\"white\",\"showbackground\":true,\"ticks\":\"\",\"zerolinecolor\":\"white\",\"gridwidth\":2}},\"shapedefaults\":{\"line\":{\"color\":\"#2a3f5f\"}},\"annotationdefaults\":{\"arrowcolor\":\"#2a3f5f\",\"arrowhead\":0,\"arrowwidth\":1},\"geo\":{\"bgcolor\":\"white\",\"landcolor\":\"#E5ECF6\",\"subunitcolor\":\"white\",\"showland\":true,\"showlakes\":true,\"lakecolor\":\"white\"},\"title\":{\"x\":0.05},\"mapbox\":{\"style\":\"light\"}}},\"xaxis\":{\"anchor\":\"y\",\"domain\":[0.0,1.0],\"title\":{\"text\":\"Crime Index\"}},\"yaxis\":{\"anchor\":\"x\",\"domain\":[0.0,1.0],\"title\":{\"text\":\"Legal Enforcement\"}},\"coloraxis\":{\"colorbar\":{\"title\":{\"text\":\"HDI\"}},\"colorscale\":[[0.0,\"rgb(103,0,31)\"],[0.1,\"rgb(178,24,43)\"],[0.2,\"rgb(214,96,77)\"],[0.3,\"rgb(244,165,130)\"],[0.4,\"rgb(253,219,199)\"],[0.5,\"rgb(247,247,247)\"],[0.6,\"rgb(209,229,240)\"],[0.7,\"rgb(146,197,222)\"],[0.8,\"rgb(67,147,195)\"],[0.9,\"rgb(33,102,172)\"],[1.0,\"rgb(5,48,97)\"]]},\"legend\":{\"tracegroupgap\":0,\"itemsizing\":\"constant\"},\"title\":{\"text\":\"Scatterplot of Crime Index vs. Legal Enforcement\"},\"height\":500},                        {\"responsive\": true}                    ).then(function(){\n",
       "                            \n",
       "var gd = document.getElementById('73bd4c8b-a19a-453b-be6c-580e45bd6789');\n",
       "var x = new MutationObserver(function (mutations, observer) {{\n",
       "        var display = window.getComputedStyle(gd).display;\n",
       "        if (!display || display === 'none') {{\n",
       "            console.log([gd, 'removed!']);\n",
       "            Plotly.purge(gd);\n",
       "            observer.disconnect();\n",
       "        }}\n",
       "}});\n",
       "\n",
       "// Listen for the removal of the full notebook cells\n",
       "var notebookContainer = gd.closest('#notebook-container');\n",
       "if (notebookContainer) {{\n",
       "    x.observe(notebookContainer, {childList: true});\n",
       "}}\n",
       "\n",
       "// Listen for the clearing of the current output cell\n",
       "var outputEl = gd.closest('.output');\n",
       "if (outputEl) {{\n",
       "    x.observe(outputEl, {childList: true});\n",
       "}}\n",
       "\n",
       "                        })                };                });            </script>        </div>"
      ]
     },
     "metadata": {},
     "output_type": "display_data"
    }
   ],
   "source": [
    "hfi = pd.read_csv(\"datasets/hfi-2023.csv\")\n",
    "crime = pd.read_csv(\"datasets/crime-rate-by-country-2023.csv\")\n",
    "\n",
    "hfi2021 = hfi[hfi[\"year\"] == 2021]\n",
    "hfi2021.rename(columns = {'countries': 'country'}, inplace = True)\n",
    "crimehfi = crime.join(hfi2021.set_index('country'), on='country', how = \"inner\")\n",
    "\n",
    "HDI = pd.read_csv(\"datasets/Human Development Index.csv\")\n",
    "HDI_score = HDI[[\"Country\", 'Human Development Index (2021)', 'Gross National Income Per Capita (2021)']].dropna()\n",
    "HDI_score.rename(columns = {'Country': 'country', 'Human Development Index (2021)' : 'HDI', 'Gross National Income Per Capita (2021)': 'GDP'}, inplace = True)\n",
    "\n",
    "crimehdfi = crimehfi.join(HDI_score.set_index('country'), on='country', how = \"inner\")\n",
    "\n",
    "# Create scatterplot\n",
    "fig = px.scatter(crimehdfi, \n",
    "                 x='crimeIndex', \n",
    "                 y='ef_legal', \n",
    "                 color='HDI',\n",
    "                size='GDP',  # Use GDP_per_capita for dot sizes\n",
    "                 size_max=20,  # Maximum size of the dots\n",
    "                 color_continuous_scale='RdBu',  # You can choose any color scale\n",
    "                 title='Scatterplot of Crime Index vs. Legal Enforcement',\n",
    "                 labels={'crimeIndex': 'Crime Index', 'ef_legal': 'Legal Enforcement'},\n",
    "                 trendline='ols',\n",
    "                 hover_name='country')\n",
    "\n",
    "fig.update_layout(\n",
    "    height=500,\n",
    ")\n",
    "\n",
    "# Show the figure\n",
    "fig.show()"
   ]
  }
 ],
 "metadata": {
  "kernelspec": {
   "display_name": "Python 3 (ipykernel)",
   "language": "python",
   "name": "python3"
  },
  "language_info": {
   "codemirror_mode": {
    "name": "ipython",
    "version": 3
   },
   "file_extension": ".py",
   "mimetype": "text/x-python",
   "name": "python",
   "nbconvert_exporter": "python",
   "pygments_lexer": "ipython3",
   "version": "3.10.14"
  }
 },
 "nbformat": 4,
 "nbformat_minor": 5
}

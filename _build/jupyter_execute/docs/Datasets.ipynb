{
 "cells": [
  {
   "cell_type": "markdown",
   "id": "2fa8d114-670c-42a8-8634-1f647b12a2f6",
   "metadata": {},
   "source": [
    "# Datasets and Preprocessing\n",
    "The main focus of our research is the [world crime index dataset](https://www.kaggle.com/datasets/ahmadjalalmasood123/world-crime-index), which contains crime statistics for 195 individual countries. This topic has been combined with the use of public surveillance by CCTV cameras. This information has been found in [a dataset containing information about the (estimated) number of CCTV cameras for the top 150 most populated cities](https://www.comparitech.com/vpn-privacy/the-worlds-most-surveilled-cities/). When comparing these variables to crime indexes, it has been compared with the crime index per city, which is also available in the dataset. Other variables that we have worked with are from the [Human Development Index (HDI) dataset](https://www.kaggle.com/datasets/iamsouravbanerjee/human-development-index-dataset) and the [Human Freedom Index (HFI) dataset](https://www.cato.org/human-freedom-index/2023). \n",
    "\n",
    "## Cleaning\n",
    "Various variables and instances that were not relevant were removed, such as data from before 2021. Certain columns have been renamed to make working with them easier or to merge them with other datasets. When working with the HDI or HFI datasets, the merging was done based on country. \n",
    "\n",
    "We decided to keep all merges within Jupyter Notebook and not create any new datasets, to ensure compatibility and not drop missing data when this isn’t necessary.\n",
    "\n",
    "## Variable Descriptions\n",
    "When it came to variable type and the measurement scales we used, the variables in used for all our visualizations can be categorized under the following classes:\n",
    "\n",
    "Discrete, nominal: `country`, `City`\n",
    "\n",
    "Discrete, Ratio: `# of CCTV Cameras`\n",
    "\n",
    "Continuous, Ratio: `crimeIndex`, `ef_legal` (Rule of Law index), `Gross National Income Per Capita (2021)`, `Human Development Index (2021)`,`# CCTV Cameras per 1000 people`, `Human Development Index (2021)`, and all variables used for the heatmap in perspective 2.\n"
   ]
  }
 ],
 "metadata": {
  "kernelspec": {
   "display_name": "Python 3 (ipykernel)",
   "language": "python",
   "name": "python3"
  },
  "language_info": {
   "codemirror_mode": {
    "name": "ipython",
    "version": 3
   },
   "file_extension": ".py",
   "mimetype": "text/x-python",
   "name": "python",
   "nbconvert_exporter": "python",
   "pygments_lexer": "ipython3",
   "version": "3.10.14"
  }
 },
 "nbformat": 4,
 "nbformat_minor": 5
}
{
 "cells": [
  {
   "cell_type": "code",
   "execution_count": 1,
   "id": "779aaf85-edfa-4311-8761-1bca980484ee",
   "metadata": {},
   "outputs": [
    {
     "data": {
      "text/html": [
       "        <script type=\"text/javascript\">\n",
       "        window.PlotlyConfig = {MathJaxConfig: 'local'};\n",
       "        if (window.MathJax && window.MathJax.Hub && window.MathJax.Hub.Config) {window.MathJax.Hub.Config({SVG: {font: \"STIX-Web\"}});}\n",
       "        if (typeof require !== 'undefined') {\n",
       "        require.undef(\"plotly\");\n",
       "        requirejs.config({\n",
       "            paths: {\n",
       "                'plotly': ['https://cdn.plot.ly/plotly-2.32.0.min']\n",
       "            }\n",
       "        });\n",
       "        require(['plotly'], function(Plotly) {\n",
       "            window._Plotly = Plotly;\n",
       "        });\n",
       "        }\n",
       "        </script>\n",
       "        "
      ]
     },
     "metadata": {},
     "output_type": "display_data"
    }
   ],
   "source": [
    "import numpy as np\n",
    "import pandas as pd\n",
    "pd.options.mode.chained_assignment = None  \n",
    "import plotly.graph_objs as go\n",
    "import plotly.express as px\n",
    "from plotly.offline import init_notebook_mode\n",
    "init_notebook_mode(connected=True)"
   ]
  },
  {
   "cell_type": "code",
   "execution_count": 2,
   "id": "721fa338-e910-4c12-a142-f8714581b8d8",
   "metadata": {
    "editable": true,
    "slideshow": {
     "slide_type": ""
    },
    "tags": []
   },
   "outputs": [
    {
     "data": {
      "application/vnd.plotly.v1+json": {
       "config": {
        "plotlyServerURL": "https://plot.ly"
       },
       "data": [
        {
         "colorbar": {
          "title": {
           "side": "right",
           "text": "values"
          }
         },
         "colorscale": [
          [
           0.0,
           "rgb(103,0,31)"
          ],
          [
           0.1,
           "rgb(178,24,43)"
          ],
          [
           0.2,
           "rgb(214,96,77)"
          ],
          [
           0.3,
           "rgb(244,165,130)"
          ],
          [
           0.4,
           "rgb(253,219,199)"
          ],
          [
           0.5,
           "rgb(247,247,247)"
          ],
          [
           0.6,
           "rgb(209,229,240)"
          ],
          [
           0.7,
           "rgb(146,197,222)"
          ],
          [
           0.8,
           "rgb(67,147,195)"
          ],
          [
           0.9,
           "rgb(33,102,172)"
          ],
          [
           1.0,
           "rgb(5,48,97)"
          ]
         ],
         "type": "heatmap",
         "x": [
          "Qatar",
          "United Arab Emirates",
          "Oman",
          "Switzerland",
          "Hong Kong",
          "Venezuela",
          "Papua New Guinea",
          "South Africa",
          "Afghanistan",
          "Honduras"
         ],
         "y": [
          "HDI",
          "Life Expectancy at Birth, female",
          "Life Expectancy at Birth, male",
          "Life Expectancy at Birth",
          "GNI per capita, female",
          "GNI per capita, male",
          "GNI per capita",
          "Coefficient of human inequality",
          "Overall loss",
          "Inequality in life expectancy",
          "Inequality in income",
          "Gender Inequality Index",
          "Adolescent Birth Rate"
         ],
         "z": [
          [
           0.4659413648860782,
           0.6600488172257665,
           0.3307593891495096,
           0.836825247035125,
           0.8021632019744663,
           -0.10251617410872266,
           -0.5635213734154815,
           -0.026259674975273706,
           -0.8408177339007503,
           -0.34515048953333255
          ],
          [
           0.3916136254476834,
           0.3915966068747477,
           0.03865409561412556,
           0.6729022717903921,
           0.8107413668561405,
           0.06654753665611574,
           -0.3187586274710019,
           -0.5125377717771543,
           -0.49665944322793104,
           -0.08509362106067281
          ],
          [
           0.5689177254689554,
           0.5043003662141002,
           0.13736208094391458,
           0.7856611283162401,
           0.8248790080425805,
           -0.14082521813878338,
           -0.3357841809639315,
           -0.5412879902970918,
           -0.5732463525782171,
           -0.04454388092742799
          ],
          [
           0.47845927210755906,
           0.44487549668559256,
           0.07565743254010218,
           0.7606539466974113,
           0.8495923056284991,
           -0.04325019711678887,
           -0.35461224900647487,
           -0.5347151187676124,
           -0.5561747443312568,
           -0.06902448805449561
          ],
          [
           0.7356614800727006,
           0.38381775364117954,
           -0.1968691759112708,
           1.0692538730853889,
           0.9928604849743233,
           -0.3117527037017056,
           -0.2936867452549546,
           -0.12304441577307794,
           -0.3740298745584762,
           -0.27423475048972695
          ],
          [
           1.5292281324766526,
           1.0175469663990255,
           0.2982747313830923,
           1.058346622154638,
           0.9790831409218056,
           -0.33148968674842855,
           -0.3764579478347445,
           -0.15294643145851888,
           -0.4023944163495132,
           -0.34089209104657203
          ],
          [
           0.9171622154881697,
           0.5809419064390374,
           0.09470270132071139,
           0.6406198664301775,
           0.5813971297767879,
           -0.20979777834437643,
           -0.2207802629895213,
           -0.0984000121168737,
           -0.25068394333397537,
           -0.20313002153626677
          ],
          [
           null,
           null,
           -0.2661579996738906,
           -0.5839540231082556,
           -0.2981457118569485,
           -0.20863863626364978,
           0.5311604084429562,
           0.6642431042420551,
           null,
           0.20777956709761805
          ],
          [
           null,
           null,
           -0.2686887998070441,
           -0.5763528603208119,
           -0.27917016658648125,
           -0.21421906474767025,
           0.5105012419901858,
           0.7643505623904138,
           null,
           0.2118168714327517
          ],
          [
           -0.4807880536873763,
           -0.44611558102273824,
           -0.308851768803031,
           -0.5216226670874685,
           -0.5772815112130489,
           -0.005767144604600074,
           0.4224747608986494,
           0.31550756969384114,
           0.7033814026790519,
           -0.14820754779871975
          ],
          [
           null,
           null,
           -0.11169731499672615,
           -0.2968304659272107,
           0.11314463571425062,
           -0.07427160671039013,
           0.2501973479742358,
           1.404284078187525,
           null,
           0.4971520473874305
          ],
          [
           -0.3082440411108681,
           -0.7320358626722064,
           -0.10997886143304907,
           -0.8088636197973613,
           null,
           0.36585756979371675,
           0.9433049056053648,
           0.15024418689408858,
           0.8268241125446463,
           0.21468037028937972
          ],
          [
           -0.44442770247433966,
           -0.4916096918394435,
           -0.41037945462678105,
           -0.5019485163162847,
           -0.5093858379330731,
           0.4514379520218056,
           0.12617355997547622,
           0.1967096866468011,
           0.4496615216993242,
           0.32421001232569346
          ]
         ],
         "zmid": 0
        }
       ],
       "layout": {
        "annotations": [
         {
          "align": "left",
          "showarrow": false,
          "text": "HDI values from 2021.",
          "x": -0.37,
          "xanchor": "left",
          "xref": "paper",
          "y": -0.1,
          "yanchor": "bottom",
          "yref": "paper"
         }
        ],
        "height": 500,
        "template": {
         "data": {
          "bar": [
           {
            "error_x": {
             "color": "#2a3f5f"
            },
            "error_y": {
             "color": "#2a3f5f"
            },
            "marker": {
             "line": {
              "color": "#E5ECF6",
              "width": 0.5
             },
             "pattern": {
              "fillmode": "overlay",
              "size": 10,
              "solidity": 0.2
             }
            },
            "type": "bar"
           }
          ],
          "barpolar": [
           {
            "marker": {
             "line": {
              "color": "#E5ECF6",
              "width": 0.5
             },
             "pattern": {
              "fillmode": "overlay",
              "size": 10,
              "solidity": 0.2
             }
            },
            "type": "barpolar"
           }
          ],
          "carpet": [
           {
            "aaxis": {
             "endlinecolor": "#2a3f5f",
             "gridcolor": "white",
             "linecolor": "white",
             "minorgridcolor": "white",
             "startlinecolor": "#2a3f5f"
            },
            "baxis": {
             "endlinecolor": "#2a3f5f",
             "gridcolor": "white",
             "linecolor": "white",
             "minorgridcolor": "white",
             "startlinecolor": "#2a3f5f"
            },
            "type": "carpet"
           }
          ],
          "choropleth": [
           {
            "colorbar": {
             "outlinewidth": 0,
             "ticks": ""
            },
            "type": "choropleth"
           }
          ],
          "contour": [
           {
            "colorbar": {
             "outlinewidth": 0,
             "ticks": ""
            },
            "colorscale": [
             [
              0.0,
              "#0d0887"
             ],
             [
              0.1111111111111111,
              "#46039f"
             ],
             [
              0.2222222222222222,
              "#7201a8"
             ],
             [
              0.3333333333333333,
              "#9c179e"
             ],
             [
              0.4444444444444444,
              "#bd3786"
             ],
             [
              0.5555555555555556,
              "#d8576b"
             ],
             [
              0.6666666666666666,
              "#ed7953"
             ],
             [
              0.7777777777777778,
              "#fb9f3a"
             ],
             [
              0.8888888888888888,
              "#fdca26"
             ],
             [
              1.0,
              "#f0f921"
             ]
            ],
            "type": "contour"
           }
          ],
          "contourcarpet": [
           {
            "colorbar": {
             "outlinewidth": 0,
             "ticks": ""
            },
            "type": "contourcarpet"
           }
          ],
          "heatmap": [
           {
            "colorbar": {
             "outlinewidth": 0,
             "ticks": ""
            },
            "colorscale": [
             [
              0.0,
              "#0d0887"
             ],
             [
              0.1111111111111111,
              "#46039f"
             ],
             [
              0.2222222222222222,
              "#7201a8"
             ],
             [
              0.3333333333333333,
              "#9c179e"
             ],
             [
              0.4444444444444444,
              "#bd3786"
             ],
             [
              0.5555555555555556,
              "#d8576b"
             ],
             [
              0.6666666666666666,
              "#ed7953"
             ],
             [
              0.7777777777777778,
              "#fb9f3a"
             ],
             [
              0.8888888888888888,
              "#fdca26"
             ],
             [
              1.0,
              "#f0f921"
             ]
            ],
            "type": "heatmap"
           }
          ],
          "heatmapgl": [
           {
            "colorbar": {
             "outlinewidth": 0,
             "ticks": ""
            },
            "colorscale": [
             [
              0.0,
              "#0d0887"
             ],
             [
              0.1111111111111111,
              "#46039f"
             ],
             [
              0.2222222222222222,
              "#7201a8"
             ],
             [
              0.3333333333333333,
              "#9c179e"
             ],
             [
              0.4444444444444444,
              "#bd3786"
             ],
             [
              0.5555555555555556,
              "#d8576b"
             ],
             [
              0.6666666666666666,
              "#ed7953"
             ],
             [
              0.7777777777777778,
              "#fb9f3a"
             ],
             [
              0.8888888888888888,
              "#fdca26"
             ],
             [
              1.0,
              "#f0f921"
             ]
            ],
            "type": "heatmapgl"
           }
          ],
          "histogram": [
           {
            "marker": {
             "pattern": {
              "fillmode": "overlay",
              "size": 10,
              "solidity": 0.2
             }
            },
            "type": "histogram"
           }
          ],
          "histogram2d": [
           {
            "colorbar": {
             "outlinewidth": 0,
             "ticks": ""
            },
            "colorscale": [
             [
              0.0,
              "#0d0887"
             ],
             [
              0.1111111111111111,
              "#46039f"
             ],
             [
              0.2222222222222222,
              "#7201a8"
             ],
             [
              0.3333333333333333,
              "#9c179e"
             ],
             [
              0.4444444444444444,
              "#bd3786"
             ],
             [
              0.5555555555555556,
              "#d8576b"
             ],
             [
              0.6666666666666666,
              "#ed7953"
             ],
             [
              0.7777777777777778,
              "#fb9f3a"
             ],
             [
              0.8888888888888888,
              "#fdca26"
             ],
             [
              1.0,
              "#f0f921"
             ]
            ],
            "type": "histogram2d"
           }
          ],
          "histogram2dcontour": [
           {
            "colorbar": {
             "outlinewidth": 0,
             "ticks": ""
            },
            "colorscale": [
             [
              0.0,
              "#0d0887"
             ],
             [
              0.1111111111111111,
              "#46039f"
             ],
             [
              0.2222222222222222,
              "#7201a8"
             ],
             [
              0.3333333333333333,
              "#9c179e"
             ],
             [
              0.4444444444444444,
              "#bd3786"
             ],
             [
              0.5555555555555556,
              "#d8576b"
             ],
             [
              0.6666666666666666,
              "#ed7953"
             ],
             [
              0.7777777777777778,
              "#fb9f3a"
             ],
             [
              0.8888888888888888,
              "#fdca26"
             ],
             [
              1.0,
              "#f0f921"
             ]
            ],
            "type": "histogram2dcontour"
           }
          ],
          "mesh3d": [
           {
            "colorbar": {
             "outlinewidth": 0,
             "ticks": ""
            },
            "type": "mesh3d"
           }
          ],
          "parcoords": [
           {
            "line": {
             "colorbar": {
              "outlinewidth": 0,
              "ticks": ""
             }
            },
            "type": "parcoords"
           }
          ],
          "pie": [
           {
            "automargin": true,
            "type": "pie"
           }
          ],
          "scatter": [
           {
            "fillpattern": {
             "fillmode": "overlay",
             "size": 10,
             "solidity": 0.2
            },
            "type": "scatter"
           }
          ],
          "scatter3d": [
           {
            "line": {
             "colorbar": {
              "outlinewidth": 0,
              "ticks": ""
             }
            },
            "marker": {
             "colorbar": {
              "outlinewidth": 0,
              "ticks": ""
             }
            },
            "type": "scatter3d"
           }
          ],
          "scattercarpet": [
           {
            "marker": {
             "colorbar": {
              "outlinewidth": 0,
              "ticks": ""
             }
            },
            "type": "scattercarpet"
           }
          ],
          "scattergeo": [
           {
            "marker": {
             "colorbar": {
              "outlinewidth": 0,
              "ticks": ""
             }
            },
            "type": "scattergeo"
           }
          ],
          "scattergl": [
           {
            "marker": {
             "colorbar": {
              "outlinewidth": 0,
              "ticks": ""
             }
            },
            "type": "scattergl"
           }
          ],
          "scattermapbox": [
           {
            "marker": {
             "colorbar": {
              "outlinewidth": 0,
              "ticks": ""
             }
            },
            "type": "scattermapbox"
           }
          ],
          "scatterpolar": [
           {
            "marker": {
             "colorbar": {
              "outlinewidth": 0,
              "ticks": ""
             }
            },
            "type": "scatterpolar"
           }
          ],
          "scatterpolargl": [
           {
            "marker": {
             "colorbar": {
              "outlinewidth": 0,
              "ticks": ""
             }
            },
            "type": "scatterpolargl"
           }
          ],
          "scatterternary": [
           {
            "marker": {
             "colorbar": {
              "outlinewidth": 0,
              "ticks": ""
             }
            },
            "type": "scatterternary"
           }
          ],
          "surface": [
           {
            "colorbar": {
             "outlinewidth": 0,
             "ticks": ""
            },
            "colorscale": [
             [
              0.0,
              "#0d0887"
             ],
             [
              0.1111111111111111,
              "#46039f"
             ],
             [
              0.2222222222222222,
              "#7201a8"
             ],
             [
              0.3333333333333333,
              "#9c179e"
             ],
             [
              0.4444444444444444,
              "#bd3786"
             ],
             [
              0.5555555555555556,
              "#d8576b"
             ],
             [
              0.6666666666666666,
              "#ed7953"
             ],
             [
              0.7777777777777778,
              "#fb9f3a"
             ],
             [
              0.8888888888888888,
              "#fdca26"
             ],
             [
              1.0,
              "#f0f921"
             ]
            ],
            "type": "surface"
           }
          ],
          "table": [
           {
            "cells": {
             "fill": {
              "color": "#EBF0F8"
             },
             "line": {
              "color": "white"
             }
            },
            "header": {
             "fill": {
              "color": "#C8D4E3"
             },
             "line": {
              "color": "white"
             }
            },
            "type": "table"
           }
          ]
         },
         "layout": {
          "annotationdefaults": {
           "arrowcolor": "#2a3f5f",
           "arrowhead": 0,
           "arrowwidth": 1
          },
          "autotypenumbers": "strict",
          "coloraxis": {
           "colorbar": {
            "outlinewidth": 0,
            "ticks": ""
           }
          },
          "colorscale": {
           "diverging": [
            [
             0,
             "#8e0152"
            ],
            [
             0.1,
             "#c51b7d"
            ],
            [
             0.2,
             "#de77ae"
            ],
            [
             0.3,
             "#f1b6da"
            ],
            [
             0.4,
             "#fde0ef"
            ],
            [
             0.5,
             "#f7f7f7"
            ],
            [
             0.6,
             "#e6f5d0"
            ],
            [
             0.7,
             "#b8e186"
            ],
            [
             0.8,
             "#7fbc41"
            ],
            [
             0.9,
             "#4d9221"
            ],
            [
             1,
             "#276419"
            ]
           ],
           "sequential": [
            [
             0.0,
             "#0d0887"
            ],
            [
             0.1111111111111111,
             "#46039f"
            ],
            [
             0.2222222222222222,
             "#7201a8"
            ],
            [
             0.3333333333333333,
             "#9c179e"
            ],
            [
             0.4444444444444444,
             "#bd3786"
            ],
            [
             0.5555555555555556,
             "#d8576b"
            ],
            [
             0.6666666666666666,
             "#ed7953"
            ],
            [
             0.7777777777777778,
             "#fb9f3a"
            ],
            [
             0.8888888888888888,
             "#fdca26"
            ],
            [
             1.0,
             "#f0f921"
            ]
           ],
           "sequentialminus": [
            [
             0.0,
             "#0d0887"
            ],
            [
             0.1111111111111111,
             "#46039f"
            ],
            [
             0.2222222222222222,
             "#7201a8"
            ],
            [
             0.3333333333333333,
             "#9c179e"
            ],
            [
             0.4444444444444444,
             "#bd3786"
            ],
            [
             0.5555555555555556,
             "#d8576b"
            ],
            [
             0.6666666666666666,
             "#ed7953"
            ],
            [
             0.7777777777777778,
             "#fb9f3a"
            ],
            [
             0.8888888888888888,
             "#fdca26"
            ],
            [
             1.0,
             "#f0f921"
            ]
           ]
          },
          "colorway": [
           "#636efa",
           "#EF553B",
           "#00cc96",
           "#ab63fa",
           "#FFA15A",
           "#19d3f3",
           "#FF6692",
           "#B6E880",
           "#FF97FF",
           "#FECB52"
          ],
          "font": {
           "color": "#2a3f5f"
          },
          "geo": {
           "bgcolor": "white",
           "lakecolor": "white",
           "landcolor": "#E5ECF6",
           "showlakes": true,
           "showland": true,
           "subunitcolor": "white"
          },
          "hoverlabel": {
           "align": "left"
          },
          "hovermode": "closest",
          "mapbox": {
           "style": "light"
          },
          "paper_bgcolor": "white",
          "plot_bgcolor": "#E5ECF6",
          "polar": {
           "angularaxis": {
            "gridcolor": "white",
            "linecolor": "white",
            "ticks": ""
           },
           "bgcolor": "#E5ECF6",
           "radialaxis": {
            "gridcolor": "white",
            "linecolor": "white",
            "ticks": ""
           }
          },
          "scene": {
           "xaxis": {
            "backgroundcolor": "#E5ECF6",
            "gridcolor": "white",
            "gridwidth": 2,
            "linecolor": "white",
            "showbackground": true,
            "ticks": "",
            "zerolinecolor": "white"
           },
           "yaxis": {
            "backgroundcolor": "#E5ECF6",
            "gridcolor": "white",
            "gridwidth": 2,
            "linecolor": "white",
            "showbackground": true,
            "ticks": "",
            "zerolinecolor": "white"
           },
           "zaxis": {
            "backgroundcolor": "#E5ECF6",
            "gridcolor": "white",
            "gridwidth": 2,
            "linecolor": "white",
            "showbackground": true,
            "ticks": "",
            "zerolinecolor": "white"
           }
          },
          "shapedefaults": {
           "line": {
            "color": "#2a3f5f"
           }
          },
          "ternary": {
           "aaxis": {
            "gridcolor": "white",
            "linecolor": "white",
            "ticks": ""
           },
           "baxis": {
            "gridcolor": "white",
            "linecolor": "white",
            "ticks": ""
           },
           "bgcolor": "#E5ECF6",
           "caxis": {
            "gridcolor": "white",
            "linecolor": "white",
            "ticks": ""
           }
          },
          "title": {
           "x": 0.05
          },
          "xaxis": {
           "automargin": true,
           "gridcolor": "white",
           "linecolor": "white",
           "ticks": "",
           "title": {
            "standoff": 15
           },
           "zerolinecolor": "white",
           "zerolinewidth": 2
          },
          "yaxis": {
           "automargin": true,
           "gridcolor": "white",
           "linecolor": "white",
           "ticks": "",
           "title": {
            "standoff": 15
           },
           "zerolinecolor": "white",
           "zerolinewidth": 2
          }
         }
        },
        "title": {
         "text": "Standardized HDI indicators and low/high crime rates<br><sup>Top 5 countries with the lowest crime rate on the left,<br>and the top 5 countries with the highest crime right on the right.</sup>",
         "x": 0.5,
         "xanchor": "center",
         "y": 0.9,
         "yanchor": "top"
        },
        "xaxis": {
         "tickmode": "array",
         "ticktext": [
          "Qatar",
          "United Arab Emirates",
          "Oman",
          "Switzerland",
          "Hong Kong",
          "Venezuela",
          "Papua New Guinea",
          "South Africa",
          "Afghanistan",
          "Honduras"
         ],
         "tickvals": [
          0,
          1,
          2,
          3,
          4,
          5,
          6,
          7,
          8,
          9
         ],
         "title": {
          "text": "Countries with lowest and highest crime rates"
         }
        },
        "yaxis": {
         "tickmode": "array",
         "ticktext": [
          "HDI",
          "Life Expectancy at Birth, female",
          "Life Expectancy at Birth, male",
          "Life Expectancy at Birth",
          "GNI per capita, female",
          "GNI per capita, male",
          "GNI per capita",
          "Coefficient of human inequality",
          "Overall loss",
          "Inequality in life expectancy",
          "Inequality in income",
          "Gender Inequality Index",
          "Adolescent Birth Rate"
         ],
         "tickvals": [
          0,
          1,
          2,
          3,
          4,
          5,
          6,
          7,
          8,
          9,
          10,
          11,
          12
         ],
         "title": {
          "text": "Crime predictors"
         }
        }
       }
      },
      "text/html": [
       "<div>                            <div id=\"529f4533-8a17-4e22-876a-53d9f9f96b55\" class=\"plotly-graph-div\" style=\"height:500px; width:100%;\"></div>            <script type=\"text/javascript\">                require([\"plotly\"], function(Plotly) {                    window.PLOTLYENV=window.PLOTLYENV || {};                                    if (document.getElementById(\"529f4533-8a17-4e22-876a-53d9f9f96b55\")) {                    Plotly.newPlot(                        \"529f4533-8a17-4e22-876a-53d9f9f96b55\",                        [{\"colorbar\":{\"title\":{\"side\":\"right\",\"text\":\"values\"}},\"colorscale\":[[0.0,\"rgb(103,0,31)\"],[0.1,\"rgb(178,24,43)\"],[0.2,\"rgb(214,96,77)\"],[0.3,\"rgb(244,165,130)\"],[0.4,\"rgb(253,219,199)\"],[0.5,\"rgb(247,247,247)\"],[0.6,\"rgb(209,229,240)\"],[0.7,\"rgb(146,197,222)\"],[0.8,\"rgb(67,147,195)\"],[0.9,\"rgb(33,102,172)\"],[1.0,\"rgb(5,48,97)\"]],\"x\":[\"Qatar\",\"United Arab Emirates\",\"Oman\",\"Switzerland\",\"Hong Kong\",\"Venezuela\",\"Papua New Guinea\",\"South Africa\",\"Afghanistan\",\"Honduras\"],\"y\":[\"HDI\",\"Life Expectancy at Birth, female\",\"Life Expectancy at Birth, male\",\"Life Expectancy at Birth\",\"GNI per capita, female\",\"GNI per capita, male\",\"GNI per capita\",\"Coefficient of human inequality\",\"Overall loss\",\"Inequality in life expectancy\",\"Inequality in income\",\"Gender Inequality Index\",\"Adolescent Birth Rate\"],\"z\":[[0.4659413648860782,0.6600488172257665,0.3307593891495096,0.836825247035125,0.8021632019744663,-0.10251617410872266,-0.5635213734154815,-0.026259674975273706,-0.8408177339007503,-0.34515048953333255],[0.3916136254476834,0.3915966068747477,0.03865409561412556,0.6729022717903921,0.8107413668561405,0.06654753665611574,-0.3187586274710019,-0.5125377717771543,-0.49665944322793104,-0.08509362106067281],[0.5689177254689554,0.5043003662141002,0.13736208094391458,0.7856611283162401,0.8248790080425805,-0.14082521813878338,-0.3357841809639315,-0.5412879902970918,-0.5732463525782171,-0.04454388092742799],[0.47845927210755906,0.44487549668559256,0.07565743254010218,0.7606539466974113,0.8495923056284991,-0.04325019711678887,-0.35461224900647487,-0.5347151187676124,-0.5561747443312568,-0.06902448805449561],[0.7356614800727006,0.38381775364117954,-0.1968691759112708,1.0692538730853889,0.9928604849743233,-0.3117527037017056,-0.2936867452549546,-0.12304441577307794,-0.3740298745584762,-0.27423475048972695],[1.5292281324766526,1.0175469663990255,0.2982747313830923,1.058346622154638,0.9790831409218056,-0.33148968674842855,-0.3764579478347445,-0.15294643145851888,-0.4023944163495132,-0.34089209104657203],[0.9171622154881697,0.5809419064390374,0.09470270132071139,0.6406198664301775,0.5813971297767879,-0.20979777834437643,-0.2207802629895213,-0.0984000121168737,-0.25068394333397537,-0.20313002153626677],[null,null,-0.2661579996738906,-0.5839540231082556,-0.2981457118569485,-0.20863863626364978,0.5311604084429562,0.6642431042420551,null,0.20777956709761805],[null,null,-0.2686887998070441,-0.5763528603208119,-0.27917016658648125,-0.21421906474767025,0.5105012419901858,0.7643505623904138,null,0.2118168714327517],[-0.4807880536873763,-0.44611558102273824,-0.308851768803031,-0.5216226670874685,-0.5772815112130489,-0.005767144604600074,0.4224747608986494,0.31550756969384114,0.7033814026790519,-0.14820754779871975],[null,null,-0.11169731499672615,-0.2968304659272107,0.11314463571425062,-0.07427160671039013,0.2501973479742358,1.404284078187525,null,0.4971520473874305],[-0.3082440411108681,-0.7320358626722064,-0.10997886143304907,-0.8088636197973613,null,0.36585756979371675,0.9433049056053648,0.15024418689408858,0.8268241125446463,0.21468037028937972],[-0.44442770247433966,-0.4916096918394435,-0.41037945462678105,-0.5019485163162847,-0.5093858379330731,0.4514379520218056,0.12617355997547622,0.1967096866468011,0.4496615216993242,0.32421001232569346]],\"zmid\":0,\"type\":\"heatmap\"}],                        {\"template\":{\"data\":{\"histogram2dcontour\":[{\"type\":\"histogram2dcontour\",\"colorbar\":{\"outlinewidth\":0,\"ticks\":\"\"},\"colorscale\":[[0.0,\"#0d0887\"],[0.1111111111111111,\"#46039f\"],[0.2222222222222222,\"#7201a8\"],[0.3333333333333333,\"#9c179e\"],[0.4444444444444444,\"#bd3786\"],[0.5555555555555556,\"#d8576b\"],[0.6666666666666666,\"#ed7953\"],[0.7777777777777778,\"#fb9f3a\"],[0.8888888888888888,\"#fdca26\"],[1.0,\"#f0f921\"]]}],\"choropleth\":[{\"type\":\"choropleth\",\"colorbar\":{\"outlinewidth\":0,\"ticks\":\"\"}}],\"histogram2d\":[{\"type\":\"histogram2d\",\"colorbar\":{\"outlinewidth\":0,\"ticks\":\"\"},\"colorscale\":[[0.0,\"#0d0887\"],[0.1111111111111111,\"#46039f\"],[0.2222222222222222,\"#7201a8\"],[0.3333333333333333,\"#9c179e\"],[0.4444444444444444,\"#bd3786\"],[0.5555555555555556,\"#d8576b\"],[0.6666666666666666,\"#ed7953\"],[0.7777777777777778,\"#fb9f3a\"],[0.8888888888888888,\"#fdca26\"],[1.0,\"#f0f921\"]]}],\"heatmap\":[{\"type\":\"heatmap\",\"colorbar\":{\"outlinewidth\":0,\"ticks\":\"\"},\"colorscale\":[[0.0,\"#0d0887\"],[0.1111111111111111,\"#46039f\"],[0.2222222222222222,\"#7201a8\"],[0.3333333333333333,\"#9c179e\"],[0.4444444444444444,\"#bd3786\"],[0.5555555555555556,\"#d8576b\"],[0.6666666666666666,\"#ed7953\"],[0.7777777777777778,\"#fb9f3a\"],[0.8888888888888888,\"#fdca26\"],[1.0,\"#f0f921\"]]}],\"heatmapgl\":[{\"type\":\"heatmapgl\",\"colorbar\":{\"outlinewidth\":0,\"ticks\":\"\"},\"colorscale\":[[0.0,\"#0d0887\"],[0.1111111111111111,\"#46039f\"],[0.2222222222222222,\"#7201a8\"],[0.3333333333333333,\"#9c179e\"],[0.4444444444444444,\"#bd3786\"],[0.5555555555555556,\"#d8576b\"],[0.6666666666666666,\"#ed7953\"],[0.7777777777777778,\"#fb9f3a\"],[0.8888888888888888,\"#fdca26\"],[1.0,\"#f0f921\"]]}],\"contourcarpet\":[{\"type\":\"contourcarpet\",\"colorbar\":{\"outlinewidth\":0,\"ticks\":\"\"}}],\"contour\":[{\"type\":\"contour\",\"colorbar\":{\"outlinewidth\":0,\"ticks\":\"\"},\"colorscale\":[[0.0,\"#0d0887\"],[0.1111111111111111,\"#46039f\"],[0.2222222222222222,\"#7201a8\"],[0.3333333333333333,\"#9c179e\"],[0.4444444444444444,\"#bd3786\"],[0.5555555555555556,\"#d8576b\"],[0.6666666666666666,\"#ed7953\"],[0.7777777777777778,\"#fb9f3a\"],[0.8888888888888888,\"#fdca26\"],[1.0,\"#f0f921\"]]}],\"surface\":[{\"type\":\"surface\",\"colorbar\":{\"outlinewidth\":0,\"ticks\":\"\"},\"colorscale\":[[0.0,\"#0d0887\"],[0.1111111111111111,\"#46039f\"],[0.2222222222222222,\"#7201a8\"],[0.3333333333333333,\"#9c179e\"],[0.4444444444444444,\"#bd3786\"],[0.5555555555555556,\"#d8576b\"],[0.6666666666666666,\"#ed7953\"],[0.7777777777777778,\"#fb9f3a\"],[0.8888888888888888,\"#fdca26\"],[1.0,\"#f0f921\"]]}],\"mesh3d\":[{\"type\":\"mesh3d\",\"colorbar\":{\"outlinewidth\":0,\"ticks\":\"\"}}],\"scatter\":[{\"fillpattern\":{\"fillmode\":\"overlay\",\"size\":10,\"solidity\":0.2},\"type\":\"scatter\"}],\"parcoords\":[{\"type\":\"parcoords\",\"line\":{\"colorbar\":{\"outlinewidth\":0,\"ticks\":\"\"}}}],\"scatterpolargl\":[{\"type\":\"scatterpolargl\",\"marker\":{\"colorbar\":{\"outlinewidth\":0,\"ticks\":\"\"}}}],\"bar\":[{\"error_x\":{\"color\":\"#2a3f5f\"},\"error_y\":{\"color\":\"#2a3f5f\"},\"marker\":{\"line\":{\"color\":\"#E5ECF6\",\"width\":0.5},\"pattern\":{\"fillmode\":\"overlay\",\"size\":10,\"solidity\":0.2}},\"type\":\"bar\"}],\"scattergeo\":[{\"type\":\"scattergeo\",\"marker\":{\"colorbar\":{\"outlinewidth\":0,\"ticks\":\"\"}}}],\"scatterpolar\":[{\"type\":\"scatterpolar\",\"marker\":{\"colorbar\":{\"outlinewidth\":0,\"ticks\":\"\"}}}],\"histogram\":[{\"marker\":{\"pattern\":{\"fillmode\":\"overlay\",\"size\":10,\"solidity\":0.2}},\"type\":\"histogram\"}],\"scattergl\":[{\"type\":\"scattergl\",\"marker\":{\"colorbar\":{\"outlinewidth\":0,\"ticks\":\"\"}}}],\"scatter3d\":[{\"type\":\"scatter3d\",\"line\":{\"colorbar\":{\"outlinewidth\":0,\"ticks\":\"\"}},\"marker\":{\"colorbar\":{\"outlinewidth\":0,\"ticks\":\"\"}}}],\"scattermapbox\":[{\"type\":\"scattermapbox\",\"marker\":{\"colorbar\":{\"outlinewidth\":0,\"ticks\":\"\"}}}],\"scatterternary\":[{\"type\":\"scatterternary\",\"marker\":{\"colorbar\":{\"outlinewidth\":0,\"ticks\":\"\"}}}],\"scattercarpet\":[{\"type\":\"scattercarpet\",\"marker\":{\"colorbar\":{\"outlinewidth\":0,\"ticks\":\"\"}}}],\"carpet\":[{\"aaxis\":{\"endlinecolor\":\"#2a3f5f\",\"gridcolor\":\"white\",\"linecolor\":\"white\",\"minorgridcolor\":\"white\",\"startlinecolor\":\"#2a3f5f\"},\"baxis\":{\"endlinecolor\":\"#2a3f5f\",\"gridcolor\":\"white\",\"linecolor\":\"white\",\"minorgridcolor\":\"white\",\"startlinecolor\":\"#2a3f5f\"},\"type\":\"carpet\"}],\"table\":[{\"cells\":{\"fill\":{\"color\":\"#EBF0F8\"},\"line\":{\"color\":\"white\"}},\"header\":{\"fill\":{\"color\":\"#C8D4E3\"},\"line\":{\"color\":\"white\"}},\"type\":\"table\"}],\"barpolar\":[{\"marker\":{\"line\":{\"color\":\"#E5ECF6\",\"width\":0.5},\"pattern\":{\"fillmode\":\"overlay\",\"size\":10,\"solidity\":0.2}},\"type\":\"barpolar\"}],\"pie\":[{\"automargin\":true,\"type\":\"pie\"}]},\"layout\":{\"autotypenumbers\":\"strict\",\"colorway\":[\"#636efa\",\"#EF553B\",\"#00cc96\",\"#ab63fa\",\"#FFA15A\",\"#19d3f3\",\"#FF6692\",\"#B6E880\",\"#FF97FF\",\"#FECB52\"],\"font\":{\"color\":\"#2a3f5f\"},\"hovermode\":\"closest\",\"hoverlabel\":{\"align\":\"left\"},\"paper_bgcolor\":\"white\",\"plot_bgcolor\":\"#E5ECF6\",\"polar\":{\"bgcolor\":\"#E5ECF6\",\"angularaxis\":{\"gridcolor\":\"white\",\"linecolor\":\"white\",\"ticks\":\"\"},\"radialaxis\":{\"gridcolor\":\"white\",\"linecolor\":\"white\",\"ticks\":\"\"}},\"ternary\":{\"bgcolor\":\"#E5ECF6\",\"aaxis\":{\"gridcolor\":\"white\",\"linecolor\":\"white\",\"ticks\":\"\"},\"baxis\":{\"gridcolor\":\"white\",\"linecolor\":\"white\",\"ticks\":\"\"},\"caxis\":{\"gridcolor\":\"white\",\"linecolor\":\"white\",\"ticks\":\"\"}},\"coloraxis\":{\"colorbar\":{\"outlinewidth\":0,\"ticks\":\"\"}},\"colorscale\":{\"sequential\":[[0.0,\"#0d0887\"],[0.1111111111111111,\"#46039f\"],[0.2222222222222222,\"#7201a8\"],[0.3333333333333333,\"#9c179e\"],[0.4444444444444444,\"#bd3786\"],[0.5555555555555556,\"#d8576b\"],[0.6666666666666666,\"#ed7953\"],[0.7777777777777778,\"#fb9f3a\"],[0.8888888888888888,\"#fdca26\"],[1.0,\"#f0f921\"]],\"sequentialminus\":[[0.0,\"#0d0887\"],[0.1111111111111111,\"#46039f\"],[0.2222222222222222,\"#7201a8\"],[0.3333333333333333,\"#9c179e\"],[0.4444444444444444,\"#bd3786\"],[0.5555555555555556,\"#d8576b\"],[0.6666666666666666,\"#ed7953\"],[0.7777777777777778,\"#fb9f3a\"],[0.8888888888888888,\"#fdca26\"],[1.0,\"#f0f921\"]],\"diverging\":[[0,\"#8e0152\"],[0.1,\"#c51b7d\"],[0.2,\"#de77ae\"],[0.3,\"#f1b6da\"],[0.4,\"#fde0ef\"],[0.5,\"#f7f7f7\"],[0.6,\"#e6f5d0\"],[0.7,\"#b8e186\"],[0.8,\"#7fbc41\"],[0.9,\"#4d9221\"],[1,\"#276419\"]]},\"xaxis\":{\"gridcolor\":\"white\",\"linecolor\":\"white\",\"ticks\":\"\",\"title\":{\"standoff\":15},\"zerolinecolor\":\"white\",\"automargin\":true,\"zerolinewidth\":2},\"yaxis\":{\"gridcolor\":\"white\",\"linecolor\":\"white\",\"ticks\":\"\",\"title\":{\"standoff\":15},\"zerolinecolor\":\"white\",\"automargin\":true,\"zerolinewidth\":2},\"scene\":{\"xaxis\":{\"backgroundcolor\":\"#E5ECF6\",\"gridcolor\":\"white\",\"linecolor\":\"white\",\"showbackground\":true,\"ticks\":\"\",\"zerolinecolor\":\"white\",\"gridwidth\":2},\"yaxis\":{\"backgroundcolor\":\"#E5ECF6\",\"gridcolor\":\"white\",\"linecolor\":\"white\",\"showbackground\":true,\"ticks\":\"\",\"zerolinecolor\":\"white\",\"gridwidth\":2},\"zaxis\":{\"backgroundcolor\":\"#E5ECF6\",\"gridcolor\":\"white\",\"linecolor\":\"white\",\"showbackground\":true,\"ticks\":\"\",\"zerolinecolor\":\"white\",\"gridwidth\":2}},\"shapedefaults\":{\"line\":{\"color\":\"#2a3f5f\"}},\"annotationdefaults\":{\"arrowcolor\":\"#2a3f5f\",\"arrowhead\":0,\"arrowwidth\":1},\"geo\":{\"bgcolor\":\"white\",\"landcolor\":\"#E5ECF6\",\"subunitcolor\":\"white\",\"showland\":true,\"showlakes\":true,\"lakecolor\":\"white\"},\"title\":{\"x\":0.05},\"mapbox\":{\"style\":\"light\"}}},\"title\":{\"text\":\"Standardized HDI indicators and low\\u002fhigh crime rates\\u003cbr\\u003e\\u003csup\\u003eTop 5 countries with the lowest crime rate on the left,\\u003cbr\\u003eand the top 5 countries with the highest crime right on the right.\\u003c\\u002fsup\\u003e\",\"y\":0.9,\"x\":0.5,\"xanchor\":\"center\",\"yanchor\":\"top\"},\"xaxis\":{\"title\":{\"text\":\"Countries with lowest and highest crime rates\"},\"tickmode\":\"array\",\"tickvals\":[0,1,2,3,4,5,6,7,8,9],\"ticktext\":[\"Qatar\",\"United Arab Emirates\",\"Oman\",\"Switzerland\",\"Hong Kong\",\"Venezuela\",\"Papua New Guinea\",\"South Africa\",\"Afghanistan\",\"Honduras\"]},\"yaxis\":{\"title\":{\"text\":\"Crime predictors\"},\"tickmode\":\"array\",\"tickvals\":[0,1,2,3,4,5,6,7,8,9,10,11,12],\"ticktext\":[\"HDI\",\"Life Expectancy at Birth, female\",\"Life Expectancy at Birth, male\",\"Life Expectancy at Birth\",\"GNI per capita, female\",\"GNI per capita, male\",\"GNI per capita\",\"Coefficient of human inequality\",\"Overall loss\",\"Inequality in life expectancy\",\"Inequality in income\",\"Gender Inequality Index\",\"Adolescent Birth Rate\"]},\"height\":500,\"annotations\":[{\"align\":\"left\",\"showarrow\":false,\"text\":\"HDI values from 2021.\",\"x\":-0.37,\"xanchor\":\"left\",\"xref\":\"paper\",\"y\":-0.1,\"yanchor\":\"bottom\",\"yref\":\"paper\"}]},                        {\"responsive\": true}                    ).then(function(){\n",
       "                            \n",
       "var gd = document.getElementById('529f4533-8a17-4e22-876a-53d9f9f96b55');\n",
       "var x = new MutationObserver(function (mutations, observer) {{\n",
       "        var display = window.getComputedStyle(gd).display;\n",
       "        if (!display || display === 'none') {{\n",
       "            console.log([gd, 'removed!']);\n",
       "            Plotly.purge(gd);\n",
       "            observer.disconnect();\n",
       "        }}\n",
       "}});\n",
       "\n",
       "// Listen for the removal of the full notebook cells\n",
       "var notebookContainer = gd.closest('#notebook-container');\n",
       "if (notebookContainer) {{\n",
       "    x.observe(notebookContainer, {childList: true});\n",
       "}}\n",
       "\n",
       "// Listen for the clearing of the current output cell\n",
       "var outputEl = gd.closest('.output');\n",
       "if (outputEl) {{\n",
       "    x.observe(outputEl, {childList: true});\n",
       "}}\n",
       "\n",
       "                        })                };                });            </script>        </div>"
      ]
     },
     "metadata": {},
     "output_type": "display_data"
    }
   ],
   "source": [
    "#load datasets\n",
    "crime = pd.read_csv(\"datasets/crime-rate-by-country-2023.csv\")\n",
    "HDI = pd.read_csv(\"datasets/Human Development Index.csv\")\n",
    "\n",
    "# index = country\n",
    "crime = crime.groupby('country').first()\n",
    "HDI = HDI.groupby('Country').first()\n",
    "\n",
    "# filter data 2021\n",
    "stats_2021 = [col for col in HDI.columns if '2021' in col]\n",
    "HDI_2021 = HDI[stats_2021]\n",
    "\n",
    "HC = HDI_2021.copy()\n",
    "HC = HC.loc[:, [#'HDI Rank (2021)',\n",
    "             'Human Development Index (2021)',\n",
    "             'Life Expectancy at Birth, female (2021)',\n",
    "            'Life Expectancy at Birth, male (2021)',\n",
    "            'Life Expectancy at Birth (2021)',\n",
    "             'Gross National Income Per Capita, female (2021)',\n",
    "             'Gross National Income Per Capita, male (2021)',\n",
    "            'Gross National Income Per Capita (2021)',\n",
    "             'Coefficient of human inequality (2021)',\n",
    "             'Overall loss (%) (2021)',\n",
    "             'Inequality in life expectancy (2021)',\n",
    "             'Inequality in income (2021)',\n",
    "             'Gender Inequality Index (2021)',\n",
    "             'Adolescent Birth Rate (births per 1,000 women ages 15-19) (2021)']]\n",
    "\n",
    "HC.rename(columns = {'Human Development Index (2021)': 'HDI',\n",
    "                     'Life Expectancy at Birth (2021)': 'Life Expectancy at Birth',\n",
    "                     'Life Expectancy at Birth, male (2021)' : 'Life Expectancy at Birth, male',\n",
    "                     'Life Expectancy at Birth, female (2021)' : 'Life Expectancy at Birth, female',\n",
    "                    'Gross National Income Per Capita (2021)' : 'GNI per capita',\n",
    "                     'Gross National Income Per Capita, male (2021)' : 'GNI per capita, male',\n",
    "                      'Gross National Income Per Capita, female (2021)' : 'GNI per capita, female',\n",
    "                     'Inequality-adjusted Human Development Index (2021)' : 'Inequality-adjusted HDI',\n",
    "                    'Coefficient of human inequality (2021)' : 'Coefficient of human inequality',\n",
    "                    'Overall loss (%) (2021)' : 'Overall loss', 'Inequality in life expectancy (2021)' : 'Inequality in life expectancy',\n",
    "                    'Inequality in income (2021)' : 'Inequality in income',\n",
    "                    'Gender Inequality Index (2021)' : 'Gender Inequality Index',\n",
    "                    'Adolescent Birth Rate (births per 1,000 women ages 15-19) (2021)' : 'Adolescent Birth Rate'}, inplace=True)\n",
    "\n",
    "# standardize data\n",
    "HC_standardized = 2 * (HC - HC.mean()) / (HC.max() - HC.min())\n",
    "\n",
    "HCC = crime.join(HC_standardized)\n",
    "HCC = HCC.drop(columns=['rank', 'pop2023'])\n",
    "\n",
    "low5 = HCC.nsmallest(6, 'crimeIndex')\n",
    "high5 = HCC.nlargest(5, 'crimeIndex')\n",
    "\n",
    "df = pd.concat([low5, high5])\n",
    "df = df.drop(\"Taiwan\", axis='index')\n",
    "\n",
    "df = df.drop(columns=['crimeIndex'])\n",
    "\n",
    "df = df.T\n",
    "\n",
    "HDIfig = go.Figure(data=go.Heatmap(z=df.values,\n",
    "                                   x=df.columns,\n",
    "                                   y=df.index,\n",
    "                                   colorscale='RdBu',\n",
    "                                   zmid=0,\n",
    "                                   colorbar=dict(title='values', titleside='right')))\n",
    "\n",
    "# Update layout for better visualization\n",
    "HDIfig.update_layout(\n",
    "    title={\n",
    "        'text': 'Standardized HDI indicators and low/high crime rates<br><sup>Top 5 countries with the lowest crime rate on the left,<br>and the top 5 countries with the highest crime right on the right.</sup>',\n",
    "        'y':0.9,\n",
    "        'x':0.5,\n",
    "        'xanchor': 'center',\n",
    "        'yanchor': 'top'\n",
    "    },\n",
    "    xaxis_title='Countries with lowest and highest crime rates',\n",
    "    yaxis_title='Crime predictors',\n",
    "    xaxis=dict(tickmode='array', tickvals=list(range(len(df.columns))), ticktext=df.columns),\n",
    "    yaxis=dict(tickmode='array', tickvals=list(range(len(df.index))), ticktext=df.index)\n",
    ")\n",
    "\n",
    "HDIfig.update_layout(\n",
    "    height=500\n",
    ")\n",
    "\n",
    "HDIfig.add_annotation(x=-0.37, y=-0.10,\n",
    "                   xref=\"paper\", yref=\"paper\",\n",
    "                   align='left',\n",
    "                   xanchor='left', yanchor='bottom',\n",
    "                   showarrow=False,\n",
    "                   text='HDI values from 2021.'\n",
    "                  )\n",
    "\n",
    "# Show the interactive heatmap\n",
    "HDIfig.show()"
   ]
  }
 ],
 "metadata": {
  "kernelspec": {
   "display_name": "Python 3 (ipykernel)",
   "language": "python",
   "name": "python3"
  },
  "language_info": {
   "codemirror_mode": {
    "name": "ipython",
    "version": 3
   },
   "file_extension": ".py",
   "mimetype": "text/x-python",
   "name": "python",
   "nbconvert_exporter": "python",
   "pygments_lexer": "ipython3",
   "version": "3.10.14"
  }
 },
 "nbformat": 4,
 "nbformat_minor": 5
}
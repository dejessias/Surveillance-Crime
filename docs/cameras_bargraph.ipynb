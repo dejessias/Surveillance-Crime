{
 "cells": [
  {
   "cell_type": "code",
   "execution_count": 25,
   "id": "b5148fa9-1aad-4620-b37a-6cd1b285b36d",
   "metadata": {
    "editable": true,
    "slideshow": {
     "slide_type": ""
    },
    "tags": []
   },
   "outputs": [
    {
     "data": {
      "text/html": [
       "        <script type=\"text/javascript\">\n",
       "        window.PlotlyConfig = {MathJaxConfig: 'local'};\n",
       "        if (window.MathJax && window.MathJax.Hub && window.MathJax.Hub.Config) {window.MathJax.Hub.Config({SVG: {font: \"STIX-Web\"}});}\n",
       "        if (typeof require !== 'undefined') {\n",
       "        require.undef(\"plotly\");\n",
       "        requirejs.config({\n",
       "            paths: {\n",
       "                'plotly': ['https://cdn.plot.ly/plotly-2.32.0.min']\n",
       "            }\n",
       "        });\n",
       "        require(['plotly'], function(Plotly) {\n",
       "            window._Plotly = Plotly;\n",
       "        });\n",
       "        }\n",
       "        </script>\n",
       "        "
      ]
     },
     "metadata": {},
     "output_type": "display_data"
    },
    {
     "data": {
      "application/vnd.plotly.v1+json": {
       "config": {
        "plotlyServerURL": "https://plot.ly"
       },
       "data": [
        {
         "alignmentgroup": "True",
         "customdata": [
          [
           "China"
          ],
          [
           "India"
          ],
          [
           "India"
          ],
          [
           "India"
          ],
          [
           "Singapore "
          ],
          [
           "Iraq"
          ],
          [
           "South Korea"
          ],
          [
           "South Korea"
          ],
          [
           "Vietnam"
          ],
          [
           "Taiwan"
          ],
          [
           "India"
          ],
          [
           "Hong Kong"
          ],
          [
           "India"
          ],
          [
           "Turkey"
          ],
          [
           "India"
          ],
          [
           "Thailand"
          ],
          [
           "France "
          ],
          [
           "Colombia"
          ],
          [
           "India"
          ],
          [
           "Brazil"
          ],
          [
           "India"
          ],
          [
           "India"
          ],
          [
           "Turkey"
          ],
          [
           "Brazil"
          ],
          [
           "Peru"
          ],
          [
           "Vietnam"
          ],
          [
           "Brazil"
          ],
          [
           "India"
          ],
          [
           "Brazil"
          ],
          [
           "Brazil"
          ],
          [
           "Colombia"
          ]
         ],
         "hovertemplate": "City: %{x}<br>Country: %{customdata[0]}<br># of CCTV Cameras per 1000 people: %{y}",
         "legendgroup": "Asia",
         "marker": {
          "color": "rgb(238, 28, 47)",
          "pattern": {
           "shape": ""
          }
         },
         "name": "Asia",
         "offsetgroup": "Asia",
         "orientation": "v",
         "showlegend": true,
         "textposition": "auto",
         "type": "bar",
         "x": [
          "Est. of cities in China*",
          "Hyderabad",
          "Indore",
          "Delhi",
          "Singapore",
          "Baghdad",
          "Seoul",
          "Busan",
          "Ho Chi Minh City",
          "Xinbei (New Taipei City)",
          "Chennai",
          "Hong Kong",
          "Pune",
          "Istanbul",
          "Kochi",
          "Bangkok",
          "Paris",
          "Bogotá",
          "Mumbai",
          "Belo Horizonte",
          "Lucknow",
          "Kanpur",
          "Ankara",
          "Rio de Janeiro",
          "Lima",
          "Hanoi",
          "Salvador",
          "Bangalore",
          "Fortaleza",
          "Porto Alegre",
          "Medellín"
         ],
         "xaxis": "x",
         "y": [
          439.07,
          83.32,
          60.57,
          19.96,
          17.94,
          15.56,
          14.47,
          10.03,
          8.52,
          7.77,
          7.73,
          7.09,
          6.92,
          6.88,
          6.82,
          5.89,
          4.04,
          3.85,
          3.65,
          2.91,
          2.3,
          2.24,
          2.12,
          2.01,
          1.89,
          1.84,
          1.78,
          1.58,
          1.27,
          1.22,
          1.19
         ],
         "yaxis": "y"
        },
        {
         "alignmentgroup": "True",
         "customdata": [
          [
           "Russia"
          ],
          [
           "Russia"
          ],
          [
           "United Kingdom"
          ],
          [
           "Germany"
          ],
          [
           "Spain"
          ],
          [
           "Italy"
          ],
          [
           "Spain"
          ]
         ],
         "hovertemplate": "City: %{x}<br>Country: %{customdata[0]}<br># of CCTV Cameras per 1000 people: %{y}",
         "legendgroup": "Europe",
         "marker": {
          "color": "rgb(0, 61, 153)",
          "pattern": {
           "shape": ""
          }
         },
         "name": "Europe",
         "offsetgroup": "Europe",
         "orientation": "v",
         "showlegend": true,
         "textposition": "auto",
         "type": "bar",
         "x": [
          "Moscow",
          "St. Petersburg",
          "London",
          "Berlin",
          "Madrid",
          "Rome",
          "Barcelona"
         ],
         "xaxis": "x",
         "y": [
          16.88,
          13.49,
          13.21,
          7.72,
          4.19,
          3.59,
          2.41
         ],
         "yaxis": "y"
        },
        {
         "alignmentgroup": "True",
         "customdata": [
          [
           "United States"
          ],
          [
           "United States"
          ],
          [
           "Mexico"
          ],
          [
           "Mexico"
          ],
          [
           "Mexico"
          ],
          [
           "Canada"
          ]
         ],
         "hovertemplate": "City: %{x}<br>Country: %{customdata[0]}<br># of CCTV Cameras per 1000 people: %{y}",
         "legendgroup": "North America",
         "marker": {
          "color": "green",
          "pattern": {
           "shape": ""
          }
         },
         "name": "North America",
         "offsetgroup": "North America",
         "orientation": "v",
         "showlegend": true,
         "textposition": "auto",
         "type": "bar",
         "x": [
          "Los Angeles",
          "New York",
          "Puebla",
          "Guadalajara",
          "Mexico City",
          "Toronto"
         ],
         "xaxis": "x",
         "y": [
          10.27,
          7.88,
          4.53,
          4.4,
          3.59,
          3.13
         ],
         "yaxis": "y"
        },
        {
         "alignmentgroup": "True",
         "customdata": [
          [
           "Australia"
          ],
          [
           "Australia"
          ]
         ],
         "hovertemplate": "City: %{x}<br>Country: %{customdata[0]}<br># of CCTV Cameras per 1000 people: %{y}",
         "legendgroup": "Oceania",
         "marker": {
          "color": "orange",
          "pattern": {
           "shape": ""
          }
         },
         "name": "Oceania",
         "offsetgroup": "Oceania",
         "orientation": "v",
         "showlegend": true,
         "textposition": "auto",
         "type": "bar",
         "x": [
          "Sydney",
          "Melbourne"
         ],
         "xaxis": "x",
         "y": [
          5.06,
          2.45
         ],
         "yaxis": "y"
        },
        {
         "alignmentgroup": "True",
         "customdata": [
          [
           "Egypt"
          ],
          [
           "South Africa"
          ],
          [
           "South Africa"
          ],
          [
           "Nigeria"
          ]
         ],
         "hovertemplate": "City: %{x}<br>Country: %{customdata[0]}<br># of CCTV Cameras per 1000 people: %{y}",
         "legendgroup": "Africa",
         "marker": {
          "color": "black",
          "pattern": {
           "shape": ""
          }
         },
         "name": "Africa",
         "offsetgroup": "Africa",
         "orientation": "v",
         "showlegend": true,
         "textposition": "auto",
         "type": "bar",
         "x": [
          "Cairo",
          "Cape Town",
          "Johannesburg",
          "Kano"
         ],
         "xaxis": "x",
         "y": [
          2.1,
          1.61,
          1.52,
          1.15
         ],
         "yaxis": "y"
        }
       ],
       "layout": {
        "annotations": [
         {
          "align": "left",
          "showarrow": false,
          "text": "* = The dataset contains the exact same estimation for all cities in China.",
          "x": -0.07,
          "xanchor": "left",
          "xref": "paper",
          "y": -1.25,
          "yanchor": "bottom",
          "yref": "paper"
         }
        ],
        "autosize": true,
        "barmode": "relative",
        "legend": {
         "title": {
          "text": "Continent"
         },
         "tracegroupgap": 0
        },
        "margin": {
         "b": 226,
         "t": 100
        },
        "template": {
         "data": {
          "bar": [
           {
            "error_x": {
             "color": "#2a3f5f"
            },
            "error_y": {
             "color": "#2a3f5f"
            },
            "marker": {
             "line": {
              "color": "#E5ECF6",
              "width": 0.5
             },
             "pattern": {
              "fillmode": "overlay",
              "size": 10,
              "solidity": 0.2
             }
            },
            "type": "bar"
           }
          ],
          "barpolar": [
           {
            "marker": {
             "line": {
              "color": "#E5ECF6",
              "width": 0.5
             },
             "pattern": {
              "fillmode": "overlay",
              "size": 10,
              "solidity": 0.2
             }
            },
            "type": "barpolar"
           }
          ],
          "carpet": [
           {
            "aaxis": {
             "endlinecolor": "#2a3f5f",
             "gridcolor": "white",
             "linecolor": "white",
             "minorgridcolor": "white",
             "startlinecolor": "#2a3f5f"
            },
            "baxis": {
             "endlinecolor": "#2a3f5f",
             "gridcolor": "white",
             "linecolor": "white",
             "minorgridcolor": "white",
             "startlinecolor": "#2a3f5f"
            },
            "type": "carpet"
           }
          ],
          "choropleth": [
           {
            "colorbar": {
             "outlinewidth": 0,
             "ticks": ""
            },
            "type": "choropleth"
           }
          ],
          "contour": [
           {
            "colorbar": {
             "outlinewidth": 0,
             "ticks": ""
            },
            "colorscale": [
             [
              0,
              "#0d0887"
             ],
             [
              0.1111111111111111,
              "#46039f"
             ],
             [
              0.2222222222222222,
              "#7201a8"
             ],
             [
              0.3333333333333333,
              "#9c179e"
             ],
             [
              0.4444444444444444,
              "#bd3786"
             ],
             [
              0.5555555555555556,
              "#d8576b"
             ],
             [
              0.6666666666666666,
              "#ed7953"
             ],
             [
              0.7777777777777778,
              "#fb9f3a"
             ],
             [
              0.8888888888888888,
              "#fdca26"
             ],
             [
              1,
              "#f0f921"
             ]
            ],
            "type": "contour"
           }
          ],
          "contourcarpet": [
           {
            "colorbar": {
             "outlinewidth": 0,
             "ticks": ""
            },
            "type": "contourcarpet"
           }
          ],
          "heatmap": [
           {
            "colorbar": {
             "outlinewidth": 0,
             "ticks": ""
            },
            "colorscale": [
             [
              0,
              "#0d0887"
             ],
             [
              0.1111111111111111,
              "#46039f"
             ],
             [
              0.2222222222222222,
              "#7201a8"
             ],
             [
              0.3333333333333333,
              "#9c179e"
             ],
             [
              0.4444444444444444,
              "#bd3786"
             ],
             [
              0.5555555555555556,
              "#d8576b"
             ],
             [
              0.6666666666666666,
              "#ed7953"
             ],
             [
              0.7777777777777778,
              "#fb9f3a"
             ],
             [
              0.8888888888888888,
              "#fdca26"
             ],
             [
              1,
              "#f0f921"
             ]
            ],
            "type": "heatmap"
           }
          ],
          "heatmapgl": [
           {
            "colorbar": {
             "outlinewidth": 0,
             "ticks": ""
            },
            "colorscale": [
             [
              0,
              "#0d0887"
             ],
             [
              0.1111111111111111,
              "#46039f"
             ],
             [
              0.2222222222222222,
              "#7201a8"
             ],
             [
              0.3333333333333333,
              "#9c179e"
             ],
             [
              0.4444444444444444,
              "#bd3786"
             ],
             [
              0.5555555555555556,
              "#d8576b"
             ],
             [
              0.6666666666666666,
              "#ed7953"
             ],
             [
              0.7777777777777778,
              "#fb9f3a"
             ],
             [
              0.8888888888888888,
              "#fdca26"
             ],
             [
              1,
              "#f0f921"
             ]
            ],
            "type": "heatmapgl"
           }
          ],
          "histogram": [
           {
            "marker": {
             "pattern": {
              "fillmode": "overlay",
              "size": 10,
              "solidity": 0.2
             }
            },
            "type": "histogram"
           }
          ],
          "histogram2d": [
           {
            "colorbar": {
             "outlinewidth": 0,
             "ticks": ""
            },
            "colorscale": [
             [
              0,
              "#0d0887"
             ],
             [
              0.1111111111111111,
              "#46039f"
             ],
             [
              0.2222222222222222,
              "#7201a8"
             ],
             [
              0.3333333333333333,
              "#9c179e"
             ],
             [
              0.4444444444444444,
              "#bd3786"
             ],
             [
              0.5555555555555556,
              "#d8576b"
             ],
             [
              0.6666666666666666,
              "#ed7953"
             ],
             [
              0.7777777777777778,
              "#fb9f3a"
             ],
             [
              0.8888888888888888,
              "#fdca26"
             ],
             [
              1,
              "#f0f921"
             ]
            ],
            "type": "histogram2d"
           }
          ],
          "histogram2dcontour": [
           {
            "colorbar": {
             "outlinewidth": 0,
             "ticks": ""
            },
            "colorscale": [
             [
              0,
              "#0d0887"
             ],
             [
              0.1111111111111111,
              "#46039f"
             ],
             [
              0.2222222222222222,
              "#7201a8"
             ],
             [
              0.3333333333333333,
              "#9c179e"
             ],
             [
              0.4444444444444444,
              "#bd3786"
             ],
             [
              0.5555555555555556,
              "#d8576b"
             ],
             [
              0.6666666666666666,
              "#ed7953"
             ],
             [
              0.7777777777777778,
              "#fb9f3a"
             ],
             [
              0.8888888888888888,
              "#fdca26"
             ],
             [
              1,
              "#f0f921"
             ]
            ],
            "type": "histogram2dcontour"
           }
          ],
          "mesh3d": [
           {
            "colorbar": {
             "outlinewidth": 0,
             "ticks": ""
            },
            "type": "mesh3d"
           }
          ],
          "parcoords": [
           {
            "line": {
             "colorbar": {
              "outlinewidth": 0,
              "ticks": ""
             }
            },
            "type": "parcoords"
           }
          ],
          "pie": [
           {
            "automargin": true,
            "type": "pie"
           }
          ],
          "scatter": [
           {
            "fillpattern": {
             "fillmode": "overlay",
             "size": 10,
             "solidity": 0.2
            },
            "type": "scatter"
           }
          ],
          "scatter3d": [
           {
            "line": {
             "colorbar": {
              "outlinewidth": 0,
              "ticks": ""
             }
            },
            "marker": {
             "colorbar": {
              "outlinewidth": 0,
              "ticks": ""
             }
            },
            "type": "scatter3d"
           }
          ],
          "scattercarpet": [
           {
            "marker": {
             "colorbar": {
              "outlinewidth": 0,
              "ticks": ""
             }
            },
            "type": "scattercarpet"
           }
          ],
          "scattergeo": [
           {
            "marker": {
             "colorbar": {
              "outlinewidth": 0,
              "ticks": ""
             }
            },
            "type": "scattergeo"
           }
          ],
          "scattergl": [
           {
            "marker": {
             "colorbar": {
              "outlinewidth": 0,
              "ticks": ""
             }
            },
            "type": "scattergl"
           }
          ],
          "scattermapbox": [
           {
            "marker": {
             "colorbar": {
              "outlinewidth": 0,
              "ticks": ""
             }
            },
            "type": "scattermapbox"
           }
          ],
          "scatterpolar": [
           {
            "marker": {
             "colorbar": {
              "outlinewidth": 0,
              "ticks": ""
             }
            },
            "type": "scatterpolar"
           }
          ],
          "scatterpolargl": [
           {
            "marker": {
             "colorbar": {
              "outlinewidth": 0,
              "ticks": ""
             }
            },
            "type": "scatterpolargl"
           }
          ],
          "scatterternary": [
           {
            "marker": {
             "colorbar": {
              "outlinewidth": 0,
              "ticks": ""
             }
            },
            "type": "scatterternary"
           }
          ],
          "surface": [
           {
            "colorbar": {
             "outlinewidth": 0,
             "ticks": ""
            },
            "colorscale": [
             [
              0,
              "#0d0887"
             ],
             [
              0.1111111111111111,
              "#46039f"
             ],
             [
              0.2222222222222222,
              "#7201a8"
             ],
             [
              0.3333333333333333,
              "#9c179e"
             ],
             [
              0.4444444444444444,
              "#bd3786"
             ],
             [
              0.5555555555555556,
              "#d8576b"
             ],
             [
              0.6666666666666666,
              "#ed7953"
             ],
             [
              0.7777777777777778,
              "#fb9f3a"
             ],
             [
              0.8888888888888888,
              "#fdca26"
             ],
             [
              1,
              "#f0f921"
             ]
            ],
            "type": "surface"
           }
          ],
          "table": [
           {
            "cells": {
             "fill": {
              "color": "#EBF0F8"
             },
             "line": {
              "color": "white"
             }
            },
            "header": {
             "fill": {
              "color": "#C8D4E3"
             },
             "line": {
              "color": "white"
             }
            },
            "type": "table"
           }
          ]
         },
         "layout": {
          "annotationdefaults": {
           "arrowcolor": "#2a3f5f",
           "arrowhead": 0,
           "arrowwidth": 1
          },
          "autotypenumbers": "strict",
          "coloraxis": {
           "colorbar": {
            "outlinewidth": 0,
            "ticks": ""
           }
          },
          "colorscale": {
           "diverging": [
            [
             0,
             "#8e0152"
            ],
            [
             0.1,
             "#c51b7d"
            ],
            [
             0.2,
             "#de77ae"
            ],
            [
             0.3,
             "#f1b6da"
            ],
            [
             0.4,
             "#fde0ef"
            ],
            [
             0.5,
             "#f7f7f7"
            ],
            [
             0.6,
             "#e6f5d0"
            ],
            [
             0.7,
             "#b8e186"
            ],
            [
             0.8,
             "#7fbc41"
            ],
            [
             0.9,
             "#4d9221"
            ],
            [
             1,
             "#276419"
            ]
           ],
           "sequential": [
            [
             0,
             "#0d0887"
            ],
            [
             0.1111111111111111,
             "#46039f"
            ],
            [
             0.2222222222222222,
             "#7201a8"
            ],
            [
             0.3333333333333333,
             "#9c179e"
            ],
            [
             0.4444444444444444,
             "#bd3786"
            ],
            [
             0.5555555555555556,
             "#d8576b"
            ],
            [
             0.6666666666666666,
             "#ed7953"
            ],
            [
             0.7777777777777778,
             "#fb9f3a"
            ],
            [
             0.8888888888888888,
             "#fdca26"
            ],
            [
             1,
             "#f0f921"
            ]
           ],
           "sequentialminus": [
            [
             0,
             "#0d0887"
            ],
            [
             0.1111111111111111,
             "#46039f"
            ],
            [
             0.2222222222222222,
             "#7201a8"
            ],
            [
             0.3333333333333333,
             "#9c179e"
            ],
            [
             0.4444444444444444,
             "#bd3786"
            ],
            [
             0.5555555555555556,
             "#d8576b"
            ],
            [
             0.6666666666666666,
             "#ed7953"
            ],
            [
             0.7777777777777778,
             "#fb9f3a"
            ],
            [
             0.8888888888888888,
             "#fdca26"
            ],
            [
             1,
             "#f0f921"
            ]
           ]
          },
          "colorway": [
           "#636efa",
           "#EF553B",
           "#00cc96",
           "#ab63fa",
           "#FFA15A",
           "#19d3f3",
           "#FF6692",
           "#B6E880",
           "#FF97FF",
           "#FECB52"
          ],
          "font": {
           "color": "#2a3f5f"
          },
          "geo": {
           "bgcolor": "white",
           "lakecolor": "white",
           "landcolor": "#E5ECF6",
           "showlakes": true,
           "showland": true,
           "subunitcolor": "white"
          },
          "hoverlabel": {
           "align": "left"
          },
          "hovermode": "closest",
          "mapbox": {
           "style": "light"
          },
          "paper_bgcolor": "white",
          "plot_bgcolor": "#E5ECF6",
          "polar": {
           "angularaxis": {
            "gridcolor": "white",
            "linecolor": "white",
            "ticks": ""
           },
           "bgcolor": "#E5ECF6",
           "radialaxis": {
            "gridcolor": "white",
            "linecolor": "white",
            "ticks": ""
           }
          },
          "scene": {
           "xaxis": {
            "backgroundcolor": "#E5ECF6",
            "gridcolor": "white",
            "gridwidth": 2,
            "linecolor": "white",
            "showbackground": true,
            "ticks": "",
            "zerolinecolor": "white"
           },
           "yaxis": {
            "backgroundcolor": "#E5ECF6",
            "gridcolor": "white",
            "gridwidth": 2,
            "linecolor": "white",
            "showbackground": true,
            "ticks": "",
            "zerolinecolor": "white"
           },
           "zaxis": {
            "backgroundcolor": "#E5ECF6",
            "gridcolor": "white",
            "gridwidth": 2,
            "linecolor": "white",
            "showbackground": true,
            "ticks": "",
            "zerolinecolor": "white"
           }
          },
          "shapedefaults": {
           "line": {
            "color": "#2a3f5f"
           }
          },
          "ternary": {
           "aaxis": {
            "gridcolor": "white",
            "linecolor": "white",
            "ticks": ""
           },
           "baxis": {
            "gridcolor": "white",
            "linecolor": "white",
            "ticks": ""
           },
           "bgcolor": "#E5ECF6",
           "caxis": {
            "gridcolor": "white",
            "linecolor": "white",
            "ticks": ""
           }
          },
          "title": {
           "x": 0.05
          },
          "xaxis": {
           "automargin": true,
           "gridcolor": "white",
           "linecolor": "white",
           "ticks": "",
           "title": {
            "standoff": 15
           },
           "zerolinecolor": "white",
           "zerolinewidth": 2
          },
          "yaxis": {
           "automargin": true,
           "gridcolor": "white",
           "linecolor": "white",
           "ticks": "",
           "title": {
            "standoff": 15
           },
           "zerolinecolor": "white",
           "zerolinewidth": 2
          }
         }
        },
        "title": {
         "text": "China and the Top 50 Cities by Number of CCTV Cameras per 1,000 People<br><sup>Cities in China are extreme outliers, with more than 4 cameras per 10 people.</sup>",
         "x": 0.5,
         "xanchor": "center",
         "y": 0.95,
         "yanchor": "top"
        },
        "xaxis": {
         "anchor": "y",
         "autorange": true,
         "categoryorder": "total descending",
         "domain": [
          0,
          1
         ],
         "range": [
          -0.5,
          49.5
         ],
         "title": {
          "text": "City"
         },
         "type": "category"
        },
        "yaxis": {
         "anchor": "x",
         "autorange": true,
         "domain": [
          0,
          1
         ],
         "range": [
          0,
          462.17894736842106
         ],
         "title": {
          "text": "CCTV Cameras per 1,000 People"
         },
         "type": "linear"
        }
       }
      },
      "image/png": "[encoded data removed]",
      "text/html": [
       "<div>                            <div id=\"8e6521bf-c5b1-4480-b798-66cb1cb636f0\" class=\"plotly-graph-div\" style=\"height:500px; width:100%;\"></div>            <script type=\"text/javascript\">                require([\"plotly\"], function(Plotly) {                    window.PLOTLYENV=window.PLOTLYENV || {};                                    if (document.getElementById(\"8e6521bf-c5b1-4480-b798-66cb1cb636f0\")) {                    Plotly.newPlot(                        \"8e6521bf-c5b1-4480-b798-66cb1cb636f0\",                        [{\"alignmentgroup\":\"True\",\"customdata\":[[\"China\"],[\"India\"],[\"India\"],[\"India\"],[\"Singapore \"],[\"Iraq\"],[\"South Korea\"],[\"South Korea\"],[\"Vietnam\"],[\"Taiwan\"],[\"India\"],[\"Hong Kong\"],[\"India\"],[\"Turkey\"],[\"India\"],[\"Thailand\"],[\"France \"],[\"Colombia\"],[\"India\"],[\"Brazil\"],[\"India\"],[\"India\"],[\"Turkey\"],[\"Brazil\"],[\"Peru\"],[\"Vietnam\"],[\"Brazil\"],[\"India\"],[\"Brazil\"],[\"Brazil\"],[\"Colombia\"]],\"hovertemplate\":\"City: %{x}\\u003cbr\\u003eCountry: %{customdata[0]}\\u003cbr\\u003e# of CCTV Cameras per 1000 people: %{y}\",\"legendgroup\":\"Asia\",\"marker\":{\"color\":\"rgb(238, 28, 47)\",\"pattern\":{\"shape\":\"\"}},\"name\":\"Asia\",\"offsetgroup\":\"Asia\",\"orientation\":\"v\",\"showlegend\":true,\"textposition\":\"auto\",\"x\":[\"Est. of cities in China*\",\"Hyderabad\",\"Indore\",\"Delhi\",\"Singapore\",\"Baghdad\",\"Seoul\",\"Busan\",\"Ho Chi Minh City\",\"Xinbei (New Taipei City)\",\"Chennai\",\"Hong Kong\",\"Pune\",\"Istanbul\",\"Kochi\",\"Bangkok\",\"Paris\",\"Bogot\\u00e1\",\"Mumbai\",\"Belo Horizonte\",\"Lucknow\",\"Kanpur\",\"Ankara\",\"Rio de Janeiro\",\"Lima\",\"Hanoi\",\"Salvador\",\"Bangalore\",\"Fortaleza\",\"Porto Alegre\",\"Medell\\u00edn\"],\"xaxis\":\"x\",\"y\":[439.07,83.32,60.57,19.96,17.94,15.56,14.47,10.03,8.52,7.77,7.73,7.09,6.92,6.88,6.82,5.89,4.04,3.85,3.65,2.91,2.3,2.24,2.12,2.01,1.89,1.84,1.78,1.58,1.27,1.22,1.19],\"yaxis\":\"y\",\"type\":\"bar\"},{\"alignmentgroup\":\"True\",\"customdata\":[[\"Russia\"],[\"Russia\"],[\"United Kingdom\"],[\"Germany\"],[\"Spain\"],[\"Italy\"],[\"Spain\"]],\"hovertemplate\":\"City: %{x}\\u003cbr\\u003eCountry: %{customdata[0]}\\u003cbr\\u003e# of CCTV Cameras per 1000 people: %{y}\",\"legendgroup\":\"Europe\",\"marker\":{\"color\":\"rgb(0, 61, 153)\",\"pattern\":{\"shape\":\"\"}},\"name\":\"Europe\",\"offsetgroup\":\"Europe\",\"orientation\":\"v\",\"showlegend\":true,\"textposition\":\"auto\",\"x\":[\"Moscow\",\"St. Petersburg\",\"London\",\"Berlin\",\"Madrid\",\"Rome\",\"Barcelona\"],\"xaxis\":\"x\",\"y\":[16.88,13.49,13.21,7.72,4.19,3.59,2.41],\"yaxis\":\"y\",\"type\":\"bar\"},{\"alignmentgroup\":\"True\",\"customdata\":[[\"United States\"],[\"United States\"],[\"Mexico\"],[\"Mexico\"],[\"Mexico\"],[\"Canada\"]],\"hovertemplate\":\"City: %{x}\\u003cbr\\u003eCountry: %{customdata[0]}\\u003cbr\\u003e# of CCTV Cameras per 1000 people: %{y}\",\"legendgroup\":\"North America\",\"marker\":{\"color\":\"green\",\"pattern\":{\"shape\":\"\"}},\"name\":\"North America\",\"offsetgroup\":\"North America\",\"orientation\":\"v\",\"showlegend\":true,\"textposition\":\"auto\",\"x\":[\"Los Angeles\",\"New York\",\"Puebla\",\"Guadalajara\",\"Mexico City\",\"Toronto\"],\"xaxis\":\"x\",\"y\":[10.27,7.88,4.53,4.4,3.59,3.13],\"yaxis\":\"y\",\"type\":\"bar\"},{\"alignmentgroup\":\"True\",\"customdata\":[[\"Australia\"],[\"Australia\"]],\"hovertemplate\":\"City: %{x}\\u003cbr\\u003eCountry: %{customdata[0]}\\u003cbr\\u003e# of CCTV Cameras per 1000 people: %{y}\",\"legendgroup\":\"Oceania\",\"marker\":{\"color\":\"orange\",\"pattern\":{\"shape\":\"\"}},\"name\":\"Oceania\",\"offsetgroup\":\"Oceania\",\"orientation\":\"v\",\"showlegend\":true,\"textposition\":\"auto\",\"x\":[\"Sydney\",\"Melbourne\"],\"xaxis\":\"x\",\"y\":[5.06,2.45],\"yaxis\":\"y\",\"type\":\"bar\"},{\"alignmentgroup\":\"True\",\"customdata\":[[\"Egypt\"],[\"South Africa\"],[\"South Africa\"],[\"Nigeria\"]],\"hovertemplate\":\"City: %{x}\\u003cbr\\u003eCountry: %{customdata[0]}\\u003cbr\\u003e# of CCTV Cameras per 1000 people: %{y}\",\"legendgroup\":\"Africa\",\"marker\":{\"color\":\"black\",\"pattern\":{\"shape\":\"\"}},\"name\":\"Africa\",\"offsetgroup\":\"Africa\",\"orientation\":\"v\",\"showlegend\":true,\"textposition\":\"auto\",\"x\":[\"Cairo\",\"Cape Town\",\"Johannesburg\",\"Kano\"],\"xaxis\":\"x\",\"y\":[2.1,1.61,1.52,1.15],\"yaxis\":\"y\",\"type\":\"bar\"}],                        {\"template\":{\"data\":{\"histogram2dcontour\":[{\"type\":\"histogram2dcontour\",\"colorbar\":{\"outlinewidth\":0,\"ticks\":\"\"},\"colorscale\":[[0.0,\"#0d0887\"],[0.1111111111111111,\"#46039f\"],[0.2222222222222222,\"#7201a8\"],[0.3333333333333333,\"#9c179e\"],[0.4444444444444444,\"#bd3786\"],[0.5555555555555556,\"#d8576b\"],[0.6666666666666666,\"#ed7953\"],[0.7777777777777778,\"#fb9f3a\"],[0.8888888888888888,\"#fdca26\"],[1.0,\"#f0f921\"]]}],\"choropleth\":[{\"type\":\"choropleth\",\"colorbar\":{\"outlinewidth\":0,\"ticks\":\"\"}}],\"histogram2d\":[{\"type\":\"histogram2d\",\"colorbar\":{\"outlinewidth\":0,\"ticks\":\"\"},\"colorscale\":[[0.0,\"#0d0887\"],[0.1111111111111111,\"#46039f\"],[0.2222222222222222,\"#7201a8\"],[0.3333333333333333,\"#9c179e\"],[0.4444444444444444,\"#bd3786\"],[0.5555555555555556,\"#d8576b\"],[0.6666666666666666,\"#ed7953\"],[0.7777777777777778,\"#fb9f3a\"],[0.8888888888888888,\"#fdca26\"],[1.0,\"#f0f921\"]]}],\"heatmap\":[{\"type\":\"heatmap\",\"colorbar\":{\"outlinewidth\":0,\"ticks\":\"\"},\"colorscale\":[[0.0,\"#0d0887\"],[0.1111111111111111,\"#46039f\"],[0.2222222222222222,\"#7201a8\"],[0.3333333333333333,\"#9c179e\"],[0.4444444444444444,\"#bd3786\"],[0.5555555555555556,\"#d8576b\"],[0.6666666666666666,\"#ed7953\"],[0.7777777777777778,\"#fb9f3a\"],[0.8888888888888888,\"#fdca26\"],[1.0,\"#f0f921\"]]}],\"heatmapgl\":[{\"type\":\"heatmapgl\",\"colorbar\":{\"outlinewidth\":0,\"ticks\":\"\"},\"colorscale\":[[0.0,\"#0d0887\"],[0.1111111111111111,\"#46039f\"],[0.2222222222222222,\"#7201a8\"],[0.3333333333333333,\"#9c179e\"],[0.4444444444444444,\"#bd3786\"],[0.5555555555555556,\"#d8576b\"],[0.6666666666666666,\"#ed7953\"],[0.7777777777777778,\"#fb9f3a\"],[0.8888888888888888,\"#fdca26\"],[1.0,\"#f0f921\"]]}],\"contourcarpet\":[{\"type\":\"contourcarpet\",\"colorbar\":{\"outlinewidth\":0,\"ticks\":\"\"}}],\"contour\":[{\"type\":\"contour\",\"colorbar\":{\"outlinewidth\":0,\"ticks\":\"\"},\"colorscale\":[[0.0,\"#0d0887\"],[0.1111111111111111,\"#46039f\"],[0.2222222222222222,\"#7201a8\"],[0.3333333333333333,\"#9c179e\"],[0.4444444444444444,\"#bd3786\"],[0.5555555555555556,\"#d8576b\"],[0.6666666666666666,\"#ed7953\"],[0.7777777777777778,\"#fb9f3a\"],[0.8888888888888888,\"#fdca26\"],[1.0,\"#f0f921\"]]}],\"surface\":[{\"type\":\"surface\",\"colorbar\":{\"outlinewidth\":0,\"ticks\":\"\"},\"colorscale\":[[0.0,\"#0d0887\"],[0.1111111111111111,\"#46039f\"],[0.2222222222222222,\"#7201a8\"],[0.3333333333333333,\"#9c179e\"],[0.4444444444444444,\"#bd3786\"],[0.5555555555555556,\"#d8576b\"],[0.6666666666666666,\"#ed7953\"],[0.7777777777777778,\"#fb9f3a\"],[0.8888888888888888,\"#fdca26\"],[1.0,\"#f0f921\"]]}],\"mesh3d\":[{\"type\":\"mesh3d\",\"colorbar\":{\"outlinewidth\":0,\"ticks\":\"\"}}],\"scatter\":[{\"fillpattern\":{\"fillmode\":\"overlay\",\"size\":10,\"solidity\":0.2},\"type\":\"scatter\"}],\"parcoords\":[{\"type\":\"parcoords\",\"line\":{\"colorbar\":{\"outlinewidth\":0,\"ticks\":\"\"}}}],\"scatterpolargl\":[{\"type\":\"scatterpolargl\",\"marker\":{\"colorbar\":{\"outlinewidth\":0,\"ticks\":\"\"}}}],\"bar\":[{\"error_x\":{\"color\":\"#2a3f5f\"},\"error_y\":{\"color\":\"#2a3f5f\"},\"marker\":{\"line\":{\"color\":\"#E5ECF6\",\"width\":0.5},\"pattern\":{\"fillmode\":\"overlay\",\"size\":10,\"solidity\":0.2}},\"type\":\"bar\"}],\"scattergeo\":[{\"type\":\"scattergeo\",\"marker\":{\"colorbar\":{\"outlinewidth\":0,\"ticks\":\"\"}}}],\"scatterpolar\":[{\"type\":\"scatterpolar\",\"marker\":{\"colorbar\":{\"outlinewidth\":0,\"ticks\":\"\"}}}],\"histogram\":[{\"marker\":{\"pattern\":{\"fillmode\":\"overlay\",\"size\":10,\"solidity\":0.2}},\"type\":\"histogram\"}],\"scattergl\":[{\"type\":\"scattergl\",\"marker\":{\"colorbar\":{\"outlinewidth\":0,\"ticks\":\"\"}}}],\"scatter3d\":[{\"type\":\"scatter3d\",\"line\":{\"colorbar\":{\"outlinewidth\":0,\"ticks\":\"\"}},\"marker\":{\"colorbar\":{\"outlinewidth\":0,\"ticks\":\"\"}}}],\"scattermapbox\":[{\"type\":\"scattermapbox\",\"marker\":{\"colorbar\":{\"outlinewidth\":0,\"ticks\":\"\"}}}],\"scatterternary\":[{\"type\":\"scatterternary\",\"marker\":{\"colorbar\":{\"outlinewidth\":0,\"ticks\":\"\"}}}],\"scattercarpet\":[{\"type\":\"scattercarpet\",\"marker\":{\"colorbar\":{\"outlinewidth\":0,\"ticks\":\"\"}}}],\"carpet\":[{\"aaxis\":{\"endlinecolor\":\"#2a3f5f\",\"gridcolor\":\"white\",\"linecolor\":\"white\",\"minorgridcolor\":\"white\",\"startlinecolor\":\"#2a3f5f\"},\"baxis\":{\"endlinecolor\":\"#2a3f5f\",\"gridcolor\":\"white\",\"linecolor\":\"white\",\"minorgridcolor\":\"white\",\"startlinecolor\":\"#2a3f5f\"},\"type\":\"carpet\"}],\"table\":[{\"cells\":{\"fill\":{\"color\":\"#EBF0F8\"},\"line\":{\"color\":\"white\"}},\"header\":{\"fill\":{\"color\":\"#C8D4E3\"},\"line\":{\"color\":\"white\"}},\"type\":\"table\"}],\"barpolar\":[{\"marker\":{\"line\":{\"color\":\"#E5ECF6\",\"width\":0.5},\"pattern\":{\"fillmode\":\"overlay\",\"size\":10,\"solidity\":0.2}},\"type\":\"barpolar\"}],\"pie\":[{\"automargin\":true,\"type\":\"pie\"}]},\"layout\":{\"autotypenumbers\":\"strict\",\"colorway\":[\"#636efa\",\"#EF553B\",\"#00cc96\",\"#ab63fa\",\"#FFA15A\",\"#19d3f3\",\"#FF6692\",\"#B6E880\",\"#FF97FF\",\"#FECB52\"],\"font\":{\"color\":\"#2a3f5f\"},\"hovermode\":\"closest\",\"hoverlabel\":{\"align\":\"left\"},\"paper_bgcolor\":\"white\",\"plot_bgcolor\":\"#E5ECF6\",\"polar\":{\"bgcolor\":\"#E5ECF6\",\"angularaxis\":{\"gridcolor\":\"white\",\"linecolor\":\"white\",\"ticks\":\"\"},\"radialaxis\":{\"gridcolor\":\"white\",\"linecolor\":\"white\",\"ticks\":\"\"}},\"ternary\":{\"bgcolor\":\"#E5ECF6\",\"aaxis\":{\"gridcolor\":\"white\",\"linecolor\":\"white\",\"ticks\":\"\"},\"baxis\":{\"gridcolor\":\"white\",\"linecolor\":\"white\",\"ticks\":\"\"},\"caxis\":{\"gridcolor\":\"white\",\"linecolor\":\"white\",\"ticks\":\"\"}},\"coloraxis\":{\"colorbar\":{\"outlinewidth\":0,\"ticks\":\"\"}},\"colorscale\":{\"sequential\":[[0.0,\"#0d0887\"],[0.1111111111111111,\"#46039f\"],[0.2222222222222222,\"#7201a8\"],[0.3333333333333333,\"#9c179e\"],[0.4444444444444444,\"#bd3786\"],[0.5555555555555556,\"#d8576b\"],[0.6666666666666666,\"#ed7953\"],[0.7777777777777778,\"#fb9f3a\"],[0.8888888888888888,\"#fdca26\"],[1.0,\"#f0f921\"]],\"sequentialminus\":[[0.0,\"#0d0887\"],[0.1111111111111111,\"#46039f\"],[0.2222222222222222,\"#7201a8\"],[0.3333333333333333,\"#9c179e\"],[0.4444444444444444,\"#bd3786\"],[0.5555555555555556,\"#d8576b\"],[0.6666666666666666,\"#ed7953\"],[0.7777777777777778,\"#fb9f3a\"],[0.8888888888888888,\"#fdca26\"],[1.0,\"#f0f921\"]],\"diverging\":[[0,\"#8e0152\"],[0.1,\"#c51b7d\"],[0.2,\"#de77ae\"],[0.3,\"#f1b6da\"],[0.4,\"#fde0ef\"],[0.5,\"#f7f7f7\"],[0.6,\"#e6f5d0\"],[0.7,\"#b8e186\"],[0.8,\"#7fbc41\"],[0.9,\"#4d9221\"],[1,\"#276419\"]]},\"xaxis\":{\"gridcolor\":\"white\",\"linecolor\":\"white\",\"ticks\":\"\",\"title\":{\"standoff\":15},\"zerolinecolor\":\"white\",\"automargin\":true,\"zerolinewidth\":2},\"yaxis\":{\"gridcolor\":\"white\",\"linecolor\":\"white\",\"ticks\":\"\",\"title\":{\"standoff\":15},\"zerolinecolor\":\"white\",\"automargin\":true,\"zerolinewidth\":2},\"scene\":{\"xaxis\":{\"backgroundcolor\":\"#E5ECF6\",\"gridcolor\":\"white\",\"linecolor\":\"white\",\"showbackground\":true,\"ticks\":\"\",\"zerolinecolor\":\"white\",\"gridwidth\":2},\"yaxis\":{\"backgroundcolor\":\"#E5ECF6\",\"gridcolor\":\"white\",\"linecolor\":\"white\",\"showbackground\":true,\"ticks\":\"\",\"zerolinecolor\":\"white\",\"gridwidth\":2},\"zaxis\":{\"backgroundcolor\":\"#E5ECF6\",\"gridcolor\":\"white\",\"linecolor\":\"white\",\"showbackground\":true,\"ticks\":\"\",\"zerolinecolor\":\"white\",\"gridwidth\":2}},\"shapedefaults\":{\"line\":{\"color\":\"#2a3f5f\"}},\"annotationdefaults\":{\"arrowcolor\":\"#2a3f5f\",\"arrowhead\":0,\"arrowwidth\":1},\"geo\":{\"bgcolor\":\"white\",\"landcolor\":\"#E5ECF6\",\"subunitcolor\":\"white\",\"showland\":true,\"showlakes\":true,\"lakecolor\":\"white\"},\"title\":{\"x\":0.05},\"mapbox\":{\"style\":\"light\"}}},\"xaxis\":{\"anchor\":\"y\",\"domain\":[0.0,1.0],\"title\":{\"text\":\"City\"},\"categoryorder\":\"total descending\"},\"yaxis\":{\"anchor\":\"x\",\"domain\":[0.0,1.0],\"title\":{\"text\":\"CCTV Cameras per 1,000 People\"}},\"legend\":{\"title\":{\"text\":\"Continent\"},\"tracegroupgap\":0},\"title\":{\"text\":\"China and the Top 50 Cities by Number of CCTV Cameras per 1,000 People\\u003cbr\\u003e\\u003csup\\u003eCities in China are extreme outliers, with more than 4 cameras per 10 people.\\u003c\\u002fsup\\u003e\",\"y\":0.95,\"x\":0.5,\"xanchor\":\"center\",\"yanchor\":\"top\"},\"barmode\":\"relative\",\"margin\":{\"b\":226,\"t\":100},\"height\":500,\"annotations\":[{\"align\":\"left\",\"showarrow\":false,\"text\":\"* = The dataset contains the exact same estimation for all cities in China.\",\"x\":-0.07,\"xanchor\":\"left\",\"xref\":\"paper\",\"y\":-1.25,\"yanchor\":\"bottom\",\"yref\":\"paper\"}]},                        {\"responsive\": true}                    ).then(function(){\n",
       "                            \n",
       "var gd = document.getElementById('8e6521bf-c5b1-4480-b798-66cb1cb636f0');\n",
       "var x = new MutationObserver(function (mutations, observer) {{\n",
       "        var display = window.getComputedStyle(gd).display;\n",
       "        if (!display || display === 'none') {{\n",
       "            console.log([gd, 'removed!']);\n",
       "            Plotly.purge(gd);\n",
       "            observer.disconnect();\n",
       "        }}\n",
       "}});\n",
       "\n",
       "// Listen for the removal of the full notebook cells\n",
       "var notebookContainer = gd.closest('#notebook-container');\n",
       "if (notebookContainer) {{\n",
       "    x.observe(notebookContainer, {childList: true});\n",
       "}}\n",
       "\n",
       "// Listen for the clearing of the current output cell\n",
       "var outputEl = gd.closest('.output');\n",
       "if (outputEl) {{\n",
       "    x.observe(outputEl, {childList: true});\n",
       "}}\n",
       "\n",
       "                        })                };                });            </script>        </div>"
      ]
     },
     "metadata": {},
     "output_type": "display_data"
    }
   ],
   "source": [
    "import numpy as np\n",
    "import pandas as pd\n",
    "pd.options.mode.chained_assignment = None  \n",
    "import plotly.graph_objs as go\n",
    "import plotly.express as px\n",
    "from plotly.offline import init_notebook_mode\n",
    "init_notebook_mode(connected=True)\n",
    "\n",
    "cctv = pd.read_csv(\"datasets/cctv.csv\")\n",
    "\n",
    "df = cctv\n",
    "\n",
    "asia = {'Singapore', 'Myanmar', 'Yemen', 'Thailand', 'Philippines', 'Indonesia', 'Israel', 'Iraq', 'Pakistan', 'South Korea', 'India', 'Vietnam', 'Malaysia', 'Saudi Arabia', 'Japan', 'China', 'Taiwan', 'Afghanistan', 'Hong Kong', 'Turkey', 'Bangladesh', 'Iran'}\n",
    "europe = {'Spain', 'Russia', 'Italy', 'Germany', 'United Kingdom'}\n",
    "north_america = {'Mexico', 'United States', 'Dominican Republic', 'Canada'}\n",
    "south_america = {'Mexico', 'United States', 'Dominican Republic', 'Canada'}\n",
    "africa = {'Kenya', 'Egypt', 'Ethiopia', 'Nigeria', 'Madagascar', 'Burkina Faso', 'South Africa', 'Cameroon', 'Morocco', 'Uganda', 'Sudan', 'Tanzania', 'Angola', 'Senegal'}\n",
    "oceania = {'Australia'}\n",
    "\n",
    "# Map each country to its continent\n",
    "def get_continent(country):\n",
    "    if country in asia:\n",
    "        return 'Asia'\n",
    "    elif country in europe:\n",
    "        return 'Europe'\n",
    "    elif country in north_america:\n",
    "        return 'North America'\n",
    "    elif country in south_america:\n",
    "        return 'South America'\n",
    "    elif country in africa:\n",
    "        return 'Africa'\n",
    "    elif country in oceania:\n",
    "        return 'Oceania'\n",
    "    else:\n",
    "        return 'Asia'\n",
    "\n",
    "df['Continent'] = df['Country'].apply(get_continent)\n",
    "\n",
    "# Exclude cities in China\n",
    "df_non_china = df[df['Country'] != 'China']\n",
    "\n",
    "# Calculate the mean value for cities in China\n",
    "china_mean = df[df['Country'] == 'China']['# of CCTV Cameras per 1,000 People'].mean()\n",
    "\n",
    "# Create a new DataFrame for the mean value\n",
    "mean_china_df = pd.DataFrame({\n",
    "    'City': ['Est. of cities in China*'],\n",
    "    '# of CCTV Cameras per 1,000 People': [china_mean],\n",
    "    'Continent': ['Asia'],\n",
    "    'Country': ['China']\n",
    "})\n",
    "\n",
    "# Concatenate the two DataFrames\n",
    "final_df = pd.concat([df_non_china, mean_china_df], ignore_index=True)\n",
    "\n",
    "# Sort the DataFrame by the number of CCTV cameras per 1,000 people\n",
    "final_df = final_df.sort_values(by='# of CCTV Cameras per 1,000 People', ascending=False)\n",
    "\n",
    "# Select the top 50 values\n",
    "top_50_df = final_df.head(50)\n",
    "\n",
    "# COLORS\n",
    "# Define custom colors for each continent\n",
    "color_map = {\n",
    "    'Asia': 'rgb(238, 28, 47)',\n",
    "    'Europe': 'rgb(0, 61, 153)',\n",
    "    'North America': 'green',\n",
    "    'South America': 'yellow',\n",
    "    'Africa': 'black',\n",
    "    'Oceania': 'orange',\n",
    "    'Other': 'grey'\n",
    "}\n",
    "\n",
    "# Create the bar graph\n",
    "fig = px.bar(top_50_df, x='City', y='# of CCTV Cameras per 1,000 People', color='Continent',\n",
    "             title='China and the Top 50 Cities by Number of CCTV Cameras per 1,000 People<br><sup>Cities in China are extreme outliers, with more than 4 cameras per 10 people.</sup>',\n",
    "             hover_data={'Country': True}, color_discrete_map=color_map,\n",
    "             labels={'# of CCTV Cameras per 1,000 People': 'CCTV Cameras per 1,000 People'})\n",
    "\n",
    "# Customize hover label formatting\n",
    "fig.update_traces(\n",
    "    hovertemplate='City: %{x}<br>Country: %{customdata[0]}<br># of CCTV Cameras per 1000 people: %{y}'\n",
    ")\n",
    "\n",
    "\n",
    "fig.update_layout(\n",
    "    height = 500,\n",
    "    xaxis={'categoryorder':'total descending'},\n",
    "    title={\n",
    "        'y':0.95,\n",
    "        'x':0.5,\n",
    "        'xanchor': 'center',\n",
    "        'yanchor': 'top'\n",
    "    },\n",
    "    margin={'b': 226, 't': 100}\n",
    ")\n",
    "\n",
    "fig.add_annotation(x=-0.07, y=-1.25,\n",
    "                   xref=\"paper\", yref=\"paper\",\n",
    "                   align='left',\n",
    "                   xanchor='left', yanchor='bottom',\n",
    "                   showarrow=False,\n",
    "                   text='* = The dataset contains the exact same estimation for all cities in China.'\n",
    "                  )\n",
    "\n",
    "fig.show()"
   ]
  }
 ],
 "metadata": {
  "kernelspec": {
   "display_name": "Python 3 (ipykernel)",
   "language": "python",
   "name": "python3"
  },
  "language_info": {
   "codemirror_mode": {
    "name": "ipython",
    "version": 3
   },
   "file_extension": ".py",
   "mimetype": "text/x-python",
   "name": "python",
   "nbconvert_exporter": "python",
   "pygments_lexer": "ipython3",
   "version": "3.10.14"
  }
 },
 "nbformat": 4,
 "nbformat_minor": 5
}

{
 "cells": [
  {
   "cell_type": "markdown",
   "id": "7a65a34a-ef2a-4d60-9931-2fff55c17f16",
   "metadata": {},
   "source": [
    "# Combatting crime with surveillance\n",
    "\n",
    "Crime prevention is the primary goal of CCTV (Dear et al., 2019). The underlying surveillance is framed as an effective instrument to combat crime rates through the continuous monitoring of public space by gathering data to anticipate potential safety threats (Ezzat et al., 2021). The practice is cost-efficient as multiple cameras are connected into a closed circuit, in which recordings are sent into a centralized monitoring room (Ratcliffe, 2006). In addition, spatial and temporal constraints are removed as the gaze is separated from face-to-face interactions. This gazing notion can discipline citizens into right behavior through the threat of always being watched and recorded (Norris, 2005). \n",
    "\n",
    "Overall, national governments could install more CCTV in order to combat crime and ensure public safety. This is beneficial through the psychological effects of video surveillance on citizen’s behavior as well as the presence of rapid enhancements in surveillance like biometric intelligence and computer vision (Norris, 2005).\n"
   ]
  },
  {
   "cell_type": "code",
   "execution_count": 1,
   "id": "d578772a-dc7e-4f06-98af-9271e2d14e27",
   "metadata": {},
   "outputs": [],
   "source": [
    "# The rest of perspective 1"
   ]
  }
 ],
 "metadata": {
  "kernelspec": {
   "display_name": "Python 3 (ipykernel)",
   "language": "python",
   "name": "python3"
  },
  "language_info": {
   "codemirror_mode": {
    "name": "ipython",
    "version": 3
   },
   "file_extension": ".py",
   "mimetype": "text/x-python",
   "name": "python",
   "nbconvert_exporter": "python",
   "pygments_lexer": "ipython3",
   "version": "3.10.14"
  }
 },
 "nbformat": 4,
 "nbformat_minor": 5
}
